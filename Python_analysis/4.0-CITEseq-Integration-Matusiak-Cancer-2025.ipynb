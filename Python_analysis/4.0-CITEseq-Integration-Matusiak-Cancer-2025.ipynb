{
 "cells": [
  {
   "cell_type": "markdown",
   "id": "16d591b2",
   "metadata": {},
   "source": [
    "# Integration of cancer data from Magda Matusiak et al."
   ]
  },
  {
   "cell_type": "code",
   "execution_count": null,
   "id": "d37c4d8c",
   "metadata": {},
   "outputs": [],
   "source": [
    "import numpy as np\n",
    "import pandas as pd\n",
    "import scanpy as sc\n",
    "from muon import prot as pt\n",
    "\n",
    "from matplotlib import colors\n",
    "%matplotlib inline\n",
    "\n",
    "import matplotlib.pyplot as plt\n",
    "\n",
    "import muon as mu"
   ]
  },
  {
   "cell_type": "markdown",
   "id": "c3d91d79",
   "metadata": {},
   "source": [
    "# load datasets"
   ]
  },
  {
   "cell_type": "code",
   "execution_count": null,
   "id": "28326226",
   "metadata": {},
   "outputs": [],
   "source": [
    "mdata_raw = mu.read(\"/dh-projects/dicidua_basalis_parietalis_pollheimer/analysis/citeseq_mdata_allsamples_filtered_20230424.h5mu\")"
   ]
  },
  {
   "cell_type": "code",
   "execution_count": null,
   "id": "1aa49283",
   "metadata": {},
   "outputs": [],
   "source": [
    "#load citeseq data\n",
    "mdata = mu.read(\"/dh-projects/dicidua_basalis_parietalis_pollheimer/analysis/lackner_citeseq_14samples_processed_hires_cluster_20240822_postmerge.h5mu\")"
   ]
  },
  {
   "cell_type": "code",
   "execution_count": null,
   "id": "df5344e6",
   "metadata": {},
   "outputs": [],
   "source": [
    "adata_raw = mdata_raw[\"rna\"]"
   ]
  },
  {
   "cell_type": "code",
   "execution_count": null,
   "id": "ce032365",
   "metadata": {},
   "outputs": [],
   "source": [
    "mdata[\"rna\"].obs['celltype_hires'] = mdata.obs['celltype_hires']"
   ]
  },
  {
   "cell_type": "code",
   "execution_count": null,
   "id": "6520d7a1",
   "metadata": {},
   "outputs": [],
   "source": [
    "adata = mdata[\"rna\"]"
   ]
  },
  {
   "cell_type": "code",
   "execution_count": null,
   "id": "1ad67bf1",
   "metadata": {},
   "outputs": [],
   "source": [
    "#limit adata_raw.\n",
    "adata_raw_filtered = adata_raw[adata_raw.obs_names.isin(adata.obs_names)].copy()\n",
    "adata_raw_filtered"
   ]
  },
  {
   "cell_type": "code",
   "execution_count": null,
   "id": "fc6d2459",
   "metadata": {},
   "outputs": [],
   "source": [
    "adata_raw_filtered.obs = adata[adata_raw_filtered.obs_names].obs"
   ]
  },
  {
   "cell_type": "code",
   "execution_count": null,
   "id": "2b34894f",
   "metadata": {},
   "outputs": [],
   "source": [
    "adata_raw_filtered.raw = adata_raw_filtered"
   ]
  },
  {
   "cell_type": "code",
   "execution_count": null,
   "id": "aa61f89c",
   "metadata": {},
   "outputs": [],
   "source": [
    "# Load the raw counts matrix\n",
    "raw_counts = pd.read_csv(\"./magda_cancer/magda_raw_counts.csv\", index_col=0)\n",
    "\n",
    "# Load the metadata\n",
    "metadata = pd.read_csv(\"./magda_cancer/metadata.csv\", index_col=0)\n",
    "\n",
    "# Ensure the indices match between the two files\n",
    "raw_counts = raw_counts.loc[:, metadata.index]\n",
    "\n",
    "# Create an AnnData object\n",
    "adata_cancer = sc.AnnData(X=raw_counts.T)  # Transpose to have cells as rows\n",
    "adata_cancer.obs = metadata"
   ]
  },
  {
   "cell_type": "code",
   "execution_count": null,
   "id": "5ae353f8",
   "metadata": {},
   "outputs": [],
   "source": [
    "adata_cancer.obs.columns"
   ]
  },
  {
   "cell_type": "code",
   "execution_count": null,
   "id": "ff6904d2",
   "metadata": {
    "scrolled": true
   },
   "outputs": [],
   "source": [
    "adata_cancer.obs"
   ]
  },
  {
   "cell_type": "code",
   "execution_count": null,
   "id": "5d7faa80",
   "metadata": {},
   "outputs": [],
   "source": [
    "adata_cancer.obs['orig.ident'].astype('category').cat.categories"
   ]
  },
  {
   "cell_type": "code",
   "execution_count": null,
   "id": "5cb8cd21",
   "metadata": {},
   "outputs": [],
   "source": [
    "adata_cancer.obs['PatientNumber'].astype('category').cat.categories"
   ]
  },
  {
   "cell_type": "code",
   "execution_count": null,
   "id": "eba8561e",
   "metadata": {},
   "outputs": [],
   "source": [
    "adata_raw_filtered.obs['celltype_hires'].cat.categories"
   ]
  },
  {
   "cell_type": "code",
   "execution_count": null,
   "id": "c3b435d9",
   "metadata": {},
   "outputs": [],
   "source": [
    "adata_raw_myelo = adata_raw_filtered[adata_raw_filtered.obs['celltype_hires'].isin(['actMAC','MAC_IL1B','MAC_SPP1','MAC_FOLR2',\n",
    "                                                                                   'monoMAC','MAC_prol',\n",
    "                                                                                   'Mono_CD16+'])]"
   ]
  },
  {
   "cell_type": "code",
   "execution_count": null,
   "id": "4bd9c4c6",
   "metadata": {},
   "outputs": [],
   "source": [
    "adata_raw_myelo.obs['celltype_hires'].cat.categories"
   ]
  },
  {
   "cell_type": "code",
   "execution_count": null,
   "id": "aab6a1ec",
   "metadata": {
    "scrolled": true
   },
   "outputs": [],
   "source": [
    "adata_cancer.obs[\"batch_scvi\"] = adata_cancer.obs[\"dataset\"]\n",
    "adata_raw_myelo.obs[\"batch_scvi\"] = \"decidua\"\n",
    "adata_cancer.obs[\"donor_id\"] = adata_cancer.obs[\"PatientNumber\"]"
   ]
  },
  {
   "cell_type": "code",
   "execution_count": null,
   "id": "f572e24b",
   "metadata": {},
   "outputs": [],
   "source": [
    "adata_cancer.obs[\"location_new\"] = adata_cancer.obs[\"MM_location\"]\n",
    "adata_raw_myelo.obs[\"location_new\"] = adata_raw_myelo.obs[\"tissue\"]\n",
    "\n",
    "adata_cancer.obs[\"location_new\"] = adata_cancer.obs[\"MM_location\"]\n",
    "adata_raw_myelo.obs[\"location_new\"] = adata_raw_myelo.obs[\"tissue\"]"
   ]
  },
  {
   "cell_type": "code",
   "execution_count": null,
   "id": "42d7773a",
   "metadata": {},
   "outputs": [],
   "source": [
    "adata_cancer.obs[\"celltype\"] = adata_cancer.obs[\"annot_clean2\"]\n",
    "adata_raw_myelo.obs[\"celltype\"] = adata_raw_myelo.obs[\"celltype_hires\"]"
   ]
  },
  {
   "cell_type": "code",
   "execution_count": null,
   "id": "df7e20e8",
   "metadata": {
    "scrolled": true
   },
   "outputs": [],
   "source": [
    "adata_both=adata_raw_myelo.concatenate(adata_cancer, index_unique=None)"
   ]
  },
  {
   "cell_type": "code",
   "execution_count": null,
   "id": "6a27bcd3",
   "metadata": {},
   "outputs": [],
   "source": [
    "adata_both"
   ]
  },
  {
   "cell_type": "code",
   "execution_count": null,
   "id": "7e6bce7f",
   "metadata": {
    "scrolled": true
   },
   "outputs": [],
   "source": [
    "print(adata_both.X)"
   ]
  },
  {
   "cell_type": "code",
   "execution_count": null,
   "id": "edf0a07e",
   "metadata": {},
   "outputs": [],
   "source": [
    "adata_both.layers[\"counts\"] = adata_both.X.copy()  # preserve counts\n",
    "sc.pp.normalize_total(adata_both)\n",
    "sc.pp.log1p(adata_both)\n",
    "adata_both.raw = adata_both  # freeze the state in `.raw`"
   ]
  },
  {
   "cell_type": "code",
   "execution_count": null,
   "id": "1e61d974",
   "metadata": {
    "scrolled": true
   },
   "outputs": [],
   "source": [
    "print(adata_both.layers[\"counts\"])"
   ]
  },
  {
   "cell_type": "code",
   "execution_count": null,
   "id": "77915ecc",
   "metadata": {
    "scrolled": true
   },
   "outputs": [],
   "source": [
    "print(adata_both.X)"
   ]
  },
  {
   "cell_type": "code",
   "execution_count": null,
   "id": "dc35bd31",
   "metadata": {},
   "outputs": [],
   "source": [
    "print(adata_both.shape)  # Check the overall shape\n",
    "print(adata_both.layers['counts'].shape)"
   ]
  },
  {
   "cell_type": "code",
   "execution_count": null,
   "id": "b08e33f1",
   "metadata": {},
   "outputs": [],
   "source": [
    "print(type(adata_both.layers['counts']))\n",
    "print(adata_both.layers['counts'].dtype)\n"
   ]
  },
  {
   "cell_type": "code",
   "execution_count": null,
   "id": "fb31622e",
   "metadata": {},
   "outputs": [],
   "source": [
    "from scipy.sparse import issparse\n",
    "\n",
    "counts = adata_both.layers['counts']\n",
    "\n",
    "# Convert to dense array temporarily for checking NaNs\n",
    "if issparse(counts):\n",
    "    counts_dense = counts.toarray()\n",
    "    print(\"Total NaNs:\", np.isnan(counts_dense).sum())\n",
    "else:\n",
    "    print(\"Total NaNs:\", np.isnan(counts).sum())"
   ]
  },
  {
   "cell_type": "code",
   "execution_count": null,
   "id": "1a4a5941",
   "metadata": {},
   "outputs": [],
   "source": [
    "print(\"All-zero rows:\", np.sum((counts.toarray() == 0).all(axis=1)))\n",
    "print(\"All-zero columns:\", np.sum((counts.toarray() == 0).all(axis=0)))\n"
   ]
  },
  {
   "cell_type": "code",
   "execution_count": null,
   "id": "132c73aa",
   "metadata": {},
   "outputs": [],
   "source": [
    "from scipy.sparse import csr_matrix\n",
    "\n",
    "counts = adata_both.layers['counts']\n",
    "counts_dense = counts.toarray()  # Convert to dense for processing\n",
    "\n",
    "nonzero_cols = np.asarray((counts_dense != 0).any(axis=0)).flatten() \n"
   ]
  },
  {
   "cell_type": "code",
   "execution_count": null,
   "id": "b0bf0d4d",
   "metadata": {},
   "outputs": [],
   "source": [
    "adata_both = adata_both[:, nonzero_cols]  # This updates .X, .var, and all layers automatically\n",
    "counts_filtered = counts[:, nonzero_cols]  # Filter the counts layer to match the subset\n",
    "adata_both.layers['counts'] = counts_filtered  # Assign the filtered counts to the layer\n"
   ]
  },
  {
   "cell_type": "code",
   "execution_count": null,
   "id": "a8cfd3e2",
   "metadata": {},
   "outputs": [],
   "source": [
    "print(\"adata_both shape:\", adata_both.shape)  # Should be (57573, 24852)\n",
    "print(\"counts_filtered shape:\", counts_filtered.shape)  # Should match adata_both.shape\n"
   ]
  },
  {
   "cell_type": "code",
   "execution_count": null,
   "id": "8f604b2e",
   "metadata": {},
   "outputs": [],
   "source": [
    "print(adata_both.obs['donor_id'].value_counts())\n"
   ]
  },
  {
   "cell_type": "code",
   "execution_count": null,
   "id": "51038003",
   "metadata": {},
   "outputs": [],
   "source": []
  },
  {
   "cell_type": "code",
   "execution_count": null,
   "id": "2bcfd9e1",
   "metadata": {
    "scrolled": true
   },
   "outputs": [],
   "source": [
    "sc.pp.highly_variable_genes(adata_both, layer=\"counts\", n_top_genes=5000, batch_key = 'batch_scvi', subset=True)"
   ]
  },
  {
   "cell_type": "code",
   "execution_count": null,
   "id": "9e5ae18f",
   "metadata": {
    "scrolled": true
   },
   "outputs": [],
   "source": [
    "adata_both.var"
   ]
  },
  {
   "cell_type": "code",
   "execution_count": null,
   "id": "ece5338a",
   "metadata": {
    "scrolled": true
   },
   "outputs": [],
   "source": [
    "#Non-harmonized data: \n",
    "sc.tl.pca(adata_both)\n",
    "sc.pp.neighbors(adata_both, n_pcs=50, n_neighbors=20) #was 30\n",
    "sc.tl.umap(adata_both, min_dist=0.3)\n"
   ]
  },
  {
   "cell_type": "code",
   "execution_count": null,
   "id": "edffe60f",
   "metadata": {},
   "outputs": [],
   "source": [
    "# Add 'cite' as a category to the 'batch_scvi' column\n",
    "#adata_both.obs[\"batch_scvi\"] = adata_both.obs[\"batch_scvi\"].cat.add_categories('cite')\n",
    "# Replace NaN values with 'cite'\n",
    "#adata_both.obs[\"batch_scvi\"] = adata_both.obs[\"batch_scvi\"].fillna('cite')\n",
    "\n",
    "sc.pl.umap(adata_both, color=[\"donor_id\",\"batch_scvi\"], ncols=1,\n",
    "    frameon=False)"
   ]
  },
  {
   "cell_type": "code",
   "execution_count": null,
   "id": "8affbc68",
   "metadata": {},
   "outputs": [],
   "source": [
    "adata_both.var"
   ]
  },
  {
   "cell_type": "code",
   "execution_count": null,
   "id": "6f38f536",
   "metadata": {},
   "outputs": [],
   "source": [
    "import scvi"
   ]
  },
  {
   "cell_type": "code",
   "execution_count": null,
   "id": "085bdcae",
   "metadata": {},
   "outputs": [],
   "source": [
    "adata_both.obs['location_new']"
   ]
  },
  {
   "cell_type": "code",
   "execution_count": null,
   "id": "34397427",
   "metadata": {},
   "outputs": [],
   "source": [
    "adata_scvi= adata_both.copy() "
   ]
  },
  {
   "cell_type": "code",
   "execution_count": null,
   "id": "7f3984d9",
   "metadata": {},
   "outputs": [],
   "source": [
    "adata_scvi.layers['counts']"
   ]
  },
  {
   "cell_type": "code",
   "execution_count": null,
   "id": "d09c27f8",
   "metadata": {},
   "outputs": [],
   "source": [
    "#adata_scvi= adata_both.copy() \n",
    "\n",
    "#Set up another scvi model for training: \n",
    "#No prelabels are used for cell typing:\n",
    "#Remove \"gest_age\" from categorical covar & compare with the above embedding. \n",
    "\n",
    "#ADD DATA SOURCE AS CATEGORICAL_COVARIATE_KEYS\n",
    "scvi.model.SCVI.setup_anndata(adata_scvi, layer=\"counts\", categorical_covariate_keys=[\"donor_id\",\n",
    "                                                                                     \"location_new\"],\n",
    "                              batch_key = \"batch_scvi\",\n",
    "                       #continuous_covariate_keys=[\"n_genes_by_counts\", \"total_counts\", \"pct_counts_mt\"]\n",
    "                              #,labels_key=\"celltype_wnn\",\n",
    "                             #unlabeled_category=\"Unknown\"\n",
    "                             )"
   ]
  },
  {
   "cell_type": "code",
   "execution_count": null,
   "id": "c5cebb48",
   "metadata": {},
   "outputs": [],
   "source": [
    "model = scvi.model.SCVI(adata_scvi, n_layers=2, n_latent=30, gene_likelihood=\"nb\") #nlatent was 30, nlayers was 1"
   ]
  },
  {
   "cell_type": "code",
   "execution_count": null,
   "id": "0120c76e",
   "metadata": {},
   "outputs": [],
   "source": [
    "model"
   ]
  },
  {
   "cell_type": "code",
   "execution_count": null,
   "id": "72ad6fa4",
   "metadata": {},
   "outputs": [],
   "source": [
    "model.train()"
   ]
  },
  {
   "cell_type": "code",
   "execution_count": null,
   "id": "e3d150ae",
   "metadata": {},
   "outputs": [],
   "source": [
    "model.save(\"myeloid_cell_magda_cancer_decidua_20250407/\")"
   ]
  },
  {
   "cell_type": "code",
   "execution_count": null,
   "id": "e51c122c",
   "metadata": {},
   "outputs": [],
   "source": [
    "model = scvi.model.SCVI.load(\"myeloid_cell_magda_cancer_decidua_20250407/\", adata_scvi)"
   ]
  },
  {
   "cell_type": "code",
   "execution_count": null,
   "id": "34ee6fc6",
   "metadata": {},
   "outputs": [],
   "source": [
    "latent = model.get_latent_representation()"
   ]
  },
  {
   "cell_type": "code",
   "execution_count": null,
   "id": "7c28122e",
   "metadata": {},
   "outputs": [],
   "source": [
    "#RAN UNTIL HERE"
   ]
  },
  {
   "cell_type": "code",
   "execution_count": null,
   "id": "cd1bdae8",
   "metadata": {},
   "outputs": [],
   "source": [
    "adata_scvi.obsm[\"X_scVI\"] = latent"
   ]
  },
  {
   "cell_type": "code",
   "execution_count": null,
   "id": "9db37e6f",
   "metadata": {},
   "outputs": [],
   "source": [
    "adata_scvi.obs['celltype_hires']"
   ]
  },
  {
   "cell_type": "code",
   "execution_count": null,
   "id": "93647970",
   "metadata": {},
   "outputs": [],
   "source": [
    "# Convert to object type to handle mixed data types\n",
    "adata_scvi.obs['celltype_hires'] = adata_scvi.obs['celltype_hires'].astype(object)\n",
    "\n",
    "# Replace actual NaN values with the string 'NaN'\n",
    "adata_scvi.obs['celltype_hires'] = adata_scvi.obs['celltype_hires'].fillna(\"NaN\")"
   ]
  },
  {
   "cell_type": "code",
   "execution_count": null,
   "id": "aaecc8d2",
   "metadata": {},
   "outputs": [],
   "source": [
    "scanvi_model = scvi.model.SCANVI.from_scvi_model(\n",
    "    model,\n",
    "    adata=adata_scvi,\n",
    "    labels_key=\"celltype_hires\",\n",
    "    unlabeled_category=\"NaN\",\n",
    ")"
   ]
  },
  {
   "cell_type": "code",
   "execution_count": null,
   "id": "23de4c27",
   "metadata": {},
   "outputs": [],
   "source": [
    "scanvi_model.train(max_epochs=30, n_samples_per_label=100)"
   ]
  },
  {
   "cell_type": "code",
   "execution_count": null,
   "id": "991868e5",
   "metadata": {},
   "outputs": [],
   "source": [
    "SCANVI_LATENT_KEY = \"X_scANVI\"\n",
    "adata_scvi.obsm[SCANVI_LATENT_KEY] = scanvi_model.get_latent_representation(adata_scvi)"
   ]
  },
  {
   "cell_type": "code",
   "execution_count": null,
   "id": "27cdab40",
   "metadata": {},
   "outputs": [],
   "source": [
    "#labels, probs = scanvi_model.predict(return_proba=True)\n",
    "\n",
    "# If you are on an older release, use:\n",
    "labels = scanvi_model.predict()            # hard labels\n",
    "probs  = scanvi_model.predict(soft=True)   # NumPy array of probabilities\n",
    "#probs  = pd.DataFrame(probs, columns=labels)  # make it a DataFrame\n",
    "\n",
    "# 2. Store results in AnnData\n",
    "adata_scvi.obs[\"scanvi_predictions\"] = labels            # categorical labels\n",
    "adata_scvi.obsm[\"scanvi_prediction_probs\"] = probs  "
   ]
  },
  {
   "cell_type": "code",
   "execution_count": null,
   "id": "a37798ae",
   "metadata": {},
   "outputs": [],
   "source": [
    "probs"
   ]
  },
  {
   "cell_type": "code",
   "execution_count": null,
   "id": "9f688745",
   "metadata": {},
   "outputs": [],
   "source": [
    "label_indices = probs.columns.get_indexer(labels)\n",
    "conf = probs.to_numpy()[np.arange(probs.shape[0]), label_indices]\n",
    "\n",
    "adata_scvi.obs[\"scanvi_confidence\"] = conf               # float between 0 and 1\n",
    "\n",
    "# 4. Quick summary\n",
    "print(f\"Median posterior probability: {np.median(conf):.2f}\")\n",
    "print(f\"Cells with P > 0.9: {(conf > 0.9).mean():.1%}\")"
   ]
  },
  {
   "cell_type": "code",
   "execution_count": null,
   "id": "d85e3104",
   "metadata": {},
   "outputs": [],
   "source": [
    "#adata_scvi.obs[\"scanvi_predictions\"] = scanvi_model.predict()"
   ]
  },
  {
   "cell_type": "code",
   "execution_count": null,
   "id": "eddb42bb",
   "metadata": {
    "scrolled": true
   },
   "outputs": [],
   "source": [
    "adata_scvi.obs['scanvi_predictions']"
   ]
  },
  {
   "cell_type": "code",
   "execution_count": null,
   "id": "56e5f296",
   "metadata": {
    "scrolled": true
   },
   "outputs": [],
   "source": [
    "#Non-harmonized data: \n",
    "sc.pl.umap(adata_scvi, color=[\"location_new\",\"batch_scvi\",\"scanvi_predictions\",'celltype'], ncols=1,\n",
    "    frameon=False)"
   ]
  },
  {
   "cell_type": "code",
   "execution_count": null,
   "id": "e368e140",
   "metadata": {},
   "outputs": [],
   "source": [
    "pd.crosstab(adata_scvi.obs['celltype'],adata_scvi.obs['scanvi_predictions'])"
   ]
  },
  {
   "cell_type": "code",
   "execution_count": null,
   "id": "04a40af5",
   "metadata": {
    "scrolled": true
   },
   "outputs": [],
   "source": [
    "pd.crosstab(adata_scvi.obs['celltype'],adata_scvi.obs['scanvi_predictions'])"
   ]
  },
  {
   "cell_type": "code",
   "execution_count": null,
   "id": "0ffc4508",
   "metadata": {},
   "outputs": [],
   "source": [
    "pd.crosstab(adata_scvi.obs['location_new'],adata_scvi.obs['scanvi_predictions'])"
   ]
  },
  {
   "cell_type": "code",
   "execution_count": null,
   "id": "5b3bf4ca",
   "metadata": {},
   "outputs": [],
   "source": [
    "pd.crosstab(adata_scvi.obs['location_new'],adata_scvi.obs['location_new'])"
   ]
  },
  {
   "cell_type": "code",
   "execution_count": null,
   "id": "ecc43331",
   "metadata": {},
   "outputs": [],
   "source": [
    "pd.crosstab(adata_scvi.obs['location_new'],adata_scvi.obs['scanvi_predictions'])"
   ]
  },
  {
   "cell_type": "code",
   "execution_count": null,
   "id": "75a93d02",
   "metadata": {},
   "outputs": [],
   "source": []
  },
  {
   "cell_type": "code",
   "execution_count": null,
   "id": "de2109ea",
   "metadata": {},
   "outputs": [],
   "source": [
    "adata_scvi.obs['scanvi_celltype'] = adata_scvi.obs['scanvi_predictions']"
   ]
  },
  {
   "cell_type": "code",
   "execution_count": null,
   "id": "8cf97395",
   "metadata": {},
   "outputs": [],
   "source": [
    "# If 'scanvi_predictions' doesn't exist yet, create it as an object type\n",
    "if 'scanvi_celltype' not in adata_scvi.obs.columns:\n",
    "    adata_scvi.obs['scanvi_celltype'] = pd.Series(dtype='object')\n",
    "else:\n",
    "    # Convert to object type if it already exists\n",
    "    adata_scvi.obs['scanvi_celltype'] = adata_scvi.obs['scanvi_celltype'].astype('object')\n",
    "\n",
    "\n",
    "adata_scvi.obs.loc[adata_scvi.obs['batch_scvi'] == 'decidua', 'scanvi_celltype'] = \\\n",
    "adata_scvi.obs.loc[adata_scvi.obs['batch_scvi'] == 'decidua', 'celltype_hires']"
   ]
  },
  {
   "cell_type": "code",
   "execution_count": null,
   "id": "a3d6eed7",
   "metadata": {},
   "outputs": [],
   "source": [
    "adata_scvi.obs = adata_scvi.obs.astype('str')\n",
    "adata_scvi.write('matusiak_integr_20250407.h5ad')"
   ]
  },
  {
   "cell_type": "code",
   "execution_count": null,
   "id": "9f91254c",
   "metadata": {},
   "outputs": [],
   "source": [
    "adata_scvi = sc.read('matusiak_integr_20250407.h5ad')"
   ]
  },
  {
   "cell_type": "code",
   "execution_count": null,
   "id": "0183dccd",
   "metadata": {
    "scrolled": true
   },
   "outputs": [],
   "source": [
    "adata_scvi.obs"
   ]
  },
  {
   "cell_type": "code",
   "execution_count": null,
   "id": "b1925418",
   "metadata": {},
   "outputs": [],
   "source": [
    "adata_scvi.obs.columns"
   ]
  },
  {
   "cell_type": "code",
   "execution_count": null,
   "id": "4867f14c",
   "metadata": {},
   "outputs": [],
   "source": [
    "adata_scvi_mac = adata_scvi[adata_scvi.obs['scanvi_celltype'].isin(['MAC_FOLR2','MAC_SPP1','MAC_IL1B'])]"
   ]
  },
  {
   "cell_type": "code",
   "execution_count": null,
   "id": "653e4702",
   "metadata": {},
   "outputs": [],
   "source": [
    "adata_scvi_mac.obs[\"scanvi_predictions\"]"
   ]
  },
  {
   "cell_type": "code",
   "execution_count": null,
   "id": "9941beee",
   "metadata": {},
   "outputs": [],
   "source": [
    "adata_scvi_mac.obs[\"scanvi_confidence\"]"
   ]
  },
  {
   "cell_type": "code",
   "execution_count": null,
   "id": "c50c5a5b",
   "metadata": {},
   "outputs": [],
   "source": [
    "print(f\"Median posterior probability: {np.median(adata_scvi_mac.obs['scanvi_confidence']):.2f}\")\n",
    "print(f\"Cells with P > 0.9: {(adata_scvi_mac.obs['scanvi_confidence'] > 0.9).mean():.1%}\")"
   ]
  },
  {
   "cell_type": "code",
   "execution_count": null,
   "id": "19e8c3ba",
   "metadata": {},
   "outputs": [],
   "source": [
    "pd.crosstab(adata_scvi_mac.obs['location_new'],adata_scvi_mac.obs['location_new'])"
   ]
  },
  {
   "cell_type": "code",
   "execution_count": null,
   "id": "82229054",
   "metadata": {},
   "outputs": [],
   "source": [
    "label_indices"
   ]
  },
  {
   "cell_type": "code",
   "execution_count": null,
   "id": "f4ed909a",
   "metadata": {},
   "outputs": [],
   "source": [
    "# Ensure both columns are of string type and concatenate them\n",
    "adata_scvi_mac.obs['batch_location'] = adata_scvi_mac.obs['batch_scvi'].astype(str) + adata_scvi_mac.obs['location_new'].astype(str)\n",
    "\n",
    "\n",
    "\n",
    "adata_scvi_mac.obs['predictions_batch'] = adata_scvi_mac.obs['scanvi_celltype'].astype(str) + adata_scvi_mac.obs['batch_scvi'].astype(str)\n"
   ]
  },
  {
   "cell_type": "code",
   "execution_count": null,
   "id": "32091489",
   "metadata": {},
   "outputs": [],
   "source": [
    "# Get the data from adata\n",
    "composition_data = adata_scvi_mac.obs[['batch_location', 'scanvi_celltype']]\n",
    "\n",
    "# Create a crosstab of tissue_combined by fib_subtypes\n",
    "crosstab = pd.crosstab(composition_data['batch_location'], composition_data['scanvi_celltype'], normalize='index')\n",
    "\n",
    "# Define a custom order for sample_id\n",
    "custom_order = ['LeeCRCNormal','blueCRCNormal','deciduaparietalis','LeeCRCTumor','blueCRCTumor',\n",
    "                'blueBCTumor','pembroBCTumor','deciduabasalis']  # Replace with your desired order\n",
    "\n",
    "\n",
    "# Reindex the crosstab to follow the custom order\n",
    "sorted_crosstab = crosstab.reindex(custom_order)\n",
    "#sorted_crosstab = crosstab\n",
    "\n",
    "# Plot the sorted stacked bar chart\n",
    "fig, ax = plt.subplots(figsize=(4, 4))  # Adjust figure size\n",
    "sorted_crosstab.plot(kind='bar', stacked=True, width=1, edgecolor='black', ax=ax, legend=False)\n",
    "\n",
    "# Invert y-axis to flip bars upside down\n",
    "#ax.invert_yaxis()\n",
    "\n",
    "# Customizing the plot for better appearance\n",
    "plt.xticks(rotation=45, ha='right')\n",
    "plt.ylabel('Proportion')\n",
    "plt.title('Macrophage Subtypes across integrated datasets')\n",
    "\n",
    "plt.tight_layout()\n",
    "\n",
    "plt.savefig(\"./figures/final_figures/Fig2-bargraph-cancer-integration.pdf\", bbox_inches='tight')\n",
    "\n",
    "plt.show()\n",
    "\n",
    "\n",
    "\n",
    "# Plot the sorted stacked bar chart\n",
    "fig, ax = plt.subplots(figsize=(4, 4))  # Adjust figure size\n",
    "sorted_crosstab.plot(kind='bar', stacked=True, width=1, edgecolor='black', ax=ax, legend=True)\n",
    "\n",
    "# Invert y-axis to flip bars upside down\n",
    "#ax.invert_yaxis()\n",
    "\n",
    "ax.legend(loc='upper left', bbox_to_anchor=(1, 1), title=\"Mac Subtypes\")\n",
    "\n",
    "# Customizing the plot for better appearance\n",
    "plt.xticks(rotation=45, ha='right')\n",
    "plt.ylabel('Proportion')\n",
    "plt.title('Bar Chart of Tissues by Mac Subtypes')\n",
    "\n",
    "plt.tight_layout()\n",
    "\n",
    "#plt.savefig(\"./figures/final_figures/Fig5c-bargraph-composition-FIB.pdf\", bbox_inches='tight')\n",
    "\n",
    "plt.show()\n",
    "\n"
   ]
  },
  {
   "cell_type": "code",
   "execution_count": null,
   "id": "5145ba88",
   "metadata": {},
   "outputs": [],
   "source": [
    "adata_scvi_mac_cancer = adata_scvi_mac[adata_scvi_mac.obs['batch_location'].isin(['LeeCRCNormal','LeeCRCTumor',\n",
    "                                                                          'blueCRCNormal','blueCRCTumor',\n",
    "                                                                          'blueBCTumor','pembroBCTumor'])]\n",
    "\n",
    "#markers = [\"C1QC\",\"FOLR2\",\"CD74\",\"SELENOP\",\"HLA-DRA\",\"SPP1\",\"HMOX1\",\"APOE\",\"CTSD\",'ITGAX',\n",
    "         # 'CD44',\"CXCL8\",\"CXCL2\",'CCL3',\"NLRP3\",'IL1B'\n",
    "           #,\"CXCL10\",\"CXCL9\",\n",
    "          #\"IDO1\",'VAMP5','SLAMF7',\"MKI67\",\"STMN1\",\"TUBA1B\"\n",
    "           #,\"S100A8\",\"VCAN\",\"LYZ\",\"LST1\",\"LILRB2\",\"WARS\"\n",
    "          #]\n",
    "\n",
    "\n",
    "markers = [\"C1QA\",\"FOLR2\",\"MS4A6A\",\"MS4A4A\",\"MRC1\",'TREM2',\"SPP1\",'CTSD',\"HMOX1\",'CD28',\"APOE\",'ITGAX','CD44',\n",
    "          'MARCO',\"CXCL8\",\"CXCL2\",'CCL3','SEMA3C','AQP9','IL1B',\"NLRP3\"]\n",
    "\n",
    "sc.pl.matrixplot(adata_scvi_mac_cancer, markers, groupby='scanvi_celltype',\n",
    "                 #, use_raw=True,\n",
    "                 standard_scale='var',\n",
    "                 categories_order=[\"MAC_FOLR2\",\"MAC_SPP1\",\"MAC_IL1B\"\n",
    "                                   #,'actMAC','MAC_prol'\n",
    "                                  ],\n",
    "                 #dendrogram=True,\n",
    "                 #title='LeeCRC dataset - Expression of key markers',\n",
    "                 cmap='Blues'\n",
    "                 ,save=\"Fig2-integration-matrixplot-macros-selectedRNA-cancer.pdf\"\n",
    "                 )"
   ]
  },
  {
   "cell_type": "code",
   "execution_count": null,
   "id": "5c785a01",
   "metadata": {},
   "outputs": [],
   "source": [
    "adata_scvi_mac_cancer.obsm['X_scVI'] = model.get_latent_representation(adata_scvi_mac_cancer)"
   ]
  },
  {
   "cell_type": "code",
   "execution_count": null,
   "id": "12455031",
   "metadata": {},
   "outputs": [],
   "source": [
    "sc.pp.neighbors(adata_scvi_mac_cancer, use_rep = 'X_scVI')"
   ]
  },
  {
   "cell_type": "code",
   "execution_count": null,
   "id": "dd19fa7b",
   "metadata": {},
   "outputs": [],
   "source": [
    "sc.tl.paga(adata_scvi_mac_cancer, groups = 'scanvi_celltype')\n",
    "sc.pl.paga(adata_scvi_mac_cancer)"
   ]
  },
  {
   "cell_type": "code",
   "execution_count": null,
   "id": "9861dceb",
   "metadata": {},
   "outputs": [],
   "source": [
    "sc.tl.umap(adata_scvi_mac_cancer)"
   ]
  },
  {
   "cell_type": "code",
   "execution_count": null,
   "id": "4abfb761",
   "metadata": {},
   "outputs": [],
   "source": [
    "sc.pl.umap(adata_scvi_mac_cancer, color='scanvi_celltype', size=60, save='matusiak_cancer_scanvi.pdf')"
   ]
  },
  {
   "cell_type": "code",
   "execution_count": null,
   "id": "977d7b8e",
   "metadata": {
    "scrolled": true
   },
   "outputs": [],
   "source": [
    "sc.pl.umap(adata_scvi_mac_cancer, color='location_new', size=60, save='matusiak_cancer_tissue.pdf')"
   ]
  },
  {
   "cell_type": "code",
   "execution_count": null,
   "id": "48e83c0e",
   "metadata": {},
   "outputs": [],
   "source": [
    "adata_scvi_mac_cancer.obs = adata_scvi_mac_cancer.obs.astype('str')\n",
    "adata_scvi_mac_cancer.write('matusiak_integr_macs_20250407.h5ad')"
   ]
  }
 ],
 "metadata": {
  "kernelspec": {
   "display_name": "Python 3 (ipykernel)",
   "language": "python",
   "name": "python3"
  },
  "language_info": {
   "codemirror_mode": {
    "name": "ipython",
    "version": 3
   },
   "file_extension": ".py",
   "mimetype": "text/x-python",
   "name": "python",
   "nbconvert_exporter": "python",
   "pygments_lexer": "ipython3",
   "version": "3.10.10"
  }
 },
 "nbformat": 4,
 "nbformat_minor": 5
}
