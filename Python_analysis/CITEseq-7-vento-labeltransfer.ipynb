{
 "cells": [
  {
   "cell_type": "code",
   "execution_count": null,
   "id": "d37c4d8c",
   "metadata": {},
   "outputs": [],
   "source": [
    "import numpy as np\n",
    "import pandas as pd\n",
    "import scanpy as sc\n",
    "from muon import prot as pt\n",
    "\n",
    "from matplotlib import colors\n",
    "%matplotlib inline\n",
    "\n",
    "import matplotlib.pyplot as plt\n",
    "\n",
    "import muon as mu\n",
    "\n",
    "import scvi"
   ]
  },
  {
   "cell_type": "markdown",
   "id": "c3d91d79",
   "metadata": {},
   "source": [
    "## load datasets"
   ]
  },
  {
   "cell_type": "code",
   "execution_count": null,
   "id": "28326226",
   "metadata": {},
   "outputs": [],
   "source": [
    "mdata_raw = mu.read(\"./citeseq_mdata_allsamples_filtered.h5mu\")"
   ]
  },
  {
   "cell_type": "code",
   "execution_count": null,
   "id": "1aa49283",
   "metadata": {},
   "outputs": [],
   "source": [
    "#load citeseq data\n",
    "mdata = mu.read(\"./citeseq_mdata_allsamples_filtered_fine_clustering.h5mu\")"
   ]
  },
  {
   "cell_type": "code",
   "execution_count": null,
   "id": "df5344e6",
   "metadata": {},
   "outputs": [],
   "source": [
    "adata_raw = mdata_raw[\"rna\"]"
   ]
  },
  {
   "cell_type": "code",
   "execution_count": null,
   "id": "ce032365",
   "metadata": {},
   "outputs": [],
   "source": [
    "mdata[\"rna\"].obs['celltype_hires'] = mdata.obs['celltype_hires']"
   ]
  },
  {
   "cell_type": "code",
   "execution_count": null,
   "id": "1ad67bf1",
   "metadata": {},
   "outputs": [],
   "source": [
    "#limit adata_raw.\n",
    "adata = mdata[\"rna\"]\n",
    "adata_raw_filtered = adata_raw[adata_raw.obs_names.isin(adata.obs_names)].copy()\n",
    "adata_raw_filtered"
   ]
  },
  {
   "cell_type": "code",
   "execution_count": null,
   "id": "fc6d2459",
   "metadata": {},
   "outputs": [],
   "source": [
    "adata_raw_filtered.obs = adata[adata_raw_filtered.obs_names].obs"
   ]
  },
  {
   "cell_type": "code",
   "execution_count": null,
   "id": "2b34894f",
   "metadata": {},
   "outputs": [],
   "source": [
    "adata_raw_filtered.raw = adata_raw_filtered"
   ]
  },
  {
   "cell_type": "code",
   "execution_count": null,
   "id": "9d31b33a",
   "metadata": {},
   "outputs": [],
   "source": []
  },
  {
   "cell_type": "code",
   "execution_count": null,
   "id": "7daf53ec",
   "metadata": {},
   "outputs": [],
   "source": [
    "adata_roser = sc.read('adata_all_donors_all_cell_states_raw_counts_in_raw_normlog_counts_in_X_for_download_UPD_20230307.h5ad')"
   ]
  },
  {
   "cell_type": "code",
   "execution_count": null,
   "id": "d73bf476",
   "metadata": {},
   "outputs": [],
   "source": [
    "adata_roser.obs['cell_type'].cat.categories"
   ]
  },
  {
   "cell_type": "code",
   "execution_count": null,
   "id": "14f7fd8f",
   "metadata": {
    "scrolled": true
   },
   "outputs": [],
   "source": [
    "adata_roser.obs['coarse_annot'].cat.categories"
   ]
  },
  {
   "cell_type": "code",
   "execution_count": null,
   "id": "3ab5ac74",
   "metadata": {
    "scrolled": true
   },
   "outputs": [],
   "source": [
    "adata_roser = adata_roser.raw.to_adata()"
   ]
  },
  {
   "cell_type": "code",
   "execution_count": null,
   "id": "8a2f683d",
   "metadata": {},
   "outputs": [],
   "source": [
    "adata_roser.obs['dataset']\n",
    "adata_nature = adata_roser[adata_roser.obs['dataset'].isin(['Vento_Nature'])]"
   ]
  },
  {
   "cell_type": "code",
   "execution_count": null,
   "id": "cfe79281",
   "metadata": {
    "scrolled": true
   },
   "outputs": [],
   "source": [
    "adata_nature.obs"
   ]
  },
  {
   "cell_type": "code",
   "execution_count": null,
   "id": "eba8561e",
   "metadata": {},
   "outputs": [],
   "source": [
    "adata_raw_filtered.obs['celltype_hires'].cat.categories"
   ]
  },
  {
   "cell_type": "code",
   "execution_count": null,
   "id": "e6c2f1c6",
   "metadata": {},
   "outputs": [],
   "source": [
    "adata_raw_filtered.obs['celltype_hires']"
   ]
  },
  {
   "cell_type": "code",
   "execution_count": null,
   "id": "aab6a1ec",
   "metadata": {
    "scrolled": false
   },
   "outputs": [],
   "source": [
    "adata_raw_filtered = adata_raw_filtered.copy()\n",
    "adata_raw_filtered.obs[\"dataset\"] = \"CITE-seq\"\n",
    "adata_nature.obs[\"donor_id\"] = adata_nature.obs[\"donor\"]"
   ]
  },
  {
   "cell_type": "code",
   "execution_count": null,
   "id": "42d7773a",
   "metadata": {},
   "outputs": [],
   "source": [
    "adata_nature.obs[\"celltype\"] = adata_nature.obs[\"cell_type\"]\n",
    "adata_raw_filtered.obs[\"celltype\"] = adata_raw_filtered.obs[\"celltype_hires\"]"
   ]
  },
  {
   "cell_type": "code",
   "execution_count": null,
   "id": "df7e20e8",
   "metadata": {
    "scrolled": true
   },
   "outputs": [],
   "source": [
    "adata_both=adata_raw_filtered.concatenate(adata_nature, index_unique=None)"
   ]
  },
  {
   "cell_type": "code",
   "execution_count": null,
   "id": "6a27bcd3",
   "metadata": {
    "scrolled": true
   },
   "outputs": [],
   "source": [
    "adata_both"
   ]
  },
  {
   "cell_type": "code",
   "execution_count": null,
   "id": "7e6bce7f",
   "metadata": {
    "scrolled": true
   },
   "outputs": [],
   "source": [
    "print(adata_both.X)"
   ]
  },
  {
   "cell_type": "code",
   "execution_count": null,
   "id": "edf0a07e",
   "metadata": {},
   "outputs": [],
   "source": [
    "adata_both.layers[\"counts\"] = adata_both.X.copy()  # preserve counts\n",
    "sc.pp.normalize_total(adata_both)\n",
    "sc.pp.log1p(adata_both)\n",
    "adata_both.raw = adata_both  # freeze the state in `.raw`"
   ]
  },
  {
   "cell_type": "code",
   "execution_count": null,
   "id": "dc35bd31",
   "metadata": {},
   "outputs": [],
   "source": [
    "print(adata_both.shape)  # check the overall shape\n",
    "print(adata_both.layers['counts'].shape)"
   ]
  },
  {
   "cell_type": "code",
   "execution_count": null,
   "id": "b08e33f1",
   "metadata": {},
   "outputs": [],
   "source": [
    "print(type(adata_both.layers['counts']))\n",
    "print(adata_both.layers['counts'].dtype)"
   ]
  },
  {
   "cell_type": "code",
   "execution_count": null,
   "id": "8f604b2e",
   "metadata": {},
   "outputs": [],
   "source": [
    "print(adata_both.obs['donor_id'].value_counts())\n"
   ]
  },
  {
   "cell_type": "code",
   "execution_count": null,
   "id": "a0d6d331",
   "metadata": {},
   "outputs": [],
   "source": [
    "print(adata_both.obs['tissue'].value_counts())\n"
   ]
  },
  {
   "cell_type": "code",
   "execution_count": null,
   "id": "51038003",
   "metadata": {},
   "outputs": [],
   "source": [
    "adata_both = adata_both[adata_both.obs['tissue'].isin(['basalis','parietalis','decidua_immune','decidua_non_immune'])]"
   ]
  },
  {
   "cell_type": "code",
   "execution_count": null,
   "id": "2bcfd9e1",
   "metadata": {},
   "outputs": [],
   "source": [
    "sc.pp.highly_variable_genes(adata_both, layer=\"counts\", n_top_genes=5000, batch_key = 'dataset', subset=True)"
   ]
  },
  {
   "cell_type": "code",
   "execution_count": null,
   "id": "ece5338a",
   "metadata": {
    "scrolled": true
   },
   "outputs": [],
   "source": [
    "#Non-harmonized data: \n",
    "sc.tl.pca(adata_both)\n",
    "sc.pp.neighbors(adata_both, n_pcs=50, n_neighbors=30) #was 30\n",
    "sc.tl.umap(adata_both, min_dist=0.3)"
   ]
  },
  {
   "cell_type": "code",
   "execution_count": null,
   "id": "edffe60f",
   "metadata": {},
   "outputs": [],
   "source": [
    "sc.pl.umap(adata_both, color=[\"donor_id\",\"tissue\"], ncols=1,\n",
    "    frameon=False)"
   ]
  },
  {
   "cell_type": "code",
   "execution_count": null,
   "id": "6f38f536",
   "metadata": {},
   "outputs": [],
   "source": []
  },
  {
   "cell_type": "code",
   "execution_count": null,
   "id": "085bdcae",
   "metadata": {},
   "outputs": [],
   "source": [
    "adata_both.obs['tissue']"
   ]
  },
  {
   "cell_type": "code",
   "execution_count": null,
   "id": "34397427",
   "metadata": {},
   "outputs": [],
   "source": [
    "adata_scvi= adata_both.copy() "
   ]
  },
  {
   "cell_type": "code",
   "execution_count": null,
   "id": "d09c27f8",
   "metadata": {},
   "outputs": [],
   "source": [
    "scvi.model.SCVI.setup_anndata(adata_scvi, layer=\"counts\", categorical_covariate_keys=[\"donor_id\",\"dataset\",\n",
    "                                                                                     \"tissue\"]\n",
    "                             )"
   ]
  },
  {
   "cell_type": "code",
   "execution_count": null,
   "id": "c5cebb48",
   "metadata": {},
   "outputs": [],
   "source": [
    "model = scvi.model.SCVI(adata_scvi, n_layers=1, n_latent=10, gene_likelihood=\"nb\") "
   ]
  },
  {
   "cell_type": "code",
   "execution_count": null,
   "id": "0120c76e",
   "metadata": {},
   "outputs": [],
   "source": [
    "model"
   ]
  },
  {
   "cell_type": "code",
   "execution_count": null,
   "id": "72ad6fa4",
   "metadata": {},
   "outputs": [],
   "source": [
    "model.train()"
   ]
  },
  {
   "cell_type": "code",
   "execution_count": null,
   "id": "e3d150ae",
   "metadata": {},
   "outputs": [],
   "source": [
    "model.save(\"vento_citeseq_20250213/\")"
   ]
  },
  {
   "cell_type": "code",
   "execution_count": null,
   "id": "34ee6fc6",
   "metadata": {},
   "outputs": [],
   "source": [
    "latent = model.get_latent_representation()"
   ]
  },
  {
   "cell_type": "code",
   "execution_count": null,
   "id": "cd1bdae8",
   "metadata": {},
   "outputs": [],
   "source": [
    "adata_scvi.obsm[\"X_scVI\"] = latent"
   ]
  },
  {
   "cell_type": "code",
   "execution_count": null,
   "id": "9db37e6f",
   "metadata": {},
   "outputs": [],
   "source": [
    "denoised = model.get_normalized_expression(adata_scvi, library_size=1e4)\n",
    "denoised.iloc[:5, :5]"
   ]
  },
  {
   "cell_type": "code",
   "execution_count": null,
   "id": "f47f924f",
   "metadata": {},
   "outputs": [],
   "source": [
    "adata_scvi.obs['cell_type']"
   ]
  },
  {
   "cell_type": "code",
   "execution_count": null,
   "id": "93647970",
   "metadata": {},
   "outputs": [],
   "source": [
    "# convert to object type to handle mixed data types\n",
    "adata_scvi.obs['cell_type'] = adata_scvi.obs['cell_type'].astype(object)\n",
    "\n",
    "# replace actual NaN values with the string 'NaN'\n",
    "adata_scvi.obs['cell_type'] = adata_scvi.obs['cell_type'].fillna(\"NaN\")\n"
   ]
  },
  {
   "cell_type": "code",
   "execution_count": null,
   "id": "e5c9a4a2",
   "metadata": {},
   "outputs": [],
   "source": [
    "print(adata_scvi.obs['cell_type'].value_counts())\n"
   ]
  },
  {
   "cell_type": "code",
   "execution_count": null,
   "id": "4c1a6aa6",
   "metadata": {},
   "outputs": [],
   "source": [
    "# remove placental cells: HOFB, fF1, fF2, Endo_F\n",
    "adata_scvi = adata_scvi[~adata_scvi.obs['cell_type'].isin(['HOFB','fF1','fF2','Endo_F'])]"
   ]
  },
  {
   "cell_type": "code",
   "execution_count": null,
   "id": "e3809bfc",
   "metadata": {
    "scrolled": true
   },
   "outputs": [],
   "source": [
    "print(adata_scvi.obs['cell_type'].value_counts())\n"
   ]
  },
  {
   "cell_type": "code",
   "execution_count": null,
   "id": "aaecc8d2",
   "metadata": {},
   "outputs": [],
   "source": [
    "scanvi_model = scvi.model.SCANVI.from_scvi_model(\n",
    "    model,\n",
    "    adata=adata_scvi,\n",
    "    labels_key=\"cell_type\",\n",
    "    unlabeled_category=\"NaN\",\n",
    ")"
   ]
  },
  {
   "cell_type": "code",
   "execution_count": null,
   "id": "23de4c27",
   "metadata": {},
   "outputs": [],
   "source": [
    "scanvi_model.train(max_epochs=30, n_samples_per_label=100)"
   ]
  },
  {
   "cell_type": "code",
   "execution_count": null,
   "id": "7c603c9e",
   "metadata": {},
   "outputs": [],
   "source": [
    "scanvi_model.save(\"scanvi_vento_citeseq_20250213/\")"
   ]
  },
  {
   "cell_type": "code",
   "execution_count": null,
   "id": "51bba83c",
   "metadata": {},
   "outputs": [],
   "source": []
  },
  {
   "cell_type": "code",
   "execution_count": null,
   "id": "991868e5",
   "metadata": {},
   "outputs": [],
   "source": [
    "SCANVI_LATENT_KEY = \"X_scANVI\"\n",
    "adata_scvi.obsm[SCANVI_LATENT_KEY] = scanvi_model.get_latent_representation(adata_scvi)"
   ]
  },
  {
   "cell_type": "code",
   "execution_count": null,
   "id": "d85e3104",
   "metadata": {},
   "outputs": [],
   "source": [
    "adata_scvi.obs[\"scanvi_predictions\"] = scanvi_model.predict()"
   ]
  },
  {
   "cell_type": "code",
   "execution_count": null,
   "id": "eddb42bb",
   "metadata": {
    "scrolled": true
   },
   "outputs": [],
   "source": [
    "adata_scvi.obs['scanvi_predictions']"
   ]
  },
  {
   "cell_type": "code",
   "execution_count": null,
   "id": "56e5f296",
   "metadata": {
    "scrolled": false
   },
   "outputs": [],
   "source": [
    "# non-harmonized data: \n",
    "sc.pl.umap(adata_scvi, color=[\"tissue\",\"dataset\",\"scanvi_predictions\",'celltype'], ncols=1,\n",
    "    frameon=False)"
   ]
  },
  {
   "cell_type": "code",
   "execution_count": null,
   "id": "995d0929",
   "metadata": {},
   "outputs": [],
   "source": [
    "pd.set_option('display.max_columns', None)\n",
    "pd.set_option('display.width', 200) "
   ]
  },
  {
   "cell_type": "code",
   "execution_count": null,
   "id": "04a40af5",
   "metadata": {
    "scrolled": true
   },
   "outputs": [],
   "source": [
    "pd.crosstab(adata_scvi.obs['celltype_hires'],adata_scvi.obs['scanvi_predictions'])"
   ]
  },
  {
   "cell_type": "code",
   "execution_count": null,
   "id": "aa2f4b15",
   "metadata": {
    "scrolled": true
   },
   "outputs": [],
   "source": [
    "pd.crosstab(adata_scvi.obs['celltype_hires'], adata_scvi.obs['scanvi_predictions'])"
   ]
  },
  {
   "cell_type": "code",
   "execution_count": null,
   "id": "9f697e9f",
   "metadata": {},
   "outputs": [],
   "source": [
    "adata_scvi_citeseq = adata_scvi[adata_scvi.obs['dataset'].isin(['CITE-seq'])]"
   ]
  },
  {
   "cell_type": "code",
   "execution_count": null,
   "id": "c23e5a86",
   "metadata": {
    "collapsed": true
   },
   "outputs": [],
   "source": [
    "pd.crosstab(adata_scvi_citeseq.obs['celltype_hires'], adata_scvi_citeseq.obs['scanvi_predictions'])"
   ]
  },
  {
   "cell_type": "code",
   "execution_count": null,
   "id": "6e97f436",
   "metadata": {},
   "outputs": [],
   "source": [
    "adata_scvi_citeseq.obs['scanvi_predictions'].cat.categories"
   ]
  },
  {
   "cell_type": "markdown",
   "id": "02529efe",
   "metadata": {},
   "source": [
    "## Figure S1A"
   ]
  },
  {
   "cell_type": "code",
   "execution_count": null,
   "id": "77c61bb0",
   "metadata": {},
   "outputs": [],
   "source": [
    "crosstab = pd.crosstab(\n",
    "    adata_scvi_citeseq.obs['celltype_hires'],\n",
    "    adata_scvi_citeseq.obs['scanvi_predictions']\n",
    ")\n",
    "\n",
    "crosstab_norm = crosstab.div(crosstab.sum(axis=1), axis=0) * 100\n",
    "\n",
    "manual_row_order = [\n",
    "    'BCell', 'PLASMA', 'ILC', 'CD39+ NK', 'CD39- NK', 'CD39-CD103+ NK', 'pNK','NK_CD16+',\n",
    "       'Tcell_CD4+cyto', 'Tcell_CD4+exh', 'Tcell_CD4+prol', 'Tcell_CD4+tr',\n",
    "       'Tcell_CD4+blood', 'Tcell_gd', 'Tcell_reg', 'MAITcell', 'Tcell_CD8+tr',\n",
    "       'Tcell_CD8+eff', 'Tcell_CD8+prol', 'Tcell_CD8+blood', 'DC1','DC1_prol', 'DC2','DC2_prol',\n",
    "        'decPAM2', 'decBAM2', 'decBAM1', 'decPAM1','pMac', 'Mono','CD16+ Mono', \n",
    "        'MAST', 'hpFib','decFib', 'ENDO', 'Lymphatic', 'MURAL', 'vCTB','CCT', 'iEVT', 'STB',\n",
    "        'EpiCell'\n",
    "]\n",
    "\n",
    "manual_col_order = [\n",
    "    'B_cells','ILC3','dNK1', 'dNK2',\n",
    "       'dNK3','dT_cells', 'dT_regs','T_cells', 'DC','dDC', 'dM1', 'dM2','M3', 'MO', 'Granulocytes',\n",
    "    'dS1', 'dS2', 'dS3','Endo_M','Endo_L','PV AOC3', 'PV MMP11', 'PV STEAP4',  \n",
    "      'uSMC', 'EVT_1', 'EVT_2', \n",
    "         'iEVT','SCT',\n",
    "         'dEpi_secretory'\n",
    "]\n",
    "\n",
    "# rows\n",
    "remaining_rows = [r for r in crosstab_norm.index if r not in manual_row_order]\n",
    "final_row_order = manual_row_order + remaining_rows\n",
    "\n",
    "# columns\n",
    "remaining_cols = [c for c in crosstab_norm.columns if c not in manual_col_order]\n",
    "final_col_order = manual_col_order + remaining_cols\n",
    "\n",
    "# Re-index with the manual order\n",
    "crosstab_ord = crosstab_norm.loc[final_row_order, final_col_order]\n",
    "\n",
    "\n",
    "plt.figure(figsize=(15, 15))\n",
    "sns.heatmap(\n",
    "    crosstab_ord,\n",
    "    annot=True, fmt='.2f',\n",
    "    cmap='Blues', cbar=True,\n",
    "    vmin=0,          \n",
    "    vmax=100,        \n",
    "    xticklabels=crosstab_ord.columns,\n",
    "    yticklabels=crosstab_ord.index,\n",
    "    annot_kws={\"fontsize\": 8}\n",
    ")\n",
    "\n",
    "plt.xlabel('scANVI predictions (Vento-Tormo et al.)', fontsize=14)\n",
    "plt.ylabel('CITE-seq annotation',           fontsize=14)\n",
    "plt.title('Heatmap of scANVI predictions vs. CITE-seq annotations', fontsize=14)\n",
    "plt.xticks(rotation=45, ha='right')\n",
    "plt.tight_layout()\n",
    "\n",
    "plt.savefig(\"./Supplement_vento_decidua_integration_matrix.pdf\", bbox_inches='tight')\n",
    "\n",
    "plt.show()\n"
   ]
  }
 ],
 "metadata": {
  "kernelspec": {
   "display_name": "Python 3 (ipykernel)",
   "language": "python",
   "name": "python3"
  },
  "language_info": {
   "codemirror_mode": {
    "name": "ipython",
    "version": 3
   },
   "file_extension": ".py",
   "mimetype": "text/x-python",
   "name": "python",
   "nbconvert_exporter": "python",
   "pygments_lexer": "ipython3",
   "version": "3.10.10"
  }
 },
 "nbformat": 4,
 "nbformat_minor": 5
}
