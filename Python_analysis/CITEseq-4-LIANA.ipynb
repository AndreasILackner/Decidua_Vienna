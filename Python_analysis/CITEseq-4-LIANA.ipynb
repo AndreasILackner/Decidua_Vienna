{
 "cells": [
  {
   "cell_type": "code",
   "execution_count": null,
   "id": "115b04ce",
   "metadata": {
    "scrolled": true
   },
   "outputs": [],
   "source": [
    "import numpy as np\n",
    "import pandas as pd\n",
    "import scanpy as sc\n",
    "import liana as li\n",
    "import matplotlib.pyplot as plt\n",
    "import scipy.sparse as sp\n",
    "\n",
    "\n",
    "\n",
    "from matplotlib import colors\n",
    "%matplotlib inline\n",
    "\n",
    "from typing import Optional, Literal"
   ]
  },
  {
   "cell_type": "code",
   "execution_count": null,
   "id": "a5fd26ed",
   "metadata": {},
   "outputs": [],
   "source": [
    "adata = sc.read(\"./citeseq_mdata_allsamples_filtered_fine_clustering.h5ad\")"
   ]
  },
  {
   "cell_type": "code",
   "execution_count": null,
   "id": "c7004424",
   "metadata": {},
   "outputs": [],
   "source": [
    "adata"
   ]
  },
  {
   "cell_type": "code",
   "execution_count": null,
   "id": "9e9a9046-9745-4866-ab26-851f473de586",
   "metadata": {},
   "outputs": [],
   "source": [
    "print(adata.raw)"
   ]
  },
  {
   "cell_type": "code",
   "execution_count": null,
   "id": "f62eda5b-f530-4780-88e4-878959b58ec8",
   "metadata": {},
   "outputs": [],
   "source": [
    "li.mt.show_methods()\n"
   ]
  },
  {
   "cell_type": "code",
   "execution_count": null,
   "id": "35731c63-5408-4dd6-bb0a-29e612743890",
   "metadata": {},
   "outputs": [],
   "source": [
    "from liana.mt import rank_aggregate\n",
    "from liana.method import singlecellsignalr, connectome, cellphonedb, natmi, logfc, cellchat, geometric_mean"
   ]
  },
  {
   "cell_type": "code",
   "execution_count": null,
   "id": "4e9e2796-1f40-4663-9c2a-6b4dcc63358c",
   "metadata": {},
   "outputs": [],
   "source": [
    "adata.obs['celltype_midres'] = adata.obs['celltype_hires']"
   ]
  },
  {
   "cell_type": "code",
   "execution_count": null,
   "id": "c360aced-2d2f-4d17-8306-00f836a00250",
   "metadata": {},
   "outputs": [],
   "source": [
    "adata.obs['celltype_midres'] = adata.obs['celltype_midres'].replace({\n",
    "    'Tcell_CD4+blood': 'T_CD4+',\n",
    "    'Tcell_CD4+cyto': 'T_CD4+',\n",
    "    'Tcell_CD4+exh': 'T_CD4+',\n",
    "    'Tcell_CD4+prol': 'T_CD4+',\n",
    "    'Tcell_CD4+tr': 'T_CD4+',\n",
    "    'Tcell_CD8+blood': 'T_CD8+',\n",
    "    'Tcell_CD8+eff': 'T_CD8+',\n",
    "    'Tcell_CD8+prol': 'T_CD8+',\n",
    "    'Tcell_CD8+tr': 'T_CD8+',\n",
    "    'MAITcell':'T_CD8+',\n",
    "    'Tcell_reg': 'Treg',\n",
    "    'DC1_prol': 'DC1',\n",
    "    'DC2_prol': 'DC2',\n",
    "    'CD39-CD103+ NK':'CD39- NK'\n",
    "})"
   ]
  },
  {
   "cell_type": "code",
   "execution_count": null,
   "id": "03f5fb6c-8544-433b-8c73-d31f3d83d6ac",
   "metadata": {},
   "outputs": [],
   "source": [
    "adata = adata[~adata.obs['celltype_midres'].isin(['CCT','vCTB','STB'])]"
   ]
  },
  {
   "cell_type": "code",
   "execution_count": null,
   "id": "9ccd153c-4bd4-4cd9-892a-83af544314e1",
   "metadata": {},
   "outputs": [],
   "source": [
    "adata.obs['celltype_midres'].cat.categories"
   ]
  },
  {
   "cell_type": "code",
   "execution_count": null,
   "id": "764c09ab-1fed-4a5d-834c-0437c0e9b207",
   "metadata": {},
   "outputs": [],
   "source": [
    "sc.pl.umap(adata, color='celltype_midres')"
   ]
  },
  {
   "cell_type": "code",
   "execution_count": null,
   "id": "bf9bdbd1-c532-49d9-939a-401d985ce0b0",
   "metadata": {},
   "outputs": [],
   "source": [
    "resource = li.rs.select_resource('consensus')\n",
    "resource.head()"
   ]
  },
  {
   "cell_type": "code",
   "execution_count": null,
   "id": "eb165122-dd97-47a8-901c-c9df1e7addf0",
   "metadata": {},
   "outputs": [],
   "source": [
    "resource"
   ]
  },
  {
   "cell_type": "code",
   "execution_count": null,
   "id": "4f3291b8-a0e0-453d-b41c-f3cdc35e28e9",
   "metadata": {},
   "outputs": [],
   "source": [
    "resource[resource['ligand'] == \"IFNG\"]"
   ]
  },
  {
   "cell_type": "code",
   "execution_count": null,
   "id": "47a95888-6e90-411e-ac5a-c72c089e4d63",
   "metadata": {},
   "outputs": [],
   "source": [
    "new_pairs = pd.DataFrame({\n",
    "    'ligand': ['PTGES'] * 4,\n",
    "    'receptor': ['PTGER1', 'PTGER2', 'PTGER3', 'PTGER4']\n",
    "})\n",
    "\n",
    "# 2. Append them to your existing df\n",
    "resource = pd.concat([resource, new_pairs], ignore_index=True)"
   ]
  },
  {
   "cell_type": "code",
   "execution_count": null,
   "id": "d0c766ff-e97d-46d9-8bcb-12e1504dac44",
   "metadata": {},
   "outputs": [],
   "source": [
    "new_pairs = pd.DataFrame({\n",
    "    'ligand': ['HSD11B1'],\n",
    "    'receptor': ['NR3C1']\n",
    "})\n",
    "\n",
    "# 2. Append them to your existing df\n",
    "resource = pd.concat([resource, new_pairs], ignore_index=True)"
   ]
  },
  {
   "cell_type": "code",
   "execution_count": null,
   "id": "032afde1-cdcf-448a-8ac2-8b4844392bcf",
   "metadata": {},
   "outputs": [],
   "source": [
    "new_pairs = pd.DataFrame({\n",
    "    'ligand': ['GDF15'],\n",
    "    'receptor': ['ITGAL']\n",
    "})\n",
    "\n",
    "# 2. Append them to your existing df\n",
    "resource = pd.concat([resource, new_pairs], ignore_index=True)"
   ]
  },
  {
   "cell_type": "code",
   "execution_count": null,
   "id": "808ea6b5-b351-422f-a672-99689a4f5192",
   "metadata": {},
   "outputs": [],
   "source": [
    "resource"
   ]
  },
  {
   "cell_type": "code",
   "execution_count": null,
   "id": "733c792a-0fa1-4e84-918f-18d06f134e2e",
   "metadata": {
    "scrolled": true
   },
   "outputs": [],
   "source": [
    "raw = adata.raw\n",
    "\n",
    "\n",
    "gene = 'ARG1'\n",
    "if gene not in raw.var_names:\n",
    "    raise KeyError(f\"{gene!r} not found in raw.var_names\")\n",
    "gi = raw.var_names.get_loc(gene)\n",
    "\n",
    "\n",
    "fn1_vec = raw.X[:, gi]\n",
    "\n",
    "\n",
    "if sp.issparse(fn1_vec):\n",
    "    fn1_arr = fn1_vec.toarray().ravel()\n",
    "else:\n",
    "    fn1_arr = fn1_vec.ravel()\n",
    "\n",
    "\n",
    "fn1_series = pd.Series(fn1_arr, index=adata.obs_names, name='FN1_raw')\n",
    "\n",
    "\n",
    "df = adata.obs[['celltype_midres']].join(fn1_series)\n",
    "\n",
    "\n",
    "mean_by_type = df.groupby('celltype_midres')['FN1_raw'].mean()\n",
    "\n",
    "print(mean_by_type)"
   ]
  },
  {
   "cell_type": "code",
   "execution_count": null,
   "id": "e12a4c22-fcc4-411d-83b1-35ec9cc18863",
   "metadata": {},
   "outputs": [],
   "source": [
    "print(adata.raw.X)"
   ]
  },
  {
   "cell_type": "code",
   "execution_count": null,
   "id": "19bc11e7",
   "metadata": {},
   "outputs": [],
   "source": [
    "cellphonedb(adata,\n",
    "            groupby='celltype_midres',\n",
    "            resource = resource,\n",
    "            expr_prop=0.20,\n",
    "            verbose=True, key_added='cpdb_res')"
   ]
  },
  {
   "cell_type": "code",
   "execution_count": null,
   "id": "3c578da7-fa95-42e5-a8db-ff72b96ecb33",
   "metadata": {
    "scrolled": true
   },
   "outputs": [],
   "source": [
    "adata.uns['cpdb_res'].head()"
   ]
  },
  {
   "cell_type": "code",
   "execution_count": null,
   "id": "2a5eb71d-65e0-4bf6-833d-164157d2c247",
   "metadata": {},
   "outputs": [],
   "source": [
    "adata.uns['cpdb_res']"
   ]
  },
  {
   "cell_type": "code",
   "execution_count": null,
   "id": "c907177e-2f29-4b68-834a-09157d81379a",
   "metadata": {},
   "outputs": [],
   "source": [
    "df = adata.uns['cpdb_res']\n",
    "\n",
    "\n",
    "raw = adata.raw\n",
    "celltypes = adata.obs['celltype_midres']  \n",
    "\n",
    "genes = pd.unique(df[['ligand','receptor']].values.ravel())\n",
    "\n",
    "scaled_means = {}\n",
    "for g in genes:\n",
    "    if g not in raw.var_names:\n",
    "        raise KeyError(f\"{g!r} not found in adata.raw.var_names\")\n",
    "    gi = raw.var_names.get_loc(g)\n",
    "    vec = raw.X[:, gi]\n",
    "    arr = vec.toarray().ravel() if sp.issparse(vec) else vec.ravel()\n",
    "    # mean per cell type\n",
    "    means = pd.Series(arr, index=celltypes).groupby(level=0).mean()\n",
    "    # min–max scale\n",
    "    scaled = (means - means.min()) / (means.max() - means.min())\n",
    "    scaled_means[g] = scaled\n",
    "\n",
    "\n",
    "adata.uns['cpdb_res']['ligand_scaled_means']   = df.apply(lambda row: scaled_means[row['ligand']].loc[row['source']],   axis=1)\n",
    "adata.uns['cpdb_res']['receptor_scaled_means'] = df.apply(lambda row: scaled_means[row['receptor']].loc[row['target']], axis=1)"
   ]
  },
  {
   "cell_type": "code",
   "execution_count": null,
   "id": "1fa58df6-1905-4605-b318-266d1776d34c",
   "metadata": {},
   "outputs": [],
   "source": [
    "df = adata.uns['cpdb_res']\n",
    "\n",
    "df[df['ligand'].isin(['PTGES','HSD11B1','IFNG','GDF15'])]"
   ]
  },
  {
   "cell_type": "code",
   "execution_count": null,
   "id": "c566f8d8-b61a-4d77-8752-7553073463e0",
   "metadata": {},
   "outputs": [],
   "source": [
    "adata.uns['cpdb_res'].head()"
   ]
  },
  {
   "cell_type": "code",
   "execution_count": null,
   "id": "752988cd-0ad2-4804-8238-49930a8fa4e7",
   "metadata": {},
   "outputs": [],
   "source": [
    "import plotnine as p9\n",
    "from typing import Union, List, Tuple\n",
    "import anndata as ad\n",
    "import pandas as pd\n",
    "\n",
    "from liana.plotting._common import _prep_liana_res, _get_top_n, _check_var, _filter_by\n",
    "from liana._docs import d\n",
    "from liana._constants import Keys as K, DefaultValues as V\n",
    "\n",
    "@d.dedent\n",
    "def tileplot(adata: ad.AnnData = None,\n",
    "             liana_res: pd.DataFrame = None,\n",
    "             fill: str = None,\n",
    "             label: str = None,\n",
    "             label_fun: callable = None,\n",
    "             source_labels: Union[str, List[str]] = None,\n",
    "             target_labels: Union[str, List[str]] = None,\n",
    "             ligand_complex: Union[str, List[str]] = None,\n",
    "             receptor_complex: Union[str, List[str]] = None,\n",
    "             uns_key: str = K.uns_key,\n",
    "             top_n: int = None,\n",
    "             orderby: str = None,\n",
    "             orderby_ascending: bool = False,\n",
    "             orderby_absolute: bool = True,\n",
    "             filter_fun: callable = None,\n",
    "             source_title=None,\n",
    "             target_title=None,\n",
    "             cmap: str = V.cmap,\n",
    "             figure_size: Tuple[float, float] = (5, 5),\n",
    "             label_size: int = 12,  # (Unused in this version)\n",
    "             return_fig: bool = V.return_fig\n",
    "             ):\n",
    "    \"\"\"\n",
    "    Tileplot interactions by source and target cells, now displaying the props values as circles.\n",
    "    The bubble fill color reflects the means values (using the `fill` column) while the bubble size\n",
    "    reflects the props values (using the `label` column).\n",
    "\n",
    "    Parameters\n",
    "    ----------\n",
    "    %(adata)s\n",
    "    %(liana_res)s\n",
    "    fill\n",
    "        Column in `liana_res` to define the bubble fill (e.g., the means values).\n",
    "    label\n",
    "        Column in `liana_res` to define the bubble size (e.g., the props values).\n",
    "    label_fun\n",
    "        Callable to apply to the `label` column.\n",
    "    %(source_labels)s\n",
    "    %(target_labels)s\n",
    "    %(ligand_complex)s\n",
    "    %(receptor_complex)s\n",
    "    %(uns_key)s\n",
    "    %(top_n)s\n",
    "    %(orderby)s\n",
    "    %(orderby_ascending)s\n",
    "    %(orderby_absolute)s\n",
    "    %(filter_fun)s\n",
    "    source_title\n",
    "        Title for the source facet. Default is 'Source'.\n",
    "    target_title\n",
    "        Title for the target facet. Default is 'Target'.\n",
    "    %(cmap)s\n",
    "    label_size\n",
    "        (Not used in this version; bubble size is determined by the `label` values.)\n",
    "    %(figure_size)s\n",
    "    %(return_fig)s\n",
    "\n",
    "    Returns\n",
    "    -------\n",
    "    A `plotnine.ggplot` instance displaying bubbles where the fill color indicates the means value and\n",
    "    the bubble size reflects the props value.\n",
    "    \"\"\"\n",
    "    liana_res = _prep_liana_res(adata=adata,\n",
    "                                liana_res=liana_res,\n",
    "                                source_labels=source_labels,\n",
    "                                target_labels=target_labels,\n",
    "                                ligand_complex=ligand_complex,\n",
    "                                receptor_complex=receptor_complex,\n",
    "                                uns_key=uns_key)\n",
    "\n",
    "    liana_res = _filter_by(liana_res, filter_fun)\n",
    "    liana_res = _get_top_n(liana_res, top_n, orderby, orderby_ascending, orderby_absolute)\n",
    "\n",
    "    relevant_cols = [col for col in liana_res.columns if col.endswith(fill) | col.endswith(label)]\n",
    "\n",
    "    ligand_stats = _entity_stats(liana_res,\n",
    "                                 entity='ligand',\n",
    "                                 entity_type='source',\n",
    "                                 relevant_cols=relevant_cols,\n",
    "                                 type_title=source_title)\n",
    "\n",
    "    _check_var(ligand_stats, var=fill, var_name='fill')\n",
    "    _check_var(ligand_stats, var=label, var_name='label')\n",
    "\n",
    "    receptor_stats = _entity_stats(liana_res,\n",
    "                                   entity='receptor',\n",
    "                                   entity_type='target',\n",
    "                                   relevant_cols=relevant_cols,\n",
    "                                   type_title=target_title)\n",
    "\n",
    "    liana_res = pd.concat([ligand_stats, receptor_stats])\n",
    "\n",
    "    if label_fun is not None:\n",
    "        liana_res[label] = liana_res[label].apply(label_fun)\n",
    "\n",
    "\n",
    "    p = (\n",
    "        p9.ggplot(liana_res, p9.aes(x='cell_type', y='interaction')) +\n",
    "        p9.geom_point(p9.aes(size=label, fill=fill), shape='o', color='white') +\n",
    "        p9.facet_grid('~ type', scales='free') +\n",
    "        p9.theme_bw(base_size=14) +\n",
    "        p9.theme(\n",
    "            axis_text_x=p9.element_text(angle=90),\n",
    "            figure_size=figure_size,\n",
    "            strip_background=p9.element_rect(colour=\"black\", fill=\"#fdfff4\"),\n",
    "        ) +\n",
    "        p9.scale_fill_cmap(\n",
    "            cmap,\n",
    "            limits=(0, 1),\n",
    "            breaks=[0,0.25,0.5,0.75, 1]\n",
    "        ) +\n",
    "        p9.scale_size_continuous(range=(0, 10), limits=(0, 1)) +\n",
    "        p9.labs(x='Cell type', y='Interaction', fill=str.capitalize(fill), size=str.capitalize(label))\n",
    "    )\n",
    "\n",
    "    if return_fig:\n",
    "        return p\n",
    "\n",
    "    p.draw()\n",
    "\n",
    "def _entity_stats(liana_res, entity, entity_type, relevant_cols, type_title=None):\n",
    "    entity_stats = liana_res[['interaction', f\"{entity}_complex\", entity_type, *relevant_cols]].copy()\n",
    "    if type_title is None:\n",
    "        type_title = entity_type.capitalize()\n",
    "    entity_stats = entity_stats.rename(columns={entity_type: 'cell_type'}).assign(type=type_title)\n",
    "    entity_stats.columns = entity_stats.columns.str.replace(entity + '_', '')\n",
    "    return entity_stats\n"
   ]
  },
  {
   "cell_type": "markdown",
   "id": "00b3a9cd",
   "metadata": {},
   "source": [
    "## Figure 5F"
   ]
  },
  {
   "cell_type": "code",
   "execution_count": null,
   "id": "6a9da3d2-b167-4681-8427-02fa8dd1639b",
   "metadata": {},
   "outputs": [],
   "source": [
    "my_plot = tileplot(\n",
    "    adata=adata,\n",
    "    # fill color represents the means values\n",
    "    fill='means',\n",
    "    # bubble size represents the props values\n",
    "    label='props',\n",
    "    #label_fun=lambda x: f'{x:.2f}',\n",
    "    top_n=50,\n",
    "    orderby='cellphone_pvals',\n",
    "    cmap='Blues', \n",
    "    orderby_ascending=True,\n",
    "    ligand_complex=['IL10', 'MIF', 'BAG6', 'PVR', 'CD274', 'PTGES', 'HLA-G', 'TNFSF10','GDF15'],\n",
    "    source_labels=['CD39- NK', 'decBAM1', 'decBAM2', 'EVT'],\n",
    "    target_labels=['T_CD4+', 'T_CD8+', 'CD39- NK', 'DC1', 'decPAM2'],\n",
    "    uns_key='cpdb_res', \n",
    "    source_title='Ligand',\n",
    "    target_title='Receptor',\n",
    "    figure_size=(8, 7.5)\n",
    ")\n",
    "\n",
    "my_plot.save(\"20250624_liana_hubdissolution.svg\", format=\"svg\", width=8, height=8.25, units=\"in\")\n",
    "my_plot"
   ]
  },
  {
   "cell_type": "code",
   "execution_count": null,
   "id": "014b7bd6-1f56-4c43-aa6f-8443d29eb788",
   "metadata": {},
   "outputs": [],
   "source": [
    "my_plot = tileplot(\n",
    "    adata=adata,\n",
    "    # fill color represents the means values\n",
    "    fill='means',\n",
    "    # bubble size represents the props values\n",
    "    label='props',\n",
    "    #label_fun=lambda x: f'{x:.2f}',\n",
    "    top_n=50,\n",
    "    orderby='cellphone_pvals',\n",
    "    cmap='Blues', \n",
    "    orderby_ascending=True,\n",
    "    ligand_complex=['IL10', 'MIF', 'BAG6', 'PVR', 'CD274', 'PTGES', 'HLA-G', 'TNFSF10','GDF15'],\n",
    "    source_labels=['CD39- NK', 'decBAM1', 'decBAM2', 'EVT'],\n",
    "    uns_key='cpdb_res',  # NOTE: default is 'liana_res'\n",
    "    source_title='Ligand',\n",
    "    target_title='Receptor',\n",
    "    figure_size=(16, 7.5)\n",
    ")\n",
    "\n",
    "my_plot.save(\"20250624_liana_hubdissolution_all.svg\", format=\"svg\", width=8, height=8.25, units=\"in\")\n",
    "my_plot"
   ]
  },
  {
   "cell_type": "code",
   "execution_count": null,
   "id": "157a447a-942e-4e4c-8cd0-047d1d558e71",
   "metadata": {},
   "outputs": [],
   "source": [
    "my_plot = tileplot(\n",
    "    adata=adata,\n",
    "    # fill color represents the means values\n",
    "    fill='means',\n",
    "    # bubble size represents the props values\n",
    "    label='props',\n",
    "    #label_fun=lambda x: f'{x:.2f}',\n",
    "    top_n=50,\n",
    "    orderby='cellphone_pvals',\n",
    "    cmap='Blues', \n",
    "    orderby_ascending=True,\n",
    "    ligand_complex=['IL10', 'MIF', 'BAG6', 'PVR', 'CD274', 'PTGES', 'HLA-G', 'TNFSF10','GDF15'],\n",
    "    source_labels=['CD39- NK', 'decBAM1', 'decBAM2', 'EVT'],\n",
    "    target_labels=['T_CD4+', 'T_CD8+', 'CD39- NK', 'DC1', 'decPAM2'],\n",
    "    uns_key='cpdb_res',  # NOTE: default is 'liana_res'\n",
    "    source_title='Ligand',\n",
    "    target_title='Receptor',\n",
    "    figure_size=(8, 7.5)\n",
    ")\n",
    "\n",
    "my_plot.save(\"20250624_liana_hubdissolution.svg\", format=\"svg\", width=8, height=8.25, units=\"in\")\n",
    "my_plot"
   ]
  },
  {
   "cell_type": "code",
   "execution_count": null,
   "id": "e7827c60-4d8d-4a94-94cc-1ad98edb88d3",
   "metadata": {},
   "outputs": [],
   "source": [
    "df = adata.uns['cpdb_res']\n",
    "\n",
    "df[df['ligand'].isin(['IFNG'])]"
   ]
  },
  {
   "cell_type": "markdown",
   "id": "d95501a8",
   "metadata": {},
   "source": [
    "## Figure 4D"
   ]
  },
  {
   "cell_type": "code",
   "execution_count": null,
   "id": "003bb3a1-ef34-43c1-b9c5-180ece1531d3",
   "metadata": {},
   "outputs": [],
   "source": [
    "my_plot = tileplot(adata = adata,\n",
    "                         # NOTE: fill & label need to exist for both\n",
    "                         # ligand_ and receptor_ columns\n",
    "                         fill='means',\n",
    "                         label='props',\n",
    "                       cmap='Blues',\n",
    "                         #label_fun=lambda x: f'{x:.2f}',\n",
    "                         top_n=50,\n",
    "                         orderby='cellphone_pvals',\n",
    "                         orderby_ascending=True,\n",
    "                        ligand_complex = ['CXCL9','CXCL10','CXCL11','XCL1','CXCL16','TNFSF13B','IFNG'],\n",
    "                         source_labels=['decPAM2','CD39- NK','DC1'],\n",
    "                        target_labels=['T_CD4+','T_CD8+','CD39- NK','DC1','decPAM2'],\n",
    "                        uns_key='cpdb_res', # NOTE: default is 'liana_res'\n",
    "                         source_title='Ligand',\n",
    "                         target_title='Receptor',\n",
    "                         figure_size=(8, 6)\n",
    "                         )\n",
    "my_plot.save(\"20250624_liana_hubcreation.svg\", format=\"svg\", width=8, height=6, units=\"in\")\n",
    "my_plot"
   ]
  },
  {
   "cell_type": "code",
   "execution_count": null,
   "id": "1d869e24-4de7-49f1-9db6-cc12a6083101",
   "metadata": {},
   "outputs": [],
   "source": [
    "my_plot = tileplot(adata = adata,\n",
    "                         # NOTE: fill & label need to exist for both\n",
    "                         # ligand_ and receptor_ columns\n",
    "                         fill='means',\n",
    "                         label='props',\n",
    "                       cmap='Blues',\n",
    "                         #label_fun=lambda x: f'{x:.2f}',\n",
    "                         top_n=50,\n",
    "                         orderby='cellphone_pvals',\n",
    "                         orderby_ascending=True,\n",
    "                        ligand_complex = ['CXCL9','CXCL10','CXCL11','XCL1','CXCL16','IFNG'],\n",
    "                         source_labels=['decPAM2','CD39- NK','DC1'],\n",
    "                        target_labels=['T_CD4+','T_CD8+','CD39- NK','DC1','decPAM2','Mono','BCell','CD39+ NK','DC2','decBAM2','decBAM1','decPAM1',\n",
    "                                      'MAST'],\n",
    "                        uns_key='cpdb_res', # NOTE: default is 'liana_res'\n",
    "                         source_title='Ligand',\n",
    "                         target_title='Receptor',\n",
    "                         figure_size=(10, 6)\n",
    "                         )\n",
    "my_plot.save(\"20250624_liana_hubcreation_all.svg\", format=\"svg\", width=8, height=6, units=\"in\")\n",
    "my_plot"
   ]
  },
  {
   "cell_type": "code",
   "execution_count": null,
   "id": "0e860279-4f34-40ec-8750-451e6edf0f4b",
   "metadata": {},
   "outputs": [],
   "source": [
    "my_plot = tileplot(adata = adata,\n",
    "                         # NOTE: fill & label need to exist for both\n",
    "                         # ligand_ and receptor_ columns\n",
    "                         fill='means',\n",
    "                         label='props',\n",
    "                       cmap='Blues',\n",
    "                         #label_fun=lambda x: f'{x:.2f}',\n",
    "                         top_n=50,\n",
    "                         orderby='cellphone_pvals',\n",
    "                         orderby_ascending=True,\n",
    "                        ligand_complex = ['CXCL9','CXCL10','CXCL11','XCL1','CXCL16','IFNG'],\n",
    "                         source_labels=['decPAM2','CD39- NK','DC1'],\n",
    "                        target_labels=['T_CD4+','T_CD8+','CD39- NK','DC1','decPAM2','Mono','BCell','CD39+ NK','DC2','decBAM2','decBAM1','decPAM1',\n",
    "                                      'MAST'],\n",
    "                        uns_key='cpdb_res', # NOTE: default is 'liana_res'\n",
    "                         source_title='Ligand',\n",
    "                         target_title='Receptor',\n",
    "                         figure_size=(16, 6)\n",
    "                         )\n",
    "my_plot.save(\"20250624_liana_hubcreation_all2.svg\", format=\"svg\", width=16, height=6, units=\"in\")\n",
    "my_plot"
   ]
  }
 ],
 "metadata": {
  "kernelspec": {
   "display_name": "Python 3 (ipykernel)",
   "language": "python",
   "name": "python3"
  },
  "language_info": {
   "codemirror_mode": {
    "name": "ipython",
    "version": 3
   },
   "file_extension": ".py",
   "mimetype": "text/x-python",
   "name": "python",
   "nbconvert_exporter": "python",
   "pygments_lexer": "ipython3",
   "version": "3.8.20"
  }
 },
 "nbformat": 4,
 "nbformat_minor": 5
}
