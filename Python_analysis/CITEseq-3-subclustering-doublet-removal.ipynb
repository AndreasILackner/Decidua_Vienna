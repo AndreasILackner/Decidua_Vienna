{
 "cells": [
  {
   "cell_type": "code",
   "execution_count": null,
   "id": "12035a4e",
   "metadata": {},
   "outputs": [],
   "source": [
    "import numpy as np\n",
    "import pandas as pd\n",
    "import scanpy as sc\n",
    "from muon import prot as pt\n",
    "\n",
    "from matplotlib import colors\n",
    "%matplotlib inline\n",
    "\n",
    "import muon as mu\n",
    "import matplotlib.pyplot as plt\n",
    "\n",
    "from sklearn.metrics import silhouette_score"
   ]
  },
  {
   "cell_type": "code",
   "execution_count": null,
   "id": "e3e55a16",
   "metadata": {},
   "outputs": [],
   "source": [
    "mdata = mu.read(\"./citeseq_mdata_allsamples_filtered_crude_clustering.h5mu\")"
   ]
  },
  {
   "cell_type": "code",
   "execution_count": null,
   "id": "9feada49",
   "metadata": {},
   "outputs": [],
   "source": [
    "mdata[\"rna\"].uns['log1p'][\"base\"] = None"
   ]
  },
  {
   "cell_type": "code",
   "execution_count": null,
   "id": "132df4a5",
   "metadata": {},
   "outputs": [],
   "source": [
    "# investigate each subcluster to remove doublets/identify doublets"
   ]
  },
  {
   "cell_type": "markdown",
   "id": "d10d2162",
   "metadata": {},
   "source": [
    "## subcluster Myelo"
   ]
  },
  {
   "cell_type": "code",
   "execution_count": null,
   "id": "f94ee5d2",
   "metadata": {},
   "outputs": [],
   "source": [
    "mdata_subset = mdata[mdata.obs['celltype_wnn'].isin([\"Myelo\"]),:]"
   ]
  },
  {
   "cell_type": "code",
   "execution_count": null,
   "id": "787600e0",
   "metadata": {
    "scrolled": true
   },
   "outputs": [],
   "source": [
    "# remove unused categories\n",
    "mdata_subset.obs['celltype_wnn'] = mdata_subset.obs['celltype_wnn'].cat.remove_unused_categories()"
   ]
  },
  {
   "cell_type": "code",
   "execution_count": null,
   "id": "edd881e0",
   "metadata": {
    "scrolled": true
   },
   "outputs": [],
   "source": [
    "# recalculate nearest neighbors\n",
    "sc.pp.neighbors(mdata_subset['rna'], use_rep=\"X_harmony\")\n",
    "sc.pp.neighbors(mdata_subset['prot'], use_rep=\"X_harmony\")\n",
    "\n",
    "\n",
    "mu.pp.neighbors(mdata_subset, key_added='wnn')\n",
    "mu.tl.umap(mdata_subset, neighbors_key='wnn', random_state=10)"
   ]
  },
  {
   "cell_type": "code",
   "execution_count": null,
   "id": "8bb51ab3",
   "metadata": {},
   "outputs": [],
   "source": [
    "X = np.hstack([mdata_subset['rna'].obsm['X_harmony'], mdata_subset['prot'].obsm['X_harmony']])\n",
    "\n",
    "for r in (0.3, 0.5, 0.7):\n",
    "    key = f'subset_leiden_r{r:.1f}'\n",
    "    sc.tl.leiden(mdata_subset, neighbors_key='wnn', resolution=r, key_added=key, random_state=0)\n",
    "\n",
    "    y = mdata_subset.obs[key].to_numpy()\n",
    "    s = silhouette_score(X, y, metric='cosine')\n",
    "    print(f\"{key}: n_clusters={np.unique(y).size}  silhouette={s:.4f}\")\n",
    "\n",
    "    # UMAP\n",
    "    sc.pl.umap(mdata_subset, color=key, legend_loc='on data')\n",
    "\n",
    "    # RNA markers\n",
    "    mdata_subset['rna'].obs[key] = mdata_subset.obs[key].astype('category')\n",
    "    sc.tl.rank_genes_groups(mdata_subset['rna'], groupby=key, method='wilcoxon')\n",
    "    sc.pl.rank_genes_groups_dotplot(mdata_subset['rna'], n_genes=5, standard_scale='var',\n",
    "                                    swap_axes=True, dendrogram=False)"
   ]
  },
  {
   "cell_type": "code",
   "execution_count": null,
   "id": "4f923ab8",
   "metadata": {},
   "outputs": [],
   "source": [
    "mdata_subset.obs['leiden_wnn_subcluster'] = mdata_subset.obs['subset_leiden_r0.5'].copy()\n",
    "mdata_subset[\"rna\"].obs[\"leiden_wnn_subcluster\"]=mdata_subset.obs[\"leiden_wnn_subcluster\"]"
   ]
  },
  {
   "cell_type": "code",
   "execution_count": null,
   "id": "0ab1a8cc",
   "metadata": {
    "scrolled": true
   },
   "outputs": [],
   "source": [
    "sc.pl.umap(mdata_subset, color=['celltype_wnn',\"leiden_wnn_subcluster\",\"tissue\",\"rna:pct_counts_mt\",\n",
    "                               \"donor_id\"], ncols=2, size=10)"
   ]
  },
  {
   "cell_type": "code",
   "execution_count": null,
   "id": "cc924714",
   "metadata": {
    "scrolled": false
   },
   "outputs": [],
   "source": [
    "marker_genes = [\"CD14_TotalSeqC\",\"CD1c_TotalSeqC\",\"CD56_TotalSeqC\",\"CD45_TotalSeqC\",\"CD11c_TotalSeqC\",\n",
    "                \"CD3_TotalSeqC\",\"CD4_TotalSeqC\",\"CD8a_TotalSeqC\"]\n",
    "mdata_subset[\"prot\"].obs[\"leiden_wnn_subcluster\"]=mdata_subset.obs[\"leiden_wnn_subcluster\"]\n",
    "sc.tl.dendrogram(mdata_subset[\"prot\"], 'leiden_wnn_subcluster')\n",
    "sc.pl.dotplot(mdata_subset[\"prot\"], marker_genes, groupby='leiden_wnn_subcluster', dendrogram=True, use_raw=False,\n",
    "             standard_scale=\"var\");"
   ]
  },
  {
   "cell_type": "code",
   "execution_count": null,
   "id": "9e94bbc6",
   "metadata": {},
   "outputs": [],
   "source": [
    "marker_genes = [\"JCHAIN\",\"THY1\",\"DCN\",\"NCAM1\",\"LTB\",\"APOD\",\"CD1C\",\"CD14\",\"XCR1\",\"CLEC9A\",\"MKI67\",\"NCAM1\",\"CD3E\",\n",
    "               \"SELL\",\"S100A8\",\"S100A9\",\"CCR7\",\"CXCL9\",\"HLA-G\",\"MRC1\"]\n",
    "mdata_subset[\"rna\"].obs[\"leiden_wnn_subcluster\"]=mdata_subset.obs[\"leiden_wnn_subcluster\"]\n",
    "sc.tl.dendrogram(mdata_subset[\"rna\"], 'leiden_wnn_subcluster')\n",
    "sc.pl.dotplot(mdata_subset[\"rna\"], marker_genes, groupby='leiden_wnn_subcluster', dendrogram=False, use_raw=False,\n",
    "             standard_scale=\"var\");"
   ]
  },
  {
   "cell_type": "code",
   "execution_count": null,
   "id": "a8296c5f",
   "metadata": {
    "scrolled": true
   },
   "outputs": [],
   "source": [
    "mu.pl.embedding(mdata_subset, basis=\"X_umap\", frameon=False, color=[\"CD14_TotalSeqC\",\"CD1c_TotalSeqC\",\"CD56_TotalSeqC\",\n",
    "                                                                   \"CD45_TotalSeqC\",\"CD11c_TotalSeqC\",\"IL1B\",\n",
    "                                                                   \"CD3_TotalSeqC\",\"CD4_TotalSeqC\",\"CD8a_TotalSeqC\",\n",
    "                                                                   \"NCAM1\",\"THY1\",\"DCN\",\"LTB\",\"JCHAIN\"],\n",
    "                ncols=2, color_map=\"YlOrRd\")"
   ]
  },
  {
   "cell_type": "code",
   "execution_count": null,
   "id": "0c5db031",
   "metadata": {},
   "outputs": [],
   "source": [
    "new_cluster_names = {\n",
    "    \"0\": \"MAC\", \"1\": \"MAC\",\"2\": \"DC2\",\"3\":\"MAC\",\"4\":\"DC1\",\"5\":\"MAC_TC_doublet\",\"6\":\"MAC\",\"7\":\"MAC_FIB_doublet\",\n",
    "    \"8\":\"MAC_NK_doublet\",\"9\":\"MAC_FIB_doublet\",\"10\":\"DC2\",\"11\":\"MAC_TROPHO_doublet\",\"12\":\"PLASMA\",\"13\":\"MAC_EPI_doublet\"\n",
    "}\n",
    "\n",
    "mdata_subset.obs['celltype_subset'] = mdata_subset.obs.leiden_wnn_subcluster.astype(\"str\").values\n",
    "mdata_subset.obs.celltype_subset = mdata_subset.obs.celltype_subset.replace(new_cluster_names)\n",
    "mdata_subset.obs.celltype_subset = mdata_subset.obs.celltype_subset.astype(\"category\")"
   ]
  },
  {
   "cell_type": "code",
   "execution_count": null,
   "id": "b4e0d16b",
   "metadata": {
    "scrolled": false
   },
   "outputs": [],
   "source": [
    "sc.pl.umap(mdata_subset, color=['tissue',\"celltype_subset\"], ncols=1, size=10)"
   ]
  },
  {
   "cell_type": "code",
   "execution_count": null,
   "id": "3afa37d2",
   "metadata": {},
   "outputs": [],
   "source": [
    "# create new clustering variable\n",
    "mdata.obs[\"celltype_hires\"]=mdata.obs[\"celltype_wnn\"]"
   ]
  },
  {
   "cell_type": "code",
   "execution_count": null,
   "id": "a5ebbc7c",
   "metadata": {},
   "outputs": [],
   "source": [
    "# add new categories\n",
    "mdata.obs[\"celltype_hires\"] = mdata.obs[\"celltype_hires\"].cat.add_categories(\n",
    "    [\"DC1\", \"DC2\", \"MAC\", \"MAC_FIB_doublet\", \"MAC_NK_doublet\",\n",
    "     \"MAC_TC_doublet\", \"MAC_EPI_doublet\", \"MAC_TROPHO_doublet\", \"PLASMA\"]\n",
    ")\n",
    "\n",
    "# assign new labels from the subset\n",
    "mdata.obs.loc[mdata_subset.obs_names, \"celltype_hires\"] = (\n",
    "    mdata_subset.obs[\"celltype_subset\"].values\n",
    ")\n",
    "\n",
    "# cast to categorical\n",
    "mdata.obs[\"celltype_hires\"] = mdata.obs[\"celltype_hires\"].astype(\"category\")"
   ]
  },
  {
   "cell_type": "code",
   "execution_count": null,
   "id": "0525c1fd",
   "metadata": {
    "scrolled": true
   },
   "outputs": [],
   "source": [
    "sc.pl.umap(mdata, color=['celltype_hires', \"tissue\"], ncols=1, size=10)"
   ]
  },
  {
   "cell_type": "markdown",
   "id": "bd80be6d",
   "metadata": {},
   "source": [
    "## subcluster DC2"
   ]
  },
  {
   "cell_type": "code",
   "execution_count": null,
   "id": "df2b15c3",
   "metadata": {},
   "outputs": [],
   "source": [
    "mdata_subset = mdata[mdata.obs['celltype_hires'].isin([\"DC2\"]),:]"
   ]
  },
  {
   "cell_type": "code",
   "execution_count": null,
   "id": "3e467a08",
   "metadata": {
    "scrolled": true
   },
   "outputs": [],
   "source": [
    "mdata_subset.obs['celltype_hires'] = mdata_subset.obs['celltype_hires'].cat.remove_unused_categories()"
   ]
  },
  {
   "cell_type": "code",
   "execution_count": null,
   "id": "07c71d84",
   "metadata": {
    "scrolled": true
   },
   "outputs": [],
   "source": [
    "sc.pl.umap(mdata_subset, color=['celltype_hires'], ncols=1, size=10)"
   ]
  },
  {
   "cell_type": "code",
   "execution_count": null,
   "id": "6432d924",
   "metadata": {
    "scrolled": true
   },
   "outputs": [],
   "source": [
    "# recalculate nn\n",
    "sc.pp.neighbors(mdata_subset['rna'], use_rep=\"X_harmony\")\n",
    "sc.pp.neighbors(mdata_subset['prot'], use_rep=\"X_harmony\")\n",
    "\n",
    "mu.pp.neighbors(mdata_subset, key_added='wnn')\n",
    "\n",
    "mu.tl.umap(mdata_subset, neighbors_key='wnn', random_state=10)"
   ]
  },
  {
   "cell_type": "code",
   "execution_count": null,
   "id": "3de54dc4",
   "metadata": {},
   "outputs": [],
   "source": [
    "X = np.hstack([mdata_subset['rna'].obsm['X_harmony'], mdata_subset['prot'].obsm['X_harmony']])\n",
    "\n",
    "for r in (0.3, 0.5, 0.7):\n",
    "    key = f'subset_leiden_r{r:.1f}'\n",
    "    sc.tl.leiden(mdata_subset, neighbors_key='wnn', resolution=r, key_added=key, random_state=0)\n",
    "\n",
    "    y = mdata_subset.obs[key].to_numpy()\n",
    "    s = silhouette_score(X, y, metric='cosine')\n",
    "    print(f\"{key}: n_clusters={np.unique(y).size}  silhouette={s:.4f}\")\n",
    "\n",
    "    # UMAP\n",
    "    sc.pl.umap(mdata_subset, color=key, legend_loc='on data')\n",
    "\n",
    "    # RNA markers\n",
    "    mdata_subset['rna'].obs[key] = mdata_subset.obs[key].astype('category')\n",
    "    sc.tl.rank_genes_groups(mdata_subset['rna'], groupby=key, method='wilcoxon')\n",
    "    sc.pl.rank_genes_groups_dotplot(mdata_subset['rna'], n_genes=5, standard_scale='var',\n",
    "                                    swap_axes=True, dendrogram=False)"
   ]
  },
  {
   "cell_type": "code",
   "execution_count": null,
   "id": "aabaabb0",
   "metadata": {},
   "outputs": [],
   "source": [
    "mdata_subset.obs['leiden_wnn_subcluster'] = mdata_subset.obs['subset_leiden_r0.3'].copy()\n",
    "mdata_subset[\"rna\"].obs[\"leiden_wnn_subcluster\"]=mdata_subset.obs[\"leiden_wnn_subcluster\"]"
   ]
  },
  {
   "cell_type": "code",
   "execution_count": null,
   "id": "29492fce",
   "metadata": {
    "scrolled": true
   },
   "outputs": [],
   "source": [
    "sc.pl.umap(mdata_subset, color=[\"leiden_wnn_subcluster\",\"tissue\",\"rna:pct_counts_mt\",\n",
    "                               \"donor_id\"], ncols=1)"
   ]
  },
  {
   "cell_type": "code",
   "execution_count": null,
   "id": "6a8d9a03",
   "metadata": {
    "scrolled": false
   },
   "outputs": [],
   "source": [
    "marker_genes = [\"CD4_TotalSeqC\",\"CD8a_TotalSeqC\",\"CD3_TotalSeqC\",\"CD194_TotalSeqC\",\"CD20_TotalSeqC\",\n",
    "                \"CD45RA_TotalSeqC\",\"CD45RO_TotalSeqC\",\"CD16_TotalSeqC\",\"CD1c_TotalSeqC\",\"CD56_TotalSeqC\",\"CD14_TotalSeqC\",\n",
    "               \"CD27_TotalSeqC\",\"TIGIT_TotalSeqC\",\"CD25_TotalSeqC\",\"CD103_TotalSeqC\",\"CD62L_TotalSeqC\",\n",
    "               \"CD28_TotalSeqC\",\"CD127_TotalSeqC\",\"CD366_TotalSeqC\",\"CD11b_TotalSeqC\",\"CD314_TotalSeqC\",\"CD1c_TotalSeqC\",\n",
    "               \"CD40_TotalSeqC\",\"CD14_TotalSeqC\"]\n",
    "mdata_subset[\"prot\"].obs[\"leiden_wnn_subcluster\"]=mdata_subset.obs[\"leiden_wnn_subcluster\"]\n",
    "sc.tl.dendrogram(mdata_subset[\"prot\"], 'leiden_wnn_subcluster')\n",
    "sc.pl.dotplot(mdata_subset[\"prot\"], marker_genes, groupby='leiden_wnn_subcluster', dendrogram=False, use_raw=False\n",
    "              ,standard_scale=\"var\"\n",
    "             );"
   ]
  },
  {
   "cell_type": "code",
   "execution_count": null,
   "id": "72c39e49",
   "metadata": {},
   "outputs": [],
   "source": [
    "marker_genes = [\"MKI67\",\"CD14\",\"PTPRC\",\"CD74\",\"THY1\",\"HLA-G\",\"NOTUM\",\"XCR1\",\"SELL\",\"CCR7\",\"NCAM1\",\"S100A8\",\n",
    "               \"CD163\",\"CLEC10A\",\"CLEC4C\",\"LILRB4\",\"BTLA\",\"CLEC9A\",\"CXCL9\"]\n",
    "mdata_subset[\"rna\"].obs[\"leiden_wnn_subcluster\"]=mdata_subset.obs[\"leiden_wnn_subcluster\"]\n",
    "sc.tl.dendrogram(mdata_subset[\"rna\"], 'leiden_wnn_subcluster')\n",
    "sc.pl.dotplot(mdata_subset[\"rna\"], marker_genes, groupby='leiden_wnn_subcluster', dendrogram=False, use_raw=True,\n",
    "              standard_scale=\"var\");"
   ]
  },
  {
   "cell_type": "code",
   "execution_count": null,
   "id": "3a02a971",
   "metadata": {
    "scrolled": true
   },
   "outputs": [],
   "source": [
    "mu.pl.embedding(mdata_subset, basis=\"X_umap\", frameon=False, color=[\"CD1c_TotalSeqC\",\"CD14_TotalSeqC\",\"CD45_TotalSeqC\",\n",
    "                                                                   \"CD68\",\"CD1C\",\"MKI67\",\"ITGAM\",\"CD207\",\"CD103_TotalSeqC\"],\n",
    "                ncols=2, color_map=\"YlOrRd\")"
   ]
  },
  {
   "cell_type": "code",
   "execution_count": null,
   "id": "533f6f45",
   "metadata": {},
   "outputs": [],
   "source": [
    "# subcluster leiden 2"
   ]
  },
  {
   "cell_type": "code",
   "execution_count": null,
   "id": "f08c3192",
   "metadata": {},
   "outputs": [],
   "source": [
    "mdata_subset2 = mdata_subset[mdata_subset.obs['leiden_wnn_subcluster'].isin([\"2\"]),:]"
   ]
  },
  {
   "cell_type": "code",
   "execution_count": null,
   "id": "11f032e5",
   "metadata": {
    "scrolled": true
   },
   "outputs": [],
   "source": [
    "# remove unused categories\n",
    "mdata_subset2.obs['leiden_wnn_subcluster'] = mdata_subset2.obs['leiden_wnn_subcluster'].cat.remove_unused_categories()"
   ]
  },
  {
   "cell_type": "code",
   "execution_count": null,
   "id": "500b31ea",
   "metadata": {
    "scrolled": true
   },
   "outputs": [],
   "source": [
    "sc.pl.umap(mdata_subset2, color=['leiden_wnn_subcluster'], ncols=1, size=10)"
   ]
  },
  {
   "cell_type": "code",
   "execution_count": null,
   "id": "06d63110",
   "metadata": {
    "scrolled": true
   },
   "outputs": [],
   "source": [
    "# recalculate nn\n",
    "sc.pp.neighbors(mdata_subset2['rna'], use_rep=\"X_harmony\")\n",
    "sc.pp.neighbors(mdata_subset2['prot'], use_rep=\"X_harmony\")\n",
    "\n",
    "\n",
    "mu.pp.neighbors(mdata_subset2, key_added='wnn')\n",
    "\n",
    "mu.tl.umap(mdata_subset2, neighbors_key='wnn', random_state=10)"
   ]
  },
  {
   "cell_type": "code",
   "execution_count": null,
   "id": "7d69d1e3",
   "metadata": {},
   "outputs": [],
   "source": [
    "X = np.hstack([mdata_subset2['rna'].obsm['X_harmony'], mdata_subset2['prot'].obsm['X_harmony']])\n",
    "\n",
    "for r in (0.3, 0.5, 0.7):\n",
    "    key = f'subset2_leiden_r{r:.1f}'\n",
    "    sc.tl.leiden(mdata_subset2, neighbors_key='wnn', resolution=r, key_added=key, random_state=0)\n",
    "\n",
    "    y = mdata_subset2.obs[key].to_numpy()\n",
    "    s = silhouette_score(X, y, metric='cosine')\n",
    "    print(f\"{key}: n_clusters={np.unique(y).size}  silhouette={s:.4f}\")\n",
    "\n",
    "    # UMAP\n",
    "    sc.pl.umap(mdata_subset2, color=key, legend_loc='on data')\n",
    "\n",
    "    # RNA markers\n",
    "    mdata_subset2['rna'].obs[key] = mdata_subset2.obs[key].astype('category')\n",
    "    sc.tl.rank_genes_groups(mdata_subset2['rna'], groupby=key, method='wilcoxon')\n",
    "    sc.pl.rank_genes_groups_dotplot(mdata_subset2['rna'], n_genes=5, standard_scale='var',\n",
    "                                    swap_axes=True, dendrogram=False)"
   ]
  },
  {
   "cell_type": "code",
   "execution_count": null,
   "id": "4a9444cc",
   "metadata": {},
   "outputs": [],
   "source": [
    "mdata_subset2.obs['leiden_wnn_subcluster2'] = mdata_subset2.obs['subset2_leiden_r0.3'].copy()\n",
    "mdata_subset2[\"rna\"].obs[\"leiden_wnn_subcluster2\"]=mdata_subset2.obs[\"leiden_wnn_subcluster2\"]\n"
   ]
  },
  {
   "cell_type": "code",
   "execution_count": null,
   "id": "9b708b39",
   "metadata": {
    "scrolled": true
   },
   "outputs": [],
   "source": [
    "sc.pl.umap(mdata_subset2, color=[\"leiden_wnn_subcluster2\",\"tissue\",\"rna:pct_counts_mt\",\n",
    "                               \"donor_id\"], ncols=1, size=10)"
   ]
  },
  {
   "cell_type": "code",
   "execution_count": null,
   "id": "224d09eb",
   "metadata": {
    "scrolled": true
   },
   "outputs": [],
   "source": [
    "mu.pl.embedding(mdata_subset2, basis=\"X_umap\", frameon=False, color=[\"leiden_wnn_subcluster2\",\"CD14_TotalSeqC\",\"CD1c_TotalSeqC\"],\n",
    "                ncols=2, color_map=\"YlOrRd\")"
   ]
  },
  {
   "cell_type": "code",
   "execution_count": null,
   "id": "4779ac4c",
   "metadata": {},
   "outputs": [],
   "source": [
    "new_cluster_names = {\n",
    "    \"0\": \"MAC\", \"1\": \"DC2_prol\"}\n",
    "\n",
    "mdata_subset2.obs['celltype_subset2'] = mdata_subset2.obs.leiden_wnn_subcluster2.astype(\"str\").values\n",
    "mdata_subset2.obs.celltype_subset2 = mdata_subset2.obs.celltype_subset2.replace(new_cluster_names)\n",
    "mdata_subset2.obs.celltype_subset2 = mdata_subset2.obs.celltype_subset2.astype(\"category\")"
   ]
  },
  {
   "cell_type": "code",
   "execution_count": null,
   "id": "0cd8434a",
   "metadata": {
    "scrolled": true
   },
   "outputs": [],
   "source": [
    "mdata_subset.obs[\"celltype_subset\"] = mdata_subset.obs[\"leiden_wnn_subcluster\"]\n",
    "mdata_subset.obs[\"celltype_subset\"] = mdata_subset.obs[\"celltype_subset\"].cat.add_categories(\"MAC\")\n",
    "mdata_subset.obs[\"celltype_subset\"] = mdata_subset.obs[\"celltype_subset\"].cat.add_categories(\"DC2\")\n",
    "mdata_subset.obs[\"celltype_subset\"] = mdata_subset.obs[\"celltype_subset\"].cat.add_categories(\"DC2_prol\")\n",
    "for cell_id, celltype_subset2 in zip(mdata_subset2.obs_names, mdata_subset2.obs[\"celltype_subset2\"]):\n",
    "    if cell_id in mdata_subset.obs.index:\n",
    "        mdata_subset.obs.loc[cell_id, \"celltype_subset\"] = celltype_subset2"
   ]
  },
  {
   "cell_type": "code",
   "execution_count": null,
   "id": "c5a85f29",
   "metadata": {
    "scrolled": true
   },
   "outputs": [],
   "source": [
    "mu.pl.embedding(mdata_subset, basis=\"X_umap\", frameon=False, color=[\"celltype_subset\"],\n",
    "                ncols=2, color_map=\"YlOrRd\")"
   ]
  },
  {
   "cell_type": "code",
   "execution_count": null,
   "id": "03efd1c2",
   "metadata": {
    "scrolled": true
   },
   "outputs": [],
   "source": [
    "mu.pl.embedding(mdata_subset, basis=\"X_umap\", frameon=False, color=[\"celltype_subset\", \"leiden_wnn_subcluster\"],\n",
    "                ncols=2, color_map=\"YlOrRd\")"
   ]
  },
  {
   "cell_type": "code",
   "execution_count": null,
   "id": "d7ae3d63",
   "metadata": {},
   "outputs": [],
   "source": [
    "new_cluster_names = {\n",
    "    \"0\": \"MAC\", \"1\": \"DC2\", \"3\": \"DC2\"\n",
    "}\n",
    "\n",
    "\n",
    "mdata_subset.obs['celltype_subset'] = mdata_subset.obs.celltype_subset.astype(\"str\").values\n",
    "mdata_subset.obs.celltype_subset = mdata_subset.obs.celltype_subset.replace(new_cluster_names)\n",
    "mdata_subset.obs.celltype_subset = mdata_subset.obs.celltype_subset.astype(\"category\")"
   ]
  },
  {
   "cell_type": "code",
   "execution_count": null,
   "id": "77c36c3f",
   "metadata": {
    "scrolled": true
   },
   "outputs": [],
   "source": [
    "sc.pl.umap(mdata_subset, color=[\"celltype_subset\"], ncols=1, size=10)"
   ]
  },
  {
   "cell_type": "code",
   "execution_count": null,
   "id": "4dc5ef55",
   "metadata": {},
   "outputs": [],
   "source": [
    "mdata.obs[\"celltype_hires\"] = mdata.obs[\"celltype_hires\"].cat.add_categories(\"DC2_prol\")\n",
    "for cell_id, celltype_subset in zip(mdata_subset.obs_names, mdata_subset.obs[\"celltype_subset\"]):\n",
    "    if cell_id in mdata.obs.index:\n",
    "        mdata.obs.loc[cell_id, \"celltype_hires\"] = celltype_subset"
   ]
  },
  {
   "cell_type": "code",
   "execution_count": null,
   "id": "f26f8c8e",
   "metadata": {
    "scrolled": true
   },
   "outputs": [],
   "source": [
    "sc.pl.umap(mdata, color=['celltype_hires', \"tissue\"], ncols=1, size=10)"
   ]
  },
  {
   "cell_type": "markdown",
   "id": "2079a49f",
   "metadata": {},
   "source": [
    "## subcluster MAC"
   ]
  },
  {
   "cell_type": "code",
   "execution_count": null,
   "id": "b43af7b6",
   "metadata": {},
   "outputs": [],
   "source": [
    "mdata_subset = mdata[mdata.obs['celltype_hires'].isin([\"MAC\"]),:]"
   ]
  },
  {
   "cell_type": "code",
   "execution_count": null,
   "id": "49d53e03",
   "metadata": {
    "scrolled": true
   },
   "outputs": [],
   "source": [
    "# remove unused categories \n",
    "mdata_subset.obs['celltype_hires'] = mdata_subset.obs['celltype_hires'].cat.remove_unused_categories()"
   ]
  },
  {
   "cell_type": "code",
   "execution_count": null,
   "id": "ea16f3a6",
   "metadata": {
    "scrolled": true
   },
   "outputs": [],
   "source": [
    "sc.pl.umap(mdata_subset, color=['celltype_hires'], ncols=1, size=10)"
   ]
  },
  {
   "cell_type": "code",
   "execution_count": null,
   "id": "f12722ab",
   "metadata": {
    "scrolled": false
   },
   "outputs": [],
   "source": [
    "# recalculate nn\n",
    "sc.pp.neighbors(mdata_subset['rna'], use_rep=\"X_harmony\")\n",
    "sc.pp.neighbors(mdata_subset['prot'], use_rep=\"X_harmony\")\n",
    "\n",
    "\n",
    "mu.pp.neighbors(mdata_subset, key_added='wnn')\n",
    "\n",
    "mu.tl.umap(mdata_subset, neighbors_key='wnn', random_state=10)"
   ]
  },
  {
   "cell_type": "code",
   "execution_count": null,
   "id": "9c730883",
   "metadata": {},
   "outputs": [],
   "source": [
    "X = np.hstack([mdata_subset['rna'].obsm['X_harmony'], mdata_subset['prot'].obsm['X_harmony']])\n",
    "\n",
    "for r in (0.3, 0.5, 0.7):\n",
    "    key = f'subset_leiden_r{r:.1f}'\n",
    "    sc.tl.leiden(mdata_subset, neighbors_key='wnn', resolution=r, key_added=key, random_state=0)\n",
    "\n",
    "    y = mdata_subset.obs[key].to_numpy()\n",
    "    s = silhouette_score(X, y, metric='cosine')\n",
    "    print(f\"{key}: n_clusters={np.unique(y).size}  silhouette={s:.4f}\")\n",
    "\n",
    "    # UMAP\n",
    "    sc.pl.umap(mdata_subset, color=key, legend_loc='on data')\n",
    "\n",
    "    # RNA markers\n",
    "    mdata_subset['rna'].obs[key] = mdata_subset.obs[key].astype('category')\n",
    "    sc.tl.rank_genes_groups(mdata_subset['rna'], groupby=key, method='wilcoxon')\n",
    "    sc.pl.rank_genes_groups_dotplot(mdata_subset['rna'], n_genes=5, standard_scale='var',\n",
    "                                    swap_axes=True, dendrogram=False)"
   ]
  },
  {
   "cell_type": "code",
   "execution_count": null,
   "id": "c0a503cb",
   "metadata": {},
   "outputs": [],
   "source": [
    "mdata_subset.obs['leiden_wnn_subcluster'] = mdata_subset.obs['subset_leiden_r0.7'].copy()\n",
    "mdata_subset[\"rna\"].obs[\"leiden_wnn_subcluster\"]=mdata_subset.obs[\"leiden_wnn_subcluster\"]"
   ]
  },
  {
   "cell_type": "code",
   "execution_count": null,
   "id": "0b6ecca1",
   "metadata": {
    "scrolled": true
   },
   "outputs": [],
   "source": [
    "sc.pl.umap(mdata_subset, color=[\"leiden_wnn_subcluster\",\"tissue\",\"rna:pct_counts_mt\",\n",
    "                               \"donor_id\"], ncols=1, size=20)"
   ]
  },
  {
   "cell_type": "code",
   "execution_count": null,
   "id": "91e69ab8",
   "metadata": {
    "scrolled": false
   },
   "outputs": [],
   "source": [
    "marker_genes = [\"CD4_TotalSeqC\",\"CD8a_TotalSeqC\",\"CD3_TotalSeqC\",\"CD194_TotalSeqC\",\"CD20_TotalSeqC\",\n",
    "                \"CD45RA_TotalSeqC\",\"CD45RO_TotalSeqC\",\"CD16_TotalSeqC\",\"CD1c_TotalSeqC\",\"CD56_TotalSeqC\",\"CD14_TotalSeqC\",\n",
    "               \"CD27_TotalSeqC\",\"TIGIT_TotalSeqC\",\"CD25_TotalSeqC\",\"CD103_TotalSeqC\",\"CD62L_TotalSeqC\",\n",
    "               \"CD28_TotalSeqC\",\"CD127_TotalSeqC\",\"CD366_TotalSeqC\",\"CD11b_TotalSeqC\",\"CD314_TotalSeqC\",\"CD1c_TotalSeqC\",\n",
    "               \"CD40_TotalSeqC\",\"CD14_TotalSeqC\"]\n",
    "mdata_subset[\"prot\"].obs[\"leiden_wnn_subcluster\"]=mdata_subset.obs[\"leiden_wnn_subcluster\"]\n",
    "sc.tl.dendrogram(mdata_subset[\"prot\"], 'leiden_wnn_subcluster')\n",
    "sc.pl.dotplot(mdata_subset[\"prot\"], marker_genes, groupby='leiden_wnn_subcluster', dendrogram=False, use_raw=False\n",
    "              ,standard_scale=\"var\"\n",
    "             );"
   ]
  },
  {
   "cell_type": "code",
   "execution_count": null,
   "id": "ada6adac",
   "metadata": {},
   "outputs": [],
   "source": [
    "marker_genes = [\"MKI67\",\"CD14\",\"PTPRC\",\"CD74\",\"THY1\",\"HLA-G\",\"NOTUM\",\"XCR1\",\"SELL\",\"CCR7\",\"NCAM1\",\"S100A8\",\n",
    "               \"CD163\",\"CLEC10A\",\"CLEC4C\",\"LILRB4\",\"BTLA\",\"CLEC9A\",\"CXCL9\",\"CD3E\",\"NCAM1\",\"LYZ\",\n",
    "               \"FN1\",\"FTL\",\"ITGAX\",\"SPP1\",\"IDO1\",\"THY1\",\"HLA-G\",\"SLAMF7\",\"CXCL10\",\"IL1B\",\"TNF\",\"MARCO\",\"SPP1\"]\n",
    "mdata_subset[\"rna\"].obs[\"leiden_wnn_subcluster\"]=mdata_subset.obs[\"leiden_wnn_subcluster\"]\n",
    "sc.tl.dendrogram(mdata_subset[\"rna\"], 'leiden_wnn_subcluster')\n",
    "sc.pl.dotplot(mdata_subset[\"rna\"], marker_genes, groupby='leiden_wnn_subcluster', dendrogram=False, use_raw=True,\n",
    "              standard_scale=\"var\"\n",
    "             );"
   ]
  },
  {
   "cell_type": "code",
   "execution_count": null,
   "id": "7085dfce",
   "metadata": {
    "scrolled": true
   },
   "outputs": [],
   "source": [
    "mu.pl.embedding(mdata_subset, basis=\"X_umap\", frameon=False, color=[\"CD1c_TotalSeqC\",\"CD14_TotalSeqC\",\"CD45_TotalSeqC\",\n",
    "                                                                   \"CD68\",\"CD1C\",\"MKI67\",\"ITGAM\",\"CD207\",\"CD103_TotalSeqC\",\n",
    "                                                                   \"CCR7\",\"SELL\",\"CD11c_TotalSeqC\",\"CXCL9\",\"WARS\",\"SLAMF7\",\n",
    "                                                                   \"CXCL10\",\"SPP1\",\"MARCO\"],\n",
    "                ncols=2, color_map=\"YlOrRd\")"
   ]
  },
  {
   "cell_type": "code",
   "execution_count": null,
   "id": "728df188",
   "metadata": {
    "scrolled": true
   },
   "outputs": [],
   "source": [
    "mu.pl.embedding(mdata_subset, basis=\"X_umap\", frameon=False, color=[\"leiden_wnn_subcluster\",\"FOLR2\",\"IL1B\",\"PTGS2\",\"FN1\",\n",
    "                                                                    \"VCAN\",\"S100A8\",\"LYZ\",\"CD28_TotalSeqC\"],\n",
    "                ncols=2, color_map=\"YlOrRd\")"
   ]
  },
  {
   "cell_type": "code",
   "execution_count": null,
   "id": "777d679a",
   "metadata": {},
   "outputs": [],
   "source": [
    "marker_genes = {\"SPP1\":[\"SPP1\",\"MARCO\",\"FBP1\",\"APOC1\",\"LIPA\"],\n",
    "               \"FOLR2\":[\"FOLR2\",\"LYVE1\",\"SELENOP\",\"SLC40A1\",\"MRC1\"],\n",
    "               \"IL1B\":[\"IL1B\",\"IL1A\",\"NLRP3\",\"PTGS2\",\"CCL3\"],\n",
    "               \"mono\":[\"LYZ\",\"VCAN\",\"S100A8\",\"S100A9\"],\n",
    "               \"MT\":[\"MT1H\",\"MT1G\",\"MT1X\",\"MT1E\",\"MT2A\"],\n",
    "               \"HSP\":[\"HSPA6\",\"SERPINH1\",\"BAG3\",\"HSPB1\",\"HSPD1\"],\n",
    "               \"prol\":[\"MKI67\",\"TOP2A\",\"PCLAF\",\"UBE2C\",\"TK1\"]}\n",
    "mdata_subset[\"rna\"].obs[\"leiden_wnn_subcluster\"]=mdata_subset.obs[\"leiden_wnn_subcluster\"]\n",
    "sc.tl.dendrogram(mdata_subset[\"rna\"], 'leiden_wnn_subcluster')\n",
    "sc.pl.dotplot(mdata_subset[\"rna\"], marker_genes, groupby='leiden_wnn_subcluster', dendrogram=False, use_raw=True,\n",
    "              standard_scale=\"var\"\n",
    "             );"
   ]
  },
  {
   "cell_type": "code",
   "execution_count": null,
   "id": "d7c1c466",
   "metadata": {},
   "outputs": [],
   "source": [
    "new_cluster_names = {\n",
    "    \"0\":\"decBAM2\", \"1\": \"monoMAC\", \"2\": \"decBAM1\",\"3\": \"decPAM1\", \"4\": \"DC2\", \"5\": \"decPAM2\", \"6\": \"MAC_prol\", \"7\": \"decBAM1\",\n",
    "    \"8\": \"MAC_Tcell_doublet\"\n",
    "}\n",
    "\n",
    "\n",
    "mdata_subset.obs['celltype_subset'] = mdata_subset.obs.leiden_wnn_subcluster.astype(\"str\").values\n",
    "mdata_subset.obs.celltype_subset = mdata_subset.obs.celltype_subset.replace(new_cluster_names)\n",
    "mdata_subset.obs.celltype_subset = mdata_subset.obs.celltype_subset.astype(\"category\")"
   ]
  },
  {
   "cell_type": "code",
   "execution_count": null,
   "id": "3824eb5b",
   "metadata": {
    "scrolled": true
   },
   "outputs": [],
   "source": [
    "mu.pl.embedding(mdata_subset, basis=\"X_umap\", frameon=False, color=[\"celltype_subset\"],\n",
    "                ncols=2, color_map=\"YlOrRd\")"
   ]
  },
  {
   "cell_type": "code",
   "execution_count": null,
   "id": "f4215f34",
   "metadata": {},
   "outputs": [],
   "source": [
    "mdata.obs[\"celltype_hires\"] = mdata.obs[\"celltype_hires\"].cat.add_categories(\"MAC_Tcell_doublet\")\n",
    "mdata.obs[\"celltype_hires\"] = mdata.obs[\"celltype_hires\"].cat.add_categories(\"decPAM2\")\n",
    "mdata.obs[\"celltype_hires\"] = mdata.obs[\"celltype_hires\"].cat.add_categories(\"decBAM2\")\n",
    "mdata.obs[\"celltype_hires\"] = mdata.obs[\"celltype_hires\"].cat.add_categories(\"decBAM1\")\n",
    "mdata.obs[\"celltype_hires\"] = mdata.obs[\"celltype_hires\"].cat.add_categories(\"decPAM1\")\n",
    "mdata.obs[\"celltype_hires\"] = mdata.obs[\"celltype_hires\"].cat.add_categories(\"monoMAC\")\n",
    "mdata.obs[\"celltype_hires\"] = mdata.obs[\"celltype_hires\"].cat.add_categories(\"MAC_prol\")\n",
    "for cell_id, celltype_subset in zip(mdata_subset.obs_names, mdata_subset.obs[\"celltype_subset\"]):\n",
    "    if cell_id in mdata.obs.index:\n",
    "        mdata.obs.loc[cell_id, \"celltype_hires\"] = celltype_subset"
   ]
  },
  {
   "cell_type": "code",
   "execution_count": null,
   "id": "fa5aa55b",
   "metadata": {
    "scrolled": true
   },
   "outputs": [],
   "source": [
    "mdata.obs['celltype_hires'] = mdata.obs['celltype_hires'].cat.remove_unused_categories()\n",
    "sc.pl.umap(mdata, color=['celltype_hires', \"tissue\"], ncols=1, size=10)"
   ]
  },
  {
   "cell_type": "markdown",
   "id": "76082ff0",
   "metadata": {},
   "source": [
    "## subcluster DC1"
   ]
  },
  {
   "cell_type": "code",
   "execution_count": null,
   "id": "19fc9352",
   "metadata": {},
   "outputs": [],
   "source": [
    "mdata_subset = mdata[mdata.obs['celltype_hires'].isin([\"DC1\"]),:]"
   ]
  },
  {
   "cell_type": "code",
   "execution_count": null,
   "id": "5dfec619",
   "metadata": {
    "scrolled": true
   },
   "outputs": [],
   "source": [
    "# remove unused categories\n",
    "mdata_subset.obs['celltype_hires'] = mdata_subset.obs['celltype_hires'].cat.remove_unused_categories()"
   ]
  },
  {
   "cell_type": "code",
   "execution_count": null,
   "id": "3df019d2",
   "metadata": {
    "scrolled": true
   },
   "outputs": [],
   "source": [
    "sc.pl.umap(mdata_subset, color=['celltype_hires'], ncols=1, size=10)"
   ]
  },
  {
   "cell_type": "code",
   "execution_count": null,
   "id": "5d09aff7",
   "metadata": {
    "scrolled": false
   },
   "outputs": [],
   "source": [
    "# recalculate nn\n",
    "sc.pp.neighbors(mdata_subset['rna'], use_rep=\"X_harmony\")\n",
    "sc.pp.neighbors(mdata_subset['prot'], use_rep=\"X_harmony\")\n",
    "\n",
    "\n",
    "mu.pp.neighbors(mdata_subset, key_added='wnn')\n",
    "\n",
    "mu.tl.umap(mdata_subset, neighbors_key='wnn', random_state=10)"
   ]
  },
  {
   "cell_type": "code",
   "execution_count": null,
   "id": "8502caff",
   "metadata": {},
   "outputs": [],
   "source": [
    "X = np.hstack([mdata_subset['rna'].obsm['X_harmony'], mdata_subset['prot'].obsm['X_harmony']])\n",
    "\n",
    "for r in (0.3, 0.5, 0.7):\n",
    "    key = f'subset_leiden_r{r:.1f}'\n",
    "    sc.tl.leiden(mdata_subset, neighbors_key='wnn', resolution=r, key_added=key, random_state=0)\n",
    "\n",
    "    y = mdata_subset.obs[key].to_numpy()\n",
    "    s = silhouette_score(X, y, metric='cosine')\n",
    "    print(f\"{key}: n_clusters={np.unique(y).size}  silhouette={s:.4f}\")\n",
    "\n",
    "    # UMAP\n",
    "    sc.pl.umap(mdata_subset, color=key, legend_loc='on data')\n",
    "\n",
    "    # RNA markers\n",
    "    mdata_subset['rna'].obs[key] = mdata_subset.obs[key].astype('category')\n",
    "    sc.tl.rank_genes_groups(mdata_subset['rna'], groupby=key, method='wilcoxon')\n",
    "    sc.pl.rank_genes_groups_dotplot(mdata_subset['rna'], n_genes=5, standard_scale='var',\n",
    "                                    swap_axes=True, dendrogram=False)"
   ]
  },
  {
   "cell_type": "code",
   "execution_count": null,
   "id": "6bb1d70a",
   "metadata": {},
   "outputs": [],
   "source": [
    "mdata_subset.obs['leiden_wnn_subcluster'] = mdata_subset.obs['subset_leiden_r0.5'].copy()\n",
    "mdata_subset[\"rna\"].obs[\"leiden_wnn_subcluster\"]=mdata_subset.obs[\"leiden_wnn_subcluster\"]"
   ]
  },
  {
   "cell_type": "code",
   "execution_count": null,
   "id": "cdfc09e6",
   "metadata": {
    "scrolled": true
   },
   "outputs": [],
   "source": [
    "sc.pl.umap(mdata_subset, color=[\"leiden_wnn_subcluster\",\"tissue\",\"rna:pct_counts_mt\",\n",
    "                               \"donor_id\"], ncols=1)"
   ]
  },
  {
   "cell_type": "code",
   "execution_count": null,
   "id": "3dd33541",
   "metadata": {
    "scrolled": false
   },
   "outputs": [],
   "source": [
    "marker_genes = [\"CD4_TotalSeqC\",\"CD8a_TotalSeqC\",\"CD3_TotalSeqC\",\"CD194_TotalSeqC\",\"CD20_TotalSeqC\",\n",
    "                \"CD45RA_TotalSeqC\",\"CD45RO_TotalSeqC\",\"CD16_TotalSeqC\",\"CD1c_TotalSeqC\",\"CD56_TotalSeqC\",\"CD14_TotalSeqC\",\n",
    "               \"CD27_TotalSeqC\",\"TIGIT_TotalSeqC\",\"CD25_TotalSeqC\",\"CD103_TotalSeqC\",\"CD62L_TotalSeqC\",\n",
    "               \"CD28_TotalSeqC\",\"CD127_TotalSeqC\",\"CD366_TotalSeqC\",\"CD11b_TotalSeqC\",\"CD314_TotalSeqC\",\"CD1c_TotalSeqC\",\n",
    "               \"CD40_TotalSeqC\",\"CD14_TotalSeqC\"]\n",
    "mdata_subset[\"prot\"].obs[\"leiden_wnn_subcluster\"]=mdata_subset.obs[\"leiden_wnn_subcluster\"]\n",
    "sc.tl.dendrogram(mdata_subset[\"prot\"], 'leiden_wnn_subcluster')\n",
    "sc.pl.dotplot(mdata_subset[\"prot\"], marker_genes, groupby='leiden_wnn_subcluster', dendrogram=False, use_raw=False\n",
    "              ,standard_scale=\"var\"\n",
    "             );"
   ]
  },
  {
   "cell_type": "code",
   "execution_count": null,
   "id": "b9513be4",
   "metadata": {},
   "outputs": [],
   "source": [
    "marker_genes = [\"MKI67\",\"CD14\",\"PTPRC\",\"CD74\",\"THY1\",\"HLA-G\",\"NOTUM\",\"XCR1\",\"SELL\",\"CCR7\",\"NCAM1\",\"S100A8\",\n",
    "               \"CD163\",\"CLEC10A\",\"CLEC4C\",\"LILRB4\",\"BTLA\",\"CLEC9A\",\"CXCL9\",\"CD3E\",\"NCAM1\",\"LYZ\",\n",
    "               \"FN1\",\"FTL\",\"ITGAX\",\"SPP1\",\"IDO1\",\"THY1\",\"HLA-G\",\"SLAMF7\",\"CXCL10\"]\n",
    "mdata_subset[\"rna\"].obs[\"leiden_wnn_subcluster\"]=mdata_subset.obs[\"leiden_wnn_subcluster\"]\n",
    "sc.tl.dendrogram(mdata_subset[\"rna\"], 'leiden_wnn_subcluster')\n",
    "sc.pl.dotplot(mdata_subset[\"rna\"], marker_genes, groupby='leiden_wnn_subcluster', dendrogram=False, use_raw=True,\n",
    "              standard_scale=\"var\"\n",
    "             );"
   ]
  },
  {
   "cell_type": "code",
   "execution_count": null,
   "id": "d2d02f35",
   "metadata": {
    "scrolled": true
   },
   "outputs": [],
   "source": [
    "mu.pl.embedding(mdata_subset, basis=\"X_umap\", frameon=False, color=[\"CD1c_TotalSeqC\",\"CD14_TotalSeqC\",\"CD45_TotalSeqC\",\n",
    "                                                                   \"CD68\",\"CD1C\",\"MKI67\",\"ITGAM\",\"CD207\",\"CD103_TotalSeqC\",\n",
    "                                                                   \"CCR7\",\"SELL\",\"CD11c_TotalSeqC\",\"CXCL9\",\"WARS\",\"SLAMF7\",\n",
    "                                                                   \"CXCL10\",\"CD3_TotalSeqC\"],\n",
    "                ncols=2, color_map=\"YlOrRd\")"
   ]
  },
  {
   "cell_type": "code",
   "execution_count": null,
   "id": "ad980a83",
   "metadata": {},
   "outputs": [],
   "source": [
    "new_cluster_names = {\n",
    "    \"0\": \"DC1\", \"1\": \"DC1\", \"2\": \"DC1\",\"3\": \"DC1_prol\", \"4\": \"DC_Tcell_doublet\", \"5\": \"DC_MAC_doublet\"\n",
    "}\n",
    "\n",
    "\n",
    "mdata_subset.obs['celltype_subset'] = mdata_subset.obs.leiden_wnn_subcluster.astype(\"str\").values\n",
    "mdata_subset.obs.celltype_subset = mdata_subset.obs.celltype_subset.replace(new_cluster_names)\n",
    "mdata_subset.obs.celltype_subset = mdata_subset.obs.celltype_subset.astype(\"category\")"
   ]
  },
  {
   "cell_type": "code",
   "execution_count": null,
   "id": "cb00e4a7",
   "metadata": {
    "scrolled": true
   },
   "outputs": [],
   "source": [
    "mu.pl.embedding(mdata_subset, basis=\"X_umap\", frameon=False, color=[\"celltype_subset\"],\n",
    "                ncols=2, color_map=\"YlOrRd\")"
   ]
  },
  {
   "cell_type": "code",
   "execution_count": null,
   "id": "243b6167",
   "metadata": {},
   "outputs": [],
   "source": [
    "mdata.obs[\"celltype_hires\"] = mdata.obs[\"celltype_hires\"].cat.add_categories(\"DC_MAC_doublet\")\n",
    "mdata.obs[\"celltype_hires\"] = mdata.obs[\"celltype_hires\"].cat.add_categories(\"DC1_prol\")\n",
    "mdata.obs[\"celltype_hires\"] = mdata.obs[\"celltype_hires\"].cat.add_categories(\"DC_Tcell_doublet\")\n",
    "\n",
    "for cell_id, celltype_subset in zip(mdata_subset.obs_names, mdata_subset.obs[\"celltype_subset\"]):\n",
    "    if cell_id in mdata.obs.index:\n",
    "        mdata.obs.loc[cell_id, \"celltype_hires\"] = celltype_subset"
   ]
  },
  {
   "cell_type": "code",
   "execution_count": null,
   "id": "0e90f52e",
   "metadata": {
    "scrolled": true
   },
   "outputs": [],
   "source": [
    "sc.pl.umap(mdata, color=['celltype_hires', \"tissue\"], ncols=1, size=10)"
   ]
  },
  {
   "cell_type": "markdown",
   "id": "fb4ec015",
   "metadata": {},
   "source": [
    "## subcluster Granulo"
   ]
  },
  {
   "cell_type": "code",
   "execution_count": null,
   "id": "7cfcf934",
   "metadata": {},
   "outputs": [],
   "source": [
    "mdata_subset = mdata[mdata.obs['celltype_hires'].isin([\"Granulo\"]),:]"
   ]
  },
  {
   "cell_type": "code",
   "execution_count": null,
   "id": "ed35bf43",
   "metadata": {
    "scrolled": true
   },
   "outputs": [],
   "source": [
    "# remove unused categories\n",
    "mdata_subset.obs['celltype_hires'] = mdata_subset.obs['celltype_hires'].cat.remove_unused_categories()"
   ]
  },
  {
   "cell_type": "code",
   "execution_count": null,
   "id": "660c16cc",
   "metadata": {
    "scrolled": true
   },
   "outputs": [],
   "source": [
    "sc.pl.umap(mdata_subset, color=['celltype_hires'], ncols=1, size=10)"
   ]
  },
  {
   "cell_type": "code",
   "execution_count": null,
   "id": "57d21f35",
   "metadata": {
    "scrolled": false
   },
   "outputs": [],
   "source": [
    "# recalculate nn\n",
    "sc.pp.neighbors(mdata_subset['rna'], use_rep=\"X_harmony\")\n",
    "sc.pp.neighbors(mdata_subset['prot'], use_rep=\"X_harmony\")\n",
    "\n",
    "\n",
    "mu.pp.neighbors(mdata_subset, key_added='wnn')\n",
    "\n",
    "mu.tl.umap(mdata_subset, neighbors_key='wnn', random_state=10)"
   ]
  },
  {
   "cell_type": "code",
   "execution_count": null,
   "id": "b36707e4",
   "metadata": {},
   "outputs": [],
   "source": [
    "X = np.hstack([mdata_subset['rna'].obsm['X_harmony'], mdata_subset['prot'].obsm['X_harmony']])\n",
    "\n",
    "for r in (0.3, 0.5, 0.7):\n",
    "    key = f'subset_leiden_r{r:.1f}'\n",
    "    sc.tl.leiden(mdata_subset, neighbors_key='wnn', resolution=r, key_added=key, random_state=0)\n",
    "\n",
    "    y = mdata_subset.obs[key].to_numpy()\n",
    "    s = silhouette_score(X, y, metric='cosine')\n",
    "    print(f\"{key}: n_clusters={np.unique(y).size}  silhouette={s:.4f}\")\n",
    "\n",
    "    # UMAP\n",
    "    sc.pl.umap(mdata_subset, color=key, legend_loc='on data')\n",
    "\n",
    "    # RNA markers\n",
    "    mdata_subset['rna'].obs[key] = mdata_subset.obs[key].astype('category')\n",
    "    sc.tl.rank_genes_groups(mdata_subset['rna'], groupby=key, method='wilcoxon')\n",
    "    sc.pl.rank_genes_groups_dotplot(mdata_subset['rna'], n_genes=5, standard_scale='var',\n",
    "                                    swap_axes=True, dendrogram=False)"
   ]
  },
  {
   "cell_type": "code",
   "execution_count": null,
   "id": "4e637ccc",
   "metadata": {},
   "outputs": [],
   "source": [
    "mdata_subset.obs['leiden_wnn_subcluster'] = mdata_subset.obs['subset_leiden_r0.5'].copy()\n",
    "mdata_subset[\"rna\"].obs[\"leiden_wnn_subcluster\"]=mdata_subset.obs[\"leiden_wnn_subcluster\"]"
   ]
  },
  {
   "cell_type": "code",
   "execution_count": null,
   "id": "5a4de0ce",
   "metadata": {
    "scrolled": true
   },
   "outputs": [],
   "source": [
    "sc.pl.umap(mdata_subset, color=[\"leiden_wnn_subcluster\",\"tissue\",\"rna:pct_counts_mt\",\n",
    "                               \"donor_id\"], ncols=1)"
   ]
  },
  {
   "cell_type": "code",
   "execution_count": null,
   "id": "eaff8fc3",
   "metadata": {
    "scrolled": false
   },
   "outputs": [],
   "source": [
    "marker_genes = [\"CD4_TotalSeqC\",\"CD8a_TotalSeqC\",\"CD3_TotalSeqC\",\"CD194_TotalSeqC\",\"CD20_TotalSeqC\",\n",
    "                \"CD45RA_TotalSeqC\",\"CD45RO_TotalSeqC\",\"CD16_TotalSeqC\",\"CD1c_TotalSeqC\",\"CD56_TotalSeqC\",\"CD14_TotalSeqC\",\n",
    "               \"CD27_TotalSeqC\",\"TIGIT_TotalSeqC\",\"CD25_TotalSeqC\",\"CD103_TotalSeqC\",\"CD62L_TotalSeqC\",\n",
    "               \"CD28_TotalSeqC\",\"CD127_TotalSeqC\",\"CD366_TotalSeqC\",\"CD11b_TotalSeqC\",\"CD314_TotalSeqC\",\"CD1c_TotalSeqC\",\n",
    "               \"CD40_TotalSeqC\",\"CD14_TotalSeqC\"]\n",
    "mdata_subset[\"prot\"].obs[\"leiden_wnn_subcluster\"]=mdata_subset.obs[\"leiden_wnn_subcluster\"]\n",
    "sc.tl.dendrogram(mdata_subset[\"prot\"], 'leiden_wnn_subcluster')\n",
    "sc.pl.dotplot(mdata_subset[\"prot\"], marker_genes, groupby='leiden_wnn_subcluster', dendrogram=False, use_raw=False\n",
    "              ,standard_scale=\"var\"\n",
    "             );"
   ]
  },
  {
   "cell_type": "code",
   "execution_count": null,
   "id": "167ac453",
   "metadata": {},
   "outputs": [],
   "source": [
    "marker_genes = [\"MKI67\",\"THY1\",\"CD14\",\"PTPRC\",\"IDO1\",\"FCGR3A\",\"MPO\",\"S100A8\",\"TPSAB1\"]\n",
    "mdata_subset[\"rna\"].obs[\"leiden_wnn_subcluster\"]=mdata_subset.obs[\"leiden_wnn_subcluster\"]\n",
    "sc.tl.dendrogram(mdata_subset[\"rna\"], 'leiden_wnn_subcluster')\n",
    "sc.pl.dotplot(mdata_subset[\"rna\"], marker_genes, groupby='leiden_wnn_subcluster', dendrogram=False, use_raw=True,\n",
    "              standard_scale=\"var\"\n",
    "             );"
   ]
  },
  {
   "cell_type": "code",
   "execution_count": null,
   "id": "4cda159c",
   "metadata": {
    "scrolled": true
   },
   "outputs": [],
   "source": [
    "mu.pl.embedding(mdata_subset, basis=\"X_umap\", frameon=False, color=[\"CD1c_TotalSeqC\",\"CD14_TotalSeqC\",\"CD45_TotalSeqC\",\n",
    "                                                                   \"CD68\",\"CD1C\",\"MKI67\",\"ITGAM\",\"CD207\",\"CD103_TotalSeqC\",\n",
    "                                                                   \"CCR7\",\"SELL\",\"CD11c_TotalSeqC\",\"CXCL9\",\"WARS\",\"SLAMF7\",\n",
    "                                                                   \"CXCL10\"],\n",
    "                ncols=2, color_map=\"YlOrRd\")"
   ]
  },
  {
   "cell_type": "code",
   "execution_count": null,
   "id": "846d842b",
   "metadata": {},
   "outputs": [],
   "source": [
    "new_cluster_names = {\n",
    "    \"0\": \"MAST\", \"1\": \"MAST\", \"2\": \"MAST\",\"3\": \"MAST_myelo_doublet\", \"4\": \"MAST_FIB_doublet\"\n",
    "}\n",
    "\n",
    "\n",
    "mdata_subset.obs['celltype_subset'] = mdata_subset.obs.leiden_wnn_subcluster.astype(\"str\").values\n",
    "mdata_subset.obs.celltype_subset = mdata_subset.obs.celltype_subset.replace(new_cluster_names)\n",
    "mdata_subset.obs.celltype_subset = mdata_subset.obs.celltype_subset.astype(\"category\")"
   ]
  },
  {
   "cell_type": "code",
   "execution_count": null,
   "id": "6f7898ea",
   "metadata": {
    "scrolled": true
   },
   "outputs": [],
   "source": [
    "mu.pl.embedding(mdata_subset, basis=\"X_umap\", frameon=False, color=[\"celltype_subset\"],\n",
    "                ncols=2, color_map=\"YlOrRd\")"
   ]
  },
  {
   "cell_type": "code",
   "execution_count": null,
   "id": "9bc66ea2",
   "metadata": {},
   "outputs": [],
   "source": [
    "mdata.obs[\"celltype_hires\"] = mdata.obs[\"celltype_hires\"].cat.add_categories(\"MAST\")\n",
    "mdata.obs[\"celltype_hires\"] = mdata.obs[\"celltype_hires\"].cat.add_categories(\"MAST_FIB_doublet\")\n",
    "mdata.obs[\"celltype_hires\"] = mdata.obs[\"celltype_hires\"].cat.add_categories(\"MAST_myelo_doublet\")\n",
    "for cell_id, celltype_subset in zip(mdata_subset.obs_names, mdata_subset.obs[\"celltype_subset\"]):\n",
    "    if cell_id in mdata.obs.index:\n",
    "        mdata.obs.loc[cell_id, \"celltype_hires\"] = celltype_subset"
   ]
  },
  {
   "cell_type": "code",
   "execution_count": null,
   "id": "1134cd29",
   "metadata": {
    "scrolled": true
   },
   "outputs": [],
   "source": [
    "sc.pl.umap(mdata, color=['celltype_hires', \"tissue\"], ncols=1, size=10)"
   ]
  },
  {
   "cell_type": "markdown",
   "id": "503b16fb",
   "metadata": {},
   "source": [
    "## subcluster fibroblasts"
   ]
  },
  {
   "cell_type": "code",
   "execution_count": null,
   "id": "16aa0316",
   "metadata": {},
   "outputs": [],
   "source": [
    "mdata_subset = mdata[mdata.obs['celltype_wnn'].isin([\"FIB\",\"FIB_Doublet\"]),:]"
   ]
  },
  {
   "cell_type": "code",
   "execution_count": null,
   "id": "a3c936d4",
   "metadata": {
    "scrolled": true
   },
   "outputs": [],
   "source": [
    "# remove unused categories\n",
    "mdata_subset.obs['celltype_wnn'] = mdata_subset.obs['celltype_wnn'].cat.remove_unused_categories()"
   ]
  },
  {
   "cell_type": "code",
   "execution_count": null,
   "id": "17f0c4c0",
   "metadata": {
    "scrolled": true
   },
   "outputs": [],
   "source": [
    "sc.pl.umap(mdata_subset, color=['celltype_wnn'], ncols=1, size=10)"
   ]
  },
  {
   "cell_type": "code",
   "execution_count": null,
   "id": "49fda36b",
   "metadata": {},
   "outputs": [],
   "source": [
    "mdata_subset[\"rna\"].obs[\"celltype_wnn\"] = mdata_subset.obs[\"celltype_wnn\"]"
   ]
  },
  {
   "cell_type": "code",
   "execution_count": null,
   "id": "335fffec",
   "metadata": {},
   "outputs": [],
   "source": [
    "adata_subset=mdata_subset[\"rna\"]"
   ]
  },
  {
   "cell_type": "code",
   "execution_count": null,
   "id": "6815614f",
   "metadata": {
    "scrolled": true
   },
   "outputs": [],
   "source": [
    "# recalculate nn\n",
    "sc.pp.neighbors(adata_subset, use_rep=\"X_harmony\")\n",
    "\n",
    "sc.tl.umap(adata_subset, random_state=10)"
   ]
  },
  {
   "cell_type": "code",
   "execution_count": null,
   "id": "dc5cb71c",
   "metadata": {},
   "outputs": [],
   "source": [
    "X = mdata_subset['rna'].obsm['X_harmony']\n",
    "\n",
    "for r in (0.3, 0.5, 0.7):\n",
    "    key = f'subset_leiden_r{r:.1f}'\n",
    "    sc.tl.leiden(adata_subset, neighbors_key='wnn', resolution=r, key_added=key, random_state=0)\n",
    "\n",
    "    y = adata_subset.obs[key].to_numpy()\n",
    "    s = silhouette_score(X, y, metric='cosine')\n",
    "    print(f\"{key}: n_clusters={np.unique(y).size}  silhouette={s:.4f}\")\n",
    "\n",
    "    # UMAP\n",
    "    sc.pl.umap(adata_subset, color=key, legend_loc='on data')\n",
    "\n",
    "    # RNA markers\n",
    "    adata_subset.obs[key] = adata_subset.obs[key].astype('category')\n",
    "    sc.tl.rank_genes_groups(adata_subset, groupby=key, method='wilcoxon')\n",
    "    sc.pl.rank_genes_groups_dotplot(adata_subset, n_genes=5, standard_scale='var',\n",
    "                                    swap_axes=True, dendrogram=False)"
   ]
  },
  {
   "cell_type": "code",
   "execution_count": null,
   "id": "43c13037",
   "metadata": {},
   "outputs": [],
   "source": [
    "adata_subset.obs['leiden_wnn_subcluster'] = adata_subset.obs['subset_leiden_r0.5'].copy()"
   ]
  },
  {
   "cell_type": "code",
   "execution_count": null,
   "id": "c1f2c399",
   "metadata": {
    "scrolled": true
   },
   "outputs": [],
   "source": [
    "sc.pl.umap(adata_subset, color=['celltype_wnn',\"leiden_wnn_subcluster\",\"tissue\",\"pct_counts_mt\",\n",
    "                               \"donor_id\",\"PRL\",\"CD82\",\"IGFBP1\",\"NREP\",\"UTY\"], ncols=2, size=10)"
   ]
  },
  {
   "cell_type": "code",
   "execution_count": null,
   "id": "5fa81752",
   "metadata": {
    "scrolled": true
   },
   "outputs": [],
   "source": [
    "sc.tl.rank_genes_groups(adata_subset, 'leiden_wnn_subcluster', method='wilcoxon')\n",
    "result = adata_subset.uns['rank_genes_groups']\n",
    "groups = result['names'].dtype.names\n",
    "pd.set_option('display.max_columns', 100)\n",
    "pd.DataFrame(\n",
    "    {group + '_' + key[:1]: result[key][group]\n",
    "    for group in groups for key in ['names']}).head(20)"
   ]
  },
  {
   "cell_type": "code",
   "execution_count": null,
   "id": "8055e52e",
   "metadata": {
    "scrolled": true
   },
   "outputs": [],
   "source": [
    "marker_genes = [\"PTPRC\",\"CD14\",\"CD74\",\"NCAM1\",\"CD3E\",\"TIMP3\",\"THY1\",\"UTY\",\"PRL\",\"IGFBP1\",\"PDGFRB\",\"NOTCH3\",\"ACTA2\",\"NREP\",\n",
    "               \"CCL21\",\"NOTUM\",\"HLA-G\",\"CCL8\",\"UTY\",\"SLPI\",\"VWF\",\"HLA-DRA\",\"LTB\",\"FCGR3A\",\"XCR1\",\"LYZ\",\"S100A8\",\"S100A9\",\n",
    "               \"APOD\",\"CFD\",\"COL18A1\"]\n",
    "sc.tl.dendrogram(adata_subset, 'leiden_wnn_subcluster')\n",
    "sc.pl.dotplot(adata_subset, marker_genes, groupby='leiden_wnn_subcluster', dendrogram=False,\n",
    "              use_raw=True, standard_scale=\"var\");"
   ]
  },
  {
   "cell_type": "code",
   "execution_count": null,
   "id": "a422717b",
   "metadata": {},
   "outputs": [],
   "source": [
    "new_cluster_names = {\n",
    "    \"0\": \"hpFib\", \"1\": \"hpFib\", \"2\": \"hpFib\", \"3\": \"hpFib\", \"4\": \"hpFib\", \"5\": \"hpFib\", \n",
    "    \"6\": \"decFIB\", \"7\": \"periFIB\", \"8\": \"FIB_Myelo_doublet\", \"9\": \"FIB_Lymph_doublet\",\n",
    "    \"10\": \"PLASMA\", \"11\": \"EpiCell\", \"12\": \"FIB_Myelo_doublet\", \"13\": \"Myelo_Lymphatic_doublet\", \n",
    "    \"14\": \"FIB_Lymph_doublet\", \"15\": \"FIB_Myelo_doublet\", \"16\": \"FIB_Myelo_doublet\", \"17\": \"FIB_Myelo_doublet\",\n",
    "    \"18\": \"FIB_Myelo_doublet\", \"19\": \"FIB_Myelo_doublet\"\n",
    "}\n",
    "\n",
    "adata_subset.obs['celltype_subset'] = adata_subset.obs.leiden_wnn_subcluster.astype(\"str\").values\n",
    "adata_subset.obs.celltype_subset = adata_subset.obs.celltype_subset.replace(new_cluster_names)\n",
    "adata_subset.obs.celltype_subset = adata_subset.obs.celltype_subset.astype(\"category\")"
   ]
  },
  {
   "cell_type": "code",
   "execution_count": null,
   "id": "f730519c",
   "metadata": {
    "scrolled": true
   },
   "outputs": [],
   "source": [
    "sc.pl.umap(adata_subset, color=[\"celltype_subset\"], ncols=1, size=10)"
   ]
  },
  {
   "cell_type": "code",
   "execution_count": null,
   "id": "c31c8f54",
   "metadata": {},
   "outputs": [],
   "source": [
    "# update categories\n",
    "mdata.obs[\"celltype_hires\"] = mdata.obs[\"celltype_hires\"].cat.add_categories(\"FIB_EVT_doublet\")\n",
    "mdata.obs[\"celltype_hires\"] = mdata.obs[\"celltype_hires\"].cat.add_categories(\"FIB_Lymph_doublet\")\n",
    "mdata.obs[\"celltype_hires\"] = mdata.obs[\"celltype_hires\"].cat.add_categories(\"FIB_Myelo_doublet\")\n",
    "mdata.obs[\"celltype_hires\"] = mdata.obs[\"celltype_hires\"].cat.add_categories(\"Myelo_Lymphatic_doublet\")\n",
    "mdata.obs[\"celltype_hires\"] = mdata.obs[\"celltype_hires\"].cat.add_categories(\"decFIB\")\n",
    "mdata.obs[\"celltype_hires\"] = mdata.obs[\"celltype_hires\"].cat.add_categories(\"hpFib\")\n",
    "mdata.obs[\"celltype_hires\"] = mdata.obs[\"celltype_hires\"].cat.add_categories(\"periFIB\")\n",
    "\n",
    "\n",
    "for cell_id, celltype_subset in zip(adata_subset.obs_names, adata_subset.obs[\"celltype_subset\"]):\n",
    "    if cell_id in mdata.obs.index:\n",
    "        mdata.obs.loc[cell_id, \"celltype_hires\"] = celltype_subset"
   ]
  },
  {
   "cell_type": "code",
   "execution_count": null,
   "id": "59ff6bcd",
   "metadata": {
    "scrolled": true
   },
   "outputs": [],
   "source": [
    "mdata.obs['celltype_hires'] = mdata.obs['celltype_hires'].cat.remove_unused_categories()\n",
    "sc.pl.umap(mdata, color=['celltype_hires', \"tissue\"], ncols=1, size=10)"
   ]
  },
  {
   "cell_type": "markdown",
   "id": "23422a4b",
   "metadata": {},
   "source": [
    "## subcluster decFIB"
   ]
  },
  {
   "cell_type": "code",
   "execution_count": null,
   "id": "b6b17ec2",
   "metadata": {},
   "outputs": [],
   "source": [
    "mdata_subset = mdata[mdata.obs['celltype_hires'].isin([\"decFIB\"]),:]"
   ]
  },
  {
   "cell_type": "code",
   "execution_count": null,
   "id": "508c95a6",
   "metadata": {
    "scrolled": true
   },
   "outputs": [],
   "source": [
    "# remove unused categories\n",
    "mdata_subset.obs['celltype_hires'] = mdata_subset.obs['celltype_hires'].cat.remove_unused_categories()"
   ]
  },
  {
   "cell_type": "code",
   "execution_count": null,
   "id": "238092e5",
   "metadata": {
    "scrolled": true
   },
   "outputs": [],
   "source": [
    "sc.pl.umap(mdata_subset, color=['celltype_hires'], ncols=1, size=10)"
   ]
  },
  {
   "cell_type": "code",
   "execution_count": null,
   "id": "a865f802",
   "metadata": {},
   "outputs": [],
   "source": [
    "adata_subset=mdata_subset[\"rna\"]"
   ]
  },
  {
   "cell_type": "code",
   "execution_count": null,
   "id": "73f45f83",
   "metadata": {
    "scrolled": true
   },
   "outputs": [],
   "source": [
    "# recalculate nn\n",
    "sc.pp.neighbors(adata_subset, use_rep=\"X_harmony\")\n",
    "\n",
    "sc.tl.umap(adata_subset, random_state=10)"
   ]
  },
  {
   "cell_type": "code",
   "execution_count": null,
   "id": "95752bcb",
   "metadata": {},
   "outputs": [],
   "source": [
    "X = mdata_subset['rna'].obsm['X_harmony']\n",
    "\n",
    "for r in (0.3, 0.5, 0.7):\n",
    "    key = f'subset_leiden_r{r:.1f}'\n",
    "    sc.tl.leiden(adata_subset, neighbors_key='wnn', resolution=r, key_added=key, random_state=0)\n",
    "\n",
    "    y = adata_subset.obs[key].to_numpy()\n",
    "    s = silhouette_score(X, y, metric='cosine')\n",
    "    print(f\"{key}: n_clusters={np.unique(y).size}  silhouette={s:.4f}\")\n",
    "\n",
    "    # UMAP\n",
    "    sc.pl.umap(adata_subset, color=key, legend_loc='on data')\n",
    "\n",
    "    # RNA markers\n",
    "    adata_subset.obs[key] = adata_subset.obs[key].astype('category')\n",
    "    sc.tl.rank_genes_groups(adata_subset, groupby=key, method='wilcoxon')\n",
    "    sc.pl.rank_genes_groups_dotplot(adata_subset, n_genes=5, standard_scale='var',\n",
    "                                    swap_axes=True, dendrogram=False)"
   ]
  },
  {
   "cell_type": "code",
   "execution_count": null,
   "id": "2f8ecb28",
   "metadata": {},
   "outputs": [],
   "source": [
    "adata_subset.obs['leiden_wnn_subcluster'] = adata_subset.obs['subset_leiden_r0.3'].copy()"
   ]
  },
  {
   "cell_type": "code",
   "execution_count": null,
   "id": "9ad6bc95",
   "metadata": {
    "scrolled": true
   },
   "outputs": [],
   "source": [
    "sc.pl.umap(adata_subset, color=[\"leiden_wnn_subcluster\",\"tissue\",\"pct_counts_mt\",\n",
    "                               \"donor_id\",\"PRL\",\"CD82\",\"IGFBP1\",\"TIMP3\",\"PTPRC\",\"NCAM1\",\n",
    "                               \"TAGLN\",\"SERPINF1\",\"PDGFRB\",\"NOTCH3\"], ncols=2, size=35)"
   ]
  },
  {
   "cell_type": "code",
   "execution_count": null,
   "id": "ec47dfb0",
   "metadata": {
    "scrolled": true
   },
   "outputs": [],
   "source": [
    "sc.tl.rank_genes_groups(adata_subset, 'leiden_wnn_subcluster', method='wilcoxon')\n",
    "result = adata_subset.uns['rank_genes_groups']\n",
    "groups = result['names'].dtype.names\n",
    "pd.set_option('display.max_columns', 100)\n",
    "pd.DataFrame(\n",
    "    {group + '_' + key[:1]: result[key][group]\n",
    "    for group in groups for key in ['names']}).head(20)"
   ]
  },
  {
   "cell_type": "code",
   "execution_count": null,
   "id": "0b42a754",
   "metadata": {},
   "outputs": [],
   "source": [
    "marker_genes = [\"PRL\",\"CD82\",\"IGFBP1\",\"TIMP3\",\"PTPRC\",\"NCAM1\",\n",
    "                               \"TAGLN\",\"SERPINF1\",\"LUM\",\"FTH1\",\"VEGFA\",\"ACTA2\"]\n",
    "sc.tl.dendrogram(adata_subset, 'leiden_wnn_subcluster')\n",
    "sc.pl.dotplot(adata_subset, marker_genes, groupby='leiden_wnn_subcluster', dendrogram=False,\n",
    "              use_raw=True, standard_scale=\"var\");"
   ]
  },
  {
   "cell_type": "code",
   "execution_count": null,
   "id": "dda61561",
   "metadata": {},
   "outputs": [],
   "source": [
    "new_cluster_names = {\n",
    "    \"0\": \"decFIB\", \"1\": \"hpFib\", \"2\": \"decFIB\", \"3\": \"decFIB\", \"4\": \"decFIB_immune_doublet\",\n",
    "    \"5\":\"hpFib\",\"6\":\"decFIB_immune_doublet\"\n",
    "}\n",
    "\n",
    "adata_subset.obs['celltype_subset'] = adata_subset.obs.leiden_wnn_subcluster.astype(\"str\").values\n",
    "adata_subset.obs.celltype_subset = adata_subset.obs.celltype_subset.replace(new_cluster_names)\n",
    "adata_subset.obs.celltype_subset = adata_subset.obs.celltype_subset.astype(\"category\")"
   ]
  },
  {
   "cell_type": "code",
   "execution_count": null,
   "id": "5d77fce4",
   "metadata": {
    "scrolled": true
   },
   "outputs": [],
   "source": [
    "sc.pl.umap(adata_subset, color=[\"celltype_subset\"], ncols=1, size=10)"
   ]
  },
  {
   "cell_type": "code",
   "execution_count": null,
   "id": "f3b67cce",
   "metadata": {},
   "outputs": [],
   "source": [
    "# update categories\n",
    "mdata.obs[\"celltype_hires\"] = mdata.obs[\"celltype_hires\"].cat.add_categories(\"decFIB_immune_doublet\")\n",
    "\n",
    "\n",
    "for cell_id, celltype_subset in zip(adata_subset.obs_names, adata_subset.obs[\"celltype_subset\"]):\n",
    "    if cell_id in mdata.obs.index:\n",
    "        mdata.obs.loc[cell_id, \"celltype_hires\"] = celltype_subset"
   ]
  },
  {
   "cell_type": "code",
   "execution_count": null,
   "id": "9e7d1c7d",
   "metadata": {
    "scrolled": true
   },
   "outputs": [],
   "source": [
    "mdata.obs['celltype_hires'] = mdata.obs['celltype_hires'].cat.remove_unused_categories()\n",
    "sc.pl.umap(mdata, color=['celltype_hires', \"tissue\"], ncols=1, size=10)"
   ]
  },
  {
   "cell_type": "markdown",
   "id": "794bd120",
   "metadata": {},
   "source": [
    "## subcluster mural cells"
   ]
  },
  {
   "cell_type": "code",
   "execution_count": null,
   "id": "984579ca",
   "metadata": {},
   "outputs": [],
   "source": [
    "mdata_subset = mdata[mdata.obs['celltype_hires'].isin([\"periFIB\"]),:]"
   ]
  },
  {
   "cell_type": "code",
   "execution_count": null,
   "id": "3b3778a4",
   "metadata": {
    "scrolled": true
   },
   "outputs": [],
   "source": [
    "# remove unused categories\n",
    "mdata_subset.obs['celltype_hires'] = mdata_subset.obs['celltype_hires'].cat.remove_unused_categories()"
   ]
  },
  {
   "cell_type": "code",
   "execution_count": null,
   "id": "09b06deb",
   "metadata": {
    "scrolled": true
   },
   "outputs": [],
   "source": [
    "sc.pl.umap(mdata_subset, color=['celltype_hires'], ncols=1, size=10)"
   ]
  },
  {
   "cell_type": "code",
   "execution_count": null,
   "id": "16d85d70",
   "metadata": {},
   "outputs": [],
   "source": [
    "adata_subset=mdata_subset[\"rna\"]"
   ]
  },
  {
   "cell_type": "code",
   "execution_count": null,
   "id": "91b34719",
   "metadata": {
    "scrolled": true
   },
   "outputs": [],
   "source": [
    "# recalculate nn\n",
    "sc.pp.neighbors(adata_subset, use_rep=\"X_harmony\")\n",
    "sc.tl.umap(adata_subset, random_state=10)"
   ]
  },
  {
   "cell_type": "code",
   "execution_count": null,
   "id": "bbef9331",
   "metadata": {},
   "outputs": [],
   "source": [
    "X = mdata_subset['rna'].obsm['X_harmony']\n",
    "\n",
    "for r in (0.3, 0.5, 0.7):\n",
    "    key = f'subset_leiden_r{r:.1f}'\n",
    "    sc.tl.leiden(adata_subset, neighbors_key='wnn', resolution=r, key_added=key, random_state=0)\n",
    "\n",
    "    y = adata_subset.obs[key].to_numpy()\n",
    "    s = silhouette_score(X, y, metric='cosine')\n",
    "    print(f\"{key}: n_clusters={np.unique(y).size}  silhouette={s:.4f}\")\n",
    "\n",
    "    # UMAP\n",
    "    sc.pl.umap(adata_subset, color=key, legend_loc='on data')\n",
    "\n",
    "    # RNA markers\n",
    "    adata_subset.obs[key] = adata_subset.obs[key].astype('category')\n",
    "    sc.tl.rank_genes_groups(adata_subset, groupby=key, method='wilcoxon')\n",
    "    sc.pl.rank_genes_groups_dotplot(adata_subset, n_genes=5, standard_scale='var',\n",
    "                                    swap_axes=True, dendrogram=False)"
   ]
  },
  {
   "cell_type": "code",
   "execution_count": null,
   "id": "278ad6ee",
   "metadata": {},
   "outputs": [],
   "source": [
    "adata_subset.obs['leiden_wnn_subcluster'] = adata_subset.obs['subset_leiden_r0.5'].copy()"
   ]
  },
  {
   "cell_type": "code",
   "execution_count": null,
   "id": "d7f0f22b",
   "metadata": {
    "scrolled": true
   },
   "outputs": [],
   "source": [
    "sc.pl.umap(adata_subset, color=[\"leiden_wnn_subcluster\",\"tissue\",\"pct_counts_mt\",\n",
    "                               \"donor_id\",\"PRL\",\"CD82\",\"IGFBP1\",\"TIMP3\",\"PTPRC\",\"NCAM1\",\n",
    "                               \"TAGLN\",\"SERPINF1\",\"PDGFRB\",\"NOTCH3\",\"ACTA2\",\"VEGFA\",\n",
    "                               \"MCAM\",\"MYH11\"], ncols=2, size=55)"
   ]
  },
  {
   "cell_type": "code",
   "execution_count": null,
   "id": "73194046",
   "metadata": {
    "scrolled": true
   },
   "outputs": [],
   "source": [
    "sc.tl.rank_genes_groups(adata_subset, 'leiden_wnn_subcluster', method='wilcoxon')\n",
    "result = adata_subset.uns['rank_genes_groups']\n",
    "groups = result['names'].dtype.names\n",
    "pd.set_option('display.max_columns', 100)\n",
    "pd.DataFrame(\n",
    "    {group + '_' + key[:1]: result[key][group]\n",
    "    for group in groups for key in ['names']}).head(20)"
   ]
  },
  {
   "cell_type": "code",
   "execution_count": null,
   "id": "ab12955e",
   "metadata": {
    "scrolled": true
   },
   "outputs": [],
   "source": [
    "sc.tl.rank_genes_groups(adata_subset, 'leiden_wnn_subcluster', method='wilcoxon')\n",
    "result = adata_subset.uns['rank_genes_groups']\n",
    "groups = result['names'].dtype.names\n",
    "pd.set_option('display.max_columns', 100)\n",
    "pd.DataFrame(\n",
    "    {group + '_' + key[:1]: result[key][group]\n",
    "    for group in groups for key in ['names']}).head(20)"
   ]
  },
  {
   "cell_type": "code",
   "execution_count": null,
   "id": "2d30c7c1",
   "metadata": {
    "scrolled": true
   },
   "outputs": [],
   "source": [
    "marker_genes = [\"PTPRC\",\"SOD2\",\"FTH1\",\"CD68\",\"CTSL\",\"DCN\",\"RND3\",\"PLIN2\",\"VEGFA\",\"NFKBIA\",\n",
    "               \"ACTA2\",\"TAGLN\",\"THY1\",\"CALD1\",\"TPM2\",\"MYLK\",\"MYL9\",\"TPM1\",\"MCAM\",\"NOTCH3\",\n",
    "               \"CSPG4\",\"KCNJ8\",\"CD14\",\"TAGLN\",\"SERPING1\",\"JUN\"]\n",
    "sc.tl.dendrogram(adata_subset, 'leiden_wnn_subcluster')\n",
    "sc.pl.dotplot(adata_subset, marker_genes, groupby='leiden_wnn_subcluster', dendrogram=False,\n",
    "              use_raw=True\n",
    "              , standard_scale = \"var\"\n",
    "             );"
   ]
  },
  {
   "cell_type": "code",
   "execution_count": null,
   "id": "0eb7d706",
   "metadata": {},
   "outputs": [],
   "source": [
    "marker_genes = [\"PTPRC\",\"SOD2\",\"FTH1\",\"CD68\",\"CTSL\",\"DCN\",\"RND3\",\"PLIN2\",\"VEGFA\",\"NFKBIA\",\n",
    "               \"ACTA2\",\"TAGLN\",\"THY1\",\"CALD1\",\"TPM2\",\"MYLK\",\"MYL9\",\"TPM1\",\"MCAM\",\"NOTCH3\",\n",
    "               \"CSPG4\",\"KCNJ8\",\"COL18A1\",\"MMP14\",\"IGF1\",\"PDGFRA\",\"PDGFRB\",\"IGFBP1\",\"PRL\",\"CD82\",\n",
    "               \"UTY\",\"HLA-G\",\"CD14\",\"CFD\",\"APOD\",\"RGS5\",\"LGALS3\",\"FTL\",\"GPNMB\"]\n",
    "sc.tl.dendrogram(adata_subset, 'leiden_wnn_subcluster')\n",
    "sc.pl.dotplot(adata_subset, marker_genes, groupby='leiden_wnn_subcluster', dendrogram=False,\n",
    "              use_raw=True\n",
    "              , standard_scale = \"var\"\n",
    "             );"
   ]
  },
  {
   "cell_type": "code",
   "execution_count": null,
   "id": "0ffe7f7e",
   "metadata": {},
   "outputs": [],
   "source": [
    "new_cluster_names = {\n",
    "    \"0\": \"MURAL\", \"1\": \"MURAL\", \"2\":\"MURAL\",\"3\":\"fetFIB_doublets\",\"4\":\"decFIB\",\"5\":\"murFIB_doublets\",\"6\":\"murFIB_doublets\"}\n",
    "\n",
    "adata_subset.obs['celltype_subset'] = adata_subset.obs.leiden_wnn_subcluster.astype(\"str\").values\n",
    "adata_subset.obs.celltype_subset = adata_subset.obs.celltype_subset.replace(new_cluster_names)\n",
    "adata_subset.obs.celltype_subset = adata_subset.obs.celltype_subset.astype(\"category\")"
   ]
  },
  {
   "cell_type": "code",
   "execution_count": null,
   "id": "b119f49f",
   "metadata": {
    "scrolled": true
   },
   "outputs": [],
   "source": [
    "sc.pl.umap(adata_subset, color=[\"celltype_subset\"], ncols=1)"
   ]
  },
  {
   "cell_type": "code",
   "execution_count": null,
   "id": "9272255e",
   "metadata": {},
   "outputs": [],
   "source": [
    "# update categories\n",
    "mdata.obs[\"celltype_hires\"] = mdata.obs[\"celltype_hires\"].cat.add_categories(\"murFIB_doublets\")\n",
    "mdata.obs[\"celltype_hires\"] = mdata.obs[\"celltype_hires\"].cat.add_categories(\"fetFIB_doublets\")\n",
    "mdata.obs[\"celltype_hires\"] = mdata.obs[\"celltype_hires\"].cat.add_categories(\"PERI\")\n",
    "mdata.obs[\"celltype_hires\"] = mdata.obs[\"celltype_hires\"].cat.add_categories(\"SMC\")\n",
    "mdata.obs[\"celltype_hires\"] = mdata.obs[\"celltype_hires\"].cat.add_categories(\"MURAL\")\n",
    "\n",
    "for cell_id, celltype_subset in zip(adata_subset.obs_names, adata_subset.obs[\"celltype_subset\"]):\n",
    "    if cell_id in mdata.obs.index:\n",
    "        mdata.obs.loc[cell_id, \"celltype_hires\"] = celltype_subset"
   ]
  },
  {
   "cell_type": "code",
   "execution_count": null,
   "id": "d5672231",
   "metadata": {
    "scrolled": true
   },
   "outputs": [],
   "source": [
    "mdata.obs['celltype_hires'] = mdata.obs['celltype_hires'].cat.remove_unused_categories()\n",
    "sc.pl.umap(mdata, color=['celltype_hires', \"tissue\"], ncols=1, size=10)"
   ]
  },
  {
   "cell_type": "markdown",
   "id": "4ab4b42b",
   "metadata": {},
   "source": [
    "## subcluster hpFib"
   ]
  },
  {
   "cell_type": "code",
   "execution_count": null,
   "id": "4c194b89",
   "metadata": {},
   "outputs": [],
   "source": [
    "mdata_subset = mdata[mdata.obs['celltype_hires'].isin([\"hpFib\"]),:]"
   ]
  },
  {
   "cell_type": "code",
   "execution_count": null,
   "id": "1ef9e554",
   "metadata": {
    "scrolled": true
   },
   "outputs": [],
   "source": [
    "# remove unused categories\n",
    "mdata_subset.obs['celltype_hires'] = mdata_subset.obs['celltype_hires'].cat.remove_unused_categories()"
   ]
  },
  {
   "cell_type": "code",
   "execution_count": null,
   "id": "8061b8cc",
   "metadata": {
    "scrolled": true
   },
   "outputs": [],
   "source": [
    "sc.pl.umap(mdata_subset, color=['celltype_hires'], ncols=1, size=10)"
   ]
  },
  {
   "cell_type": "code",
   "execution_count": null,
   "id": "204c5ee1",
   "metadata": {},
   "outputs": [],
   "source": [
    "adata_subset=mdata_subset[\"rna\"]"
   ]
  },
  {
   "cell_type": "code",
   "execution_count": null,
   "id": "96414871",
   "metadata": {
    "scrolled": true
   },
   "outputs": [],
   "source": [
    "# recalculate nn\n",
    "sc.pp.neighbors(adata_subset, use_rep=\"X_harmony\")\n",
    "\n",
    "sc.tl.umap(adata_subset, random_state=10)"
   ]
  },
  {
   "cell_type": "code",
   "execution_count": null,
   "id": "8f4c98cf",
   "metadata": {},
   "outputs": [],
   "source": [
    "X = mdata_subset['rna'].obsm['X_harmony']\n",
    "\n",
    "for r in (0.3, 0.5, 0.7):\n",
    "    key = f'subset_leiden_r{r:.1f}'\n",
    "    sc.tl.leiden(adata_subset, neighbors_key='wnn', resolution=r, key_added=key, random_state=0)\n",
    "\n",
    "    y = adata_subset.obs[key].to_numpy()\n",
    "    s = silhouette_score(X, y, metric='cosine')\n",
    "    print(f\"{key}: n_clusters={np.unique(y).size}  silhouette={s:.4f}\")\n",
    "\n",
    "    # UMAP\n",
    "    sc.pl.umap(adata_subset, color=key, legend_loc='on data')\n",
    "\n",
    "    # RNA markers\n",
    "    adata_subset.obs[key] = adata_subset.obs[key].astype('category')\n",
    "    sc.tl.rank_genes_groups(adata_subset, groupby=key, method='wilcoxon')\n",
    "    sc.pl.rank_genes_groups_dotplot(adata_subset, n_genes=5, standard_scale='var',\n",
    "                                    swap_axes=True, dendrogram=False)"
   ]
  },
  {
   "cell_type": "code",
   "execution_count": null,
   "id": "1549541b",
   "metadata": {},
   "outputs": [],
   "source": [
    "adata_subset.obs['leiden_wnn_subcluster'] = adata_subset.obs['subset_leiden_r0.3'].copy()"
   ]
  },
  {
   "cell_type": "code",
   "execution_count": null,
   "id": "dc6344af",
   "metadata": {
    "scrolled": true
   },
   "outputs": [],
   "source": [
    "sc.pl.umap(adata_subset, color=[\"leiden_wnn_subcluster\",\"tissue\",\"pct_counts_mt\",\n",
    "                               \"donor_id\",\"PRL\",\"CD82\",\"IGFBP1\",\"TIMP3\",\"PTPRC\",\"NCAM1\",\n",
    "                               \"TAGLN\",\"SERPINF1\",\"PDGFRB\",\"NOTCH3\",\"ACTA2\",\"VEGFA\",\n",
    "                               \"MCAM\",\"MYH11\",\"PDGFRA\",\"PTGDS\",\"APOD\",\"PLA2G2A\"], ncols=2, size=25)"
   ]
  },
  {
   "cell_type": "code",
   "execution_count": null,
   "id": "1c92ef54",
   "metadata": {
    "scrolled": true
   },
   "outputs": [],
   "source": [
    "sc.tl.rank_genes_groups(adata_subset, 'leiden_wnn_subcluster', method='wilcoxon')\n",
    "result = adata_subset.uns['rank_genes_groups']\n",
    "groups = result['names'].dtype.names\n",
    "pd.set_option('display.max_columns', 100)\n",
    "pd.DataFrame(\n",
    "    {group + '_' + key[:1]: result[key][group]\n",
    "    for group in groups for key in ['names']}).head(20)"
   ]
  },
  {
   "cell_type": "code",
   "execution_count": null,
   "id": "4201c92c",
   "metadata": {},
   "outputs": [],
   "source": [
    "marker_genes = [\"PTPRC\",\"SOD2\",\"FTH1\",\"CD68\",\"CTSL\",\"DCN\",\"RND3\",\"PLIN2\",\"VEGFA\",\"NFKBIA\",\n",
    "               \"ACTA2\",\"TAGLN\",\"THY1\",\"CALD1\",\"TPM2\",\"MYLK\",\"MYL9\",\"TPM1\",\"MCAM\",\"NOTCH3\",\n",
    "               \"CSPG4\",\"KCNJ8\",\n",
    "               \"CFD\", \"FAP\", \"PDGFRA\", \"LGR5\", \"CD55\", \"SFRP2\", \"LUM\", \"VCAN\", \"FBLN1\", \"SERPING1\",\n",
    "                \"MDK\",\n",
    "               \"COL18A1\",\"ACTA2\",\"MYH11\",\"POSTN\",\"CD9\",\"MCAM\",\"PDGFRB\",\"RGS5\",\"APOD\",\"PTGDS\",\"PLA2G2A\",\n",
    "               \"LUM\",\"TIMP3\",\"DCN\",\"IGFBP1\",\"ARG1\",\"CD82\",\"PRL\",\"CD14\",\"LYVE1\"]\n",
    "sc.tl.dendrogram(adata_subset, 'leiden_wnn_subcluster')\n",
    "sc.pl.dotplot(adata_subset, marker_genes, groupby='leiden_wnn_subcluster', dendrogram=False,\n",
    "              use_raw=True\n",
    "              #, standard_scale = \"var\"\n",
    "             );"
   ]
  },
  {
   "cell_type": "code",
   "execution_count": null,
   "id": "b170a45a",
   "metadata": {},
   "outputs": [],
   "source": [
    "new_cluster_names = {\n",
    "    \"0\": \"hpFib\", \"1\": \"hpFib\", \"2\": \"hpFib\", \"3\": \"hpFib\", \"4\":\"hpFib\"}\n",
    "\n",
    "adata_subset.obs['celltype_subset'] = adata_subset.obs.leiden_wnn_subcluster.astype(\"str\").values\n",
    "adata_subset.obs.celltype_subset = adata_subset.obs.celltype_subset.replace(new_cluster_names)\n",
    "adata_subset.obs.celltype_subset = adata_subset.obs.celltype_subset.astype(\"category\")"
   ]
  },
  {
   "cell_type": "code",
   "execution_count": null,
   "id": "85e6fbbf",
   "metadata": {
    "scrolled": true
   },
   "outputs": [],
   "source": [
    "sc.pl.umap(adata_subset, color=[\"celltype_subset\"], ncols=1, size=10)"
   ]
  },
  {
   "cell_type": "code",
   "execution_count": null,
   "id": "5df112bf",
   "metadata": {},
   "outputs": [],
   "source": [
    "for cell_id, celltype_subset in zip(adata_subset.obs_names, adata_subset.obs[\"celltype_subset\"]):\n",
    "    if cell_id in mdata.obs.index:\n",
    "        mdata.obs.loc[cell_id, \"celltype_hires\"] = celltype_subset"
   ]
  },
  {
   "cell_type": "code",
   "execution_count": null,
   "id": "4ebb9b6c",
   "metadata": {
    "scrolled": true
   },
   "outputs": [],
   "source": [
    "mdata.obs['celltype_hires'] = mdata.obs['celltype_hires'].cat.remove_unused_categories()\n",
    "sc.pl.umap(mdata, color=['celltype_hires', \"tissue\"], ncols=1, size=10)"
   ]
  },
  {
   "cell_type": "markdown",
   "id": "8244ad9d",
   "metadata": {},
   "source": [
    "## investigate new FIB clusters"
   ]
  },
  {
   "cell_type": "code",
   "execution_count": null,
   "id": "95ab13ec",
   "metadata": {},
   "outputs": [],
   "source": [
    "mdata_subset = mdata[mdata.obs['celltype_hires'].isin([\"hpFib\",\"decFIB\",\"MURAL\"]),:]"
   ]
  },
  {
   "cell_type": "code",
   "execution_count": null,
   "id": "c8c88e88",
   "metadata": {
    "scrolled": true
   },
   "outputs": [],
   "source": [
    "# remove unused categories\n",
    "mdata_subset.obs['celltype_hires'] = mdata_subset.obs['celltype_hires'].cat.remove_unused_categories()"
   ]
  },
  {
   "cell_type": "code",
   "execution_count": null,
   "id": "777c2777",
   "metadata": {
    "scrolled": true
   },
   "outputs": [],
   "source": [
    "sc.pl.umap(mdata_subset, color=['celltype_hires'], ncols=1, size=10)"
   ]
  },
  {
   "cell_type": "code",
   "execution_count": null,
   "id": "23083acf",
   "metadata": {},
   "outputs": [],
   "source": [
    "mdata_subset[\"rna\"].obs[\"celltype_hires\"] = mdata_subset.obs[\"celltype_hires\"]\n",
    "adata_subset=mdata_subset[\"rna\"]"
   ]
  },
  {
   "cell_type": "code",
   "execution_count": null,
   "id": "9efd3ec4",
   "metadata": {
    "scrolled": true
   },
   "outputs": [],
   "source": [
    "# recalculate nn\n",
    "sc.pp.neighbors(adata_subset, use_rep=\"X_harmony\")"
   ]
  },
  {
   "cell_type": "code",
   "execution_count": null,
   "id": "102d5ebb",
   "metadata": {},
   "outputs": [],
   "source": [
    "sc.tl.umap(adata_subset, random_state=10)"
   ]
  },
  {
   "cell_type": "code",
   "execution_count": null,
   "id": "063b93f8",
   "metadata": {},
   "outputs": [],
   "source": [
    "sc.pl.umap(adata_subset, color=[\"celltype_hires\",\"tissue\",\"pct_counts_mt\",\n",
    "                               \"donor_id\",\"PRL\",\"CD82\",\"IL15\",\"IGFBP5\",\"IGFBP1\",\"TIMP3\",\"PTPRC\",\"NCAM1\",\n",
    "                               \"TAGLN\",\"SERPINF1\",\"PDGFRB\",\"NOTCH3\",\"ACTA2\",\"VEGFA\",\n",
    "                               \"MCAM\",\"MYH11\",\"PDGFRA\",\"PTGDS\",\"APOD\",\"PLA2G2A\"], ncols=2, size=25)"
   ]
  },
  {
   "cell_type": "code",
   "execution_count": null,
   "id": "50b144d9",
   "metadata": {
    "scrolled": true
   },
   "outputs": [],
   "source": [
    "sc.tl.rank_genes_groups(adata_subset, 'celltype_hires', method='wilcoxon')\n",
    "result = adata_subset.uns['rank_genes_groups']\n",
    "groups = result['names'].dtype.names\n",
    "pd.set_option('display.max_columns', 100)\n",
    "pd.DataFrame(\n",
    "    {group + '_' + key[:1]: result[key][group]\n",
    "    for group in groups for key in ['names']}).head(20)"
   ]
  },
  {
   "cell_type": "code",
   "execution_count": null,
   "id": "cbb3279c",
   "metadata": {
    "scrolled": true
   },
   "outputs": [],
   "source": [
    "marker_genes = {\"hpFib\":[\"CFD\", \"FAP\", \"PDGFRA\", \"LGR5\", \"CD55\", \"SFRP2\", \"LUM\", \"VCAN\", \"FBLN1\",\n",
    "                          \"SERPING1\", \"MDK\"],\n",
    "               \"pericytes\":[\"CSPG4\", \"PDGFRB\", \"THY1\", \"MCAM\", \"RGS5\", \"TPM2\", \"NDUFA4L2\",\n",
    "                            \"TGFB1\", \"KCNJ8\", \"FRZB\", \"CD9\", \"GJA4\", \"PTP4A3\", \"NOTCH3\", \"COL18A1\"],\n",
    "               \"myofib\":[\"ACTA2\", \"POSTN\", \"CTSK\", \"DCN\"],\n",
    "               \"smooth-muscle\":[\"MYL9\", \"MYH11\", \"SMTN\", \"SMTNL1\", \"SMTNL2\", \"CNN1\", \"TAGLN\",\n",
    "                                \"TPM2\",\"COL4A1\"],\n",
    "               \"other\":[\"IL1RL1\", \"MMP2\", \"PMEL\", \"VEGFA\", \"MMP14\"],\n",
    "               \"decid\":[\"TIMP3\",\"PRL\",\"ARG1\",\"CD82\",\"IGFBP1\",\"PRLR\"],\n",
    "               \"undecid\":[\"IL15\",\"IGFBP5\",\"IGF1\",\"PGR\",],\n",
    "               \"PERI\":[\"SOD2\",\"FTH1\",\"CD68\",\"CTSL\",\"RND3\",\"PLIN2\",\"NFKBIA\",\"COL18A1\"]}\n",
    "sc.tl.dendrogram(adata_subset, 'celltype_hires')\n",
    "sc.pl.dotplot(adata_subset, marker_genes, groupby='celltype_hires', dendrogram=True,\n",
    "              use_raw=True, swap_axes = True,\n",
    "               standard_scale = \"var\",\n",
    "              save=\"FIB_subtypes-2024-01-24.pdf\"\n",
    "             );"
   ]
  },
  {
   "cell_type": "markdown",
   "id": "21d4e8fb",
   "metadata": {},
   "source": [
    "## subcluster epithelial"
   ]
  },
  {
   "cell_type": "code",
   "execution_count": null,
   "id": "bc7c7d07",
   "metadata": {},
   "outputs": [],
   "source": [
    "mdata[\"rna\"].obs[\"celltype_wnn\"] = mdata.obs[\"celltype_wnn\"]"
   ]
  },
  {
   "cell_type": "code",
   "execution_count": null,
   "id": "c156ac5c",
   "metadata": {},
   "outputs": [],
   "source": [
    "mdata_subset = mdata[mdata.obs['celltype_wnn'].isin([\"EpiCell\"]),:]"
   ]
  },
  {
   "cell_type": "code",
   "execution_count": null,
   "id": "73d58805",
   "metadata": {
    "scrolled": true
   },
   "outputs": [],
   "source": [
    "# remove unused categories\n",
    "mdata_subset.obs['celltype_wnn'] = mdata_subset.obs['celltype_wnn'].cat.remove_unused_categories()"
   ]
  },
  {
   "cell_type": "code",
   "execution_count": null,
   "id": "dd24482d",
   "metadata": {
    "scrolled": true
   },
   "outputs": [],
   "source": [
    "sc.pl.umap(mdata_subset, color=['celltype_wnn'], ncols=1, size=10)"
   ]
  },
  {
   "cell_type": "code",
   "execution_count": null,
   "id": "db9c1426",
   "metadata": {},
   "outputs": [],
   "source": [
    "adata_subset=mdata_subset[\"rna\"]"
   ]
  },
  {
   "cell_type": "code",
   "execution_count": null,
   "id": "eeb0421c",
   "metadata": {
    "scrolled": true
   },
   "outputs": [],
   "source": [
    "# recalculate nn\n",
    "sc.pp.neighbors(adata_subset, use_rep=\"X_harmony\")\n",
    "sc.tl.umap(adata_subset, random_state=10)"
   ]
  },
  {
   "cell_type": "code",
   "execution_count": null,
   "id": "d3455ede",
   "metadata": {},
   "outputs": [],
   "source": [
    "adata_subset"
   ]
  },
  {
   "cell_type": "code",
   "execution_count": null,
   "id": "8befbfed",
   "metadata": {},
   "outputs": [],
   "source": [
    "X = mdata_subset['rna'].obsm['X_harmony']\n",
    "\n",
    "for r in (0.3, 0.5, 0.7):\n",
    "    key = f'subset_leiden_r{r:.1f}'\n",
    "    sc.tl.leiden(adata_subset, neighbors_key='wnn', resolution=r, key_added=key, random_state=0)\n",
    "\n",
    "    y = adata_subset.obs[key].to_numpy()\n",
    "    s = silhouette_score(X, y, metric='cosine')\n",
    "    print(f\"{key}: n_clusters={np.unique(y).size}  silhouette={s:.4f}\")\n",
    "\n",
    "    # UMAP\n",
    "    sc.pl.umap(adata_subset, color=key, legend_loc='on data')\n",
    "\n",
    "    # RNA markers\n",
    "    adata_subset.obs[key] = adata_subset.obs[key].astype('category')\n",
    "    sc.tl.rank_genes_groups(adata_subset, groupby=key, method='wilcoxon')\n",
    "    sc.pl.rank_genes_groups_dotplot(adata_subset, n_genes=5, standard_scale='var',\n",
    "                                    swap_axes=True, dendrogram=False)"
   ]
  },
  {
   "cell_type": "code",
   "execution_count": null,
   "id": "86dd6f72",
   "metadata": {},
   "outputs": [],
   "source": [
    "adata_subset.obs['leiden_wnn_subcluster'] = adata_subset.obs['subset_leiden_r0.7'].copy()"
   ]
  },
  {
   "cell_type": "code",
   "execution_count": null,
   "id": "5011caf0",
   "metadata": {
    "scrolled": true
   },
   "outputs": [],
   "source": [
    "sc.pl.umap(adata_subset, color=['celltype_wnn',\"leiden_wnn_subcluster\",\"tissue\",\"pct_counts_mt\",\n",
    "                               \"donor_id\",\"UTY\",\"NOTUM\",\"HLA-G\",\"CGA\",\"SLPI\",\"AOC1\",\"PRG2\",\"MKI67\",\n",
    "                               \"ENDOU\",\"NOTCH1\",\"VIM\"], ncols=2, size=15)"
   ]
  },
  {
   "cell_type": "code",
   "execution_count": null,
   "id": "e6648b41",
   "metadata": {},
   "outputs": [],
   "source": [
    "adata_subset.uns['log1p'][\"base\"] = None"
   ]
  },
  {
   "cell_type": "code",
   "execution_count": null,
   "id": "4f2f4844",
   "metadata": {
    "scrolled": true
   },
   "outputs": [],
   "source": [
    "sc.tl.rank_genes_groups(adata_subset, 'leiden_wnn_subcluster', method='wilcoxon')\n",
    "result = adata_subset.uns['rank_genes_groups']\n",
    "groups = result['names'].dtype.names\n",
    "pd.set_option('display.max_columns', 100)\n",
    "pd.DataFrame(\n",
    "    {group + '_' + key[:1]: result[key][group]\n",
    "    for group in groups for key in ['names']}).head(20)"
   ]
  },
  {
   "cell_type": "code",
   "execution_count": null,
   "id": "f31bccb5",
   "metadata": {},
   "outputs": [],
   "source": [
    "marker_genes = [\"PTPRC\",\"VIM\",\"HLA-G\",\"PRG2\",\"CGA\",\"ENDOU\",\"AOC1\",\"CD74\",\"CD14\",\"MMP2\",\"NOTUM\",\"NOTCH1\",\"EGFR\",\n",
    "               \"IL1B\",\"LAIR2\",\"HTRA1\",\"GDF15\",\"ERVW-1\",\"CGB1\",\"CGB5\",\"CGB7\",\"CGB8\",\"HSD3B1\",\"CD24\",\"MKI67\",\n",
    "               \"SPP1\",\"HTRA1\",\"SLPI\",\"ERVW-1\"]\n",
    "sc.tl.dendrogram(adata_subset, 'leiden_wnn_subcluster')\n",
    "sc.pl.dotplot(adata_subset, marker_genes, groupby='leiden_wnn_subcluster', dendrogram=False,\n",
    "              use_raw=True,standard_scale=\"var\");"
   ]
  },
  {
   "cell_type": "code",
   "execution_count": null,
   "id": "58889712",
   "metadata": {},
   "outputs": [],
   "source": [
    "new_cluster_names = {\n",
    "    \"0\": \"EVT\", \"1\": \"vCTB\", \"2\": \"EVT\", \"3\": \"EVT\", \"4\": \"EVT\", \"5\": \"STB\", \n",
    "    \"6\": \"EVT\", \"7\": \"EVT\", \"8\": \"STB\", \"9\": \"TROPHO_doublet\",\n",
    "    \"10\": \"TROPHO_doublet\", \"11\": \"TROPHO_doublet\", \"12\": \"TROPHO_doublet\", \"13\": \"TROPHO_doublet\",\n",
    "    \"14\":\"TROPHO_doublet\",\"15\":\"TROPHO_doublet\"\n",
    "}\n",
    "\n",
    "adata_subset.obs['celltype_subset'] = adata_subset.obs.leiden_wnn_subcluster.astype(\"str\").values\n",
    "adata_subset.obs.celltype_subset = adata_subset.obs.celltype_subset.replace(new_cluster_names)\n",
    "adata_subset.obs.celltype_subset = adata_subset.obs.celltype_subset.astype(\"category\")"
   ]
  },
  {
   "cell_type": "code",
   "execution_count": null,
   "id": "ede13c49",
   "metadata": {
    "scrolled": true
   },
   "outputs": [],
   "source": [
    "sc.pl.umap(adata_subset, color=[\"celltype_subset\",\"leiden_wnn_subcluster\"], ncols=1, size=10)"
   ]
  },
  {
   "cell_type": "code",
   "execution_count": null,
   "id": "36c42eaa",
   "metadata": {},
   "outputs": [],
   "source": [
    "# update categories\n",
    "mdata.obs[\"celltype_hires\"] = mdata.obs[\"celltype_hires\"].cat.add_categories(\"CCT\")\n",
    "mdata.obs[\"celltype_hires\"] = mdata.obs[\"celltype_hires\"].cat.add_categories(\"vCTB\")\n",
    "mdata.obs[\"celltype_hires\"] = mdata.obs[\"celltype_hires\"].cat.add_categories(\"EVT\")\n",
    "mdata.obs[\"celltype_hires\"] = mdata.obs[\"celltype_hires\"].cat.add_categories(\"EVT\")\n",
    "mdata.obs[\"celltype_hires\"] = mdata.obs[\"celltype_hires\"].cat.add_categories(\"STB\")\n",
    "mdata.obs[\"celltype_hires\"] = mdata.obs[\"celltype_hires\"].cat.add_categories(\"TROPHO_doublet\")\n",
    "\n",
    "\n",
    "for cell_id, celltype_subset in zip(adata_subset.obs_names, adata_subset.obs[\"celltype_subset\"]):\n",
    "    if cell_id in mdata.obs.index:\n",
    "        mdata.obs.loc[cell_id, \"celltype_hires\"] = celltype_subset"
   ]
  },
  {
   "cell_type": "code",
   "execution_count": null,
   "id": "386cca16",
   "metadata": {
    "scrolled": true
   },
   "outputs": [],
   "source": [
    "mdata.obs['celltype_hires'] = mdata.obs['celltype_hires'].cat.remove_unused_categories()\n",
    "sc.pl.umap(mdata, color=['celltype_hires', \"tissue\"], ncols=1, size=10)"
   ]
  },
  {
   "cell_type": "code",
   "execution_count": null,
   "id": "72f31229",
   "metadata": {},
   "outputs": [],
   "source": [
    "mdata[\"rna\"].obs[\"celltype_wnn\"] = mdata.obs[\"celltype_wnn\"]"
   ]
  },
  {
   "cell_type": "markdown",
   "id": "272057ee",
   "metadata": {},
   "source": [
    "## subcluster STB"
   ]
  },
  {
   "cell_type": "code",
   "execution_count": null,
   "id": "0d03cfdc",
   "metadata": {},
   "outputs": [],
   "source": [
    "mdata_subset = mdata[mdata.obs['celltype_hires'].isin([\"STB\"]),:]"
   ]
  },
  {
   "cell_type": "code",
   "execution_count": null,
   "id": "70ff32d4",
   "metadata": {
    "scrolled": true
   },
   "outputs": [],
   "source": [
    "# remove unused categories\n",
    "mdata_subset.obs['celltype_wnn'] = mdata_subset.obs['celltype_wnn'].cat.remove_unused_categories()"
   ]
  },
  {
   "cell_type": "code",
   "execution_count": null,
   "id": "65f010ca",
   "metadata": {
    "scrolled": true
   },
   "outputs": [],
   "source": [
    "sc.pl.umap(mdata_subset, color=['celltype_wnn'], ncols=1, size=10)"
   ]
  },
  {
   "cell_type": "code",
   "execution_count": null,
   "id": "358c5209",
   "metadata": {},
   "outputs": [],
   "source": [
    "adata_subset=mdata_subset[\"rna\"]"
   ]
  },
  {
   "cell_type": "code",
   "execution_count": null,
   "id": "b486ca17",
   "metadata": {
    "scrolled": true
   },
   "outputs": [],
   "source": [
    "# recalculate nn\n",
    "sc.pp.neighbors(adata_subset, use_rep=\"X_harmony\")\n",
    "sc.tl.umap(adata_subset, random_state=10)"
   ]
  },
  {
   "cell_type": "code",
   "execution_count": null,
   "id": "41209e37",
   "metadata": {},
   "outputs": [],
   "source": [
    "X = mdata_subset['rna'].obsm['X_harmony']\n",
    "\n",
    "for r in (0.3, 0.5, 0.7):\n",
    "    key = f'subset_leiden_r{r:.1f}'\n",
    "    sc.tl.leiden(adata_subset, neighbors_key='wnn', resolution=r, key_added=key, random_state=0)\n",
    "\n",
    "    y = adata_subset.obs[key].to_numpy()\n",
    "    s = silhouette_score(X, y, metric='cosine')\n",
    "    print(f\"{key}: n_clusters={np.unique(y).size}  silhouette={s:.4f}\")\n",
    "\n",
    "    # UMAP\n",
    "    sc.pl.umap(adata_subset, color=key, legend_loc='on data')\n",
    "\n",
    "    # RNA markers\n",
    "    adata_subset.obs[key] = adata_subset.obs[key].astype('category')\n",
    "    sc.tl.rank_genes_groups(adata_subset, groupby=key, method='wilcoxon')\n",
    "    sc.pl.rank_genes_groups_dotplot(adata_subset, n_genes=5, standard_scale='var',\n",
    "                                    swap_axes=True, dendrogram=False)"
   ]
  },
  {
   "cell_type": "code",
   "execution_count": null,
   "id": "7787242c",
   "metadata": {},
   "outputs": [],
   "source": [
    "adata_subset.obs['leiden_wnn_subcluster'] = adata_subset.obs['subset_leiden_r0.5'].copy()"
   ]
  },
  {
   "cell_type": "code",
   "execution_count": null,
   "id": "42b7979d",
   "metadata": {
    "scrolled": true
   },
   "outputs": [],
   "source": [
    "sc.pl.umap(adata_subset, color=['celltype_wnn',\"leiden_wnn_subcluster\",\"tissue\",\"pct_counts_mt\",\n",
    "                               \"donor_id\",\"UTY\",\"NOTUM\",\"HLA-G\",\"CGA\",\"SLPI\",\"AOC1\",\"PRG2\",\"MKI67\",\n",
    "                               \"ENDOU\",\"NOTCH1\",\"VIM\"], ncols=2, size=25)"
   ]
  },
  {
   "cell_type": "code",
   "execution_count": null,
   "id": "69cf86c6",
   "metadata": {
    "scrolled": true
   },
   "outputs": [],
   "source": [
    "sc.tl.rank_genes_groups(adata_subset, 'leiden_wnn_subcluster', method='wilcoxon')\n",
    "result = adata_subset.uns['rank_genes_groups']\n",
    "groups = result['names'].dtype.names\n",
    "pd.set_option('display.max_columns', 100)\n",
    "pd.DataFrame(\n",
    "    {group + '_' + key[:1]: result[key][group]\n",
    "    for group in groups for key in ['names']}).head(20)"
   ]
  },
  {
   "cell_type": "code",
   "execution_count": null,
   "id": "da41db1a",
   "metadata": {},
   "outputs": [],
   "source": [
    "marker_genes = [\"PTPRC\",\"VIM\",\"HLA-G\",\"PRG2\",\"CGA\",\"ENDOU\",\"AOC1\",\"CD74\",\"CD14\",\"MMP2\",\"NOTUM\",\"NOTCH1\",\"EGFR\",\n",
    "               \"IL1B\",\"LAIR2\",\"HTRA1\",\"GDF15\",\"ERVW-1\",\"CGB1\",\"CGB5\",\"CGB7\",\"CGB8\",\"HSD3B1\",\"CD24\",\"MKI67\",\n",
    "               \"SPP1\",\"HTRA1\",\"SLPI\",\"ERVW-1\",\"MKI67\",\"LYVE1\"]\n",
    "sc.tl.dendrogram(adata_subset, 'leiden_wnn_subcluster')\n",
    "sc.pl.dotplot(adata_subset, marker_genes, groupby='leiden_wnn_subcluster', dendrogram=False,\n",
    "              use_raw=True\n",
    "              #,standard_scale=\"var\"\n",
    "             );"
   ]
  },
  {
   "cell_type": "code",
   "execution_count": null,
   "id": "c60ed410",
   "metadata": {},
   "outputs": [],
   "source": [
    "new_cluster_names = {\n",
    "    \"0\": \"CCT\", \"1\": \"CCT\", \"2\": \"STB\", \"3\": \"STB\",\"4\": \"STB\"\n",
    "}\n",
    "\n",
    "adata_subset.obs['celltype_subset'] = adata_subset.obs.leiden_wnn_subcluster.astype(\"str\").values\n",
    "adata_subset.obs.celltype_subset = adata_subset.obs.celltype_subset.replace(new_cluster_names)\n",
    "adata_subset.obs.celltype_subset = adata_subset.obs.celltype_subset.astype(\"category\")"
   ]
  },
  {
   "cell_type": "code",
   "execution_count": null,
   "id": "59f26d88",
   "metadata": {
    "scrolled": true
   },
   "outputs": [],
   "source": [
    "sc.pl.umap(adata_subset, color=[\"celltype_subset\",\"leiden_wnn_subcluster\"], ncols=1, size=10)"
   ]
  },
  {
   "cell_type": "code",
   "execution_count": null,
   "id": "469969ae",
   "metadata": {
    "scrolled": true
   },
   "outputs": [],
   "source": [
    "sc.pl.umap(adata_subset, color=[\"celltype_subset\",\"leiden_wnn_subcluster\"], ncols=1, size=10)"
   ]
  },
  {
   "cell_type": "code",
   "execution_count": null,
   "id": "5dbbfd4c",
   "metadata": {},
   "outputs": [],
   "source": [
    "# update categories\n",
    "mdata.obs[\"celltype_hires\"] = mdata.obs[\"celltype_hires\"].cat.add_categories(\"CCT\")\n",
    "for cell_id, celltype_subset in zip(adata_subset.obs_names, adata_subset.obs[\"celltype_subset\"]):\n",
    "    if cell_id in mdata.obs.index:\n",
    "        mdata.obs.loc[cell_id, \"celltype_hires\"] = celltype_subset"
   ]
  },
  {
   "cell_type": "code",
   "execution_count": null,
   "id": "14491fa4",
   "metadata": {
    "scrolled": true
   },
   "outputs": [],
   "source": [
    "mdata.obs['celltype_hires'] = mdata.obs['celltype_hires'].cat.remove_unused_categories()\n",
    "sc.pl.umap(mdata, color=['celltype_hires', \"tissue\"], ncols=1, size=10)"
   ]
  },
  {
   "cell_type": "markdown",
   "id": "9016e4e3",
   "metadata": {},
   "source": [
    "## subcluster NK cells"
   ]
  },
  {
   "cell_type": "code",
   "execution_count": null,
   "id": "263303fe",
   "metadata": {},
   "outputs": [],
   "source": [
    "mdata_subset = mdata[mdata.obs['celltype_wnn'].isin([\"NK\"]),:]"
   ]
  },
  {
   "cell_type": "code",
   "execution_count": null,
   "id": "c4e0b1c7",
   "metadata": {
    "scrolled": true
   },
   "outputs": [],
   "source": [
    "# remove unused categories\n",
    "mdata_subset.obs['celltype_hires'] = mdata_subset.obs['celltype_hires'].cat.remove_unused_categories()"
   ]
  },
  {
   "cell_type": "code",
   "execution_count": null,
   "id": "0d9ea00f",
   "metadata": {
    "scrolled": true
   },
   "outputs": [],
   "source": [
    "sc.pl.umap(mdata_subset, color=['celltype_hires'], ncols=1, size=10)"
   ]
  },
  {
   "cell_type": "code",
   "execution_count": null,
   "id": "d4124986",
   "metadata": {
    "scrolled": true
   },
   "outputs": [],
   "source": [
    "# recalculate nn\n",
    "sc.pp.neighbors(mdata_subset['rna'], use_rep=\"X_harmony\")\n",
    "sc.pp.neighbors(mdata_subset['prot'], use_rep=\"X_harmony\")\n",
    "\n",
    "mu.pp.neighbors(mdata_subset, key_added='wnn')\n",
    "\n",
    "mu.tl.umap(mdata_subset, neighbors_key='wnn', random_state=10)"
   ]
  },
  {
   "cell_type": "code",
   "execution_count": null,
   "id": "2a461f2c",
   "metadata": {},
   "outputs": [],
   "source": [
    "X = np.hstack([mdata_subset['rna'].obsm['X_harmony'], mdata_subset['prot'].obsm['X_harmony']])\n",
    "\n",
    "for r in (0.3, 0.5, 0.7):\n",
    "    key = f'subset_leiden_r{r:.1f}'\n",
    "    sc.tl.leiden(mdata_subset, neighbors_key='wnn', resolution=r, key_added=key, random_state=0)\n",
    "\n",
    "    y = mdata_subset.obs[key].to_numpy()\n",
    "    s = silhouette_score(X, y, metric='cosine')\n",
    "    print(f\"{key}: n_clusters={np.unique(y).size}  silhouette={s:.4f}\")\n",
    "\n",
    "    # UMAP\n",
    "    sc.pl.umap(mdata_subset, color=key, legend_loc='on data')\n",
    "\n",
    "    # RNA markers\n",
    "    mdata_subset['rna'].obs[key] = mdata_subset.obs[key].astype('category')\n",
    "    sc.tl.rank_genes_groups(mdata_subset['rna'], groupby=key, method='wilcoxon')\n",
    "    sc.pl.rank_genes_groups_dotplot(mdata_subset['rna'], n_genes=5, standard_scale='var',\n",
    "                                    swap_axes=True, dendrogram=False)"
   ]
  },
  {
   "cell_type": "code",
   "execution_count": null,
   "id": "aba0198d",
   "metadata": {},
   "outputs": [],
   "source": [
    "mdata_subset.obs['leiden_wnn_subcluster'] = mdata_subset.obs['subset_leiden_r0.5'].copy()\n",
    "mdata_subset[\"rna\"].obs[\"leiden_wnn_subcluster\"]=mdata_subset.obs[\"leiden_wnn_subcluster\"]"
   ]
  },
  {
   "cell_type": "code",
   "execution_count": null,
   "id": "7a4d2ce9",
   "metadata": {
    "scrolled": true
   },
   "outputs": [],
   "source": [
    "sc.pl.umap(mdata_subset, color=['celltype_hires',\"leiden_wnn_subcluster\",\"tissue\",\"rna:pct_counts_mt\",\n",
    "                               \"donor_id\"], ncols=1, size=10)"
   ]
  },
  {
   "cell_type": "code",
   "execution_count": null,
   "id": "96b25555",
   "metadata": {},
   "outputs": [],
   "source": [
    "marker_genes = [\"XCL1\",\"XCL2\",\"GNLY\",\"CXCR4\",\"MKI67\",\"FCGR3A\",\"SPINK2\",\"NCAM1\",\"GZMA\",\"IGFBP7\",\"ENTPD1\",\"ANXA1\",\"ITGB2\",\n",
    "               \"KLRB1\",\"CD160\",\"ITGB1\",\"SH3BGRL3\",\"SPINK2\",\"SELL\",\"CXCR4\",\"CD69\"]\n",
    "mdata_subset[\"rna\"].obs[\"leiden_wnn_subcluster\"]=mdata_subset.obs[\"leiden_wnn_subcluster\"]\n",
    "sc.tl.dendrogram(mdata_subset[\"rna\"], 'leiden_wnn_subcluster')\n",
    "sc.pl.dotplot(mdata_subset[\"rna\"], marker_genes, groupby='leiden_wnn_subcluster', dendrogram=False, use_raw=True,\n",
    "             standard_scale=\"var\");"
   ]
  },
  {
   "cell_type": "code",
   "execution_count": null,
   "id": "52c63455",
   "metadata": {},
   "outputs": [],
   "source": [
    "mdata_subset[\"prot\"].obs[\"leiden_wnn_subcluster\"]=mdata_subset.obs[\"leiden_wnn_subcluster\"]\n",
    "sc.tl.rank_genes_groups(mdata_subset[\"prot\"], 'leiden_wnn_subcluster', method='wilcoxon')\n",
    "result = mdata_subset[\"prot\"].uns['rank_genes_groups']\n",
    "groups = result['names'].dtype.names\n",
    "pd.set_option('display.max_columns', 100)\n",
    "pd.DataFrame(\n",
    "    {group + '_' + key[:1]: result[key][group]\n",
    "    for group in groups for key in ['names']}).head(10)"
   ]
  },
  {
   "cell_type": "code",
   "execution_count": null,
   "id": "52576902",
   "metadata": {
    "scrolled": true
   },
   "outputs": [],
   "source": [
    "marker_genes = [\"CD11c_TotalSeqC\",\"CD39_TotalSeqC\",\"CD38_TotalSeqC\",\"CD103_TotalSeqC\",\"CD16_TotalSeqC\",\n",
    "                \"CD45RA_TotalSeqC\",\"CD45RO_TotalSeqC\",\"CD31_TotalSeqC\",\"CD56_TotalSeqC\",\"CD314_TotalSeqC\"]\n",
    "mdata_subset[\"prot\"].obs[\"leiden_wnn_subcluster\"]=mdata_subset.obs[\"leiden_wnn_subcluster\"]\n",
    "sc.tl.dendrogram(mdata_subset[\"prot\"], 'leiden_wnn_subcluster')\n",
    "sc.pl.dotplot(mdata_subset[\"prot\"], marker_genes, groupby='leiden_wnn_subcluster', dendrogram=False, use_raw=False\n",
    "              #,standard_scale=\"var\"\n",
    "             );"
   ]
  },
  {
   "cell_type": "code",
   "execution_count": null,
   "id": "6787062c",
   "metadata": {
    "scrolled": true
   },
   "outputs": [],
   "source": [
    "mu.pl.embedding(mdata_subset, basis=\"X_umap\", frameon=False, color=[\"leiden_wnn_subcluster\",\"CD11c_TotalSeqC\",\n",
    "                                                                    \"CD39_TotalSeqC\",\"CD38_TotalSeqC\",\"CD103_TotalSeqC\",\n",
    "                                                                    \"CD16_TotalSeqC\",\"CD45RA_TotalSeqC\",\"CD45RO_TotalSeqC\",\n",
    "                                                                    \"CD31_TotalSeqC\",\"CD160\",\"KLRB1\",\"ENTPD1\",\"CYP26A1\",\n",
    "                                                                   \"ITGB1\",\"CD27_TotalSeqC\",\"GZMA\",\"CD56_TotalSeqC\",\"NCAM1\",\n",
    "                                                                   \"CD44_TotalSeqC\",\"MAML3\",\"RUNX2\",\"CD40_TotalSeqC\",\n",
    "                                                                   \"CD69_TotalSeqC\",\"CD11b_TotalSeqC\",\"CD314_TotalSeqC\"],\n",
    "                ncols=2, color_map=\"YlOrRd\")"
   ]
  },
  {
   "cell_type": "code",
   "execution_count": null,
   "id": "331278f9",
   "metadata": {},
   "outputs": [],
   "source": [
    "# split clusters 2,3,6 into CD39 positive and negative.\n"
   ]
  },
  {
   "cell_type": "code",
   "execution_count": null,
   "id": "51d682f5",
   "metadata": {},
   "outputs": [],
   "source": [
    "mdata_subset2 = mdata_subset[mdata_subset.obs['leiden_wnn_subcluster'].isin([\"2\"]),:]"
   ]
  },
  {
   "cell_type": "code",
   "execution_count": null,
   "id": "657d2143",
   "metadata": {
    "scrolled": true
   },
   "outputs": [],
   "source": [
    "# remove unused categories\n",
    "mdata_subset2.obs['leiden_wnn_subcluster'] = mdata_subset2.obs['leiden_wnn_subcluster'].cat.remove_unused_categories()"
   ]
  },
  {
   "cell_type": "code",
   "execution_count": null,
   "id": "3fa20eab",
   "metadata": {
    "scrolled": true
   },
   "outputs": [],
   "source": [
    "sc.pl.umap(mdata_subset2, color=['leiden_wnn_subcluster'], ncols=1, size=10)"
   ]
  },
  {
   "cell_type": "code",
   "execution_count": null,
   "id": "539030ec",
   "metadata": {
    "scrolled": true
   },
   "outputs": [],
   "source": [
    "# recalculate nn\n",
    "sc.pp.neighbors(mdata_subset2['rna'], use_rep=\"X_harmony\")\n",
    "sc.pp.neighbors(mdata_subset2['prot'], use_rep=\"X_harmony\")\n",
    "\n",
    "\n",
    "mu.pp.neighbors(mdata_subset2, key_added='wnn')\n",
    "\n",
    "mu.tl.umap(mdata_subset2, neighbors_key='wnn', random_state=10)"
   ]
  },
  {
   "cell_type": "code",
   "execution_count": null,
   "id": "ac0585cc",
   "metadata": {},
   "outputs": [],
   "source": [
    "X = np.hstack([mdata_subset2['rna'].obsm['X_harmony'], mdata_subset2['prot'].obsm['X_harmony']])\n",
    "\n",
    "for r in (0.3, 0.5, 0.7):\n",
    "    key = f'subset2_leiden_r{r:.1f}'\n",
    "    sc.tl.leiden(mdata_subset2, neighbors_key='wnn', resolution=r, key_added=key, random_state=0)\n",
    "\n",
    "    y = mdata_subset2.obs[key].to_numpy()\n",
    "    s = silhouette_score(X, y, metric='cosine')\n",
    "    print(f\"{key}: n_clusters={np.unique(y).size}  silhouette={s:.4f}\")\n",
    "\n",
    "    # UMAP\n",
    "    sc.pl.umap(mdata_subset2, color=key, legend_loc='on data')\n",
    "\n",
    "    # RNA markers\n",
    "    mdata_subset2['rna'].obs[key] = mdata_subset2.obs[key].astype('category')\n",
    "    sc.tl.rank_genes_groups(mdata_subset2['rna'], groupby=key, method='wilcoxon')\n",
    "    sc.pl.rank_genes_groups_dotplot(mdata_subset2['rna'], n_genes=5, standard_scale='var',\n",
    "                                    swap_axes=True, dendrogram=False)"
   ]
  },
  {
   "cell_type": "code",
   "execution_count": null,
   "id": "5dfed27e",
   "metadata": {},
   "outputs": [],
   "source": [
    "mdata_subset2.obs['leiden_wnn_subcluster2'] = mdata_subset2.obs['subset2_leiden_r0.3'].copy()\n",
    "mdata_subset2[\"rna\"].obs[\"leiden_wnn_subcluster2\"]=mdata_subset2.obs[\"leiden_wnn_subcluster2\"]\n"
   ]
  },
  {
   "cell_type": "code",
   "execution_count": null,
   "id": "ebf981c3",
   "metadata": {
    "scrolled": true
   },
   "outputs": [],
   "source": [
    "sc.pl.umap(mdata_subset2, color=[\"leiden_wnn_subcluster2\",\"tissue\",\"rna:pct_counts_mt\",\n",
    "                               \"donor_id\"], ncols=1, size=10)"
   ]
  },
  {
   "cell_type": "code",
   "execution_count": null,
   "id": "33bb138f",
   "metadata": {
    "scrolled": true
   },
   "outputs": [],
   "source": [
    "mu.pl.embedding(mdata_subset2, basis=\"X_umap\", frameon=False, color=[\"leiden_wnn_subcluster2\",\"CD11c_TotalSeqC\",\n",
    "                                                                    \"CD39_TotalSeqC\",\"CD38_TotalSeqC\",\"CD103_TotalSeqC\",\n",
    "                                                                    \"CD16_TotalSeqC\",\"CD45RA_TotalSeqC\",\"CD45RO_TotalSeqC\",\n",
    "                                                                    \"CD31_TotalSeqC\",\"CD160\",\"KLRB1\",\"ENTPD1\",\"CYP26A1\",\n",
    "                                                                   \"ITGB1\",\"CD27_TotalSeqC\",\"GZMA\",\"CD56_TotalSeqC\",\"NCAM1\",\n",
    "                                                                   \"CD44_TotalSeqC\",\"MAML3\",\"RUNX2\",\"CD40_TotalSeqC\",\n",
    "                                                                   \"CD69_TotalSeqC\",\"CD11b_TotalSeqC\"],\n",
    "                ncols=2, color_map=\"YlOrRd\")"
   ]
  },
  {
   "cell_type": "code",
   "execution_count": null,
   "id": "dcd7f3ef",
   "metadata": {},
   "outputs": [],
   "source": [
    "new_cluster_names = {\n",
    "    \"0\": \"NK_CD39-\", \"1\": \"NK_CD39+\"}\n",
    "\n",
    "mdata_subset2.obs['celltype_subset2'] = mdata_subset2.obs.leiden_wnn_subcluster2.astype(\"str\").values\n",
    "mdata_subset2.obs.celltype_subset2 = mdata_subset2.obs.celltype_subset2.replace(new_cluster_names)\n",
    "mdata_subset2.obs.celltype_subset2 = mdata_subset2.obs.celltype_subset2.astype(\"category\")"
   ]
  },
  {
   "cell_type": "code",
   "execution_count": null,
   "id": "0cd699ab",
   "metadata": {},
   "outputs": [],
   "source": [
    "mdata_subset.obs[\"celltype_subset\"]=mdata_subset.obs[\"leiden_wnn_subcluster\"]\n",
    "\n",
    "# update categories\n",
    "mdata_subset.obs[\"celltype_subset\"] = mdata_subset.obs[\"celltype_subset\"].cat.add_categories(\"NK_CD39-\")\n",
    "mdata_subset.obs[\"celltype_subset\"] = mdata_subset.obs[\"celltype_subset\"].cat.add_categories(\"NK_CD39+\")\n",
    "\n",
    "for cell_id, celltype_subset2 in zip(mdata_subset2.obs_names, mdata_subset2.obs[\"celltype_subset2\"]):\n",
    "    if cell_id in mdata_subset.obs.index:\n",
    "        mdata_subset.obs.loc[cell_id, \"celltype_subset\"] = celltype_subset2"
   ]
  },
  {
   "cell_type": "code",
   "execution_count": null,
   "id": "74b9a29e",
   "metadata": {},
   "outputs": [],
   "source": [
    "mu.pl.embedding(mdata_subset, basis=\"X_umap\", frameon=False, color=[\"celltype_subset\"],\n",
    "                ncols=2, color_map=\"YlOrRd\")"
   ]
  },
  {
   "cell_type": "code",
   "execution_count": null,
   "id": "5d99b2ae",
   "metadata": {},
   "outputs": [],
   "source": [
    "# split cluster 6"
   ]
  },
  {
   "cell_type": "code",
   "execution_count": null,
   "id": "754b745b",
   "metadata": {},
   "outputs": [],
   "source": [
    "mdata_subset2 = mdata_subset[mdata_subset.obs['leiden_wnn_subcluster'].isin([\"6\"]),:]"
   ]
  },
  {
   "cell_type": "code",
   "execution_count": null,
   "id": "6117256c",
   "metadata": {
    "scrolled": true
   },
   "outputs": [],
   "source": [
    "# remove unused categories from 'celltype_wnn' \n",
    "mdata_subset2.obs['leiden_wnn_subcluster'] = mdata_subset2.obs['leiden_wnn_subcluster'].cat.remove_unused_categories()"
   ]
  },
  {
   "cell_type": "code",
   "execution_count": null,
   "id": "9cc7ece0",
   "metadata": {
    "scrolled": true
   },
   "outputs": [],
   "source": [
    "sc.pl.umap(mdata_subset2, color=['leiden_wnn_subcluster'], ncols=1, size=10)"
   ]
  },
  {
   "cell_type": "code",
   "execution_count": null,
   "id": "57f1e1fc",
   "metadata": {
    "scrolled": true
   },
   "outputs": [],
   "source": [
    "# recalculate nn\n",
    "sc.pp.neighbors(mdata_subset2['rna'], use_rep=\"X_harmony\")\n",
    "sc.pp.neighbors(mdata_subset2['prot'], use_rep=\"X_harmony\")\n",
    "\n",
    "\n",
    "mu.pp.neighbors(mdata_subset2, key_added='wnn')\n",
    "\n",
    "mu.tl.umap(mdata_subset2, neighbors_key='wnn', random_state=10)"
   ]
  },
  {
   "cell_type": "code",
   "execution_count": null,
   "id": "7e46207c",
   "metadata": {},
   "outputs": [],
   "source": [
    "X = np.hstack([mdata_subset2['rna'].obsm['X_harmony'], mdata_subset2['prot'].obsm['X_harmony']])\n",
    "\n",
    "for r in (0.3, 0.5, 0.7):\n",
    "    key = f'subset2_leiden_r{r:.1f}'\n",
    "    sc.tl.leiden(mdata_subset2, neighbors_key='wnn', resolution=r, key_added=key, random_state=0)\n",
    "\n",
    "    y = mdata_subset2.obs[key].to_numpy()\n",
    "    s = silhouette_score(X, y, metric='cosine')\n",
    "    print(f\"{key}: n_clusters={np.unique(y).size}  silhouette={s:.4f}\")\n",
    "\n",
    "    # UMAP\n",
    "    sc.pl.umap(mdata_subset2, color=key, legend_loc='on data')\n",
    "\n",
    "    # RNA markers\n",
    "    mdata_subset2['rna'].obs[key] = mdata_subset2.obs[key].astype('category')\n",
    "    sc.tl.rank_genes_groups(mdata_subset2['rna'], groupby=key, method='wilcoxon')\n",
    "    sc.pl.rank_genes_groups_dotplot(mdata_subset2['rna'], n_genes=5, standard_scale='var',\n",
    "                                    swap_axes=True, dendrogram=False)"
   ]
  },
  {
   "cell_type": "code",
   "execution_count": null,
   "id": "caa2f752",
   "metadata": {},
   "outputs": [],
   "source": [
    "mdata_subset2.obs['leiden_wnn_subcluster2'] = mdata_subset2.obs['subset2_leiden_r0.5'].copy()\n",
    "mdata_subset2[\"rna\"].obs[\"leiden_wnn_subcluster2\"]=mdata_subset2.obs[\"leiden_wnn_subcluster2\"]\n"
   ]
  },
  {
   "cell_type": "code",
   "execution_count": null,
   "id": "7dabe8db",
   "metadata": {
    "scrolled": true
   },
   "outputs": [],
   "source": [
    "sc.pl.umap(mdata_subset2, color=[\"leiden_wnn_subcluster2\",\"tissue\",\"rna:pct_counts_mt\",\n",
    "                               \"donor_id\"], ncols=1)"
   ]
  },
  {
   "cell_type": "code",
   "execution_count": null,
   "id": "d2203c9d",
   "metadata": {
    "scrolled": true
   },
   "outputs": [],
   "source": [
    "mu.pl.embedding(mdata_subset2, basis=\"X_umap\", frameon=False, color=[\"leiden_wnn_subcluster2\",\"CD11c_TotalSeqC\",\n",
    "                                                                    \"CD39_TotalSeqC\",\"CD38_TotalSeqC\",\"CD103_TotalSeqC\",\n",
    "                                                                    \"CD16_TotalSeqC\",\"CD45RA_TotalSeqC\",\"CD45RO_TotalSeqC\",\n",
    "                                                                    \"CD31_TotalSeqC\",\"CD160\",\"KLRB1\",\"ENTPD1\",\"CYP26A1\",\n",
    "                                                                   \"ITGB1\",\"CD27_TotalSeqC\",\"GZMA\",\"CD56_TotalSeqC\",\"NCAM1\",\n",
    "                                                                   \"CD44_TotalSeqC\",\"MAML3\",\"RUNX2\",\"CD40_TotalSeqC\",\n",
    "                                                                   \"CD69_TotalSeqC\",\"CD11b_TotalSeqC\"],\n",
    "                ncols=2, color_map=\"YlOrRd\")"
   ]
  },
  {
   "cell_type": "code",
   "execution_count": null,
   "id": "c27f7085",
   "metadata": {},
   "outputs": [],
   "source": [
    "new_cluster_names = {\n",
    "    \"0\": \"NK_CD39-\", \"1\": \"NK_CD39-\",\"2\": \"NK_CD39+\", \"3\": \"NK_CD39-\",\"4\": \"NK_CD39-\"}\n",
    "\n",
    "mdata_subset2.obs['celltype_subset2'] = mdata_subset2.obs.leiden_wnn_subcluster2.astype(\"str\").values\n",
    "mdata_subset2.obs.celltype_subset2 = mdata_subset2.obs.celltype_subset2.replace(new_cluster_names)\n",
    "mdata_subset2.obs.celltype_subset2 = mdata_subset2.obs.celltype_subset2.astype(\"category\")"
   ]
  },
  {
   "cell_type": "code",
   "execution_count": null,
   "id": "d929d649",
   "metadata": {},
   "outputs": [],
   "source": [
    "for cell_id, celltype_subset2 in zip(mdata_subset2.obs_names, mdata_subset2.obs[\"celltype_subset2\"]):\n",
    "    if cell_id in mdata_subset.obs.index:\n",
    "        mdata_subset.obs.loc[cell_id, \"celltype_subset\"] = celltype_subset2"
   ]
  },
  {
   "cell_type": "code",
   "execution_count": null,
   "id": "bfce56e2",
   "metadata": {},
   "outputs": [],
   "source": [
    "mu.pl.embedding(mdata_subset, basis=\"X_umap\", frameon=False, color=[\"celltype_subset\"],\n",
    "                ncols=2, color_map=\"YlOrRd\")"
   ]
  },
  {
   "cell_type": "code",
   "execution_count": null,
   "id": "73a4f7aa",
   "metadata": {},
   "outputs": [],
   "source": [
    "cluster_name_mapping = {\n",
    "    '0': 'NK_CD39-',\n",
    "    '1': 'NK_CD39+',\n",
    "    \"3\": \"NK_prol\",\n",
    "    \"4\": \"NK_CD39-CD103+\",\n",
    "    \"5\": \"NK_CD16+\"\n",
    "}\n",
    "\n",
    "# rename clusters\n",
    "mdata_subset.obs['celltype_subset'] = mdata_subset.obs['celltype_subset'].astype(str).replace(cluster_name_mapping)"
   ]
  },
  {
   "cell_type": "code",
   "execution_count": null,
   "id": "a3d544c5",
   "metadata": {},
   "outputs": [],
   "source": [
    "mu.pl.embedding(mdata_subset, basis=\"X_umap\", frameon=False, color=[\"celltype_subset\"],\n",
    "                ncols=2, color_map=\"YlOrRd\")"
   ]
  },
  {
   "cell_type": "code",
   "execution_count": null,
   "id": "b1e7279c",
   "metadata": {},
   "outputs": [],
   "source": [
    "marker_genes = [\"CD11c_TotalSeqC\",\"CD39_TotalSeqC\",\"CD38_TotalSeqC\",\"CD103_TotalSeqC\",\"CD16_TotalSeqC\",\n",
    "                \"CD45RA_TotalSeqC\",\"CD45RO_TotalSeqC\",\"CD31_TotalSeqC\",\"CD56_TotalSeqC\"]\n",
    "mdata_subset[\"prot\"].obs[\"celltype_subset\"]=mdata_subset.obs[\"celltype_subset\"]\n",
    "sc.pl.dotplot(mdata_subset[\"prot\"], marker_genes, groupby='celltype_subset', dendrogram=False, use_raw=False\n",
    "              #,standard_scale=\"var\"\n",
    "             );"
   ]
  },
  {
   "cell_type": "code",
   "execution_count": null,
   "id": "b4f6a6ea",
   "metadata": {
    "scrolled": true
   },
   "outputs": [],
   "source": [
    "mdata_subset[\"rna\"].obs[\"celltype_subset\"]=mdata_subset.obs[\"celltype_subset\"]\n",
    "sc.tl.rank_genes_groups(mdata_subset[\"rna\"], 'celltype_subset', method='wilcoxon')\n",
    "result = mdata_subset[\"rna\"].uns['rank_genes_groups']\n",
    "groups = result['names'].dtype.names\n",
    "pd.set_option('display.max_columns', 100)\n",
    "pd.DataFrame(\n",
    "    {group + '_' + key[:1]: result[key][group]\n",
    "    for group in groups for key in ['names']}).head(20)"
   ]
  },
  {
   "cell_type": "code",
   "execution_count": null,
   "id": "71d997b0",
   "metadata": {},
   "outputs": [],
   "source": [
    "marker_genes = [\"XCL1\",\"XCL2\",\"GNLY\",\"CXCR4\",\"MKI67\",\"FCGR3A\",\"SPINK2\",\"NCAM1\",\"GZMA\",\"IGFBP7\",\"ENTPD1\",\"ANXA1\",\"ITGB2\",\n",
    "               \"KLRB1\",\"CD160\",\"ITGB1\",\"SH3BGRL3\",\"SPINK2\",\"SELL\",\"GNG2\",\"CCL5\",\"CD7\",\"MKI67\"]\n",
    "mdata_subset[\"rna\"].obs[\"celltype_subset\"]=mdata_subset.obs[\"celltype_subset\"]\n",
    "sc.pl.dotplot(mdata_subset[\"rna\"], marker_genes, groupby='celltype_subset', dendrogram=False, use_raw=True,standard_scale=\"var\");"
   ]
  },
  {
   "cell_type": "code",
   "execution_count": null,
   "id": "55bbff02",
   "metadata": {},
   "outputs": [],
   "source": [
    "# check prostaglandin markers:\n",
    "marker_genes = [\"XCL1\",\"XCL2\",\"PTGFR\", \"PTGDS\", \"PTGS2\", \"PTGS1\", \"PTGES2\", \"PTGES\", \"PTGER1\", \"PTGER2\", \"PTGER3\",\n",
    "                \"PTGER4\", \"PTGDR\",\"PTGDR2\", \"PTGFR\", \"PTGIR\", \"TBXA2R\", \"PTGIS\", \"PTGFR\", \"HPGDS\", \"PTGES3\",\n",
    "                \"HPGD\", \"SLCO2A1\", \"ITGB1\", \"CD160\", \"CYP26A1\", \"B4GALNT1\",\"ANXA1\", \"ITGB2\", \"KLRB1\", \"IL7R\"]\n",
    "mdata_subset[\"rna\"].obs[\"celltype_subset\"]=mdata_subset.obs[\"celltype_subset\"]\n",
    "sc.pl.dotplot(mdata_subset[\"rna\"], marker_genes, groupby='celltype_subset', dendrogram=False,\n",
    "              use_raw=True, standard_scale=\"var\");"
   ]
  },
  {
   "cell_type": "code",
   "execution_count": null,
   "id": "0e71fc50",
   "metadata": {},
   "outputs": [],
   "source": [
    "# update categories\n",
    "mdata.obs[\"celltype_hires\"] = mdata.obs[\"celltype_hires\"].cat.add_categories(\"NK_prol\")\n",
    "for cell_id, celltype_subset in zip(mdata_subset.obs_names, mdata_subset.obs[\"celltype_subset\"]):\n",
    "    if cell_id in mdata.obs.index:\n",
    "        mdata.obs.loc[cell_id, \"celltype_hires\"] = celltype_subset"
   ]
  },
  {
   "cell_type": "code",
   "execution_count": null,
   "id": "331e35a5",
   "metadata": {},
   "outputs": [],
   "source": [
    "# remove unused categories\n",
    "mdata.obs['celltype_hires'] = mdata.obs['celltype_hires'].cat.remove_unused_categories()"
   ]
  },
  {
   "cell_type": "code",
   "execution_count": null,
   "id": "e70aea01",
   "metadata": {
    "scrolled": true
   },
   "outputs": [],
   "source": [
    "sc.pl.umap(mdata, color=['celltype_hires', \"tissue\"], ncols=1, size=10)"
   ]
  },
  {
   "cell_type": "markdown",
   "id": "768d0334",
   "metadata": {},
   "source": [
    "## subcluster T cells"
   ]
  },
  {
   "cell_type": "code",
   "execution_count": null,
   "id": "d079ac1b",
   "metadata": {},
   "outputs": [],
   "source": [
    "mdata_subset = mdata[mdata.obs['celltype_wnn'].isin([\"TCell\"]),:]"
   ]
  },
  {
   "cell_type": "code",
   "execution_count": null,
   "id": "6b59a1b0",
   "metadata": {
    "scrolled": true
   },
   "outputs": [],
   "source": [
    "# remove unused categories\n",
    "mdata_subset.obs['celltype_wnn'] = mdata_subset.obs['celltype_wnn'].cat.remove_unused_categories()"
   ]
  },
  {
   "cell_type": "code",
   "execution_count": null,
   "id": "bc5ac1bb",
   "metadata": {
    "scrolled": true
   },
   "outputs": [],
   "source": [
    "sc.pl.umap(mdata_subset, color=['celltype_wnn'], ncols=1, size=10)"
   ]
  },
  {
   "cell_type": "code",
   "execution_count": null,
   "id": "3dde2369",
   "metadata": {
    "scrolled": true
   },
   "outputs": [],
   "source": [
    "# recalculate nn\n",
    "sc.pp.neighbors(mdata_subset['rna'], use_rep=\"X_harmony\")\n",
    "sc.pp.neighbors(mdata_subset['prot'], use_rep=\"X_harmony\")\n",
    "\n",
    "\n",
    "mu.pp.neighbors(mdata_subset, key_added='wnn')\n",
    "\n",
    "mu.tl.umap(mdata_subset, neighbors_key='wnn', random_state=10)"
   ]
  },
  {
   "cell_type": "code",
   "execution_count": null,
   "id": "5026a2f9",
   "metadata": {},
   "outputs": [],
   "source": [
    "X = np.hstack([mdata_subset['rna'].obsm['X_harmony'], mdata_subset['prot'].obsm['X_harmony']])\n",
    "\n",
    "for r in (0.3, 0.5, 0.7):\n",
    "    key = f'subset_leiden_r{r:.1f}'\n",
    "    sc.tl.leiden(mdata_subset, neighbors_key='wnn', resolution=r, key_added=key, random_state=0)\n",
    "\n",
    "    y = mdata_subset.obs[key].to_numpy()\n",
    "    s = silhouette_score(X, y, metric='cosine')\n",
    "    print(f\"{key}: n_clusters={np.unique(y).size}  silhouette={s:.4f}\")\n",
    "\n",
    "    # UMAP\n",
    "    sc.pl.umap(mdata_subset, color=key, legend_loc='on data')\n",
    "\n",
    "    # RNA markers\n",
    "    mdata_subset['rna'].obs[key] = mdata_subset.obs[key].astype('category')\n",
    "    sc.tl.rank_genes_groups(mdata_subset['rna'], groupby=key, method='wilcoxon')\n",
    "    sc.pl.rank_genes_groups_dotplot(mdata_subset['rna'], n_genes=5, standard_scale='var',\n",
    "                                    swap_axes=True, dendrogram=False)"
   ]
  },
  {
   "cell_type": "code",
   "execution_count": null,
   "id": "8dc30e22",
   "metadata": {},
   "outputs": [],
   "source": [
    "mdata_subset.obs['leiden_wnn_subcluster'] = mdata_subset.obs['subset_leiden_r0.5'].copy()\n",
    "mdata_subset[\"rna\"].obs[\"leiden_wnn_subcluster\"]=mdata_subset.obs[\"leiden_wnn_subcluster\"]"
   ]
  },
  {
   "cell_type": "code",
   "execution_count": null,
   "id": "8e6d447f",
   "metadata": {
    "scrolled": true
   },
   "outputs": [],
   "source": [
    "mdata_subset.obs['celltype_hires'] = mdata_subset.obs['celltype_hires'].cat.remove_unused_categories()\n",
    "sc.pl.umap(mdata_subset, color=[\"leiden_wnn_subcluster\",\"celltype_hires\",\"tissue\",\"rna:pct_counts_mt\",\n",
    "                               \"donor_id\"], ncols=2, size=15)"
   ]
  },
  {
   "cell_type": "code",
   "execution_count": null,
   "id": "b15af332",
   "metadata": {
    "scrolled": true
   },
   "outputs": [],
   "source": [
    "mdata_subset[\"rna\"].obs[\"leiden_wnn_subcluster\"]=mdata_subset.obs[\"leiden_wnn_subcluster\"]\n",
    "\n",
    "sc.tl.rank_genes_groups(mdata_subset[\"rna\"], 'leiden_wnn_subcluster', method='wilcoxon')\n",
    "result = mdata_subset[\"rna\"].uns['rank_genes_groups']\n",
    "groups = result['names'].dtype.names\n",
    "pd.set_option('display.max_columns', 100)\n",
    "pd.DataFrame(\n",
    "    {group + '_' + key[:1]: result[key][group]\n",
    "    for group in groups for key in ['names']}).head(20)"
   ]
  },
  {
   "cell_type": "code",
   "execution_count": null,
   "id": "709a5437",
   "metadata": {},
   "outputs": [],
   "source": [
    "marker_genes = [\"CD4_TotalSeqC\",\"CD8a_TotalSeqC\",\"CD3_TotalSeqC\",\"CD194_TotalSeqC\",\"CD20_TotalSeqC\",\n",
    "                \"CD45RA_TotalSeqC\",\"CD45RO_TotalSeqC\",\"CD16_TotalSeqC\",\"CD1c_TotalSeqC\",\"CD56_TotalSeqC\",\"CD14_TotalSeqC\",\n",
    "               \"CD27_TotalSeqC\",\"TIGIT_TotalSeqC\",\"CD25_TotalSeqC\",\"CD103_TotalSeqC\",\"CD62L_TotalSeqC\",\n",
    "               \"CD28_TotalSeqC\",\"CD127_TotalSeqC\"]\n",
    "mdata_subset[\"prot\"].obs[\"leiden_wnn_subcluster\"]=mdata_subset.obs[\"leiden_wnn_subcluster\"]\n",
    "#sc.tl.dendrogram(mdata_subset[\"prot\"], 'leiden_wnn_subcluster')\n",
    "sc.pl.dotplot(mdata_subset[\"prot\"], marker_genes, groupby='leiden_wnn_subcluster', dendrogram=False,\n",
    "              use_raw=False\n",
    "              , standard_scale=\"var\"\n",
    "             );"
   ]
  },
  {
   "cell_type": "code",
   "execution_count": null,
   "id": "dcd9d9f2",
   "metadata": {},
   "outputs": [],
   "source": [
    "# split clusters 2,3,4,6\n",
    "# cluster 0 and 5 are CD4+\n",
    "# cluster 1 and 7 are CD8+"
   ]
  },
  {
   "cell_type": "code",
   "execution_count": null,
   "id": "55afa2f2",
   "metadata": {},
   "outputs": [],
   "source": [
    "mdata_subset2 = mdata_subset[mdata_subset.obs['leiden_wnn_subcluster'].isin([\"2\"]),:]"
   ]
  },
  {
   "cell_type": "code",
   "execution_count": null,
   "id": "f8dae033",
   "metadata": {
    "scrolled": true
   },
   "outputs": [],
   "source": [
    "# remove unused categories\n",
    "mdata_subset2.obs['leiden_wnn_subcluster'] = mdata_subset2.obs['leiden_wnn_subcluster'].cat.remove_unused_categories()"
   ]
  },
  {
   "cell_type": "code",
   "execution_count": null,
   "id": "2f75e3dc",
   "metadata": {
    "scrolled": true
   },
   "outputs": [],
   "source": [
    "sc.pl.umap(mdata_subset2, color=['leiden_wnn_subcluster'], ncols=1, size=10)"
   ]
  },
  {
   "cell_type": "code",
   "execution_count": null,
   "id": "f7383b54",
   "metadata": {
    "scrolled": true
   },
   "outputs": [],
   "source": [
    "# recalculate nn\n",
    "sc.pp.neighbors(mdata_subset2['rna'], use_rep=\"X_harmony\")\n",
    "sc.pp.neighbors(mdata_subset2['prot'], use_rep=\"X_harmony\")\n",
    "\n",
    "\n",
    "mu.pp.neighbors(mdata_subset2, key_added='wnn')\n",
    "\n",
    "mu.tl.umap(mdata_subset2, neighbors_key='wnn', random_state=10)"
   ]
  },
  {
   "cell_type": "code",
   "execution_count": null,
   "id": "e36b1654",
   "metadata": {},
   "outputs": [],
   "source": [
    "X = np.hstack([mdata_subset2['rna'].obsm['X_harmony'], mdata_subset2['prot'].obsm['X_harmony']])\n",
    "\n",
    "for r in (0.3, 0.5, 0.7):\n",
    "    key = f'subset2_leiden_r{r:.1f}'\n",
    "    sc.tl.leiden(mdata_subset2, neighbors_key='wnn', resolution=r, key_added=key, random_state=0)\n",
    "\n",
    "    y = mdata_subset2.obs[key].to_numpy()\n",
    "    s = silhouette_score(X, y, metric='cosine')\n",
    "    print(f\"{key}: n_clusters={np.unique(y).size}  silhouette={s:.4f}\")\n",
    "\n",
    "    # UMAP\n",
    "    sc.pl.umap(mdata_subset2, color=key, legend_loc='on data')\n",
    "\n",
    "    # RNA markers\n",
    "    mdata_subset2['rna'].obs[key] = mdata_subset2.obs[key].astype('category')\n",
    "    sc.tl.rank_genes_groups(mdata_subset2['rna'], groupby=key, method='wilcoxon')\n",
    "    sc.pl.rank_genes_groups_dotplot(mdata_subset2['rna'], n_genes=5, standard_scale='var',\n",
    "                                    swap_axes=True, dendrogram=False)"
   ]
  },
  {
   "cell_type": "code",
   "execution_count": null,
   "id": "19c22e89",
   "metadata": {},
   "outputs": [],
   "source": [
    "mdata_subset2.obs['leiden_wnn_subcluster2'] = mdata_subset2.obs['subset2_leiden_r0.3'].copy()\n",
    "mdata_subset2[\"rna\"].obs[\"leiden_wnn_subcluster2\"]=mdata_subset2.obs[\"leiden_wnn_subcluster2\"]\n"
   ]
  },
  {
   "cell_type": "code",
   "execution_count": null,
   "id": "190c2eca",
   "metadata": {
    "scrolled": true
   },
   "outputs": [],
   "source": [
    "sc.pl.umap(mdata_subset2, color=[\"leiden_wnn_subcluster2\",\"tissue\",\"rna:pct_counts_mt\",\n",
    "                               \"donor_id\"], ncols=1, size=10)"
   ]
  },
  {
   "cell_type": "code",
   "execution_count": null,
   "id": "9fc8b252",
   "metadata": {
    "scrolled": true
   },
   "outputs": [],
   "source": [
    "mu.pl.embedding(mdata_subset2, basis=\"X_umap\", frameon=False, color=[\"leiden_wnn_subcluster2\",\"CD4_TotalSeqC\",\"CD4\",\"CD8a_TotalSeqC\",\"CD3_TotalSeqC\",\"CD194_TotalSeqC\",\"CD20_TotalSeqC\",\n",
    "                \"CD8A\",\"CD45RA_TotalSeqC\",\"CD45RO_TotalSeqC\",\"CD16_TotalSeqC\",\"CD1c_TotalSeqC\",\"CD56_TotalSeqC\",\"CD14_TotalSeqC\",\n",
    "               \"CD27_TotalSeqC\",\"TIGIT_TotalSeqC\",\"CD25_TotalSeqC\",\"CD103_TotalSeqC\",\"CD62L_TotalSeqC\",\n",
    "               \"CD28_TotalSeqC\",\"CD127_TotalSeqC\"],\n",
    "                ncols=2, color_map=\"YlOrRd\")"
   ]
  },
  {
   "cell_type": "code",
   "execution_count": null,
   "id": "e74684a6",
   "metadata": {},
   "outputs": [],
   "source": [
    "new_cluster_names = {\n",
    "    \"0\": \"Tcell_CD8+\", \"1\": \"Tcell_CD4+\", \"2\": \"Tcell_CD8+\"}\n",
    "\n",
    "mdata_subset2.obs['celltype_subset2'] = mdata_subset2.obs.leiden_wnn_subcluster2.astype(\"str\").values\n",
    "mdata_subset2.obs.celltype_subset2 = mdata_subset2.obs.celltype_subset2.replace(new_cluster_names)\n",
    "mdata_subset2.obs.celltype_subset2 = mdata_subset2.obs.celltype_subset2.astype(\"category\")"
   ]
  },
  {
   "cell_type": "code",
   "execution_count": null,
   "id": "a7abce05",
   "metadata": {},
   "outputs": [],
   "source": [
    "mdata_subset.obs[\"celltype_subset\"]=mdata_subset.obs[\"leiden_wnn_subcluster\"]\n",
    "\n",
    "# update categories\n",
    "mdata_subset.obs[\"celltype_subset\"] = mdata_subset.obs[\"celltype_subset\"].cat.add_categories(\"Tcell_CD4+\")\n",
    "mdata_subset.obs[\"celltype_subset\"] = mdata_subset.obs[\"celltype_subset\"].cat.add_categories(\"Tcell_CD8+\")\n",
    "\n",
    "for cell_id, celltype_subset2 in zip(mdata_subset2.obs_names, mdata_subset2.obs[\"celltype_subset2\"]):\n",
    "    if cell_id in mdata_subset.obs.index:\n",
    "        mdata_subset.obs.loc[cell_id, \"celltype_subset\"] = celltype_subset2"
   ]
  },
  {
   "cell_type": "code",
   "execution_count": null,
   "id": "6d1158b8",
   "metadata": {},
   "outputs": [],
   "source": [
    "mu.pl.embedding(mdata_subset, basis=\"X_umap\", frameon=False, color=[\"celltype_subset\"],\n",
    "                ncols=2, color_map=\"YlOrRd\")"
   ]
  },
  {
   "cell_type": "code",
   "execution_count": null,
   "id": "12539016",
   "metadata": {},
   "outputs": [],
   "source": [
    "# cluster 3"
   ]
  },
  {
   "cell_type": "code",
   "execution_count": null,
   "id": "095d43f5",
   "metadata": {},
   "outputs": [],
   "source": [
    "mdata_subset2 = mdata_subset[mdata_subset.obs['leiden_wnn_subcluster'].isin([\"3\"]),:]"
   ]
  },
  {
   "cell_type": "code",
   "execution_count": null,
   "id": "7a5af9ed",
   "metadata": {
    "scrolled": true
   },
   "outputs": [],
   "source": [
    "# remove unused categories\n",
    "mdata_subset2.obs['leiden_wnn_subcluster'] = mdata_subset2.obs['leiden_wnn_subcluster'].cat.remove_unused_categories()"
   ]
  },
  {
   "cell_type": "code",
   "execution_count": null,
   "id": "15917801",
   "metadata": {
    "scrolled": true
   },
   "outputs": [],
   "source": [
    "sc.pl.umap(mdata_subset2, color=['leiden_wnn_subcluster'], ncols=1, size=10)"
   ]
  },
  {
   "cell_type": "code",
   "execution_count": null,
   "id": "1ca9c597",
   "metadata": {
    "scrolled": true
   },
   "outputs": [],
   "source": [
    "# recalculate nn\n",
    "sc.pp.neighbors(mdata_subset2['rna'], use_rep=\"X_harmony\")\n",
    "sc.pp.neighbors(mdata_subset2['prot'], use_rep=\"X_harmony\")\n",
    "\n",
    "\n",
    "mu.pp.neighbors(mdata_subset2, key_added='wnn')\n",
    "\n",
    "mu.tl.umap(mdata_subset2, neighbors_key='wnn', random_state=10)"
   ]
  },
  {
   "cell_type": "code",
   "execution_count": null,
   "id": "4c2e7c7b",
   "metadata": {},
   "outputs": [],
   "source": [
    "X = np.hstack([mdata_subset2['rna'].obsm['X_harmony'], mdata_subset2['prot'].obsm['X_harmony']])\n",
    "\n",
    "for r in (0.3, 0.5, 0.7):\n",
    "    key = f'subset2_leiden_r{r:.1f}'\n",
    "    sc.tl.leiden(mdata_subset2, neighbors_key='wnn', resolution=r, key_added=key, random_state=0)\n",
    "\n",
    "    y = mdata_subset2.obs[key].to_numpy()\n",
    "    s = silhouette_score(X, y, metric='cosine')\n",
    "    print(f\"{key}: n_clusters={np.unique(y).size}  silhouette={s:.4f}\")\n",
    "\n",
    "    # UMAP\n",
    "    sc.pl.umap(mdata_subset2, color=key, legend_loc='on data')\n",
    "\n",
    "    # RNA markers\n",
    "    mdata_subset2['rna'].obs[key] = mdata_subset2.obs[key].astype('category')\n",
    "    sc.tl.rank_genes_groups(mdata_subset2['rna'], groupby=key, method='wilcoxon')\n",
    "    sc.pl.rank_genes_groups_dotplot(mdata_subset2['rna'], n_genes=5, standard_scale='var',\n",
    "                                    swap_axes=True, dendrogram=False)"
   ]
  },
  {
   "cell_type": "code",
   "execution_count": null,
   "id": "8363f8c5",
   "metadata": {},
   "outputs": [],
   "source": [
    "mdata_subset2.obs['leiden_wnn_subcluster2'] = mdata_subset2.obs['subset2_leiden_r0.3'].copy()\n",
    "mdata_subset2[\"rna\"].obs[\"leiden_wnn_subcluster2\"]=mdata_subset2.obs[\"leiden_wnn_subcluster2\"]\n"
   ]
  },
  {
   "cell_type": "code",
   "execution_count": null,
   "id": "cbddb4bb",
   "metadata": {
    "scrolled": true
   },
   "outputs": [],
   "source": [
    "sc.pl.umap(mdata_subset2, color=[\"leiden_wnn_subcluster2\",\"tissue\",\"rna:pct_counts_mt\",\n",
    "                               \"donor_id\"], ncols=1, size=10)"
   ]
  },
  {
   "cell_type": "code",
   "execution_count": null,
   "id": "ce3ae053",
   "metadata": {
    "scrolled": true
   },
   "outputs": [],
   "source": [
    "mu.pl.embedding(mdata_subset2, basis=\"X_umap\", frameon=False, color=[\"leiden_wnn_subcluster2\",\"CD4_TotalSeqC\",\n",
    "                                                                    \"CD8a_TotalSeqC\",\"CD3_TotalSeqC\",\"CD103_TotalSeqC\",\n",
    "                                                                    \"CD8A\",\"CD4\",\"CD366_TotalSeqC\", \"THY1\",\"HLA-G\",\n",
    "                                                                    \"CD45_TotalSeqC\",\"CD14\",\"TRDC\"],\n",
    "                ncols=2, color_map=\"YlOrRd\")"
   ]
  },
  {
   "cell_type": "code",
   "execution_count": null,
   "id": "9e89b1aa",
   "metadata": {
    "scrolled": true
   },
   "outputs": [],
   "source": [
    "mdata_subset2[\"rna\"].obs[\"leiden_wnn_subcluster2\"]=mdata_subset2.obs[\"leiden_wnn_subcluster2\"]\n",
    "\n",
    "sc.tl.rank_genes_groups(mdata_subset2[\"rna\"], 'leiden_wnn_subcluster2', method='wilcoxon')\n",
    "result = mdata_subset2[\"rna\"].uns['rank_genes_groups']\n",
    "groups = result['names'].dtype.names\n",
    "pd.set_option('display.max_columns', 100)\n",
    "pd.DataFrame(\n",
    "    {group + '_' + key[:1]: result[key][group]\n",
    "    for group in groups for key in ['names']}).head(20)"
   ]
  },
  {
   "cell_type": "code",
   "execution_count": null,
   "id": "30f5b6cd",
   "metadata": {},
   "outputs": [],
   "source": [
    "marker_genes = [\"CD4_TotalSeqC\",\"CD8a_TotalSeqC\",\"CD3_TotalSeqC\",\"CD194_TotalSeqC\",\"CD20_TotalSeqC\",\n",
    "                \"CD45RA_TotalSeqC\",\"CD45RO_TotalSeqC\",\"CD16_TotalSeqC\",\"CD1c_TotalSeqC\",\"CD56_TotalSeqC\",\"CD14_TotalSeqC\",\n",
    "               \"CD27_TotalSeqC\",\"TIGIT_TotalSeqC\",\"CD25_TotalSeqC\",\"CD103_TotalSeqC\",\"CD62L_TotalSeqC\",\n",
    "               \"CD28_TotalSeqC\",\"CD127_TotalSeqC\",\"CD366_TotalSeqC\"]\n",
    "mdata_subset2[\"prot\"].obs[\"leiden_wnn_subcluster2\"]=mdata_subset2.obs[\"leiden_wnn_subcluster2\"]\n",
    "#sc.tl.dendrogram(mdata_subset[\"prot\"], 'leiden_wnn_subcluster')\n",
    "sc.pl.dotplot(mdata_subset2[\"prot\"], marker_genes, groupby='leiden_wnn_subcluster2', dendrogram=False,\n",
    "              use_raw=False\n",
    "              #, standard_scale=\"var\"\n",
    "             );"
   ]
  },
  {
   "cell_type": "code",
   "execution_count": null,
   "id": "df4e5557",
   "metadata": {},
   "outputs": [],
   "source": [
    "# move gamma delta T cells to the CD4 cells at first\n",
    "new_cluster_names = {\n",
    "    \"0\": \"Tcell_CD4+\", \"1\": \"Tcell_CD8+\", \"2\": \"Tcell_CD4+\"}\n",
    "\n",
    "mdata_subset2.obs['celltype_subset2'] = mdata_subset2.obs.leiden_wnn_subcluster2.astype(\"str\").values\n",
    "mdata_subset2.obs.celltype_subset2 = mdata_subset2.obs.celltype_subset2.replace(new_cluster_names)\n",
    "mdata_subset2.obs.celltype_subset2 = mdata_subset2.obs.celltype_subset2.astype(\"category\")"
   ]
  },
  {
   "cell_type": "code",
   "execution_count": null,
   "id": "c746100f",
   "metadata": {},
   "outputs": [],
   "source": [
    "for cell_id, celltype_subset2 in zip(mdata_subset2.obs_names, mdata_subset2.obs[\"celltype_subset2\"]):\n",
    "    if cell_id in mdata_subset.obs.index:\n",
    "        mdata_subset.obs.loc[cell_id, \"celltype_subset\"] = celltype_subset2"
   ]
  },
  {
   "cell_type": "code",
   "execution_count": null,
   "id": "0015624b",
   "metadata": {
    "scrolled": true
   },
   "outputs": [],
   "source": [
    "mu.pl.embedding(mdata_subset, basis=\"X_umap\", frameon=False, color=[\"celltype_subset\"],\n",
    "                ncols=2, color_map=\"YlOrRd\")"
   ]
  },
  {
   "cell_type": "code",
   "execution_count": null,
   "id": "7332f8b4",
   "metadata": {},
   "outputs": [],
   "source": [
    "# cluster 4"
   ]
  },
  {
   "cell_type": "code",
   "execution_count": null,
   "id": "e731e557",
   "metadata": {},
   "outputs": [],
   "source": [
    "mdata_subset2 = mdata_subset[mdata_subset.obs['leiden_wnn_subcluster'].isin([\"4\"]),:]"
   ]
  },
  {
   "cell_type": "code",
   "execution_count": null,
   "id": "7292ead3",
   "metadata": {
    "scrolled": true
   },
   "outputs": [],
   "source": [
    "# remove unused categories\n",
    "mdata_subset2.obs['leiden_wnn_subcluster'] = mdata_subset2.obs['leiden_wnn_subcluster'].cat.remove_unused_categories()"
   ]
  },
  {
   "cell_type": "code",
   "execution_count": null,
   "id": "b7214aa0",
   "metadata": {
    "scrolled": true
   },
   "outputs": [],
   "source": [
    "sc.pl.umap(mdata_subset2, color=['leiden_wnn_subcluster'], ncols=1, size=10)"
   ]
  },
  {
   "cell_type": "code",
   "execution_count": null,
   "id": "56d18f3e",
   "metadata": {
    "scrolled": true
   },
   "outputs": [],
   "source": [
    "# recalculate nn\n",
    "sc.pp.neighbors(mdata_subset2['rna'], use_rep=\"X_harmony\")\n",
    "sc.pp.neighbors(mdata_subset2['prot'], use_rep=\"X_harmony\")\n",
    "\n",
    "\n",
    "mu.pp.neighbors(mdata_subset2, key_added='wnn')\n",
    "\n",
    "mu.tl.umap(mdata_subset2, neighbors_key='wnn', random_state=10)"
   ]
  },
  {
   "cell_type": "code",
   "execution_count": null,
   "id": "3011fc49",
   "metadata": {},
   "outputs": [],
   "source": [
    "X = np.hstack([mdata_subset2['rna'].obsm['X_harmony'], mdata_subset2['prot'].obsm['X_harmony']])\n",
    "\n",
    "for r in (0.3, 0.5, 0.7):\n",
    "    key = f'subset2_leiden_r{r:.1f}'\n",
    "    sc.tl.leiden(mdata_subset2, neighbors_key='wnn', resolution=r, key_added=key, random_state=0)\n",
    "\n",
    "    y = mdata_subset2.obs[key].to_numpy()\n",
    "    s = silhouette_score(X, y, metric='cosine')\n",
    "    print(f\"{key}: n_clusters={np.unique(y).size}  silhouette={s:.4f}\")\n",
    "\n",
    "    # UMAP\n",
    "    sc.pl.umap(mdata_subset2, color=key, legend_loc='on data')\n",
    "\n",
    "    # RNA markers\n",
    "    mdata_subset2['rna'].obs[key] = mdata_subset2.obs[key].astype('category')\n",
    "    sc.tl.rank_genes_groups(mdata_subset2['rna'], groupby=key, method='wilcoxon')\n",
    "    sc.pl.rank_genes_groups_dotplot(mdata_subset2['rna'], n_genes=5, standard_scale='var',\n",
    "                                    swap_axes=True, dendrogram=False)"
   ]
  },
  {
   "cell_type": "code",
   "execution_count": null,
   "id": "66c2f00a",
   "metadata": {},
   "outputs": [],
   "source": [
    "mdata_subset2.obs['leiden_wnn_subcluster2'] = mdata_subset2.obs['subset2_leiden_r0.5'].copy()\n",
    "mdata_subset2[\"rna\"].obs[\"leiden_wnn_subcluster2\"]=mdata_subset2.obs[\"leiden_wnn_subcluster2\"]"
   ]
  },
  {
   "cell_type": "code",
   "execution_count": null,
   "id": "fa0667b2",
   "metadata": {
    "scrolled": true
   },
   "outputs": [],
   "source": [
    "sc.pl.umap(mdata_subset2, color=[\"leiden_wnn_subcluster2\",\"tissue\",\"rna:pct_counts_mt\",\n",
    "                               \"donor_id\"], ncols=1, size=10)"
   ]
  },
  {
   "cell_type": "code",
   "execution_count": null,
   "id": "fd37a9d6",
   "metadata": {
    "scrolled": true
   },
   "outputs": [],
   "source": [
    "mu.pl.embedding(mdata_subset2, basis=\"X_umap\", frameon=False, color=[\"leiden_wnn_subcluster2\",\"CD4_TotalSeqC\",\n",
    "                                                                    \"CD8a_TotalSeqC\",\"CD3_TotalSeqC\",\"CD103_TotalSeqC\",\n",
    "                                                                    \"CD8A\",\"CD4\"],\n",
    "                ncols=2, color_map=\"YlOrRd\")"
   ]
  },
  {
   "cell_type": "code",
   "execution_count": null,
   "id": "1ec32368",
   "metadata": {},
   "outputs": [],
   "source": [
    "new_cluster_names = {\n",
    "    \"0\": \"Tcell_CD8+\", \"1\": \"Tcell_CD8+\", \"2\": \"Tcell_CD4+\", \"3\":\"Tcell_CD8+\"}\n",
    "\n",
    "mdata_subset2.obs['celltype_subset2'] = mdata_subset2.obs.leiden_wnn_subcluster2.astype(\"str\").values\n",
    "mdata_subset2.obs.celltype_subset2 = mdata_subset2.obs.celltype_subset2.replace(new_cluster_names)\n",
    "mdata_subset2.obs.celltype_subset2 = mdata_subset2.obs.celltype_subset2.astype(\"category\")"
   ]
  },
  {
   "cell_type": "code",
   "execution_count": null,
   "id": "576f56f7",
   "metadata": {},
   "outputs": [],
   "source": [
    "for cell_id, celltype_subset2 in zip(mdata_subset2.obs_names, mdata_subset2.obs[\"celltype_subset2\"]):\n",
    "    if cell_id in mdata_subset.obs.index:\n",
    "        mdata_subset.obs.loc[cell_id, \"celltype_subset\"] = celltype_subset2"
   ]
  },
  {
   "cell_type": "code",
   "execution_count": null,
   "id": "7981f47b",
   "metadata": {},
   "outputs": [],
   "source": [
    "mu.pl.embedding(mdata_subset, basis=\"X_umap\", frameon=False, color=[\"celltype_subset\"],\n",
    "                ncols=2, color_map=\"YlOrRd\")"
   ]
  },
  {
   "cell_type": "code",
   "execution_count": null,
   "id": "642421d7",
   "metadata": {},
   "outputs": [],
   "source": [
    "# cluster 6"
   ]
  },
  {
   "cell_type": "code",
   "execution_count": null,
   "id": "dd462574",
   "metadata": {},
   "outputs": [],
   "source": [
    "mdata_subset2 = mdata_subset[mdata_subset.obs['leiden_wnn_subcluster'].isin([\"6\"]),:]"
   ]
  },
  {
   "cell_type": "code",
   "execution_count": null,
   "id": "cde35278",
   "metadata": {
    "scrolled": true
   },
   "outputs": [],
   "source": [
    "# remove unused categories\n",
    "mdata_subset2.obs['leiden_wnn_subcluster'] = mdata_subset2.obs['leiden_wnn_subcluster'].cat.remove_unused_categories()"
   ]
  },
  {
   "cell_type": "code",
   "execution_count": null,
   "id": "eb4bc389",
   "metadata": {
    "scrolled": true
   },
   "outputs": [],
   "source": [
    "sc.pl.umap(mdata_subset2, color=['leiden_wnn_subcluster'], ncols=1, size=10)"
   ]
  },
  {
   "cell_type": "code",
   "execution_count": null,
   "id": "c18ba0ac",
   "metadata": {
    "scrolled": true
   },
   "outputs": [],
   "source": [
    "# recalculate nn\n",
    "sc.pp.neighbors(mdata_subset2['rna'], use_rep=\"X_harmony\")\n",
    "sc.pp.neighbors(mdata_subset2['prot'], use_rep=\"X_harmony\")\n",
    "\n",
    "\n",
    "mu.pp.neighbors(mdata_subset2, key_added='wnn')\n",
    "\n",
    "mu.tl.umap(mdata_subset2, neighbors_key='wnn', random_state=10)"
   ]
  },
  {
   "cell_type": "code",
   "execution_count": null,
   "id": "d1725502",
   "metadata": {},
   "outputs": [],
   "source": [
    "X = np.hstack([mdata_subset2['rna'].obsm['X_harmony'], mdata_subset2['prot'].obsm['X_harmony']])\n",
    "\n",
    "for r in (0.3, 0.5, 0.7):\n",
    "    key = f'subset2_leiden_r{r:.1f}'\n",
    "    sc.tl.leiden(mdata_subset2, neighbors_key='wnn', resolution=r, key_added=key, random_state=0)\n",
    "\n",
    "    y = mdata_subset2.obs[key].to_numpy()\n",
    "    s = silhouette_score(X, y, metric='cosine')\n",
    "    print(f\"{key}: n_clusters={np.unique(y).size}  silhouette={s:.4f}\")\n",
    "\n",
    "    # UMAP\n",
    "    sc.pl.umap(mdata_subset2, color=key, legend_loc='on data')\n",
    "\n",
    "    # RNA markers\n",
    "    mdata_subset2['rna'].obs[key] = mdata_subset2.obs[key].astype('category')\n",
    "    sc.tl.rank_genes_groups(mdata_subset2['rna'], groupby=key, method='wilcoxon')\n",
    "    sc.pl.rank_genes_groups_dotplot(mdata_subset2['rna'], n_genes=5, standard_scale='var',\n",
    "                                    swap_axes=True, dendrogram=False)"
   ]
  },
  {
   "cell_type": "code",
   "execution_count": null,
   "id": "91401156",
   "metadata": {},
   "outputs": [],
   "source": [
    "mdata_subset2.obs['leiden_wnn_subcluster2'] = mdata_subset2.obs['subset2_leiden_r0.3'].copy()\n",
    "mdata_subset2[\"rna\"].obs[\"leiden_wnn_subcluster2\"]=mdata_subset2.obs[\"leiden_wnn_subcluster2\"]"
   ]
  },
  {
   "cell_type": "code",
   "execution_count": null,
   "id": "897ce08b",
   "metadata": {
    "scrolled": true
   },
   "outputs": [],
   "source": [
    "sc.pl.umap(mdata_subset2, color=[\"leiden_wnn_subcluster2\",\"tissue\",\"rna:pct_counts_mt\",\n",
    "                               \"donor_id\"], ncols=1, size=10)"
   ]
  },
  {
   "cell_type": "code",
   "execution_count": null,
   "id": "cee572aa",
   "metadata": {
    "scrolled": true
   },
   "outputs": [],
   "source": [
    "mu.pl.embedding(mdata_subset2, basis=\"X_umap\", frameon=False, color=[\"leiden_wnn_subcluster2\",\"CD4_TotalSeqC\",\n",
    "                                                                    \"CD8a_TotalSeqC\",\"CD3_TotalSeqC\",\"CD103_TotalSeqC\",\n",
    "                                                                    \"CD8A\",\"CD4\"],\n",
    "                ncols=2, color_map=\"YlOrRd\")"
   ]
  },
  {
   "cell_type": "code",
   "execution_count": null,
   "id": "460b4be3",
   "metadata": {},
   "outputs": [],
   "source": [
    "new_cluster_names = {\n",
    "    \"0\": \"Tcell_CD4+\", \"1\": \"Tcell_CD8+\"}\n",
    "\n",
    "mdata_subset2.obs['celltype_subset2'] = mdata_subset2.obs.leiden_wnn_subcluster2.astype(\"str\").values\n",
    "mdata_subset2.obs.celltype_subset2 = mdata_subset2.obs.celltype_subset2.replace(new_cluster_names)\n",
    "mdata_subset2.obs.celltype_subset2 = mdata_subset2.obs.celltype_subset2.astype(\"category\")"
   ]
  },
  {
   "cell_type": "code",
   "execution_count": null,
   "id": "b0eda06a",
   "metadata": {},
   "outputs": [],
   "source": [
    "for cell_id, celltype_subset2 in zip(mdata_subset2.obs_names, mdata_subset2.obs[\"celltype_subset2\"]):\n",
    "    if cell_id in mdata_subset.obs.index:\n",
    "        mdata_subset.obs.loc[cell_id, \"celltype_subset\"] = celltype_subset2"
   ]
  },
  {
   "cell_type": "code",
   "execution_count": null,
   "id": "292fd93a",
   "metadata": {},
   "outputs": [],
   "source": [
    "mu.pl.embedding(mdata_subset, basis=\"X_umap\", frameon=False, color=[\"celltype_subset\"],\n",
    "                ncols=2, color_map=\"YlOrRd\")"
   ]
  },
  {
   "cell_type": "code",
   "execution_count": null,
   "id": "c4015fa1",
   "metadata": {},
   "outputs": [],
   "source": [
    "cluster_name_mapping = {\n",
    "    '0': 'Tcell_CD4+',\n",
    "    '1': 'Tcell_CD8+',\n",
    "    \"5\": \"Tcell_CD4+\",\n",
    "    \"7\": \"Tcell_CD8+\"\n",
    "}\n",
    "\n",
    "# rename clusters\n",
    "mdata_subset.obs['celltype_subset'] = mdata_subset.obs['celltype_subset'].astype(str).replace(cluster_name_mapping)"
   ]
  },
  {
   "cell_type": "code",
   "execution_count": null,
   "id": "b45584b6",
   "metadata": {},
   "outputs": [],
   "source": [
    "mu.pl.embedding(mdata_subset, basis=\"X_umap\", frameon=False, color=[\"celltype_subset\"],\n",
    "                ncols=2, color_map=\"YlOrRd\")"
   ]
  },
  {
   "cell_type": "code",
   "execution_count": null,
   "id": "42441bb7",
   "metadata": {
    "scrolled": true
   },
   "outputs": [],
   "source": [
    "mu.pl.embedding(mdata_subset, basis=\"X_umap\", frameon=False, color=[\"celltype_subset\",\"CD4_TotalSeqC\",\n",
    "                                                                    \"CD8a_TotalSeqC\",\"IL7R\"],\n",
    "                ncols=2, color_map=\"YlOrRd\")"
   ]
  },
  {
   "cell_type": "code",
   "execution_count": null,
   "id": "e98d2a42",
   "metadata": {},
   "outputs": [],
   "source": [
    "for cell_id, celltype_subset in zip(mdata_subset.obs_names, mdata_subset.obs[\"celltype_subset\"]):\n",
    "    if cell_id in mdata.obs.index:\n",
    "        mdata.obs.loc[cell_id, \"celltype_hires\"] = celltype_subset"
   ]
  },
  {
   "cell_type": "code",
   "execution_count": null,
   "id": "4de4f46f",
   "metadata": {
    "scrolled": false
   },
   "outputs": [],
   "source": [
    "mdata.obs['celltype_hires'] = mdata.obs['celltype_hires'].cat.remove_unused_categories()\n",
    "sc.pl.umap(mdata, color=['celltype_hires'], ncols=1, size=10)"
   ]
  },
  {
   "cell_type": "markdown",
   "id": "a383f27f",
   "metadata": {},
   "source": [
    "## subcluster Tcell_CD4+"
   ]
  },
  {
   "cell_type": "code",
   "execution_count": null,
   "id": "3d250f6c",
   "metadata": {},
   "outputs": [],
   "source": [
    "mdata_subset = mdata[mdata.obs['celltype_hires'].isin([\"Tcell_CD4+\"]),:]"
   ]
  },
  {
   "cell_type": "code",
   "execution_count": null,
   "id": "62974bf1",
   "metadata": {
    "scrolled": true
   },
   "outputs": [],
   "source": [
    "# remove unused categories\n",
    "mdata_subset.obs['celltype_hires'] = mdata_subset.obs['celltype_hires'].cat.remove_unused_categories()"
   ]
  },
  {
   "cell_type": "code",
   "execution_count": null,
   "id": "f81a7e86",
   "metadata": {
    "scrolled": true
   },
   "outputs": [],
   "source": [
    "sc.pl.umap(mdata_subset, color=['celltype_hires'], ncols=1, size=10)"
   ]
  },
  {
   "cell_type": "code",
   "execution_count": null,
   "id": "81526c6c",
   "metadata": {
    "scrolled": true
   },
   "outputs": [],
   "source": [
    "# recalculate nn\n",
    "sc.pp.neighbors(mdata_subset['rna'], use_rep=\"X_harmony\")\n",
    "sc.pp.neighbors(mdata_subset['prot'], use_rep=\"X_harmony\")\n",
    "\n",
    "mu.pp.neighbors(mdata_subset, key_added='wnn')\n",
    "\n",
    "mu.tl.umap(mdata_subset, neighbors_key='wnn', random_state=10)"
   ]
  },
  {
   "cell_type": "code",
   "execution_count": null,
   "id": "f12e88a2",
   "metadata": {},
   "outputs": [],
   "source": [
    "X = np.hstack([mdata_subset['rna'].obsm['X_harmony'], mdata_subset['prot'].obsm['X_harmony']])\n",
    "\n",
    "for r in (0.3, 0.5, 0.7, 1.2):\n",
    "    key = f'subset_leiden_r{r:.1f}'\n",
    "    sc.tl.leiden(mdata_subset, neighbors_key='wnn', resolution=r, key_added=key, random_state=0)\n",
    "\n",
    "    y = mdata_subset.obs[key].to_numpy()\n",
    "    s = silhouette_score(X, y, metric='cosine')\n",
    "    print(f\"{key}: n_clusters={np.unique(y).size}  silhouette={s:.4f}\")\n",
    "\n",
    "    # UMAP\n",
    "    sc.pl.umap(mdata_subset, color=key, legend_loc='on data')\n",
    "\n",
    "    # RNA markers\n",
    "    mdata_subset['rna'].obs[key] = mdata_subset.obs[key].astype('category')\n",
    "    sc.tl.rank_genes_groups(mdata_subset['rna'], groupby=key, method='wilcoxon')\n",
    "    sc.pl.rank_genes_groups_dotplot(mdata_subset['rna'], n_genes=5, standard_scale='var',\n",
    "                                    swap_axes=True, dendrogram=False)"
   ]
  },
  {
   "cell_type": "code",
   "execution_count": null,
   "id": "86ea0f9d",
   "metadata": {},
   "outputs": [],
   "source": [
    "mdata_subset.obs['leiden_wnn_subcluster'] = mdata_subset.obs['subset_leiden_r1.2'].copy()\n",
    "mdata_subset[\"rna\"].obs[\"leiden_wnn_subcluster\"]=mdata_subset.obs[\"leiden_wnn_subcluster\"]"
   ]
  },
  {
   "cell_type": "code",
   "execution_count": null,
   "id": "94c89c88",
   "metadata": {
    "scrolled": true
   },
   "outputs": [],
   "source": [
    "sc.pl.umap(mdata_subset, color=[\"leiden_wnn_subcluster\",\"tissue\",\"rna:pct_counts_mt\",\n",
    "                               \"donor_id\"], ncols=1, size=10)"
   ]
  },
  {
   "cell_type": "code",
   "execution_count": null,
   "id": "fceee799",
   "metadata": {
    "scrolled": true
   },
   "outputs": [],
   "source": [
    "mdata_subset[\"rna\"].obs[\"leiden_wnn_subcluster\"]=mdata_subset.obs[\"leiden_wnn_subcluster\"]\n",
    "sc.tl.rank_genes_groups(mdata_subset[\"rna\"], 'leiden_wnn_subcluster', method='wilcoxon')\n",
    "result = mdata_subset[\"rna\"].uns['rank_genes_groups']\n",
    "groups = result['names'].dtype.names\n",
    "pd.set_option('display.max_columns', 100)\n",
    "pd.DataFrame(\n",
    "    {group + '_' + key[:1]: result[key][group]\n",
    "    for group in groups for key in ['names']}).head(20)"
   ]
  },
  {
   "cell_type": "code",
   "execution_count": null,
   "id": "c2719f1e",
   "metadata": {
    "scrolled": false
   },
   "outputs": [],
   "source": [
    "marker_genes = [\"CD4_TotalSeqC\",\"CD8a_TotalSeqC\",\"CD3_TotalSeqC\",\"CD194_TotalSeqC\",\"CD20_TotalSeqC\",\n",
    "                \"CD45RA_TotalSeqC\",\"CD45RO_TotalSeqC\",\"CD16_TotalSeqC\",\"CD1c_TotalSeqC\",\"CD56_TotalSeqC\",\"CD14_TotalSeqC\",\n",
    "               \"CD27_TotalSeqC\",\"TIGIT_TotalSeqC\",\"CD25_TotalSeqC\",\"CD103_TotalSeqC\",\"CD62L_TotalSeqC\",\n",
    "               \"CD28_TotalSeqC\",\"CD127_TotalSeqC\",\"CD366_TotalSeqC\",\"CD11b_TotalSeqC\",\"CD314_TotalSeqC\"]\n",
    "mdata_subset[\"prot\"].obs[\"leiden_wnn_subcluster\"]=mdata_subset.obs[\"leiden_wnn_subcluster\"]\n",
    "sc.tl.dendrogram(mdata_subset[\"prot\"], 'leiden_wnn_subcluster')\n",
    "sc.pl.dotplot(mdata_subset[\"prot\"], marker_genes, groupby='leiden_wnn_subcluster', dendrogram=False, use_raw=False\n",
    "              ,standard_scale=\"var\"\n",
    "             );"
   ]
  },
  {
   "cell_type": "code",
   "execution_count": null,
   "id": "aa206ce6",
   "metadata": {},
   "outputs": [],
   "source": [
    "marker_genes = [\"IL7R\",\"FOXP3\",\"TIGIT\",\"CTLA4\",\"IL2RA\",\"GNLY\",\"NCAM1\",\"CD3E\",\"PTPRC\",\"DCN\",\"MKI67\",\"SELL\",\"PDCD1\",\n",
    "               \"GZMK\",\"CST7\",\"KLRC1\",\"TRGV2\",\"CD4\",\"CD8A\",\"PTPRC\",\"KLRK1\",\"CCR7\",\"KIT\",\"LTB\",\"KLRB1\",\"TRBC1\"]\n",
    "mdata_subset[\"rna\"].obs[\"leiden_wnn_subcluster\"]=mdata_subset.obs[\"leiden_wnn_subcluster\"]\n",
    "sc.tl.dendrogram(mdata_subset[\"rna\"], 'leiden_wnn_subcluster')\n",
    "sc.pl.dotplot(mdata_subset[\"rna\"], marker_genes, groupby='leiden_wnn_subcluster', dendrogram=False, use_raw=True,\n",
    "              standard_scale=\"var\");"
   ]
  },
  {
   "cell_type": "code",
   "execution_count": null,
   "id": "407db6b2",
   "metadata": {
    "scrolled": true
   },
   "outputs": [],
   "source": [
    "mu.pl.embedding(mdata_subset, basis=\"X_umap\", frameon=False, color=[\"IL7R\",\"FOXP3\",\"TIGIT\",\"CTLA4\",\"IL2RA\",\n",
    "                                                                    \"GNLY\",\"NCAM1\",\"CD3E\",\"PTPRC\",\"DCN\",\"MKI67\",\"SELL\",\n",
    "                                                                   \"PDCD1\",\"KLRC1\",\"CD3_TotalSeqC\",\"TRGV2\",\"TRAV1-2\",\n",
    "                                                                   \"FCGR3A\",\"CD16_TotalSeqC\",\"CD8A\",\"KIT\",\n",
    "                                                                    \"LTB\",\"KLRB1\",\"TRBC1\"],\n",
    "                ncols=2, color_map=\"YlOrRd\")"
   ]
  },
  {
   "cell_type": "code",
   "execution_count": null,
   "id": "ad99dade",
   "metadata": {},
   "outputs": [],
   "source": [
    "new_cluster_names = {\n",
    "    \"0\": \"Tcell_CD4+tr\", \"1\": \"Tcell_CD4+blood\",\"2\": \"Tcell_CD4+tr\",\"3\":\"Tcell_CD4+tr\",\"4\":\"Tcell_CD4+tr\",\n",
    "    \"5\":\"Tcell_CD4+cyto\",\"6\":\"Tcell_CD4+tr\",\"7\":\"Tcell_CD4+cyto\",\n",
    "    \"8\":\"Tcell_CD4+prol\",\"9\":\"Tcell_CD4+exh\",\"10\": \"Tcell_reg\", \"11\":\"Tcell_CD4+cyto\", \"12\":\"Tcell_NK_doublet\",\n",
    "    \"13\":\"Tcell_gd\",\n",
    "    \"14\":\"Tcell_CD4+tr\"\n",
    "}\n",
    "\n",
    "\n",
    "mdata_subset.obs['celltype_subset'] = mdata_subset.obs.leiden_wnn_subcluster.astype(\"str\").values\n",
    "mdata_subset.obs.celltype_subset = mdata_subset.obs.celltype_subset.replace(new_cluster_names)\n",
    "mdata_subset.obs.celltype_subset = mdata_subset.obs.celltype_subset.astype(\"category\")"
   ]
  },
  {
   "cell_type": "code",
   "execution_count": null,
   "id": "26004f10",
   "metadata": {
    "scrolled": true
   },
   "outputs": [],
   "source": [
    "sc.pl.umap(mdata_subset, color=[\"celltype_subset\"], ncols=1, size=10)"
   ]
  },
  {
   "cell_type": "code",
   "execution_count": null,
   "id": "e4fcc300",
   "metadata": {},
   "outputs": [],
   "source": [
    "# update categories\n",
    "mdata.obs[\"celltype_hires\"] = mdata.obs[\"celltype_hires\"].cat.add_categories(\"Tcell_CD4+cyto\")\n",
    "mdata.obs[\"celltype_hires\"] = mdata.obs[\"celltype_hires\"].cat.add_categories(\"Tcell_CD4+exh\")\n",
    "mdata.obs[\"celltype_hires\"] = mdata.obs[\"celltype_hires\"].cat.add_categories(\"Tcell_CD4+prol\")\n",
    "mdata.obs[\"celltype_hires\"] = mdata.obs[\"celltype_hires\"].cat.add_categories(\"Tcell_CD4+tr\")\n",
    "mdata.obs[\"celltype_hires\"] = mdata.obs[\"celltype_hires\"].cat.add_categories(\"Tcell_CD4+blood\")\n",
    "mdata.obs[\"celltype_hires\"] = mdata.obs[\"celltype_hires\"].cat.add_categories(\"Tcell_NK_doublet\")\n",
    "mdata.obs[\"celltype_hires\"] = mdata.obs[\"celltype_hires\"].cat.add_categories(\"Tcell_gd\")\n",
    "mdata.obs[\"celltype_hires\"] = mdata.obs[\"celltype_hires\"].cat.add_categories(\"Tcell_reg\")\n",
    "\n",
    "\n",
    "for cell_id, celltype_subset in zip(mdata_subset.obs_names, mdata_subset.obs[\"celltype_subset\"]):\n",
    "    if cell_id in mdata.obs.index:\n",
    "        mdata.obs.loc[cell_id, \"celltype_hires\"] = celltype_subset"
   ]
  },
  {
   "cell_type": "code",
   "execution_count": null,
   "id": "1cfaceec",
   "metadata": {
    "scrolled": true
   },
   "outputs": [],
   "source": [
    "sc.pl.umap(mdata, color=['celltype_hires', \"tissue\"], ncols=1, size=10)"
   ]
  },
  {
   "cell_type": "markdown",
   "id": "7e8bd37b",
   "metadata": {},
   "source": [
    "## subcluster Tcell_CD8+"
   ]
  },
  {
   "cell_type": "code",
   "execution_count": null,
   "id": "3776e3fb",
   "metadata": {},
   "outputs": [],
   "source": [
    "mdata_subset = mdata[mdata.obs['celltype_hires'].isin([\"Tcell_CD8+\"]),:]"
   ]
  },
  {
   "cell_type": "code",
   "execution_count": null,
   "id": "6da7205e",
   "metadata": {
    "scrolled": true
   },
   "outputs": [],
   "source": [
    "# remove unused categories\n",
    "mdata_subset.obs['celltype_hires'] = mdata_subset.obs['celltype_hires'].cat.remove_unused_categories()"
   ]
  },
  {
   "cell_type": "code",
   "execution_count": null,
   "id": "816f5a21",
   "metadata": {
    "scrolled": true
   },
   "outputs": [],
   "source": [
    "sc.pl.umap(mdata_subset, color=['celltype_hires'], ncols=1, size=10)"
   ]
  },
  {
   "cell_type": "code",
   "execution_count": null,
   "id": "20514559",
   "metadata": {
    "scrolled": true
   },
   "outputs": [],
   "source": [
    "# recalculate nn\n",
    "sc.pp.neighbors(mdata_subset['rna'], use_rep=\"X_harmony\")\n",
    "sc.pp.neighbors(mdata_subset['prot'], use_rep=\"X_harmony\")\n",
    "\n",
    "\n",
    "mu.pp.neighbors(mdata_subset, key_added='wnn')\n",
    "\n",
    "mu.tl.umap(mdata_subset, neighbors_key='wnn', random_state=10)"
   ]
  },
  {
   "cell_type": "code",
   "execution_count": null,
   "id": "135b402d",
   "metadata": {},
   "outputs": [],
   "source": [
    "X = np.hstack([mdata_subset['rna'].obsm['X_harmony'], mdata_subset['prot'].obsm['X_harmony']])\n",
    "\n",
    "for r in (0.3, 0.5, 0.7, 1.2):\n",
    "    key = f'subset_leiden_r{r:.1f}'\n",
    "    sc.tl.leiden(mdata_subset, neighbors_key='wnn', resolution=r, key_added=key, random_state=0)\n",
    "\n",
    "    y = mdata_subset.obs[key].to_numpy()\n",
    "    s = silhouette_score(X, y, metric='cosine')\n",
    "    print(f\"{key}: n_clusters={np.unique(y).size}  silhouette={s:.4f}\")\n",
    "\n",
    "    # UMAP\n",
    "    sc.pl.umap(mdata_subset, color=key, legend_loc='on data')\n",
    "\n",
    "    # RNA markers\n",
    "    mdata_subset['rna'].obs[key] = mdata_subset.obs[key].astype('category')\n",
    "    sc.tl.rank_genes_groups(mdata_subset['rna'], groupby=key, method='wilcoxon')\n",
    "    sc.pl.rank_genes_groups_dotplot(mdata_subset['rna'], n_genes=5, standard_scale='var',\n",
    "                                    swap_axes=True, dendrogram=False)"
   ]
  },
  {
   "cell_type": "code",
   "execution_count": null,
   "id": "eabc9193",
   "metadata": {},
   "outputs": [],
   "source": [
    "mdata_subset.obs['leiden_wnn_subcluster'] = mdata_subset.obs['subset_leiden_r0.7'].copy()\n",
    "mdata_subset[\"rna\"].obs[\"leiden_wnn_subcluster\"]=mdata_subset.obs[\"leiden_wnn_subcluster\"]"
   ]
  },
  {
   "cell_type": "code",
   "execution_count": null,
   "id": "b7dfd225",
   "metadata": {
    "scrolled": true
   },
   "outputs": [],
   "source": [
    "sc.pl.umap(mdata_subset, color=[\"leiden_wnn_subcluster\",\"tissue\",\"rna:pct_counts_mt\",\n",
    "                               \"donor_id\"], ncols=2, size=10)"
   ]
  },
  {
   "cell_type": "code",
   "execution_count": null,
   "id": "7c1eb836",
   "metadata": {
    "scrolled": true
   },
   "outputs": [],
   "source": [
    "sc.tl.rank_genes_groups(mdata_subset[\"rna\"], 'leiden_wnn_subcluster', method='wilcoxon')\n",
    "result = mdata_subset[\"rna\"].uns['rank_genes_groups']\n",
    "groups = result['names'].dtype.names\n",
    "pd.set_option('display.max_columns', 100)\n",
    "pd.DataFrame(\n",
    "    {group + '_' + key[:1]: result[key][group]\n",
    "    for group in groups for key in ['names']}).head(20)"
   ]
  },
  {
   "cell_type": "code",
   "execution_count": null,
   "id": "1fe34f62",
   "metadata": {
    "scrolled": false
   },
   "outputs": [],
   "source": [
    "marker_genes = [\"CD4_TotalSeqC\",\"CD8a_TotalSeqC\",\"CD3_TotalSeqC\",\"CD194_TotalSeqC\",\"CD20_TotalSeqC\",\n",
    "                \"CD45RA_TotalSeqC\",\"CD45RO_TotalSeqC\",\"CD16_TotalSeqC\",\"CD1c_TotalSeqC\",\"CD56_TotalSeqC\",\"CD14_TotalSeqC\",\n",
    "               \"CD27_TotalSeqC\",\"TIGIT_TotalSeqC\",\"CD25_TotalSeqC\",\"CD103_TotalSeqC\",\"CD62L_TotalSeqC\",\n",
    "               \"CD28_TotalSeqC\",\"CD127_TotalSeqC\",\"CD366_TotalSeqC\",\"CD11b_TotalSeqC\",\"CD314_TotalSeqC\"]\n",
    "mdata_subset[\"prot\"].obs[\"leiden_wnn_subcluster\"]=mdata_subset.obs[\"leiden_wnn_subcluster\"]\n",
    "sc.tl.dendrogram(mdata_subset[\"prot\"], 'leiden_wnn_subcluster')\n",
    "sc.pl.dotplot(mdata_subset[\"prot\"], marker_genes, groupby='leiden_wnn_subcluster', dendrogram=False, use_raw=False,\n",
    "             standard_scale=\"var\");"
   ]
  },
  {
   "cell_type": "code",
   "execution_count": null,
   "id": "4a24b241",
   "metadata": {},
   "outputs": [],
   "source": [
    "marker_genes = [\"IL7R\",\"FOXP3\",\"TIGIT\",\"CTLA4\",\"IL2RA\",\"GNLY\",\"NCAM1\",\"CD3E\",\"PTPRC\",\"DCN\",\"MKI67\",\"SELL\",\"PDCD1\",\n",
    "               \"GZMK\",\"CST7\",\"KLRC1\",\"TRGV2\",\"CD4\",\"CD8A\",\"PTPRC\",\"TRAV1-2\",\"KLRB1\",\"ITGAE\",\"FGFBP2\",\"NKG7\",\"GZMB\",\"GZMH\"\n",
    "               ,\"CD7\",\"KLRC2\",\"TYROBP\",\"KLRC3\",\"NCR1\",\"NCR3\",\"LEF1\",\"PABPC1\",\"LTB\",\"IFIT1\",\"IFIT3\",\"IFNG\",\"CD28\",\n",
    "               \"MCTP2\",\"PRF1\",\"NKG7\",\"XCL1\",\"ENTPD1\",\"ITGAX\",\"CDHR1\",\"ITGAE\",\"ITGA4\"]\n",
    "mdata_subset[\"rna\"].obs[\"leiden_wnn_subcluster\"]=mdata_subset.obs[\"leiden_wnn_subcluster\"]\n",
    "sc.tl.dendrogram(mdata_subset[\"rna\"], 'leiden_wnn_subcluster')\n",
    "sc.pl.dotplot(mdata_subset[\"rna\"], marker_genes, groupby='leiden_wnn_subcluster', dendrogram=False, use_raw=True,\n",
    "             standard_scale=\"var\"\n",
    "             );\n",
    "\n",
    "# due to expression of ITGAX and CDHR1 cluster 7 is most likely a NK doublet instead of an NKTcell"
   ]
  },
  {
   "cell_type": "code",
   "execution_count": null,
   "id": "263de8f7",
   "metadata": {
    "scrolled": true
   },
   "outputs": [],
   "source": [
    "mu.pl.embedding(mdata_subset, basis=\"X_umap\", frameon=False, color=[\"IL7R\",\"FOXP3\",\"TIGIT\",\"CTLA4\",\"IL2RA\",\n",
    "                                                                    \"GNLY\",\"NCAM1\",\"CD3E\",\"PTPRC\",\"DCN\",\"MKI67\",\"SELL\",\n",
    "                                                                   \"PDCD1\",\"KLRC1\",\"CD3_TotalSeqC\",\"TRGV2\",\"TRAV1-2\",\n",
    "                                                                   \"KLRB1\",\"CD103_TotalSeqC\",\"CD39_TotalSeqC\",\"CD56_TotalSeqC\"],\n",
    "                ncols=2, color_map=\"YlOrRd\")"
   ]
  },
  {
   "cell_type": "code",
   "execution_count": null,
   "id": "40eff645",
   "metadata": {},
   "outputs": [],
   "source": [
    "new_cluster_names = {\n",
    "    \"0\": \"Tcell_CD8+tr\", \"1\": \"Tcell_CD8+tr\",\"2\": \"Tcell_CD8+eff\",\"3\":\"Tcell_CD8+tr\",\"4\":\"Tcell_NK_doublet\",\n",
    "    \"5\":\"MAITcell\",\"6\":\"Tcell_CD8+prol\",\"7\":\"Tcell_CD8+tr\",\n",
    "    \"8\":\"Tcell_CD8+blood\",\"9\":\"Tcell_CD8+tr\"\n",
    "}\n",
    "\n",
    "\n",
    "mdata_subset.obs['celltype_subset'] = mdata_subset.obs.leiden_wnn_subcluster.astype(\"str\").values\n",
    "mdata_subset.obs.celltype_subset = mdata_subset.obs.celltype_subset.replace(new_cluster_names)\n",
    "mdata_subset.obs.celltype_subset = mdata_subset.obs.celltype_subset.astype(\"category\")"
   ]
  },
  {
   "cell_type": "code",
   "execution_count": null,
   "id": "8827ec19",
   "metadata": {
    "scrolled": true
   },
   "outputs": [],
   "source": [
    "sc.pl.umap(mdata_subset, color=[\"celltype_subset\"], ncols=1, size=10)"
   ]
  },
  {
   "cell_type": "code",
   "execution_count": null,
   "id": "10d92ae5",
   "metadata": {},
   "outputs": [],
   "source": [
    "# update categories\n",
    "mdata.obs[\"celltype_hires\"] = mdata.obs[\"celltype_hires\"].cat.add_categories(\"MAITcell\")\n",
    "mdata.obs[\"celltype_hires\"] = mdata.obs[\"celltype_hires\"].cat.add_categories(\"Tcell_CD8+tr\")\n",
    "mdata.obs[\"celltype_hires\"] = mdata.obs[\"celltype_hires\"].cat.add_categories(\"Tcell_CD8+eff\")\n",
    "mdata.obs[\"celltype_hires\"] = mdata.obs[\"celltype_hires\"].cat.add_categories(\"Tcell_CD8+prol\")\n",
    "mdata.obs[\"celltype_hires\"] = mdata.obs[\"celltype_hires\"].cat.add_categories(\"Tcell_CD8+blood\")\n",
    "\n",
    "\n",
    "for cell_id, celltype_subset in zip(mdata_subset.obs_names, mdata_subset.obs[\"celltype_subset\"]):\n",
    "    if cell_id in mdata.obs.index:\n",
    "        mdata.obs.loc[cell_id, \"celltype_hires\"] = celltype_subset"
   ]
  },
  {
   "cell_type": "code",
   "execution_count": null,
   "id": "04905337",
   "metadata": {
    "scrolled": true
   },
   "outputs": [],
   "source": [
    "sc.pl.umap(mdata, color=['celltype_hires', \"tissue\"], ncols=1, size=10)"
   ]
  },
  {
   "cell_type": "markdown",
   "id": "c171fd54",
   "metadata": {},
   "source": [
    "## Endothelial cells"
   ]
  },
  {
   "cell_type": "code",
   "execution_count": null,
   "id": "01254def",
   "metadata": {},
   "outputs": [],
   "source": [
    "mdata_subset = mdata[mdata.obs['celltype_wnn'].isin([\"EndoCell\"]),:]"
   ]
  },
  {
   "cell_type": "code",
   "execution_count": null,
   "id": "b31cc6de",
   "metadata": {
    "scrolled": true
   },
   "outputs": [],
   "source": [
    "# remove unused categories\n",
    "mdata_subset.obs['celltype_wnn'] = mdata_subset.obs['celltype_wnn'].cat.remove_unused_categories()"
   ]
  },
  {
   "cell_type": "code",
   "execution_count": null,
   "id": "7d28f15c",
   "metadata": {
    "scrolled": true
   },
   "outputs": [],
   "source": [
    "sc.pl.umap(mdata_subset, color=['celltype_wnn'], ncols=1, size=10)"
   ]
  },
  {
   "cell_type": "code",
   "execution_count": null,
   "id": "cdc9bc2b",
   "metadata": {},
   "outputs": [],
   "source": [
    "adata_subset=mdata_subset[\"rna\"]"
   ]
  },
  {
   "cell_type": "code",
   "execution_count": null,
   "id": "eb03e01a",
   "metadata": {
    "scrolled": true
   },
   "outputs": [],
   "source": [
    "# recalculate nn\n",
    "sc.pp.neighbors(adata_subset, use_rep=\"X_harmony\")\n",
    "\n",
    "sc.tl.umap(adata_subset, random_state=10)"
   ]
  },
  {
   "cell_type": "code",
   "execution_count": null,
   "id": "d7bb52d5",
   "metadata": {},
   "outputs": [],
   "source": [
    "X = mdata_subset['rna'].obsm['X_harmony']\n",
    "\n",
    "for r in (0.3, 0.5, 0.7):\n",
    "    key = f'subset_leiden_r{r:.1f}'\n",
    "    sc.tl.leiden(adata_subset, neighbors_key='wnn', resolution=r, key_added=key, random_state=0)\n",
    "\n",
    "    y = adata_subset.obs[key].to_numpy()\n",
    "    s = silhouette_score(X, y, metric='cosine')\n",
    "    print(f\"{key}: n_clusters={np.unique(y).size}  silhouette={s:.4f}\")\n",
    "\n",
    "    # UMAP\n",
    "    sc.pl.umap(adata_subset, color=key, legend_loc='on data')\n",
    "\n",
    "    # RNA markers\n",
    "    adata_subset.obs[key] = adata_subset.obs[key].astype('category')\n",
    "    sc.tl.rank_genes_groups(adata_subset, groupby=key, method='wilcoxon')\n",
    "    sc.pl.rank_genes_groups_dotplot(adata_subset, n_genes=5, standard_scale='var',\n",
    "                                    swap_axes=True, dendrogram=False)"
   ]
  },
  {
   "cell_type": "code",
   "execution_count": null,
   "id": "8f2c257e",
   "metadata": {},
   "outputs": [],
   "source": [
    "adata_subset.obs['leiden_wnn_subcluster'] = adata_subset.obs['subset_leiden_r0.7'].copy()"
   ]
  },
  {
   "cell_type": "code",
   "execution_count": null,
   "id": "0e36e3ca",
   "metadata": {
    "scrolled": true
   },
   "outputs": [],
   "source": [
    "sc.pl.umap(adata_subset, color=['celltype_wnn',\"leiden_wnn_subcluster\",\"tissue\",\"pct_counts_mt\",\n",
    "                               \"donor_id\",\"VWF\",\"DCN\",\"IL33\",\"PTPRC\",\"CD3E\",\"NCAM1\",\n",
    "                               \"SERPINF1\",\"CST7\",\"ZFP36\", \"EFNB2\", \"ADGRF5\", \"SOX17\", \"ICAM2\", \"SLC9A3R2\",\n",
    "                               \"SELE\", \"ICAM1\", \"PECAM1\", \"SPARC\", \"ACKR1\", \"SELP\"], ncols=2, size=20)"
   ]
  },
  {
   "cell_type": "code",
   "execution_count": null,
   "id": "54fab316",
   "metadata": {
    "scrolled": true
   },
   "outputs": [],
   "source": [
    "sc.tl.rank_genes_groups(adata_subset, 'leiden_wnn_subcluster', method='wilcoxon')\n",
    "result = adata_subset.uns['rank_genes_groups']\n",
    "groups = result['names'].dtype.names\n",
    "pd.set_option('display.max_columns', 100)\n",
    "pd.DataFrame(\n",
    "    {group + '_' + key[:1]: result[key][group]\n",
    "    for group in groups for key in ['names']}).head(20)"
   ]
  },
  {
   "cell_type": "code",
   "execution_count": null,
   "id": "1a19435e",
   "metadata": {
    "scrolled": false
   },
   "outputs": [],
   "source": [
    "marker_genes = [\"PECAM1\",\"ACKR1\",\"VWF\",\"DCN\",\"IL33\",\"PTPRC\",\"CD3E\",\"NCAM1\",\n",
    "                               \"SERPINF1\",\"CST7\",\"ZFP36\", \"EFNB2\", \"ADGRF5\", \"SOX17\", \"ICAM2\", \"SLC9A3R2\",\n",
    "                               \"SELE\", \"ICAM1\", \"PECAM1\", \"SPARC\", \"ACKR1\", \"SELP\",\"IGFBP7\",\"PDE3A\",\"NR2F2\",\"CCL21\"]\n",
    "sc.tl.dendrogram(adata_subset, 'leiden_wnn_subcluster')\n",
    "sc.pl.dotplot(adata_subset, marker_genes, groupby='leiden_wnn_subcluster', dendrogram=False,\n",
    "              use_raw=True, standard_scale=\"var\");"
   ]
  },
  {
   "cell_type": "code",
   "execution_count": null,
   "id": "cdd76239",
   "metadata": {},
   "outputs": [],
   "source": [
    "new_cluster_names = {\n",
    "    \"0\": \"ENDO\", \"1\": \"ENDO\", \"2\": \"ENDO\", \"3\": \"ENDO_Immune_doublet\", \"4\": \"ENDO\", \"5\": \"ENDO\", \n",
    "    \"6\": \"ENDO_FIB_doublet\", \"7\": \"ENDO\"\n",
    "}\n",
    "\n",
    "adata_subset.obs['celltype_subset'] = adata_subset.obs.leiden_wnn_subcluster.astype(\"str\").values\n",
    "adata_subset.obs.celltype_subset = adata_subset.obs.celltype_subset.replace(new_cluster_names)\n",
    "adata_subset.obs.celltype_subset = adata_subset.obs.celltype_subset.astype(\"category\")"
   ]
  },
  {
   "cell_type": "code",
   "execution_count": null,
   "id": "440a1751",
   "metadata": {
    "scrolled": true
   },
   "outputs": [],
   "source": [
    "sc.pl.umap(adata_subset, color=[\"celltype_subset\"], ncols=1, size=10)"
   ]
  },
  {
   "cell_type": "code",
   "execution_count": null,
   "id": "45f07c12",
   "metadata": {},
   "outputs": [],
   "source": [
    "# update categories\n",
    "mdata.obs[\"celltype_hires\"] = mdata.obs[\"celltype_hires\"].cat.add_categories(\"ENDO\")\n",
    "mdata.obs[\"celltype_hires\"] = mdata.obs[\"celltype_hires\"].cat.add_categories(\"ENDO_FIB_doublet\")\n",
    "mdata.obs[\"celltype_hires\"] = mdata.obs[\"celltype_hires\"].cat.add_categories(\"ENDO_Immune_doublet\")\n",
    "\n",
    "\n",
    "for cell_id, celltype_subset in zip(adata_subset.obs_names, adata_subset.obs[\"celltype_subset\"]):\n",
    "    if cell_id in mdata.obs.index:\n",
    "        mdata.obs.loc[cell_id, \"celltype_hires\"] = celltype_subset"
   ]
  },
  {
   "cell_type": "code",
   "execution_count": null,
   "id": "fd774f2f",
   "metadata": {
    "scrolled": true
   },
   "outputs": [],
   "source": [
    "mdata.obs['celltype_hires'] = mdata.obs['celltype_hires'].cat.remove_unused_categories()\n",
    "sc.pl.umap(mdata, color=['celltype_hires', \"tissue\"], ncols=1, size=10)"
   ]
  },
  {
   "cell_type": "markdown",
   "id": "aa1a4d83",
   "metadata": {},
   "source": [
    "## subcluster plasma cells"
   ]
  },
  {
   "cell_type": "code",
   "execution_count": null,
   "id": "b6947144",
   "metadata": {},
   "outputs": [],
   "source": [
    "mdata_subset = mdata[mdata.obs['celltype_hires'].isin([\"PLASMA\"]),:]"
   ]
  },
  {
   "cell_type": "code",
   "execution_count": null,
   "id": "c48b49f2",
   "metadata": {
    "scrolled": true
   },
   "outputs": [],
   "source": [
    "# remove unused categories\n",
    "mdata_subset.obs['celltype_hires'] = mdata_subset.obs['celltype_hires'].cat.remove_unused_categories()"
   ]
  },
  {
   "cell_type": "code",
   "execution_count": null,
   "id": "8169392d",
   "metadata": {
    "scrolled": true
   },
   "outputs": [],
   "source": [
    "sc.pl.umap(mdata_subset, color=['celltype_hires'], ncols=1, size=10)"
   ]
  },
  {
   "cell_type": "code",
   "execution_count": null,
   "id": "fce34279",
   "metadata": {
    "scrolled": true
   },
   "outputs": [],
   "source": [
    "# recalculate nn\n",
    "sc.pp.neighbors(mdata_subset['rna'], use_rep=\"X_harmony\")\n",
    "sc.pp.neighbors(mdata_subset['prot'], use_rep=\"X_harmony\")\n",
    "\n",
    "mu.pp.neighbors(mdata_subset, key_added='wnn')\n",
    "\n",
    "mu.tl.umap(mdata_subset, neighbors_key='wnn', random_state=10)"
   ]
  },
  {
   "cell_type": "code",
   "execution_count": null,
   "id": "78315364",
   "metadata": {},
   "outputs": [],
   "source": [
    "X = np.hstack([mdata_subset['rna'].obsm['X_harmony'], mdata_subset['prot'].obsm['X_harmony']])\n",
    "\n",
    "for r in (0.3, 0.5, 0.7, 1.2):\n",
    "    key = f'subset_leiden_r{r:.1f}'\n",
    "    sc.tl.leiden(mdata_subset, neighbors_key='wnn', resolution=r, key_added=key, random_state=0)\n",
    "\n",
    "    y = mdata_subset.obs[key].to_numpy()\n",
    "    s = silhouette_score(X, y, metric='cosine')\n",
    "    print(f\"{key}: n_clusters={np.unique(y).size}  silhouette={s:.4f}\")\n",
    "\n",
    "    # UMAP\n",
    "    sc.pl.umap(mdata_subset, color=key, legend_loc='on data')\n",
    "\n",
    "    # RNA markers\n",
    "    mdata_subset['rna'].obs[key] = mdata_subset.obs[key].astype('category')\n",
    "    sc.tl.rank_genes_groups(mdata_subset['rna'], groupby=key, method='wilcoxon')\n",
    "    sc.pl.rank_genes_groups_dotplot(mdata_subset['rna'], n_genes=5, standard_scale='var',\n",
    "                                    swap_axes=True, dendrogram=False)"
   ]
  },
  {
   "cell_type": "code",
   "execution_count": null,
   "id": "78474085",
   "metadata": {},
   "outputs": [],
   "source": [
    "mdata_subset.obs['leiden_wnn_subcluster'] = mdata_subset.obs['subset_leiden_r0.3'].copy()\n",
    "mdata_subset[\"rna\"].obs[\"leiden_wnn_subcluster\"]=mdata_subset.obs[\"leiden_wnn_subcluster\"]"
   ]
  },
  {
   "cell_type": "code",
   "execution_count": null,
   "id": "e0615a04",
   "metadata": {
    "scrolled": true
   },
   "outputs": [],
   "source": [
    "sc.pl.umap(mdata_subset, color=[\"leiden_wnn_subcluster\",\"tissue\",\"rna:pct_counts_mt\",\n",
    "                               \"donor_id\"], ncols=2, size=10)"
   ]
  },
  {
   "cell_type": "code",
   "execution_count": null,
   "id": "101e1ca4",
   "metadata": {
    "scrolled": true
   },
   "outputs": [],
   "source": [
    "mdata_subset[\"rna\"].obs[\"leiden_wnn_subcluster\"]=mdata_subset.obs[\"leiden_wnn_subcluster\"]\n",
    "sc.tl.rank_genes_groups(mdata_subset[\"rna\"], 'leiden_wnn_subcluster', method='wilcoxon')\n",
    "result = mdata_subset[\"rna\"].uns['rank_genes_groups']\n",
    "groups = result['names'].dtype.names\n",
    "pd.set_option('display.max_columns', 100)\n",
    "pd.DataFrame(\n",
    "    {group + '_' + key[:1]: result[key][group]\n",
    "    for group in groups for key in ['names']}).head(20)"
   ]
  },
  {
   "cell_type": "code",
   "execution_count": null,
   "id": "0cee086e",
   "metadata": {},
   "outputs": [],
   "source": [
    "marker_genes = [\"JCHAIN\",\"THY1\",\"DCN\",\"NCAM1\",\"LTB\",\"APOD\",\"COTL1\",\"CTSH\",\"GSN\",\"CD14\",\"NCAM1\",\"CD74\",\"CD19\",\"ITGAX\",\n",
    "                \"GZMB\",\"IL3RA\",\"XCR1\",\"TCF4\",\"CD27\",\"SDC1\",\"SLAMF7\",\"IL12A\",\"CSF2\",\"TNF\",\"FLT3\",\"CD80\",\"CD86\",\"CD83\",\n",
    "               \"CCR7\",\"CD4\",\"HLA-DRA\",\"IL3RA\",\"CLEC4C\",\"TLR7\",\"TLR9\",\"GAS5\",\"MS4A1\"]\n",
    "mdata_subset[\"rna\"].obs[\"leiden_wnn_subcluster\"]=mdata_subset.obs[\"leiden_wnn_subcluster\"]\n",
    "sc.tl.dendrogram(mdata_subset[\"rna\"], 'leiden_wnn_subcluster')\n",
    "sc.pl.dotplot(mdata_subset[\"rna\"], marker_genes, groupby='leiden_wnn_subcluster', dendrogram=True, use_raw=True,\n",
    "             standard_scale=\"var\");"
   ]
  },
  {
   "cell_type": "code",
   "execution_count": null,
   "id": "53b684cd",
   "metadata": {
    "scrolled": true
   },
   "outputs": [],
   "source": [
    "mu.pl.embedding(mdata_subset, basis=\"X_umap\", frameon=False, color=[\"CD14_TotalSeqC\",\"CD1c_TotalSeqC\",\"CD56_TotalSeqC\",\n",
    "                                                                   \"CD45_TotalSeqC\",\"CD11c_TotalSeqC\",\"IL1B\",\n",
    "                                                                   \"CD3_TotalSeqC\",\"CD4_TotalSeqC\",\"CD8a_TotalSeqC\",\n",
    "                                                                   \"NCAM1\",\"THY1\",\"DCN\",\"LTB\",\"JCHAIN\",\"CD20_TotalSeqC\",\n",
    "                                                                   \"CD14\",\"CD74\",\"CD27_TotalSeqC\",\"CD38_TotalSeqC\",\n",
    "                                                                   \"CD39_TotalSeqC\",\"CD19\",\"MS4A1\",\"CD27\",\"HLA-DR_TotalSeqC\",\n",
    "                                                                   \"PECAM1\",\"VWF\"],\n",
    "                ncols=2, color_map=\"YlOrRd\")"
   ]
  },
  {
   "cell_type": "code",
   "execution_count": null,
   "id": "84b95e54",
   "metadata": {},
   "outputs": [],
   "source": [
    "new_cluster_names = {\n",
    "    \"0\": \"PLASMA\", \"1\": \"PLASMA\", \"2\": \"BCell\", \"3\": \"pDC_FIB_doublet\",\"4\":\"pDC_MAC_doublet\"\n",
    "}\n",
    "\n",
    "mdata_subset.obs['celltype_subset'] = mdata_subset.obs.leiden_wnn_subcluster.astype(\"str\").values\n",
    "mdata_subset.obs.celltype_subset = mdata_subset.obs.celltype_subset.replace(new_cluster_names)\n",
    "mdata_subset.obs.celltype_subset = mdata_subset.obs.celltype_subset.astype(\"category\")"
   ]
  },
  {
   "cell_type": "code",
   "execution_count": null,
   "id": "dd34fb73",
   "metadata": {
    "scrolled": true
   },
   "outputs": [],
   "source": [
    "sc.pl.umap(mdata_subset, color=[\"celltype_subset\"], ncols=1, size=10)"
   ]
  },
  {
   "cell_type": "code",
   "execution_count": null,
   "id": "215030b4",
   "metadata": {},
   "outputs": [],
   "source": [
    "# update categories\n",
    "mdata.obs[\"celltype_hires\"] = mdata.obs[\"celltype_hires\"].cat.add_categories(\"pDC_MAC_doublet\")\n",
    "mdata.obs[\"celltype_hires\"] = mdata.obs[\"celltype_hires\"].cat.add_categories(\"pDC_FIB_doublet\")\n",
    "\n",
    "\n",
    "for cell_id, celltype_subset in zip(mdata_subset.obs_names, mdata_subset.obs[\"celltype_subset\"]):\n",
    "    if cell_id in mdata.obs.index:\n",
    "        mdata.obs.loc[cell_id, \"celltype_hires\"] = celltype_subset"
   ]
  },
  {
   "cell_type": "code",
   "execution_count": null,
   "id": "1ea8898a",
   "metadata": {
    "scrolled": true
   },
   "outputs": [],
   "source": [
    "mdata.obs['celltype_hires'] = mdata.obs['celltype_hires'].cat.remove_unused_categories()\n",
    "sc.pl.umap(mdata, color=['celltype_hires', \"tissue\"], ncols=1, size=10)"
   ]
  },
  {
   "cell_type": "markdown",
   "id": "936a8636",
   "metadata": {},
   "source": [
    "## subcluster decPAM2 (decPAM2)"
   ]
  },
  {
   "cell_type": "code",
   "execution_count": null,
   "id": "59dc176b",
   "metadata": {},
   "outputs": [],
   "source": [
    "mdata_subset = mdata[mdata.obs['celltype_hires'].isin([\"decPAM2\"]),:]"
   ]
  },
  {
   "cell_type": "code",
   "execution_count": null,
   "id": "42ba31c7",
   "metadata": {
    "scrolled": true
   },
   "outputs": [],
   "source": [
    "# remove unused categories\n",
    "mdata_subset.obs['celltype_hires'] = mdata_subset.obs['celltype_hires'].cat.remove_unused_categories()"
   ]
  },
  {
   "cell_type": "code",
   "execution_count": null,
   "id": "6eda751c",
   "metadata": {
    "scrolled": true
   },
   "outputs": [],
   "source": [
    "sc.pl.umap(mdata_subset, color=['celltype_hires'], ncols=1, size=10)"
   ]
  },
  {
   "cell_type": "code",
   "execution_count": null,
   "id": "ac160fe4",
   "metadata": {
    "scrolled": true
   },
   "outputs": [],
   "source": [
    "# recalculate nn\n",
    "sc.pp.neighbors(mdata_subset['rna'], use_rep=\"X_harmony\")\n",
    "sc.pp.neighbors(mdata_subset['prot'], use_rep=\"X_harmony\")\n",
    "\n",
    "\n",
    "mu.pp.neighbors(mdata_subset, key_added='wnn')\n",
    "\n",
    "mu.tl.umap(mdata_subset, neighbors_key='wnn', random_state=10)"
   ]
  },
  {
   "cell_type": "code",
   "execution_count": null,
   "id": "8ea192cc",
   "metadata": {},
   "outputs": [],
   "source": [
    "X = np.hstack([mdata_subset['rna'].obsm['X_harmony'], mdata_subset['prot'].obsm['X_harmony']])\n",
    "\n",
    "for r in (0.3, 0.5, 0.7, 1.2):\n",
    "    key = f'subset_leiden_r{r:.1f}'\n",
    "    sc.tl.leiden(mdata_subset, neighbors_key='wnn', resolution=r, key_added=key, random_state=0)\n",
    "\n",
    "    y = mdata_subset.obs[key].to_numpy()\n",
    "    s = silhouette_score(X, y, metric='cosine')\n",
    "    print(f\"{key}: n_clusters={np.unique(y).size}  silhouette={s:.4f}\")\n",
    "\n",
    "    # UMAP\n",
    "    sc.pl.umap(mdata_subset, color=key, legend_loc='on data')\n",
    "\n",
    "    # RNA markers\n",
    "    mdata_subset['rna'].obs[key] = mdata_subset.obs[key].astype('category')\n",
    "    sc.tl.rank_genes_groups(mdata_subset['rna'], groupby=key, method='wilcoxon')\n",
    "    sc.pl.rank_genes_groups_dotplot(mdata_subset['rna'], n_genes=5, standard_scale='var',\n",
    "                                    swap_axes=True, dendrogram=False)"
   ]
  },
  {
   "cell_type": "code",
   "execution_count": null,
   "id": "9decc22f",
   "metadata": {},
   "outputs": [],
   "source": [
    "mdata_subset.obs['leiden_wnn_subcluster'] = mdata_subset.obs['subset_leiden_r0.3'].copy()\n",
    "mdata_subset[\"rna\"].obs[\"leiden_wnn_subcluster\"]=mdata_subset.obs[\"leiden_wnn_subcluster\"]"
   ]
  },
  {
   "cell_type": "code",
   "execution_count": null,
   "id": "1eda28bc",
   "metadata": {
    "scrolled": true
   },
   "outputs": [],
   "source": [
    "sc.pl.umap(mdata_subset, color=[\"leiden_wnn_subcluster\",\"tissue\",\"rna:pct_counts_mt\",\n",
    "                               \"donor_id\"], ncols=2, size=10)"
   ]
  },
  {
   "cell_type": "code",
   "execution_count": null,
   "id": "1c535e06",
   "metadata": {
    "scrolled": true
   },
   "outputs": [],
   "source": [
    "mdata_subset[\"rna\"].obs[\"leiden_wnn_subcluster\"]=mdata_subset.obs[\"leiden_wnn_subcluster\"]\n",
    "sc.tl.rank_genes_groups(mdata_subset[\"rna\"], 'leiden_wnn_subcluster', method='wilcoxon')\n",
    "result = mdata_subset[\"rna\"].uns['rank_genes_groups']\n",
    "groups = result['names'].dtype.names\n",
    "pd.set_option('display.max_columns', 100)\n",
    "pd.DataFrame(\n",
    "    {group + '_' + key[:1]: result[key][group]\n",
    "    for group in groups for key in ['names']}).head(20)"
   ]
  },
  {
   "cell_type": "code",
   "execution_count": null,
   "id": "07c75aeb",
   "metadata": {},
   "outputs": [],
   "source": [
    "marker_genes = [\"JCHAIN\",\"THY1\",\"DCN\",\"NCAM1\",\"LTB\",\"APOD\",\"COTL1\",\"CTSH\",\"GSN\",\"CD14\",\"NCAM1\",\"CD74\",\"CD19\",\"ITGAX\",\n",
    "                \"GZMB\",\"IL3RA\",\"XCR1\",\"TCF4\",\"CD27\",\"SDC1\",\"SLAMF7\",\"IL12A\",\"CSF2\",\"TNF\",\"FLT3\",\"CD80\",\"CD86\",\"CD83\",\n",
    "               \"CCR7\",\"CD4\",\"HLA-DRA\",\"IL3RA\",\"CLEC4C\",\"TLR7\",\"TLR9\",\"GAS5\",\"MS4A1\"]\n",
    "mdata_subset[\"rna\"].obs[\"leiden_wnn_subcluster\"]=mdata_subset.obs[\"leiden_wnn_subcluster\"]\n",
    "sc.tl.dendrogram(mdata_subset[\"rna\"], 'leiden_wnn_subcluster')\n",
    "sc.pl.dotplot(mdata_subset[\"rna\"], marker_genes, groupby='leiden_wnn_subcluster', dendrogram=True, use_raw=True,\n",
    "             standard_scale=\"var\");"
   ]
  },
  {
   "cell_type": "code",
   "execution_count": null,
   "id": "0ac34d08",
   "metadata": {
    "scrolled": true
   },
   "outputs": [],
   "source": [
    "mu.pl.embedding(mdata_subset, basis=\"X_umap\", frameon=False, color=[\"CD14_TotalSeqC\",\"CD1c_TotalSeqC\",\"CD16_TotalSeqC\",\n",
    "                                                                   \"WARS\",\"SELL\",\"CD69_TotalSeqC\", \"donor_id\",\"CD14\"],\n",
    "                ncols=2, color_map=\"YlOrRd\")"
   ]
  },
  {
   "cell_type": "code",
   "execution_count": null,
   "id": "0c6a1353",
   "metadata": {},
   "outputs": [],
   "source": [
    "new_cluster_names = {\n",
    "    \"0\": \"decPAM2\", \"1\": \"Mono_CD16+\"\n",
    "}\n",
    "\n",
    "mdata_subset.obs['celltype_subset'] = mdata_subset.obs.leiden_wnn_subcluster.astype(\"str\").values\n",
    "mdata_subset.obs.celltype_subset = mdata_subset.obs.celltype_subset.replace(new_cluster_names)\n",
    "mdata_subset.obs.celltype_subset = mdata_subset.obs.celltype_subset.astype(\"category\")"
   ]
  },
  {
   "cell_type": "code",
   "execution_count": null,
   "id": "977a8406",
   "metadata": {
    "scrolled": true
   },
   "outputs": [],
   "source": [
    "sc.pl.umap(mdata_subset, color=[\"celltype_subset\"], ncols=1, size=10)"
   ]
  },
  {
   "cell_type": "code",
   "execution_count": null,
   "id": "ec1ba456",
   "metadata": {},
   "outputs": [],
   "source": [
    "# update categories\n",
    "mdata.obs[\"celltype_hires\"] = mdata.obs[\"celltype_hires\"].cat.add_categories(\"Mono_CD16+\")\n",
    "\n",
    "\n",
    "for cell_id, celltype_subset in zip(mdata_subset.obs_names, mdata_subset.obs[\"celltype_subset\"]):\n",
    "    if cell_id in mdata.obs.index:\n",
    "        mdata.obs.loc[cell_id, \"celltype_hires\"] = celltype_subset"
   ]
  },
  {
   "cell_type": "code",
   "execution_count": null,
   "id": "93273e9c",
   "metadata": {
    "scrolled": true
   },
   "outputs": [],
   "source": [
    "mdata.obs['celltype_hires'] = mdata.obs['celltype_hires'].cat.remove_unused_categories()\n",
    "sc.pl.umap(mdata, color=['celltype_hires', \"tissue\"], ncols=1, size=10)"
   ]
  },
  {
   "cell_type": "code",
   "execution_count": null,
   "id": "d8c19c80",
   "metadata": {},
   "outputs": [],
   "source": [
    "# dotplot to prove doublet identity"
   ]
  },
  {
   "cell_type": "code",
   "execution_count": null,
   "id": "96cc3490",
   "metadata": {
    "scrolled": true
   },
   "outputs": [],
   "source": [
    "marker_genes = [\"CD19\",\"PECAM1\",\"VWF\",\"TPSAB1\",\"KIT\",\"CCL21\",\"CD1C\",\"CD14\",\"PTPRC\",\"DCN\",\"THY1\",\"NCAM1\",\"CD3E\",\"LTB\",\"CD74\",\"XCR1\",\"NOTUM\",\n",
    "               \"PRL\",\"UTY\",\"NOTCH3\",\"CD82\",\"KRT8\",\"HLA-G\",\"CGA\",\"FCGR3A\",\"ENTPD1\",\"ITGAX\",\"CD160\",\"ITGAE\",\"CD3E\",\"CD4\",\"CD8A\",\n",
    "               \"ITGAX\",\"JCHAIN\"]\n",
    "mdata[\"rna\"].obs[\"celltype_hires\"]=mdata.obs[\"celltype_hires\"]\n",
    "sc.pl.dotplot(mdata[\"rna\"], marker_genes, groupby='celltype_hires', dendrogram=True, use_raw=True, standard_scale=\"var\");"
   ]
  },
  {
   "cell_type": "code",
   "execution_count": null,
   "id": "36907bfc",
   "metadata": {
    "scrolled": true
   },
   "outputs": [],
   "source": [
    "mdata.obs['celltype_hires'] = mdata.obs['celltype_hires'].cat.remove_unused_categories()\n",
    "sc.pl.umap(mdata, color=['celltype_hires', \"tissue\", \"rna:phase\"], ncols=1, size=3)"
   ]
  },
  {
   "cell_type": "code",
   "execution_count": null,
   "id": "52a985ff",
   "metadata": {},
   "outputs": [],
   "source": [
    "# remove doublets\n",
    "mdata = mdata[~mdata.obs['celltype_hires'].str.contains(\"doublet\")].copy()"
   ]
  },
  {
   "cell_type": "code",
   "execution_count": null,
   "id": "1e26a7a9",
   "metadata": {},
   "outputs": [],
   "source": [
    "# recalculate nn\n",
    "sc.pp.neighbors(mdata['rna'], use_rep=\"X_harmony\")\n",
    "sc.pp.neighbors(mdata['prot'], use_rep=\"X_harmony\")\n",
    "\n",
    "\n",
    "mu.pp.neighbors(mdata, key_added='wnn')"
   ]
  },
  {
   "cell_type": "code",
   "execution_count": null,
   "id": "f55259dd",
   "metadata": {},
   "outputs": [],
   "source": [
    "mu.tl.umap(mdata, neighbors_key='wnn', random_state=12)\n",
    "mu.tl.umap(mdata['rna'], random_state=10)\n",
    "mu.tl.umap(mdata['prot'], random_state=10)"
   ]
  },
  {
   "cell_type": "code",
   "execution_count": null,
   "id": "6cc58762",
   "metadata": {
    "scrolled": true
   },
   "outputs": [],
   "source": [
    "mdata.obs['celltype_hires'] = mdata.obs['celltype_hires'].cat.remove_unused_categories()\n",
    "sc.pl.umap(mdata, color=['celltype_hires', \"tissue\", \"rna:phase\"], ncols=1, size=3)"
   ]
  },
  {
   "cell_type": "code",
   "execution_count": null,
   "id": "03495bef",
   "metadata": {
    "scrolled": false
   },
   "outputs": [],
   "source": [
    "sc.pl.umap(mdata[\"rna\"], color=['celltype_hires'], ncols=1, size=3)\n",
    "mdata[\"prot\"].obs[\"celltype_hires\"] = mdata.obs[\"celltype_hires\"]\n",
    "sc.pl.umap(mdata[\"prot\"], color=['celltype_hires'], ncols=1, size=3)"
   ]
  },
  {
   "cell_type": "code",
   "execution_count": null,
   "id": "86d3e46b",
   "metadata": {},
   "outputs": [],
   "source": [
    "sc.pl.umap(mdata, color=[ \"rna:phase\"])"
   ]
  },
  {
   "cell_type": "code",
   "execution_count": null,
   "id": "7e3618a5",
   "metadata": {
    "scrolled": true
   },
   "outputs": [],
   "source": [
    "mdata[\"rna\"].uns['log1p'][\"base\"] = None\n",
    "sc.tl.rank_genes_groups(mdata[\"rna\"], 'celltype_hires', method='wilcoxon')\n",
    "result = mdata[\"rna\"].uns['rank_genes_groups']\n",
    "groups = result['names'].dtype.names\n",
    "pd.set_option('display.max_columns', 100)\n",
    "pd.DataFrame(\n",
    "    {group + '_' + key[:1]: result[key][group]\n",
    "    for group in groups for key in ['names']}).head(20)"
   ]
  },
  {
   "cell_type": "code",
   "execution_count": null,
   "id": "f34b09dd",
   "metadata": {
    "scrolled": true
   },
   "outputs": [],
   "source": [
    "sc.tl.dendrogram(mdata[\"rna\"], 'celltype_hires')\n",
    "sc.pl.rank_genes_groups_dotplot(mdata[\"rna\"], n_genes=10, dendrogram=True,standard_scale=\"var\",\n",
    "                                swap_axes=True)"
   ]
  },
  {
   "cell_type": "code",
   "execution_count": null,
   "id": "b3852d26",
   "metadata": {
    "scrolled": true
   },
   "outputs": [],
   "source": [
    "mdata[\"prot\"].obs[\"celltype_hires\"]=mdata.obs[\"celltype_hires\"]\n",
    "sc.tl.rank_genes_groups(mdata[\"prot\"], 'celltype_hires', method='wilcoxon')\n",
    "result = mdata[\"prot\"].uns['rank_genes_groups']\n",
    "groups = result['names'].dtype.names\n",
    "pd.set_option('display.max_columns', 100)\n",
    "pd.DataFrame(\n",
    "    {group + '_' + key[:1]: result[key][group]\n",
    "    for group in groups for key in ['names']}).head(10)"
   ]
  },
  {
   "cell_type": "code",
   "execution_count": null,
   "id": "2155b43e",
   "metadata": {
    "scrolled": true
   },
   "outputs": [],
   "source": [
    "sc.tl.dendrogram(mdata[\"prot\"], 'celltype_hires')\n",
    "sc.pl.rank_genes_groups_dotplot(mdata[\"prot\"], n_genes=10, dendrogram=True,standard_scale=\"var\",\n",
    "                                swap_axes=True)"
   ]
  },
  {
   "cell_type": "code",
   "execution_count": null,
   "id": "0d5e9cda",
   "metadata": {},
   "outputs": [],
   "source": [
    "sc.pl.violin(mdata, groupby='celltype_hires', keys='rna:mod_weight', size=0, rotation=90)"
   ]
  },
  {
   "cell_type": "code",
   "execution_count": null,
   "id": "4644a280",
   "metadata": {},
   "outputs": [],
   "source": [
    "new_cluster_names = {\n",
    "    \"DC1\": \"MYELO\", \"DC2\": \"MYELO\", \"DC1_prol\": \"MYELO\", \"DC2_prol\": \"MYELO\", \"decBAM2\": \"MYELO\",\n",
    "    \"decBAM1\": \"MYELO\", \"decPAM1\": \"MYELO\",\n",
    "    \"monoMAC\": \"MYELO\",\"Mono_CD16+\": \"MYELO\", \"decPAM2\": \"MYELO\", \"MAC_prol\": \"MYELO\",\"SMC\":\"MUR\",\"PERI\":\"MUR\",\n",
    "    \"decFIB\": \"FIB\", \"MURAL\": \"FIB\",\n",
    "    \"hpFib\": \"FIB\", \"PERI\": \"FIB\",\"vCTB\":\"TROPHO\",\n",
    "    \"EVT\": \"TROPHO\",\"EVT\": \"TROPHO\", \"CCT\": \"TROPHO\", \"STB\": \"TROPHO\",\n",
    "    \"NK_CD16+\": \"NK\", \"NK_CD39+\": \"NK\", \"NK_CD39-\": \"NK\", \"NK_CD39-CD103+\": \"NK\",\"NK_prol\":\"NK\",\n",
    "    \"Tcell_CD4+cyto\": \"Tcell\", \"Tcell_CD4+exh\": \"Tcell\", \"Tcell_CD4+prol\": \"Tcell\",\n",
    "    \"Tcell_CD4+tr\": \"Tcell\", \"Tcell_CD4+blood\": \"Tcell\", \"Tcell_gd\": \"Tcell\",\n",
    "    \"Tcell_reg\": \"Tcell\", \"MAITcell\": \"Tcell\", \"Tcell_CD8+tr\": \"Tcell\", \"Tcell_CD8+eff\": \"Tcell\", \"Tcell_CD8+kir\": \"Tcell\",\n",
    "    \"Tcell_CD8+prol\": \"Tcell\", \"Tcell_CD8+blood\": \"Tcell\", \"PLASMA\": \"PLASMA\"\n",
    "}\n",
    "\n",
    "mdata.obs['celltype_lores'] = mdata.obs.celltype_hires.astype(\"str\").values\n",
    "mdata.obs.celltype_lores = mdata.obs.celltype_lores.replace(new_cluster_names)\n",
    "mdata.obs.celltype_lores = mdata.obs.celltype_lores.astype(\"category\")"
   ]
  },
  {
   "cell_type": "code",
   "execution_count": null,
   "id": "ab154e5f",
   "metadata": {
    "scrolled": true
   },
   "outputs": [],
   "source": [
    "sc.pl.umap(mdata, color=[\"celltype_lores\",\"celltype_hires\", \"tissue\"], size=10, ncols=1)"
   ]
  },
  {
   "cell_type": "code",
   "execution_count": null,
   "id": "0e54e856",
   "metadata": {},
   "outputs": [],
   "source": [
    "mdata.write(\"./citeseq_mdata_allsamples_filtered_fine_clustering.h5mu\")"
   ]
  },
  {
   "cell_type": "code",
   "execution_count": null,
   "id": "a37df7cb",
   "metadata": {},
   "outputs": [],
   "source": [
    "adata = mdata['rna'].copy()"
   ]
  },
  {
   "cell_type": "code",
   "execution_count": null,
   "id": "78f21ef4",
   "metadata": {},
   "outputs": [],
   "source": [
    "adata.write('./citeseq_mdata_allsamples_filtered_fine_clustering.h5ad')"
   ]
  }
 ],
 "metadata": {
  "kernelspec": {
   "display_name": "Python 3 (ipykernel)",
   "language": "python",
   "name": "python3"
  },
  "language_info": {
   "codemirror_mode": {
    "name": "ipython",
    "version": 3
   },
   "file_extension": ".py",
   "mimetype": "text/x-python",
   "name": "python",
   "nbconvert_exporter": "python",
   "pygments_lexer": "ipython3",
   "version": "3.10.10"
  }
 },
 "nbformat": 4,
 "nbformat_minor": 5
}
