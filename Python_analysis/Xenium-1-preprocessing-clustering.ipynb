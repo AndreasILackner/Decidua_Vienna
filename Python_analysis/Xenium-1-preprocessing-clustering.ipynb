{
 "cells": [
  {
   "cell_type": "code",
   "execution_count": null,
   "id": "3d66c725",
   "metadata": {},
   "outputs": [],
   "source": [
    "import numpy as np\n",
    "import pandas as pd\n",
    "import anndata\n",
    "\n",
    "import matplotlib.pyplot as plt\n",
    "import seaborn as sns\n",
    "\n",
    "import scanpy as sc\n",
    "import squidpy as sq\n",
    "\n",
    "from shapely.geometry import Point, Polygon"
   ]
  },
  {
   "cell_type": "code",
   "execution_count": null,
   "id": "fc1fe42b",
   "metadata": {},
   "outputs": [],
   "source": [
    "adata = sc.read_10x_h5(\n",
    "    filename=\"cell_feature_matrix.h5\"\n",
    ")"
   ]
  },
  {
   "cell_type": "code",
   "execution_count": null,
   "id": "e4e17718",
   "metadata": {},
   "outputs": [],
   "source": [
    "df = pd.read_csv(\n",
    "    \"cells.csv\"\n",
    ")"
   ]
  },
  {
   "cell_type": "code",
   "execution_count": null,
   "id": "8871f6a3",
   "metadata": {},
   "outputs": [],
   "source": [
    "annot = pd.read_csv(\n",
    "    \"sample-annotation-xenium-explorer-decidua.csv\"\n",
    ")"
   ]
  },
  {
   "cell_type": "code",
   "execution_count": null,
   "id": "f8eedd64",
   "metadata": {
    "scrolled": true
   },
   "outputs": [],
   "source": [
    "sc.pl.highest_expr_genes(adata, n_top=30)"
   ]
  },
  {
   "cell_type": "code",
   "execution_count": null,
   "id": "c423f7f8",
   "metadata": {},
   "outputs": [],
   "source": [
    "sc.pp.calculate_qc_metrics(adata, percent_top=(10, 20, 50, 150), inplace=True)"
   ]
  },
  {
   "cell_type": "code",
   "execution_count": null,
   "id": "699a8b94",
   "metadata": {
    "scrolled": true
   },
   "outputs": [],
   "source": [
    "sc.pl.violin(\n",
    "    adata,\n",
    "    [\"n_genes_by_counts\", \"total_counts\"],\n",
    "    jitter=0.4,\n",
    "    multi_panel=True,\n",
    "    size=0\n",
    ")"
   ]
  },
  {
   "cell_type": "code",
   "execution_count": null,
   "id": "1c3697b1",
   "metadata": {},
   "outputs": [],
   "source": [
    "adata.obs"
   ]
  },
  {
   "cell_type": "code",
   "execution_count": null,
   "id": "e7d50dee",
   "metadata": {},
   "outputs": [],
   "source": [
    "annot = annot.drop_duplicates()"
   ]
  },
  {
   "cell_type": "code",
   "execution_count": null,
   "id": "7b766b74",
   "metadata": {},
   "outputs": [],
   "source": [
    "df.set_index(adata.obs_names, inplace=True)\n",
    "adata.obs = df.copy()"
   ]
  },
  {
   "cell_type": "code",
   "execution_count": null,
   "id": "181f4c47",
   "metadata": {},
   "outputs": [],
   "source": [
    "adata.obsm[\"spatial\"] = adata.obs[[\"x_centroid\", \"y_centroid\"]].copy().to_numpy()"
   ]
  },
  {
   "cell_type": "code",
   "execution_count": null,
   "id": "9eb7fd4f",
   "metadata": {},
   "outputs": [],
   "source": [
    "# process the annotation data to create polygons\n",
    "regions = {}\n",
    "for selection, group in annot.groupby('Selection'):\n",
    "    coords = group[['X', 'Y']].values\n",
    "    polygon = Polygon(coords)\n",
    "    regions[selection] = polygon\n",
    "\n",
    "\n",
    "\n",
    "# initialize a column in adata.obs to store the selection\n",
    "adata.obs['Selection'] = np.nan\n",
    "\n",
    "# iterate over cells and assign the selection based on the region\n",
    "for idx, cell in adata.obs.iterrows():\n",
    "    cell_coords = Point(cell['x_centroid'], cell['y_centroid'])\n",
    "    for selection, polygon in regions.items():\n",
    "        if polygon.contains(cell_coords):\n",
    "            adata.obs.at[idx, 'Selection'] = selection\n",
    "            break"
   ]
  },
  {
   "cell_type": "code",
   "execution_count": null,
   "id": "f366952b",
   "metadata": {},
   "outputs": [],
   "source": [
    "# split the 'Selection' column correctly using regular expressions\n",
    "split_data = adata.obs['Selection'].str.extract(r'(\\S+)\\s+(\\S+)\\s+(\\S+)')\n",
    "\n",
    "# rename the columns to 'core', 'id', and 'tissue'\n",
    "split_data.columns = ['core', 'id', 'tissue']\n",
    "\n",
    "# assign the new columns to adata.obs\n",
    "adata.obs[['core', 'id', 'tissue']] = split_data\n",
    "\n",
    "adata.obs['core'] = pd.to_numeric(adata.obs['core'], errors='coerce')\n",
    "\n",
    "print(adata.obs[['Selection', 'core', 'id', 'tissue']].head())"
   ]
  },
  {
   "cell_type": "code",
   "execution_count": null,
   "id": "5593c1a1",
   "metadata": {},
   "outputs": [],
   "source": [
    "adata.obs['core'].unique()"
   ]
  },
  {
   "cell_type": "code",
   "execution_count": null,
   "id": "6a469082",
   "metadata": {
    "scrolled": true
   },
   "outputs": [],
   "source": [
    "sc.tl.pca(adata)"
   ]
  },
  {
   "cell_type": "code",
   "execution_count": null,
   "id": "aac1d5ec",
   "metadata": {},
   "outputs": [],
   "source": [
    "sc.pl.pca_variance_ratio(adata, n_pcs=50, log=True)"
   ]
  },
  {
   "cell_type": "code",
   "execution_count": null,
   "id": "562194ca",
   "metadata": {},
   "outputs": [],
   "source": [
    "sc.pl.pca(\n",
    "    adata,\n",
    "    color=['tissue'],\n",
    "    dimensions=[(0, 1), (2, 3), (4, 5), (6, 7)],\n",
    "    ncols=2,\n",
    "    size=2,\n",
    ")"
   ]
  },
  {
   "cell_type": "code",
   "execution_count": null,
   "id": "41a0e748",
   "metadata": {
    "scrolled": true
   },
   "outputs": [],
   "source": [
    "adata.obs['Selection'].value_counts()"
   ]
  },
  {
   "cell_type": "code",
   "execution_count": null,
   "id": "2263bc2a",
   "metadata": {},
   "outputs": [],
   "source": [
    "# remove low count cores\n",
    "adata = adata[~adata.obs['core'].isin([14,15,16,42,25,26,27,32,38,41])]"
   ]
  },
  {
   "cell_type": "code",
   "execution_count": null,
   "id": "866b6c0e",
   "metadata": {},
   "outputs": [],
   "source": [
    "adata"
   ]
  },
  {
   "cell_type": "code",
   "execution_count": null,
   "id": "3ab52b2c",
   "metadata": {},
   "outputs": [],
   "source": [
    "cprobes = (\n",
    "    adata.obs[\"control_probe_counts\"].sum() / adata.obs[\"total_counts\"].sum() * 100\n",
    ")\n",
    "cwords = (\n",
    "    adata.obs[\"control_codeword_counts\"].sum() / adata.obs[\"total_counts\"].sum() * 100\n",
    ")\n",
    "print(f\"Negative DNA probe count % : {cprobes}\")\n",
    "print(f\"Negative decoding count % : {cwords}\")"
   ]
  },
  {
   "cell_type": "code",
   "execution_count": null,
   "id": "4f3eecca",
   "metadata": {},
   "outputs": [],
   "source": [
    "sc.pp.filter_cells(adata, min_counts=10)\n",
    "sc.pp.filter_genes(adata, min_cells=5)"
   ]
  },
  {
   "cell_type": "code",
   "execution_count": null,
   "id": "bfd3271f",
   "metadata": {
    "scrolled": true
   },
   "outputs": [],
   "source": [
    "adata.obs['Selection'].value_counts()"
   ]
  },
  {
   "cell_type": "code",
   "execution_count": null,
   "id": "9ee9c9f1",
   "metadata": {
    "scrolled": true
   },
   "outputs": [],
   "source": [
    "adata.obs['id'].value_counts()"
   ]
  },
  {
   "cell_type": "code",
   "execution_count": null,
   "id": "5b2f2070",
   "metadata": {},
   "outputs": [],
   "source": [
    "adata.layers[\"counts\"] = adata.X.copy()\n",
    "sc.pp.normalize_total(adata, inplace=True, target_sum=None)\n",
    "sc.pp.log1p(adata)\n",
    "sc.pp.scale(adata)"
   ]
  },
  {
   "cell_type": "code",
   "execution_count": null,
   "id": "48995c9f",
   "metadata": {
    "scrolled": true
   },
   "outputs": [],
   "source": [
    "sc.pp.pca(adata)\n",
    "sc.pp.neighbors(adata)\n",
    "sc.tl.umap(adata)"
   ]
  },
  {
   "cell_type": "code",
   "execution_count": null,
   "id": "c754cbd2",
   "metadata": {},
   "outputs": [],
   "source": [
    "X = adata.obsm['X_pca']\n",
    "\n",
    "for r in (0.3, 0.5, 0.7):\n",
    "    key = f'leiden_r{r:.1f}'\n",
    "    sc.tl.leiden(adata, neighbors_key='wnn', resolution=r, key_added=key, random_state=0)\n",
    "\n",
    "    y = adata.obs[key].to_numpy()\n",
    "    s = silhouette_score(X, y, metric='cosine')\n",
    "    print(f\"{key}: n_clusters={np.unique(y).size}  silhouette={s:.4f}\")\n",
    "\n",
    "    # UMAP\n",
    "    sc.pl.umap(adata, color=key, legend_loc='on data')\n",
    "\n",
    "    adata.obs[key] = adata.obs[key].astype('category')\n",
    "    sc.tl.rank_genes_groups(adata, groupby=key, method='wilcoxon')\n",
    "    sc.pl.rank_genes_groups_dotplot(adata, n_genes=5, standard_scale='var',\n",
    "                                    swap_axes=True, dendrogram=False)"
   ]
  },
  {
   "cell_type": "code",
   "execution_count": null,
   "id": "56c4f293",
   "metadata": {
    "scrolled": true
   },
   "outputs": [],
   "source": [
    "adata.obs['leiden'] = adata.obs['leiden_r0.5'].copy()"
   ]
  },
  {
   "cell_type": "code",
   "execution_count": null,
   "id": "b8156f54",
   "metadata": {},
   "outputs": [],
   "source": [
    "sc.pl.umap(\n",
    "    adata,\n",
    "    color=[\n",
    "        \"total_counts\",\n",
    "        #\"n_genes_by_counts\",\n",
    "        \"leiden\",\n",
    "    ],\n",
    "    wspace=0.4, ncols=1\n",
    ")"
   ]
  },
  {
   "cell_type": "code",
   "execution_count": null,
   "id": "4b6631f6",
   "metadata": {
    "scrolled": true
   },
   "outputs": [],
   "source": [
    "sc.pl.umap(\n",
    "    adata,\n",
    "    color=[\n",
    "        \"total_counts\",\n",
    "        #\"n_genes_by_counts\",\n",
    "        \"leiden\",\n",
    "    ],\n",
    "    wspace=0.4, ncols=1\n",
    ")"
   ]
  },
  {
   "cell_type": "code",
   "execution_count": null,
   "id": "d1e0fc02",
   "metadata": {},
   "outputs": [],
   "source": [
    "sc.tl.rank_genes_groups(adata, 'leiden', method='wilcoxon')\n",
    "result = adata.uns['rank_genes_groups']\n",
    "groups = result['names'].dtype.names\n",
    "pd.set_option('display.max_columns', 100)\n",
    "pd.DataFrame(\n",
    "    {group + '_' + key[:1]: result[key][group]\n",
    "    for group in groups for key in ['names']}).head(20)"
   ]
  },
  {
   "cell_type": "code",
   "execution_count": null,
   "id": "05ef425e",
   "metadata": {},
   "outputs": [],
   "source": [
    "sc.pl.dotplot(adata, var_names=['HLA-G', 'ARG1', 'IL1RL1','IL1R2','CD68','IGF1','PGR','ESR1', 'IGFBP5', 'ACTA2', 'CD3E',\n",
    "               'CD3D', 'CD14', 'SPP1',  'PTGER2', 'THY1', 'FOLR2',\n",
    "               'FLT1', 'XCL1', 'CD4', 'CD8A', 'COL18A1',\"XCR1\",'SELL','VWF','EPCAM','CRISPLD2','MYH11','MYLK','CSF2RB',\n",
    "                               'EPOR',\n",
    "                               'PTPRC','CD83','CD19','MS4A1','CCL21','CD1C','CLEC10A','MS4A2','PCOLCE','SNTN','CD83'],\n",
    "              groupby='leiden'\n",
    "              ,standard_scale=\"var\"\n",
    "             )"
   ]
  },
  {
   "cell_type": "code",
   "execution_count": null,
   "id": "e5db4268",
   "metadata": {},
   "outputs": [],
   "source": [
    "pd.crosstab(adata.obs['leiden'], adata.obs['tissue'])"
   ]
  },
  {
   "cell_type": "code",
   "execution_count": null,
   "id": "943d8834",
   "metadata": {
    "scrolled": true
   },
   "outputs": [],
   "source": [
    "sc.pl.rank_genes_groups_dotplot(adata, n_genes=10, dendrogram=False,standard_scale=\"var\",\n",
    "                                swap_axes=True)"
   ]
  },
  {
   "cell_type": "code",
   "execution_count": null,
   "id": "11996aa3",
   "metadata": {},
   "outputs": [],
   "source": [
    "new_cluster_names = {\n",
    "    \"0\": \"NK\", \"1\": \"FIB\", \"2\": \"MYELO\",\n",
    "    \"3\": \"FIB\", \"4\": \"EPI\",\n",
    "    \"5\": \"FIB\", \"6\": \"EPI\",\n",
    "    \"7\": \"FIB\", \"8\": \"ENDO\",\n",
    "    \"9\": \"EVT\", \"10\": \"EPI\", \"11\": \"MURAL\", \"12\": \"low_q\", \"13\": \"TCELL\",\n",
    "    '14':'BCELL','15':'LYMPH','16':'DC2','17':'MAST','18':'FIB','19':'DC1',\n",
    "    '20':'EPI'\n",
    "}\n",
    "\n",
    "adata.obs['celltype'] = adata.obs.leiden.astype(\"str\").values\n",
    "adata.obs.celltype = adata.obs.celltype.replace(new_cluster_names)\n",
    "adata.obs.celltype = adata.obs.celltype.astype(\"category\")"
   ]
  },
  {
   "cell_type": "code",
   "execution_count": null,
   "id": "94c469bd",
   "metadata": {
    "scrolled": true
   },
   "outputs": [],
   "source": [
    "pd.crosstab(adata.obs['celltype'], adata.obs['tissue'])"
   ]
  },
  {
   "cell_type": "markdown",
   "id": "aa8db84b",
   "metadata": {},
   "source": [
    "### subcluster MAC"
   ]
  },
  {
   "cell_type": "code",
   "execution_count": null,
   "id": "bdabb122",
   "metadata": {},
   "outputs": [],
   "source": [
    "#subcluster MACs\n",
    "adata_subset = adata[adata.obs['celltype'].isin(['MYELO','DC1','DC2']),:]\n",
    "\n",
    "# Remove unused categories from 'celltype_wnn' in mdata_myelo\n",
    "adata_subset.obs['celltype'] = adata_subset.obs['celltype'].cat.remove_unused_categories()"
   ]
  },
  {
   "cell_type": "code",
   "execution_count": null,
   "id": "50d71800",
   "metadata": {},
   "outputs": [],
   "source": [
    "adata_subset"
   ]
  },
  {
   "cell_type": "code",
   "execution_count": null,
   "id": "77d20262",
   "metadata": {},
   "outputs": [],
   "source": [
    "sc.pp.neighbors(adata_subset)\n",
    "sc.tl.umap(adata_subset)"
   ]
  },
  {
   "cell_type": "code",
   "execution_count": null,
   "id": "50c39b52",
   "metadata": {},
   "outputs": [],
   "source": [
    "X = adata.obsm['X_pca']\n",
    "\n",
    "for r in (0.3, 0.5, 0.7):\n",
    "    key = f'subcluster_leiden_r{r:.1f}'\n",
    "    sc.tl.leiden(adata_subset, neighbors_key='wnn', resolution=r, key_added=key, random_state=0)\n",
    "\n",
    "    y = adata_subset.obs[key].to_numpy()\n",
    "    s = silhouette_score(X, y, metric='cosine')\n",
    "    print(f\"{key}: n_clusters={np.unique(y).size}  silhouette={s:.4f}\")\n",
    "\n",
    "    # UMAP\n",
    "    sc.pl.umap(adata_subset, color=key, legend_loc='on data')\n",
    "\n",
    "    adata_subset.obs[key] = adata_subset.obs[key].astype('category')\n",
    "    sc.tl.rank_genes_groups(adata_subset, groupby=key, method='wilcoxon')\n",
    "    sc.pl.rank_genes_groups_dotplot(adata_subset, n_genes=5, standard_scale='var',\n",
    "                                    swap_axes=True, dendrogram=False)"
   ]
  },
  {
   "cell_type": "code",
   "execution_count": null,
   "id": "30334306",
   "metadata": {},
   "outputs": [],
   "source": [
    "adata_subset.obs['leiden_subcluster'] = adata_subset.obs['subcluster_leiden_r0.3'].copy()"
   ]
  },
  {
   "cell_type": "code",
   "execution_count": null,
   "id": "14ddbb7f",
   "metadata": {},
   "outputs": [],
   "source": [
    "sc.pl.dotplot(adata_subset, var_names=['CD14','MKI67',\n",
    "                                      'PTPRC','FOLR2','SPP1','NLRP3','TNF','LUCAT1','SELL','C1QA',\n",
    "                                      'WARS','CTSD','CSF2RB','CD209','CD163','LYVE1','CD28','CXCL10','CXCL9',\n",
    "                                      'MARCO','MMP9','FLT1','CSF3','IL4I1','MRC1','CXCR4','ENTPD1','CXCL2',\n",
    "                                      'VSIG4','CD1C','XCR1','VCAN','IL10','CD19',\n",
    "                                     'PTGS2',\n",
    "                                      'CXCL2','IDO1','APOBEC3A','FCGR3A',\n",
    "                                      'CCR7','CD19'],\n",
    "              groupby='leiden_subcluster'\n",
    "              ,standard_scale=\"var\"\n",
    "             )"
   ]
  },
  {
   "cell_type": "code",
   "execution_count": null,
   "id": "453d6232",
   "metadata": {},
   "outputs": [],
   "source": [
    "sc.tl.dendrogram(adata_subset, groupby='leiden_subcluster')\n",
    "sc.pl.dotplot(adata_subset, var_names=['PTPRC','CD14','ARG1','HIF1A','PGR','IL1R2','MKI67',\n",
    "                                      'PTPRC','FOLR2','SPP1','NLRP3','TNF','LUCAT1','SELL','C1QA',\n",
    "                                      'WARS','CTSD','CSF2RB','IL10','HLA-G','FSTL3','CCL19','CD83',\n",
    "                                      'CSF3','MS4A1','CD19','SPIB','LILRA4','total_counts'],\n",
    "              groupby='leiden_subcluster'\n",
    "              ,standard_scale=\"var\", dendrogram=True\n",
    "             )"
   ]
  },
  {
   "cell_type": "code",
   "execution_count": null,
   "id": "bebec297",
   "metadata": {
    "scrolled": true
   },
   "outputs": [],
   "source": [
    "sc.tl.rank_genes_groups(adata_subset, 'leiden_subcluster', method='wilcoxon')\n",
    "result = adata_subset.uns['rank_genes_groups']\n",
    "groups = result['names'].dtype.names\n",
    "pd.set_option('display.max_columns', 100)\n",
    "pd.DataFrame(\n",
    "    {group + '_' + key[:1]: result[key][group]\n",
    "    for group in groups for key in ['names']}).head(20)"
   ]
  },
  {
   "cell_type": "code",
   "execution_count": null,
   "id": "6e3fb43c",
   "metadata": {},
   "outputs": [],
   "source": [
    "pd.crosstab(adata_subset.obs['leiden_subcluster'], adata_subset.obs['tissue'])"
   ]
  },
  {
   "cell_type": "code",
   "execution_count": null,
   "id": "c1bd0fc5",
   "metadata": {},
   "outputs": [],
   "source": [
    "adata_subset.obs"
   ]
  },
  {
   "cell_type": "code",
   "execution_count": null,
   "id": "2c2e53c7",
   "metadata": {
    "scrolled": true
   },
   "outputs": [],
   "source": [
    "#more markers (MMP9 not detected on protein)\n",
    "sc.pl.rank_genes_groups_dotplot(adata_subset, n_genes=5, dendrogram=False,standard_scale=\"var\",\n",
    "                                swap_axes=True)"
   ]
  },
  {
   "cell_type": "code",
   "execution_count": null,
   "id": "3dafee77",
   "metadata": {},
   "outputs": [],
   "source": [
    "#change name of decPAM to TR_MAC\n",
    "new_cluster_names = {\n",
    "    \"0\": \"decPAM1\", \"1\": \"decPAM1\", \"2\": \"decBAM\",\n",
    "    \"3\": \"DC2\", \"4\": \"pMac\",\n",
    "    \"5\": \"decPAM2\", \"6\": \"DC1\",\n",
    "    \"7\": \"PLASMA\", \"8\": \"FIB\"\n",
    "}\n",
    "\n",
    "adata_subset.obs['celltype_lvl2'] = adata_subset.obs.leiden_subcluster.astype(\"str\").values\n",
    "adata_subset.obs.celltype_lvl2 = adata_subset.obs.celltype_lvl2.replace(new_cluster_names)\n",
    "adata_subset.obs.celltype_lvl2 = adata_subset.obs.celltype_lvl2.astype(\"category\")"
   ]
  },
  {
   "cell_type": "code",
   "execution_count": null,
   "id": "708c98fd",
   "metadata": {},
   "outputs": [],
   "source": [
    "adata_subset.uns.pop('celltype_lvl2_colors', None)"
   ]
  },
  {
   "cell_type": "code",
   "execution_count": null,
   "id": "5cef650e",
   "metadata": {
    "scrolled": true
   },
   "outputs": [],
   "source": [
    "sq.pl.spatial_scatter(\n",
    "    adata_subset,\n",
    "    library_id=\"spatial\",\n",
    "    shape=None,\n",
    "    color=['celltype_lvl2'],\n",
    "    wspace=0.1, \n",
    "    ncols=1, \n",
    "    figsize=(20, 10),\n",
    "    size=8\n",
    ")"
   ]
  },
  {
   "cell_type": "code",
   "execution_count": null,
   "id": "ef815dcc",
   "metadata": {},
   "outputs": [],
   "source": [
    "pd.crosstab(adata_subset.obs['celltype_lvl2'], adata_subset.obs['Selection'])\n",
    "pd.crosstab(adata_subset.obs['celltype_lvl2'], adata_subset.obs['tissue'])"
   ]
  },
  {
   "cell_type": "code",
   "execution_count": null,
   "id": "23db6a93",
   "metadata": {},
   "outputs": [],
   "source": [
    "adata.obs['celltype_lvl2']=adata.obs['celltype']"
   ]
  },
  {
   "cell_type": "code",
   "execution_count": null,
   "id": "3c0a36fc",
   "metadata": {},
   "outputs": [],
   "source": [
    "adata_subset.obs['celltype_lvl2'] = adata_subset.obs['celltype_lvl2'].astype('category')\n",
    "adata.obs['celltype_lvl2'] = adata.obs['celltype_lvl2'].astype('category')\n",
    "\n",
    "# Combine unique categories from both\n",
    "combined_categories = pd.Index(adata.obs['celltype_lvl2'].cat.categories).union(\n",
    "    pd.Index(adata_subset.obs['celltype_lvl2'].cat.categories))\n",
    "\n",
    "# Set the combined categories to both\n",
    "adata_subset.obs['celltype_lvl2'] = adata_subset.obs['celltype_lvl2'].cat.set_categories(combined_categories)\n",
    "adata.obs['celltype_lvl2'] = adata.obs['celltype_lvl2'].cat.set_categories(combined_categories)\n",
    "\n",
    "# Identify common indices\n",
    "common_indices = adata_subset.obs.index.intersection(adata.obs.index)\n",
    "\n",
    "# Transfer annotations only for the common indices\n",
    "adata.obs.loc[common_indices, 'celltype_lvl2'] = adata_subset.obs.loc[common_indices, 'celltype_lvl2']"
   ]
  },
  {
   "cell_type": "code",
   "execution_count": null,
   "id": "677dfd32",
   "metadata": {
    "scrolled": true
   },
   "outputs": [],
   "source": [
    "adata.uns.pop('celltype_lvl2_colors', None)\n",
    "sq.pl.spatial_scatter(\n",
    "    adata,\n",
    "    library_id=\"spatial\",\n",
    "    shape=None,\n",
    "    color=['celltype_lvl2'],\n",
    "    wspace=0.1, \n",
    "    ncols=1, \n",
    "    figsize=(20, 10),\n",
    "    size=8\n",
    ")"
   ]
  },
  {
   "cell_type": "markdown",
   "id": "a5cca721",
   "metadata": {},
   "source": [
    "### subcluster DC2"
   ]
  },
  {
   "cell_type": "code",
   "execution_count": null,
   "id": "64d55b41",
   "metadata": {},
   "outputs": [],
   "source": [
    "#subcluster DC\n",
    "adata_subset = adata[adata.obs['celltype_lvl2'].isin(['DC2']),:]\n",
    "\n",
    "adata_subset.obs['celltype_lvl2'] = adata_subset.obs['celltype_lvl2'].cat.remove_unused_categories()"
   ]
  },
  {
   "cell_type": "code",
   "execution_count": null,
   "id": "77fa98b2",
   "metadata": {},
   "outputs": [],
   "source": [
    "adata_subset"
   ]
  },
  {
   "cell_type": "code",
   "execution_count": null,
   "id": "4669d288",
   "metadata": {},
   "outputs": [],
   "source": [
    "sc.pp.neighbors(adata_subset)\n",
    "sc.tl.umap(adata_subset)"
   ]
  },
  {
   "cell_type": "code",
   "execution_count": null,
   "id": "ad54fb08",
   "metadata": {},
   "outputs": [],
   "source": [
    "X = adata.obsm['X_pca']\n",
    "\n",
    "for r in (0.3, 0.5, 0.7):\n",
    "    key = f'subcluster_leiden_r{r:.1f}'\n",
    "    sc.tl.leiden(adata_subset, neighbors_key='wnn', resolution=r, key_added=key, random_state=0)\n",
    "\n",
    "    y = adata_subset.obs[key].to_numpy()\n",
    "    s = silhouette_score(X, y, metric='cosine')\n",
    "    print(f\"{key}: n_clusters={np.unique(y).size}  silhouette={s:.4f}\")\n",
    "\n",
    "    # UMAP\n",
    "    sc.pl.umap(adata_subset, color=key, legend_loc='on data')\n",
    "\n",
    "    adata_subset.obs[key] = adata_subset.obs[key].astype('category')\n",
    "    sc.tl.rank_genes_groups(adata_subset, groupby=key, method='wilcoxon')\n",
    "    sc.pl.rank_genes_groups_dotplot(adata_subset, n_genes=5, standard_scale='var',\n",
    "                                    swap_axes=True, dendrogram=False)"
   ]
  },
  {
   "cell_type": "code",
   "execution_count": null,
   "id": "44dabd40",
   "metadata": {},
   "outputs": [],
   "source": [
    "adata_subset.obs['leiden_subcluster'] = adata_subset.obs['subcluster_leiden_r0.3'].copy()"
   ]
  },
  {
   "cell_type": "code",
   "execution_count": null,
   "id": "43bc9908",
   "metadata": {
    "scrolled": true
   },
   "outputs": [],
   "source": [
    "sc.pl.dotplot(adata_subset, var_names=['CD14','MKI67','CLEC10A','cell_area','CD1C',\n",
    "                                      'PDGFRA','SELL','FCN1','AQP9','S100A12','CCR2','FCGR3A',\n",
    "                                      'total_counts'],\n",
    "              groupby='leiden_subcluster'\n",
    "              ,standard_scale=\"var\"\n",
    "              ,swap_axes=True\n",
    "             )"
   ]
  },
  {
   "cell_type": "code",
   "execution_count": null,
   "id": "91f4f5cb",
   "metadata": {
    "scrolled": true
   },
   "outputs": [],
   "source": [
    "sc.tl.rank_genes_groups(adata_subset, 'leiden_subcluster', method='wilcoxon')\n",
    "result = adata_subset.uns['rank_genes_groups']\n",
    "groups = result['names'].dtype.names\n",
    "pd.set_option('display.max_columns', 100)\n",
    "pd.DataFrame(\n",
    "    {group + '_' + key[:1]: result[key][group]\n",
    "    for group in groups for key in ['names']}).head(20)"
   ]
  },
  {
   "cell_type": "code",
   "execution_count": null,
   "id": "d91de7d7",
   "metadata": {},
   "outputs": [],
   "source": [
    "pd.crosstab(adata_subset.obs['leiden_subcluster'], adata_subset.obs['Selection'])"
   ]
  },
  {
   "cell_type": "code",
   "execution_count": null,
   "id": "6d15802b",
   "metadata": {
    "scrolled": true
   },
   "outputs": [],
   "source": [
    "adata_subset.uns.pop('leiden_subcluster_colors', None)\n",
    "sq.pl.spatial_scatter(\n",
    "    adata_subset,\n",
    "    library_id=\"spatial\",\n",
    "    shape=None,\n",
    "    color=['leiden_subcluster'],\n",
    "    wspace=0.1, \n",
    "    ncols=1, \n",
    "    figsize=(20, 10),\n",
    "    size=8\n",
    ")"
   ]
  },
  {
   "cell_type": "code",
   "execution_count": null,
   "id": "e5d81170",
   "metadata": {},
   "outputs": [],
   "source": [
    "new_cluster_names = {\n",
    "    \"0\": \"Mono\", \"1\": \"low_q\", \"2\": \"DC2\"\n",
    "}\n",
    "\n",
    "adata_subset.obs['celltype_lvl2'] = adata_subset.obs.leiden_subcluster.astype(\"str\").values\n",
    "adata_subset.obs.celltype_lvl2 = adata_subset.obs.celltype_lvl2.replace(new_cluster_names)\n",
    "adata_subset.obs.celltype_lvl2 = adata_subset.obs.celltype_lvl2.astype(\"category\")"
   ]
  },
  {
   "cell_type": "code",
   "execution_count": null,
   "id": "b1e4c48f",
   "metadata": {},
   "outputs": [],
   "source": [
    "pd.crosstab(adata_subset.obs['celltype_lvl2'], adata_subset.obs['Selection'])"
   ]
  },
  {
   "cell_type": "code",
   "execution_count": null,
   "id": "a46eab3a",
   "metadata": {},
   "outputs": [],
   "source": [
    "adata_subset.obs['celltype_lvl2'] = adata_subset.obs['celltype_lvl2'].astype('category')\n",
    "adata.obs['celltype_lvl2'] = adata.obs['celltype_lvl2'].astype('category')\n",
    "\n",
    "# Combine unique categories from both\n",
    "combined_categories = pd.Index(adata.obs['celltype_lvl2'].cat.categories).union(\n",
    "    pd.Index(adata_subset.obs['celltype_lvl2'].cat.categories))\n",
    "\n",
    "# Set the combined categories to both\n",
    "adata_subset.obs['celltype_lvl2'] = adata_subset.obs['celltype_lvl2'].cat.set_categories(combined_categories)\n",
    "adata.obs['celltype_lvl2'] = adata.obs['celltype_lvl2'].cat.set_categories(combined_categories)\n",
    "\n",
    "# Identify common indices\n",
    "common_indices = adata_subset.obs.index.intersection(adata.obs.index)\n",
    "\n",
    "# Transfer annotations only for the common indices\n",
    "adata.obs.loc[common_indices, 'celltype_lvl2'] = adata_subset.obs.loc[common_indices, 'celltype_lvl2']"
   ]
  },
  {
   "cell_type": "code",
   "execution_count": null,
   "id": "a0aaba31",
   "metadata": {},
   "outputs": [],
   "source": [
    "adata.obs['celltype_lvl2'] = adata.obs['celltype_lvl2'].cat.remove_unused_categories()"
   ]
  },
  {
   "cell_type": "code",
   "execution_count": null,
   "id": "cd4f97e1",
   "metadata": {},
   "outputs": [],
   "source": [
    "adata.uns.pop('celltype_lvl2_colors', None)\n",
    "sq.pl.spatial_scatter(\n",
    "    adata,\n",
    "    library_id=\"spatial\",\n",
    "    shape=None,\n",
    "    color=['celltype', 'celltype_lvl2'],\n",
    "    wspace=0.1, \n",
    "    ncols=1, \n",
    "    figsize=(20, 10),\n",
    "    size=8\n",
    ")"
   ]
  },
  {
   "cell_type": "code",
   "execution_count": null,
   "id": "928186eb",
   "metadata": {},
   "outputs": [],
   "source": []
  },
  {
   "cell_type": "code",
   "execution_count": null,
   "id": "01d8a46e",
   "metadata": {
    "scrolled": true
   },
   "outputs": [],
   "source": [
    "pd.crosstab(adata.obs['celltype_lvl2'], adata.obs['Selection'])"
   ]
  },
  {
   "cell_type": "markdown",
   "id": "f92f72f1",
   "metadata": {},
   "source": [
    "### subcluster NK/Tcell"
   ]
  },
  {
   "cell_type": "code",
   "execution_count": null,
   "id": "154adc35",
   "metadata": {},
   "outputs": [],
   "source": [
    "adata_subset = adata[adata.obs['celltype_lvl2'].isin(['NK']),:]\n",
    "\n",
    "adata_subset.obs['celltype_lvl2'] = adata_subset.obs['celltype_lvl2'].cat.remove_unused_categories()"
   ]
  },
  {
   "cell_type": "code",
   "execution_count": null,
   "id": "9366375d",
   "metadata": {},
   "outputs": [],
   "source": [
    "adata_subset"
   ]
  },
  {
   "cell_type": "code",
   "execution_count": null,
   "id": "9048762d",
   "metadata": {},
   "outputs": [],
   "source": [
    "sc.pp.neighbors(adata_subset)\n",
    "sc.tl.umap(adata_subset)"
   ]
  },
  {
   "cell_type": "code",
   "execution_count": null,
   "id": "a29fe475",
   "metadata": {},
   "outputs": [],
   "source": [
    "X = adata.obsm['X_pca']\n",
    "\n",
    "for r in (0.3, 0.5, 0.7):\n",
    "    key = f'subcluster_leiden_r{r:.1f}'\n",
    "    sc.tl.leiden(adata_subset, neighbors_key='wnn', resolution=r, key_added=key, random_state=0)\n",
    "\n",
    "    y = adata_subset.obs[key].to_numpy()\n",
    "    s = silhouette_score(X, y, metric='cosine')\n",
    "    print(f\"{key}: n_clusters={np.unique(y).size}  silhouette={s:.4f}\")\n",
    "\n",
    "    # UMAP\n",
    "    sc.pl.umap(adata_subset, color=key, legend_loc='on data')\n",
    "\n",
    "    adata_subset.obs[key] = adata_subset.obs[key].astype('category')\n",
    "    sc.tl.rank_genes_groups(adata_subset, groupby=key, method='wilcoxon')\n",
    "    sc.pl.rank_genes_groups_dotplot(adata_subset, n_genes=5, standard_scale='var',\n",
    "                                    swap_axes=True, dendrogram=False)"
   ]
  },
  {
   "cell_type": "code",
   "execution_count": null,
   "id": "dbcace95",
   "metadata": {},
   "outputs": [],
   "source": [
    "adata_subset.obs['leiden_subcluster'] = adata_subset.obs['subcluster_leiden_r0.3'].copy()"
   ]
  },
  {
   "cell_type": "code",
   "execution_count": null,
   "id": "7cc1269d",
   "metadata": {
    "scrolled": false
   },
   "outputs": [],
   "source": [
    "sc.pl.dotplot(adata_subset, var_names=['MKI67','CD3D','CD3E','GNLY','IL7R','CTLA4','FOXP3',\n",
    "                                      'CD68','CD14','CD4','CD8A','XCL1','SPP1','FOLR2','MARCO','MMP9',\n",
    "                                      'CXCR4','CD2','THY1','PTPRC','FSTL3','TRAC','LILRB1','GZMB',\n",
    "                                      'GZMA','PRF1','ITGAM','ITGAE','ENTPD1','KLRD1','KLRB1',\n",
    "                                      'FCGR3A','SELL','KIR2DL4','CCL5','C1QA','MRC1'],\n",
    "              groupby='leiden_subcluster'\n",
    "              ,standard_scale=\"var\"\n",
    "             )"
   ]
  },
  {
   "cell_type": "code",
   "execution_count": null,
   "id": "927e8b62",
   "metadata": {},
   "outputs": [],
   "source": [
    "sc.pl.dotplot(adata_subset, var_names=['ENTPD1','XCL1','PECAM1','VWF','CD34','CD3E','CD14','CD68',\n",
    "                                      'GZMB','PRF1','CXCL9','CXCL10','NKG7','total_counts','FCGR3A'],\n",
    "              groupby='leiden_subcluster'\n",
    "              ,standard_scale=\"var\"\n",
    "             )"
   ]
  },
  {
   "cell_type": "code",
   "execution_count": null,
   "id": "f133596b",
   "metadata": {},
   "outputs": [],
   "source": [
    "sc.pl.violin(adata_subset, keys='total_counts', groupby='leiden_subcluster', size=0)"
   ]
  },
  {
   "cell_type": "code",
   "execution_count": null,
   "id": "d2edf965",
   "metadata": {},
   "outputs": [],
   "source": [
    "sc.tl.dendrogram(adata_subset, groupby='leiden_subcluster')\n",
    "sc.pl.dotplot(adata_subset, var_names=['MKI67','CD3D','CD3E','GNLY','IL7R','CTLA4','FOXP3',\n",
    "                                      'CD68','CD14','CD4','CD8A','XCL1','SPP1','FOLR2','MARCO','MMP9',\n",
    "                                      'CXCR4','CD2','THY1','PTPRC','FSTL3','TRAC','LILRB1','GZMB',\n",
    "                                      'GZMA','PRF1','ITGAM','ITGAE','ENTPD1'],\n",
    "              groupby='leiden_subcluster'\n",
    "              ,standard_scale=\"var\", dendrogram=True, swap_axes=False\n",
    "             )"
   ]
  },
  {
   "cell_type": "code",
   "execution_count": null,
   "id": "3bc84a66",
   "metadata": {
    "scrolled": true
   },
   "outputs": [],
   "source": [
    "sc.tl.rank_genes_groups(adata_subset, 'leiden_subcluster', method='wilcoxon')\n",
    "result = adata_subset.uns['rank_genes_groups']\n",
    "groups = result['names'].dtype.names\n",
    "pd.set_option('display.max_columns', 100)\n",
    "pd.DataFrame(\n",
    "    {group + '_' + key[:1]: result[key][group]\n",
    "    for group in groups for key in ['names']}).head(20)"
   ]
  },
  {
   "cell_type": "code",
   "execution_count": null,
   "id": "b8e8d6c0",
   "metadata": {
    "scrolled": true
   },
   "outputs": [],
   "source": [
    "pd.crosstab(adata_subset.obs['leiden_subcluster'], adata_subset.obs['tissue'])"
   ]
  },
  {
   "cell_type": "code",
   "execution_count": null,
   "id": "e8234a2e",
   "metadata": {},
   "outputs": [],
   "source": [
    "sc.pl.rank_genes_groups_dotplot(adata_subset, n_genes=5, dendrogram=False,standard_scale=\"var\",\n",
    "                                swap_axes=True)"
   ]
  },
  {
   "cell_type": "code",
   "execution_count": null,
   "id": "8718a25b",
   "metadata": {},
   "outputs": [],
   "source": [
    "new_cluster_names = {\n",
    "    \"0\": \"NK_CD39+\", \"1\": \"NK_CD39-\", \"2\": \"NK_CD39+\",\n",
    "    \"3\": \"NKp\",'4':'NK_CD39+','5':'NK_CD39-'\n",
    "}\n",
    "\n",
    "adata_subset.obs['celltype_lvl2'] = adata_subset.obs.leiden_subcluster.astype(\"str\").values\n",
    "adata_subset.obs.celltype_lvl2 = adata_subset.obs.celltype_lvl2.replace(new_cluster_names)\n",
    "adata_subset.obs.celltype_lvl2 = adata_subset.obs.celltype_lvl2.astype(\"category\")"
   ]
  },
  {
   "cell_type": "code",
   "execution_count": null,
   "id": "ae0106d2",
   "metadata": {},
   "outputs": [],
   "source": [
    "pd.crosstab(adata_subset.obs['celltype_lvl2'], adata_subset.obs['Selection'])"
   ]
  },
  {
   "cell_type": "code",
   "execution_count": null,
   "id": "a4ff1692",
   "metadata": {},
   "outputs": [],
   "source": [
    "pd.crosstab(adata_subset.obs['celltype_lvl2'], adata_subset.obs['tissue'])"
   ]
  },
  {
   "cell_type": "code",
   "execution_count": null,
   "id": "13b4c00a",
   "metadata": {},
   "outputs": [],
   "source": [
    "pd.crosstab(adata_subset.obs['celltype_lvl2'], adata_subset.obs['Selection'])"
   ]
  },
  {
   "cell_type": "code",
   "execution_count": null,
   "id": "a5b8a210",
   "metadata": {
    "scrolled": true
   },
   "outputs": [],
   "source": [
    "adata_subset.uns.pop('celltype_lvl2_colors', None)"
   ]
  },
  {
   "cell_type": "code",
   "execution_count": null,
   "id": "9c8b272a",
   "metadata": {
    "scrolled": true
   },
   "outputs": [],
   "source": [
    "sq.pl.spatial_scatter(\n",
    "    adata_subset,\n",
    "    library_id=\"spatial\",\n",
    "    shape=None,\n",
    "    color=['celltype_lvl2'],\n",
    "    wspace=0.1, \n",
    "    ncols=1, \n",
    "    figsize=(20, 10),\n",
    "    size=8\n",
    ")"
   ]
  },
  {
   "cell_type": "code",
   "execution_count": null,
   "id": "ba9a128b",
   "metadata": {},
   "outputs": [],
   "source": [
    "adata_subset.obs['celltype_lvl2'] = adata_subset.obs['celltype_lvl2'].astype('category')\n",
    "adata.obs['celltype_lvl2'] = adata.obs['celltype_lvl2'].astype('category')\n",
    "\n",
    "# combine unique categories from both\n",
    "combined_categories = pd.Index(adata.obs['celltype_lvl2'].cat.categories).union(\n",
    "    pd.Index(adata_subset.obs['celltype_lvl2'].cat.categories))\n",
    "\n",
    "# set the combined categories to both\n",
    "adata_subset.obs['celltype_lvl2'] = adata_subset.obs['celltype_lvl2'].cat.set_categories(combined_categories)\n",
    "adata.obs['celltype_lvl2'] = adata.obs['celltype_lvl2'].cat.set_categories(combined_categories)\n",
    "\n",
    "# identify common indices\n",
    "common_indices = adata_subset.obs.index.intersection(adata.obs.index)\n",
    "\n",
    "# transfer annotations only for the common indices\n",
    "adata.obs.loc[common_indices, 'celltype_lvl2'] = adata_subset.obs.loc[common_indices, 'celltype_lvl2']"
   ]
  },
  {
   "cell_type": "code",
   "execution_count": null,
   "id": "741a59d0",
   "metadata": {},
   "outputs": [],
   "source": [
    "adata.obs['celltype_lvl2'] = adata.obs['celltype_lvl2'].cat.remove_unused_categories()"
   ]
  },
  {
   "cell_type": "code",
   "execution_count": null,
   "id": "f002c3b3",
   "metadata": {
    "scrolled": true
   },
   "outputs": [],
   "source": [
    "pd.crosstab(adata.obs['celltype_lvl2'], adata.obs['tissue'])"
   ]
  },
  {
   "cell_type": "markdown",
   "id": "2f501785",
   "metadata": {},
   "source": [
    "## subcluster T cells"
   ]
  },
  {
   "cell_type": "code",
   "execution_count": null,
   "id": "1294d468",
   "metadata": {},
   "outputs": [],
   "source": [
    "#subcluster T cells\n",
    "adata_subset = adata[adata.obs['celltype_lvl2'].isin(['TCELL']),:]\n",
    "\n",
    "# Remove unused categories from 'celltype_wnn' in mdata_myelo\n",
    "adata_subset.obs['celltype_lvl2'] = adata_subset.obs['celltype_lvl2'].cat.remove_unused_categories()"
   ]
  },
  {
   "cell_type": "code",
   "execution_count": null,
   "id": "75c5c8ca",
   "metadata": {},
   "outputs": [],
   "source": [
    "adata_subset"
   ]
  },
  {
   "cell_type": "code",
   "execution_count": null,
   "id": "2363cd99",
   "metadata": {},
   "outputs": [],
   "source": [
    "sc.pp.neighbors(adata_subset)\n",
    "sc.tl.umap(adata_subset)"
   ]
  },
  {
   "cell_type": "code",
   "execution_count": null,
   "id": "85fe935b",
   "metadata": {},
   "outputs": [],
   "source": [
    "X = adata.obsm['X_pca']\n",
    "\n",
    "for r in (0.3, 0.5, 0.7):\n",
    "    key = f'subcluster_leiden_r{r:.1f}'\n",
    "    sc.tl.leiden(adata_subset, neighbors_key='wnn', resolution=r, key_added=key, random_state=0)\n",
    "\n",
    "    y = adata_subset.obs[key].to_numpy()\n",
    "    s = silhouette_score(X, y, metric='cosine')\n",
    "    print(f\"{key}: n_clusters={np.unique(y).size}  silhouette={s:.4f}\")\n",
    "\n",
    "    # UMAP\n",
    "    sc.pl.umap(adata_subset, color=key, legend_loc='on data')\n",
    "\n",
    "    adata_subset.obs[key] = adata_subset.obs[key].astype('category')\n",
    "    sc.tl.rank_genes_groups(adata_subset, groupby=key, method='wilcoxon')\n",
    "    sc.pl.rank_genes_groups_dotplot(adata_subset, n_genes=5, standard_scale='var',\n",
    "                                    swap_axes=True, dendrogram=False)"
   ]
  },
  {
   "cell_type": "code",
   "execution_count": null,
   "id": "61364648",
   "metadata": {},
   "outputs": [],
   "source": [
    "adata_subset.obs['leiden_subcluster'] = adata_subset.obs['subcluster_leiden_r0.3'].copy()"
   ]
  },
  {
   "cell_type": "code",
   "execution_count": null,
   "id": "a18042e9",
   "metadata": {},
   "outputs": [],
   "source": [
    "adata_subset.uns.pop('leiden_subcluster_colors', None)"
   ]
  },
  {
   "cell_type": "code",
   "execution_count": null,
   "id": "957395c4",
   "metadata": {},
   "outputs": [],
   "source": [
    "sc.pl.dotplot(adata_subset, var_names=['MKI67','PTPRC',\n",
    "                                      'CD4','CD8A','FOXP3','CTLA4','CD14','CD3E','THY1','PDGFRA','PDCD1',\n",
    "                                      'ARG1','SLC4A1','CD1C','XCR1','NKG7','GNLY','ENTPD1','XCL1'],\n",
    "              groupby='leiden_subcluster'\n",
    "              ,standard_scale=\"var\"\n",
    "             )"
   ]
  },
  {
   "cell_type": "code",
   "execution_count": null,
   "id": "6f070a0f",
   "metadata": {
    "scrolled": true
   },
   "outputs": [],
   "source": [
    "sc.tl.rank_genes_groups(adata_subset, 'leiden_subcluster', method='wilcoxon')\n",
    "result = adata_subset.uns['rank_genes_groups']\n",
    "groups = result['names'].dtype.names\n",
    "pd.set_option('display.max_columns', 100)\n",
    "pd.DataFrame(\n",
    "    {group + '_' + key[:1]: result[key][group]\n",
    "    for group in groups for key in ['names']}).head(20)"
   ]
  },
  {
   "cell_type": "code",
   "execution_count": null,
   "id": "879c722b",
   "metadata": {},
   "outputs": [],
   "source": [
    "pd.crosstab(adata_subset.obs['leiden_subcluster'], adata_subset.obs['Selection'])\n",
    "pd.crosstab(adata_subset.obs['leiden_subcluster'], adata_subset.obs['tissue'])"
   ]
  },
  {
   "cell_type": "code",
   "execution_count": null,
   "id": "50006002",
   "metadata": {},
   "outputs": [],
   "source": [
    "sc.pl.rank_genes_groups_dotplot(adata_subset, n_genes=5, dendrogram=False,standard_scale=\"var\",\n",
    "                                swap_axes=True)"
   ]
  },
  {
   "cell_type": "code",
   "execution_count": null,
   "id": "d3d0bd3f",
   "metadata": {},
   "outputs": [],
   "source": [
    "new_cluster_names = {\n",
    "    \"0\": \"TCELL_CD4+\", \"1\": \"TCELL_CD8+\", \"2\": \"OTHER\",'3':'OTHER','4':'OTHER','5':'Treg','6':'OTHER'\n",
    "}\n",
    "\n",
    "adata_subset.obs['celltype_lvl2'] = adata_subset.obs.leiden_subcluster.astype(\"str\").values\n",
    "adata_subset.obs.celltype_lvl2 = adata_subset.obs.celltype_lvl2.replace(new_cluster_names)\n",
    "adata_subset.obs.celltype_lvl2 = adata_subset.obs.celltype_lvl2.astype(\"category\")"
   ]
  },
  {
   "cell_type": "code",
   "execution_count": null,
   "id": "be8e9360",
   "metadata": {},
   "outputs": [],
   "source": [
    "adata_subset.obs['celltype_lvl2'] = adata_subset.obs['celltype_lvl2'].astype('category')\n",
    "adata.obs['celltype_lvl2'] = adata.obs['celltype_lvl2'].astype('category')\n",
    "\n",
    "# Combine unique categories from both\n",
    "combined_categories = pd.Index(adata.obs['celltype_lvl2'].cat.categories).union(\n",
    "    pd.Index(adata_subset.obs['celltype_lvl2'].cat.categories))\n",
    "\n",
    "# Set the combined categories to both\n",
    "adata_subset.obs['celltype_lvl2'] = adata_subset.obs['celltype_lvl2'].cat.set_categories(combined_categories)\n",
    "adata.obs['celltype_lvl2'] = adata.obs['celltype_lvl2'].cat.set_categories(combined_categories)\n",
    "\n",
    "# Identify common indices\n",
    "common_indices = adata_subset.obs.index.intersection(adata.obs.index)\n",
    "\n",
    "# Transfer annotations only for the common indices\n",
    "adata.obs.loc[common_indices, 'celltype_lvl2'] = adata_subset.obs.loc[common_indices, 'celltype_lvl2']"
   ]
  },
  {
   "cell_type": "code",
   "execution_count": null,
   "id": "1c1b876e",
   "metadata": {},
   "outputs": [],
   "source": [
    "adata.obs['celltype_lvl2'] = adata.obs['celltype_lvl2'].cat.remove_unused_categories()"
   ]
  },
  {
   "cell_type": "markdown",
   "id": "7a05c129",
   "metadata": {},
   "source": [
    "### subcluster low_q"
   ]
  },
  {
   "cell_type": "code",
   "execution_count": null,
   "id": "e27fb7e4",
   "metadata": {},
   "outputs": [],
   "source": [
    "adata_subset = adata[adata.obs['celltype'].isin(['low_q']),:]\n",
    "\n",
    "adata_subset.obs['celltype'] = adata_subset.obs['celltype'].cat.remove_unused_categories()"
   ]
  },
  {
   "cell_type": "code",
   "execution_count": null,
   "id": "476d6488",
   "metadata": {},
   "outputs": [],
   "source": [
    "adata_subset"
   ]
  },
  {
   "cell_type": "code",
   "execution_count": null,
   "id": "12c37f3f",
   "metadata": {},
   "outputs": [],
   "source": [
    "sc.pp.neighbors(adata_subset)\n",
    "sc.tl.umap(adata_subset)"
   ]
  },
  {
   "cell_type": "code",
   "execution_count": null,
   "id": "fb072481",
   "metadata": {},
   "outputs": [],
   "source": [
    "X = adata.obsm['X_pca']\n",
    "\n",
    "for r in (0.3, 0.5, 0.7):\n",
    "    key = f'subcluster_leiden_r{r:.1f}'\n",
    "    sc.tl.leiden(adata_subset, neighbors_key='wnn', resolution=r, key_added=key, random_state=0)\n",
    "\n",
    "    y = adata_subset.obs[key].to_numpy()\n",
    "    s = silhouette_score(X, y, metric='cosine')\n",
    "    print(f\"{key}: n_clusters={np.unique(y).size}  silhouette={s:.4f}\")\n",
    "\n",
    "    # UMAP\n",
    "    sc.pl.umap(adata_subset, color=key, legend_loc='on data')\n",
    "\n",
    "    adata_subset.obs[key] = adata_subset.obs[key].astype('category')\n",
    "    sc.tl.rank_genes_groups(adata_subset, groupby=key, method='wilcoxon')\n",
    "    sc.pl.rank_genes_groups_dotplot(adata_subset, n_genes=5, standard_scale='var',\n",
    "                                    swap_axes=True, dendrogram=False)"
   ]
  },
  {
   "cell_type": "code",
   "execution_count": null,
   "id": "5b183e1e",
   "metadata": {},
   "outputs": [],
   "source": [
    "adata_subset.obs['leiden_subcluster'] = adata_subset.obs['subcluster_leiden_r0.3'].copy()"
   ]
  },
  {
   "cell_type": "code",
   "execution_count": null,
   "id": "50951e4a",
   "metadata": {
    "scrolled": true
   },
   "outputs": [],
   "source": [
    "sc.tl.rank_genes_groups(adata_subset, 'leiden_subcluster', method='wilcoxon')\n",
    "result = adata_subset.uns['rank_genes_groups']\n",
    "groups = result['names'].dtype.names\n",
    "pd.set_option('display.max_columns', 100)\n",
    "pd.DataFrame(\n",
    "    {group + '_' + key[:1]: result[key][group]\n",
    "    for group in groups for key in ['names']}).head(20)"
   ]
  },
  {
   "cell_type": "code",
   "execution_count": null,
   "id": "f265074b",
   "metadata": {
    "scrolled": true
   },
   "outputs": [],
   "source": [
    "pd.crosstab(adata_subset.obs['leiden_subcluster'], adata_subset.obs['tissue'])"
   ]
  },
  {
   "cell_type": "code",
   "execution_count": null,
   "id": "5201602e",
   "metadata": {
    "scrolled": true
   },
   "outputs": [],
   "source": [
    "adata_subset.uns.pop('leiden_subcluster_colors', None)\n",
    "sq.pl.spatial_scatter(\n",
    "    adata_subset,\n",
    "    library_id=\"spatial\",\n",
    "    shape=None,\n",
    "    color=['leiden_subcluster'],\n",
    "    wspace=0.1, \n",
    "    ncols=1, \n",
    "    figsize=(20, 10),\n",
    "    size=8\n",
    ")"
   ]
  },
  {
   "cell_type": "code",
   "execution_count": null,
   "id": "c62bba90",
   "metadata": {
    "scrolled": true
   },
   "outputs": [],
   "source": [
    "sc.tl.dendrogram(adata_subset, groupby='leiden_subcluster')\n",
    "sc.pl.dotplot(adata_subset, var_names=['MKI67','MMP9','CXCL9','CXCL10','NLRP3','LUCAT1','SPP1',\n",
    "                                      'AQP9','APOBEC3A','ARG1'],\n",
    "              groupby='leiden_subcluster'\n",
    "              ,standard_scale=\"var\"\n",
    "              ,swap_axes=False\n",
    "              ,dendrogram=False\n",
    "             )"
   ]
  },
  {
   "cell_type": "code",
   "execution_count": null,
   "id": "c12b3adb",
   "metadata": {},
   "outputs": [],
   "source": [
    "new_cluster_names = {\n",
    "    \"0\": \"OTHER\", \"1\": \"OTHER\", \"2\": \"NEUTRO\",'3':'OTHER','4':'OTHER','5':'OTHER','6':'OTHER','7':'OTHER',\n",
    "    '8':'OTHER','9':'OTHER'\n",
    "}\n",
    "\n",
    "adata_subset.obs['celltype_lvl2'] = adata_subset.obs.leiden_subcluster.astype(\"str\").values\n",
    "adata_subset.obs.celltype_lvl2 = adata_subset.obs.celltype_lvl2.replace(new_cluster_names)\n",
    "adata_subset.obs.celltype_lvl2 = adata_subset.obs.celltype_lvl2.astype(\"category\")"
   ]
  },
  {
   "cell_type": "code",
   "execution_count": null,
   "id": "4233a886",
   "metadata": {},
   "outputs": [],
   "source": [
    "pd.crosstab(adata_subset.obs['celltype_lvl2'], adata_subset.obs['Selection'])"
   ]
  },
  {
   "cell_type": "code",
   "execution_count": null,
   "id": "958173a6",
   "metadata": {},
   "outputs": [],
   "source": [
    "pd.crosstab(adata_subset.obs['celltype_lvl2'], adata_subset.obs['tissue'])"
   ]
  },
  {
   "cell_type": "code",
   "execution_count": null,
   "id": "f3f273d1",
   "metadata": {},
   "outputs": [],
   "source": [
    "adata_subset.obs['celltype_lvl2'] = adata_subset.obs['celltype_lvl2'].astype('category')\n",
    "adata.obs['celltype_lvl2'] = adata.obs['celltype_lvl2'].astype('category')\n",
    "\n",
    "combined_categories = pd.Index(adata.obs['celltype_lvl2'].cat.categories).union(\n",
    "    pd.Index(adata_subset.obs['celltype_lvl2'].cat.categories))\n",
    "\n",
    "adata_subset.obs['celltype_lvl2'] = adata_subset.obs['celltype_lvl2'].cat.set_categories(combined_categories)\n",
    "adata.obs['celltype_lvl2'] = adata.obs['celltype_lvl2'].cat.set_categories(combined_categories)\n",
    "\n",
    "common_indices = adata_subset.obs.index.intersection(adata.obs.index)\n",
    "\n",
    "\n",
    "adata.obs.loc[common_indices, 'celltype_lvl2'] = adata_subset.obs.loc[common_indices, 'celltype_lvl2']"
   ]
  },
  {
   "cell_type": "code",
   "execution_count": null,
   "id": "53667034",
   "metadata": {},
   "outputs": [],
   "source": [
    "adata.obs['celltype_lvl2'] = adata.obs['celltype_lvl2'].cat.remove_unused_categories()"
   ]
  },
  {
   "cell_type": "code",
   "execution_count": null,
   "id": "4a026f98",
   "metadata": {},
   "outputs": [],
   "source": [
    "adata.uns.pop('celltype_lvl2_colors', None)\n",
    "sq.pl.spatial_scatter(\n",
    "    adata,\n",
    "    library_id=\"spatial\",\n",
    "    shape=None,\n",
    "    color=['celltype', 'celltype_lvl2'],\n",
    "    wspace=0.1, \n",
    "    ncols=1, \n",
    "    figsize=(20, 10),\n",
    "    size=8\n",
    ")"
   ]
  },
  {
   "cell_type": "code",
   "execution_count": null,
   "id": "3de76b00",
   "metadata": {},
   "outputs": [],
   "source": []
  },
  {
   "cell_type": "code",
   "execution_count": null,
   "id": "08a65744",
   "metadata": {
    "scrolled": true
   },
   "outputs": [],
   "source": [
    "pd.crosstab(adata.obs['celltype_lvl2'], adata.obs['tissue'])"
   ]
  },
  {
   "cell_type": "markdown",
   "id": "81cbe903",
   "metadata": {},
   "source": [
    "### subcluster decBAM"
   ]
  },
  {
   "cell_type": "code",
   "execution_count": null,
   "id": "a05835af",
   "metadata": {},
   "outputs": [],
   "source": [
    "adata_subset = adata[adata.obs['celltype_lvl2'].isin(['decBAM']),:]\n",
    "\n",
    "adata_subset.obs['celltype_lvl2'] = adata_subset.obs['celltype_lvl2'].cat.remove_unused_categories()"
   ]
  },
  {
   "cell_type": "code",
   "execution_count": null,
   "id": "c63584e4",
   "metadata": {},
   "outputs": [],
   "source": [
    "adata_subset"
   ]
  },
  {
   "cell_type": "code",
   "execution_count": null,
   "id": "b5e2cd17",
   "metadata": {},
   "outputs": [],
   "source": [
    "sc.pp.neighbors(adata_subset)\n",
    "sc.tl.umap(adata_subset)"
   ]
  },
  {
   "cell_type": "code",
   "execution_count": null,
   "id": "1549ec23",
   "metadata": {},
   "outputs": [],
   "source": [
    "X = adata.obsm['X_pca']\n",
    "\n",
    "for r in (0.3, 0.5, 0.7):\n",
    "    key = f'subcluster_leiden_r{r:.1f}'\n",
    "    sc.tl.leiden(adata_subset, neighbors_key='wnn', resolution=r, key_added=key, random_state=0)\n",
    "\n",
    "    y = adata_subset.obs[key].to_numpy()\n",
    "    s = silhouette_score(X, y, metric='cosine')\n",
    "    print(f\"{key}: n_clusters={np.unique(y).size}  silhouette={s:.4f}\")\n",
    "\n",
    "    # UMAP\n",
    "    sc.pl.umap(adata_subset, color=key, legend_loc='on data')\n",
    "\n",
    "    adata_subset.obs[key] = adata_subset.obs[key].astype('category')\n",
    "    sc.tl.rank_genes_groups(adata_subset, groupby=key, method='wilcoxon')\n",
    "    sc.pl.rank_genes_groups_dotplot(adata_subset, n_genes=5, standard_scale='var',\n",
    "                                    swap_axes=True, dendrogram=False)"
   ]
  },
  {
   "cell_type": "code",
   "execution_count": null,
   "id": "31c742a1",
   "metadata": {},
   "outputs": [],
   "source": [
    "adata_subset.obs['leiden_subcluster'] = adata_subset.obs['subcluster_leiden_r0.3'].copy()"
   ]
  },
  {
   "cell_type": "code",
   "execution_count": null,
   "id": "06002408",
   "metadata": {
    "scrolled": true
   },
   "outputs": [],
   "source": [
    "sc.tl.rank_genes_groups(adata_subset, 'leiden_subcluster', method='wilcoxon')\n",
    "result = adata_subset.uns['rank_genes_groups']\n",
    "groups = result['names'].dtype.names\n",
    "pd.set_option('display.max_columns', 100)\n",
    "pd.DataFrame(\n",
    "    {group + '_' + key[:1]: result[key][group]\n",
    "    for group in groups for key in ['names']}).head(20)"
   ]
  },
  {
   "cell_type": "code",
   "execution_count": null,
   "id": "5180f562",
   "metadata": {
    "scrolled": true
   },
   "outputs": [],
   "source": [
    "pd.crosstab(adata_subset.obs['leiden_subcluster'], adata_subset.obs['tissue'])"
   ]
  },
  {
   "cell_type": "code",
   "execution_count": null,
   "id": "9b4e644b",
   "metadata": {
    "scrolled": true
   },
   "outputs": [],
   "source": [
    "adata_subset.uns.pop('leiden_subcluster_colors', None)\n",
    "sq.pl.spatial_scatter(\n",
    "    adata_subset,\n",
    "    library_id=\"spatial\",\n",
    "    shape=None,\n",
    "    color=['leiden_subcluster'],\n",
    "    wspace=0.1, \n",
    "    ncols=1, \n",
    "    figsize=(20, 10),\n",
    "    size=8\n",
    ")"
   ]
  },
  {
   "cell_type": "code",
   "execution_count": null,
   "id": "6db929d4",
   "metadata": {
    "scrolled": true
   },
   "outputs": [],
   "source": [
    "sc.tl.dendrogram(adata_subset, groupby='leiden_subcluster')\n",
    "sc.pl.dotplot(adata_subset, var_names=['MKI67','MMP9','CXCL9','CXCL10','NLRP3','LUCAT1','SPP1',\n",
    "                                      'AQP9','APOBEC3A','ARG1','SPP1','C1QA','FOLR2','CD209','MARCO',\n",
    "                                      'MRC1','CD163','CD14','CTSD','CXCL2','SEMA3C','C15orf48','S100A12',\n",
    "                                      'TNF'],\n",
    "              groupby='leiden_subcluster'\n",
    "              ,standard_scale=\"var\"\n",
    "              ,swap_axes=False\n",
    "              ,dendrogram=False\n",
    "             )"
   ]
  },
  {
   "cell_type": "code",
   "execution_count": null,
   "id": "2d5fd118",
   "metadata": {},
   "outputs": [],
   "source": [
    "new_cluster_names = {\n",
    "    \"0\": \"decPAM1\", \"1\": \"decBAM1\", \"2\": \"decBAM2\",'3':'decPAM1'\n",
    "}\n",
    "\n",
    "adata_subset.obs['celltype_lvl2'] = adata_subset.obs.leiden_subcluster.astype(\"str\").values\n",
    "adata_subset.obs.celltype_lvl2 = adata_subset.obs.celltype_lvl2.replace(new_cluster_names)\n",
    "adata_subset.obs.celltype_lvl2 = adata_subset.obs.celltype_lvl2.astype(\"category\")"
   ]
  },
  {
   "cell_type": "code",
   "execution_count": null,
   "id": "1331615d",
   "metadata": {},
   "outputs": [],
   "source": [
    "pd.crosstab(adata_subset.obs['celltype_lvl2'], adata_subset.obs['Selection'])"
   ]
  },
  {
   "cell_type": "code",
   "execution_count": null,
   "id": "fc011aa8",
   "metadata": {},
   "outputs": [],
   "source": [
    "pd.crosstab(adata_subset.obs['celltype_lvl2'], adata_subset.obs['tissue'])"
   ]
  },
  {
   "cell_type": "code",
   "execution_count": null,
   "id": "1322762b",
   "metadata": {},
   "outputs": [],
   "source": [
    "adata_subset.obs['celltype_lvl2'] = adata_subset.obs['celltype_lvl2'].astype('category')\n",
    "adata.obs['celltype_lvl2'] = adata.obs['celltype_lvl2'].astype('category')\n",
    "\n",
    "# combine unique categories from both\n",
    "combined_categories = pd.Index(adata.obs['celltype_lvl2'].cat.categories).union(\n",
    "    pd.Index(adata_subset.obs['celltype_lvl2'].cat.categories))\n",
    "\n",
    "# set the combined categories to both\n",
    "adata_subset.obs['celltype_lvl2'] = adata_subset.obs['celltype_lvl2'].cat.set_categories(combined_categories)\n",
    "adata.obs['celltype_lvl2'] = adata.obs['celltype_lvl2'].cat.set_categories(combined_categories)\n",
    "\n",
    "# identify common indices\n",
    "common_indices = adata_subset.obs.index.intersection(adata.obs.index)\n",
    "\n",
    "# transfer annotations only for the common indices\n",
    "adata.obs.loc[common_indices, 'celltype_lvl2'] = adata_subset.obs.loc[common_indices, 'celltype_lvl2']"
   ]
  },
  {
   "cell_type": "code",
   "execution_count": null,
   "id": "46f3f64a",
   "metadata": {},
   "outputs": [],
   "source": [
    "adata.obs['celltype_lvl2'] = adata.obs['celltype_lvl2'].cat.remove_unused_categories()"
   ]
  },
  {
   "cell_type": "code",
   "execution_count": null,
   "id": "9cac5363",
   "metadata": {},
   "outputs": [],
   "source": [
    "adata.uns.pop('celltype_lvl2_colors', None)\n",
    "sq.pl.spatial_scatter(\n",
    "    adata,\n",
    "    library_id=\"spatial\",\n",
    "    shape=None,\n",
    "    color=['celltype', 'celltype_lvl2'],\n",
    "    wspace=0.1, \n",
    "    ncols=1, \n",
    "    figsize=(20, 10),\n",
    "    size=8\n",
    ")"
   ]
  },
  {
   "cell_type": "code",
   "execution_count": null,
   "id": "0cf5f4f5",
   "metadata": {
    "scrolled": true
   },
   "outputs": [],
   "source": [
    "pd.crosstab(adata.obs['celltype_lvl2'], adata.obs['Selection'])"
   ]
  },
  {
   "cell_type": "code",
   "execution_count": null,
   "id": "1098f88e",
   "metadata": {},
   "outputs": [],
   "source": []
  },
  {
   "cell_type": "code",
   "execution_count": null,
   "id": "b60a1532",
   "metadata": {},
   "outputs": [],
   "source": []
  },
  {
   "cell_type": "code",
   "execution_count": null,
   "id": "aa425499",
   "metadata": {},
   "outputs": [],
   "source": [
    "sc.tl.rank_genes_groups(adata, 'celltype_lvl2', method='wilcoxon')\n",
    "result = adata.uns['rank_genes_groups']\n",
    "groups = result['names'].dtype.names\n",
    "pd.set_option('display.max_columns', 100)\n",
    "pd.DataFrame(\n",
    "    {group + '_' + key[:1]: result[key][group]\n",
    "    for group in groups for key in ['names']}).head(20)"
   ]
  },
  {
   "cell_type": "code",
   "execution_count": null,
   "id": "843203fe",
   "metadata": {},
   "outputs": [],
   "source": [
    "sc.tl.dendrogram(adata, groupby='celltype_lvl2')"
   ]
  },
  {
   "cell_type": "code",
   "execution_count": null,
   "id": "cefa1508",
   "metadata": {
    "scrolled": true
   },
   "outputs": [],
   "source": [
    "sc.pl.rank_genes_groups_dotplot(adata, n_genes=10, dendrogram=True,standard_scale=\"var\",\n",
    "                                swap_axes=True)"
   ]
  },
  {
   "cell_type": "code",
   "execution_count": null,
   "id": "f7ed3d4b",
   "metadata": {},
   "outputs": [],
   "source": []
  },
  {
   "cell_type": "code",
   "execution_count": null,
   "id": "89d72b75",
   "metadata": {},
   "outputs": [],
   "source": []
  },
  {
   "cell_type": "code",
   "execution_count": null,
   "id": "692cc549",
   "metadata": {},
   "outputs": [],
   "source": [
    "new_cluster_names = {\n",
    "    \"LYMPH\": \"Lymph\", \"ENDO\": \"Endo\", \"MURAL\": \"Mural\", \"MAST\": \"Mast\",\n",
    "    \"EVT\": \"EVT\",'Mono':'Mono','NEUTRO':'Neutro','DC2':'DC2','low_q':'Other',\n",
    "    'DC1':'DC1','pMac':'pMac','decPAM2':'decPAM2',\n",
    "    'PLASMA':'decPAM1','decBAM1':'decBAM1',\n",
    "    'decBAM2':'decBAM2','TCELL_CD4+':'Tcell_CD4+','TCELL_CD8+':'Tcell_CD8+','Treg':'Treg'\n",
    "    ,'decPAM1':'decPAM1','BCELL':'B cell','OTHER':'Other',\n",
    "    'NKp':'pNK','NK_CD39+':'NK_CD39+','NK_CD39-':'NK_CD39-','FIB':'Fib'\n",
    "    \n",
    "}\n",
    "\n",
    "adata.obs['celltype_lvl1'] = adata.obs.celltype_lvl2.astype(\"str\").values\n",
    "adata.obs.celltype_lvl1 = adata.obs.celltype_lvl1.replace(new_cluster_names)\n",
    "adata.obs.celltype_lvl1 = adata.obs.celltype_lvl1.astype(\"category\")"
   ]
  },
  {
   "cell_type": "code",
   "execution_count": null,
   "id": "1d68efa9",
   "metadata": {},
   "outputs": [],
   "source": [
    "sc.tl.rank_genes_groups(adata, 'celltype_lvl1', method='wilcoxon')\n",
    "result = adata.uns['rank_genes_groups']\n",
    "groups = result['names'].dtype.names\n",
    "pd.set_option('display.max_columns', 100)\n",
    "pd.DataFrame(\n",
    "    {group + '_' + key[:1]: result[key][group]\n",
    "    for group in groups for key in ['names']}).head(20)"
   ]
  },
  {
   "cell_type": "code",
   "execution_count": null,
   "id": "3ea65c59",
   "metadata": {
    "scrolled": true
   },
   "outputs": [],
   "source": [
    "#sc.tl.dendrogram(adata, groupby='celltype_lvl1')\n",
    "sc.pl.dotplot(adata, var_names=['total_counts','MKI67','CD3D','CD3E','GNLY','IL7R','CTLA4','FOXP3',\n",
    "                                      'CD68','CD14','CD4','CD8A','XCL1','SPP1','FOLR2','MARCO','MMP9',\n",
    "                                      'CXCR4','CD2','THY1','PTPRC','FSTL3','TRAC','LILRB1','GZMB',\n",
    "                                      'GZMA','PRF1','ITGAM','ITGAE','ENTPD1','HIF1A'],\n",
    "              groupby='celltype_lvl1'\n",
    "              ,standard_scale=\"var\", dendrogram=False, swap_axes=False\n",
    "             )"
   ]
  },
  {
   "cell_type": "code",
   "execution_count": null,
   "id": "a673e9be",
   "metadata": {
    "scrolled": true
   },
   "outputs": [],
   "source": [
    "sc.pl.dotplot(adata, var_names=['HIF1A','CD209','C1QA','EPO','EPOR','FLT1','FOLR2','IDO1',\n",
    "                               'ISG15','IL10','SPP1','ITGB1','LILRB1','LUCAT1','NLRP3','MTOR',\n",
    "                               'PTGER2','PTGES','PTGS2','RICTOR','RPTOR','TGFB1','VEGFA','XCL1','WARS','XCR1',\n",
    "                               'TNF','RPIA','CXCL2'],\n",
    "              groupby='celltype_lvl1'\n",
    "              ,standard_scale=\"var\", dendrogram=False, swap_axes=True\n",
    "             )"
   ]
  },
  {
   "cell_type": "code",
   "execution_count": null,
   "id": "c781b102",
   "metadata": {
    "scrolled": true
   },
   "outputs": [],
   "source": [
    "sc.pl.dotplot(adata, var_names=['HIF1A','CD209','C1QA','EPO','EPOR','FLT1','FOLR2','IDO1',\n",
    "                               'ISG15','IL10','SPP1','ITGB1','LILRB1','LUCAT1','NLRP3','MTOR',\n",
    "                               'PTGER2','PTGES','PTGS2','RICTOR','RPTOR','TGFB1','VEGFA','XCL1','WARS','XCR1',\n",
    "                               'TNF','RPIA','CXCL2'],\n",
    "              groupby='celltype_lvl1'\n",
    "              ,standard_scale=\"var\", dendrogram=False, swap_axes=True\n",
    "             )"
   ]
  },
  {
   "cell_type": "code",
   "execution_count": null,
   "id": "03486895",
   "metadata": {},
   "outputs": [],
   "source": []
  },
  {
   "cell_type": "markdown",
   "id": "aa827194",
   "metadata": {},
   "source": [
    "## add peri/endovascular mask"
   ]
  },
  {
   "cell_type": "code",
   "execution_count": null,
   "id": "e53e9a86",
   "metadata": {},
   "outputs": [],
   "source": [
    "perivasc = pd.read_csv(\n",
    "    \"coords-perivascular-xenium.csv\", header=2\n",
    ")"
   ]
  },
  {
   "cell_type": "code",
   "execution_count": null,
   "id": "8480006d",
   "metadata": {},
   "outputs": [],
   "source": [
    "perivasc = perivasc.drop_duplicates()"
   ]
  },
  {
   "cell_type": "code",
   "execution_count": null,
   "id": "974f59ee",
   "metadata": {},
   "outputs": [],
   "source": [
    "# create polygons from csv file\n",
    "regions = {}\n",
    "for selection, group in perivasc.groupby('Selection'):\n",
    "    coords = group[['X', 'Y']].values\n",
    "    polygon = Polygon(coords)\n",
    "    regions[selection] = polygon\n",
    "\n",
    "# initialize boolean\n",
    "adata.obs['perivascular'] = False\n",
    "\n",
    "# assign cells within polygons to perivascular = True\n",
    "for idx, cell in adata.obs.iterrows():\n",
    "    cell_coords = Point(cell['x_centroid'], cell['y_centroid'])\n",
    "    for selection, polygon in regions.items():\n",
    "        if polygon.contains(cell_coords):\n",
    "            adata.obs.at[idx, 'perivascular'] = True\n",
    "            break"
   ]
  },
  {
   "cell_type": "code",
   "execution_count": null,
   "id": "a60ae0d0",
   "metadata": {},
   "outputs": [],
   "source": [
    "sum(adata.obs['perivascular'])"
   ]
  },
  {
   "cell_type": "code",
   "execution_count": null,
   "id": "eda4a188",
   "metadata": {},
   "outputs": [],
   "source": [
    "vasc = pd.read_csv(\n",
    "    \"coords-vascular-decidua.csv\", header=2\n",
    ")\n",
    "\n",
    "vasc = vasc.drop_duplicates()\n",
    "\n",
    "# create polygons from csv file\n",
    "regions = {}\n",
    "for selection, group in vasc.groupby('Selection'):\n",
    "    coords = group[['X', 'Y']].values\n",
    "    polygon = Polygon(coords)\n",
    "    regions[selection] = polygon\n",
    "\n",
    "# initialize boolean\n",
    "adata.obs['vascular'] = False\n",
    "\n",
    "# assign cells within polygons to perivascular = True\n",
    "for idx, cell in adata.obs.iterrows():\n",
    "    cell_coords = Point(cell['x_centroid'], cell['y_centroid'])\n",
    "    for selection, polygon in regions.items():\n",
    "        if polygon.contains(cell_coords):\n",
    "            adata.obs.at[idx, 'vascular'] = True\n",
    "            break\n",
    "\n",
    "sum(adata.obs['vascular'])"
   ]
  },
  {
   "cell_type": "code",
   "execution_count": null,
   "id": "7b038e55",
   "metadata": {},
   "outputs": [],
   "source": [
    "endovasc = pd.read_csv(\n",
    "    \"coords-endovascular-decidua-xenium.csv\", header=2\n",
    ")\n",
    "\n",
    "endovasc = endovasc.drop_duplicates()\n",
    "\n",
    "# create polygons from csv file\n",
    "regions = {}\n",
    "for selection, group in endovasc.groupby('Selection'):\n",
    "    coords = group[['X', 'Y']].values\n",
    "    polygon = Polygon(coords)\n",
    "    regions[selection] = polygon\n",
    "\n",
    "# initialize boolean\n",
    "adata.obs['endovasc'] = False\n",
    "\n",
    "# assign cells within polygons to perivascular = True\n",
    "for idx, cell in adata.obs.iterrows():\n",
    "    cell_coords = Point(cell['x_centroid'], cell['y_centroid'])\n",
    "    for selection, polygon in regions.items():\n",
    "        if polygon.contains(cell_coords):\n",
    "            adata.obs.at[idx, 'endovasc'] = True\n",
    "            break\n",
    "\n",
    "sum(adata.obs['endovasc'])\n"
   ]
  },
  {
   "cell_type": "code",
   "execution_count": null,
   "id": "c83fac06",
   "metadata": {
    "scrolled": true
   },
   "outputs": [],
   "source": [
    "pd.crosstab(adata.obs['celltype_lvl2'], adata.obs['perivascular'])\n"
   ]
  },
  {
   "cell_type": "code",
   "execution_count": null,
   "id": "953efc69",
   "metadata": {
    "scrolled": true
   },
   "outputs": [],
   "source": [
    "pd.crosstab(adata.obs['celltype_lvl2'], adata.obs['endovasc'])\n"
   ]
  },
  {
   "cell_type": "code",
   "execution_count": null,
   "id": "460bda5d",
   "metadata": {
    "scrolled": true
   },
   "outputs": [],
   "source": [
    "pd.crosstab(adata.obs['Selection'], adata.obs['endovasc'])\n"
   ]
  },
  {
   "cell_type": "code",
   "execution_count": null,
   "id": "25562d71",
   "metadata": {},
   "outputs": [],
   "source": [
    "adata_subset = adata[adata.obs['core'].isin([48])]\n"
   ]
  },
  {
   "cell_type": "code",
   "execution_count": null,
   "id": "aa4a610f",
   "metadata": {},
   "outputs": [],
   "source": [
    "adata_subset.obs\n"
   ]
  },
  {
   "cell_type": "code",
   "execution_count": null,
   "id": "f898b69b",
   "metadata": {},
   "outputs": [],
   "source": [
    "adata_subset_EVT = adata_subset[adata_subset.obs['celltype_lvl1'].isin(['EVT'])]\n"
   ]
  },
  {
   "cell_type": "code",
   "execution_count": null,
   "id": "5f5c584f",
   "metadata": {
    "scrolled": true
   },
   "outputs": [],
   "source": [
    "adata_subset_EVT\n"
   ]
  },
  {
   "cell_type": "code",
   "execution_count": null,
   "id": "37714cc0",
   "metadata": {},
   "outputs": [],
   "source": [
    "adata_subset_EVT.obs['endovasc'] = adata_subset_EVT.obs['endovasc'].astype('category')\n"
   ]
  },
  {
   "cell_type": "code",
   "execution_count": null,
   "id": "15e0ab35",
   "metadata": {
    "scrolled": true
   },
   "outputs": [],
   "source": [
    "sc.tl.rank_genes_groups(adata_subset_EVT, 'endovasc', method='t-test_overestim_var')\n",
    "result = adata_subset_EVT.uns['rank_genes_groups']\n",
    "groups = result['names'].dtype.names\n",
    "pd.set_option('display.max_columns', 100)\n",
    "pd.DataFrame(\n",
    "    {group + '_' + key[:1]: result[key][group]\n",
    "    for group in groups for key in ['names']}).head(20)"
   ]
  },
  {
   "cell_type": "code",
   "execution_count": null,
   "id": "1594f9e2",
   "metadata": {},
   "outputs": [],
   "source": [
    "sc.pl.dotplot(adata, var_names=['LAMA4','MMP12','GPC3','ENTPD1','B3GNT2','C15orf48','TFPI','GATA2','PPARG'],\n",
    "              groupby='celltype_lvl1'\n",
    "              ,standard_scale=\"var\", dendrogram=False, swap_axes=True\n",
    "             )"
   ]
  },
  {
   "cell_type": "code",
   "execution_count": null,
   "id": "9f0be928",
   "metadata": {
    "scrolled": true
   },
   "outputs": [],
   "source": [
    "adata[adata.obs['celltype_lvl1'].isin(['EVT','iEVT'])].obs\n"
   ]
  },
  {
   "cell_type": "code",
   "execution_count": null,
   "id": "d2d9aef3",
   "metadata": {},
   "outputs": [],
   "source": []
  },
  {
   "cell_type": "code",
   "execution_count": null,
   "id": "26537342",
   "metadata": {},
   "outputs": [],
   "source": [
    "adata_EVT = adata[adata.obs['celltype_lvl1'].isin(['EVT'])]\n",
    "adata_EVT = adata_EVT[adata_EVT.obs['endovasc'].isin([True])]\n"
   ]
  },
  {
   "cell_type": "code",
   "execution_count": null,
   "id": "660a1c9d",
   "metadata": {},
   "outputs": [],
   "source": [
    "new_cluster_names = {\n",
    "    \"EVT\":\"eEVT\"\n",
    "}\n",
    "\n",
    "\n",
    "adata_EVT.obs['celltype_lvl1'] = adata_EVT.obs.celltype_lvl1.astype(\"str\").values\n",
    "adata_EVT.obs.celltype_lvl1 = adata_EVT.obs.celltype_lvl1.replace(new_cluster_names)\n",
    "adata_EVT.obs.celltype_lvl1 = adata_EVT.obs.celltype_lvl1.astype(\"category\")\n",
    "adata.obs[\"celltype_lvl1\"] = adata.obs[\"celltype_lvl1\"].cat.add_categories(\"eEVT\")\n",
    "for cell_id, celltype_lvl1 in zip(adata_EVT.obs_names, adata_EVT.obs[\"celltype_lvl1\"]):\n",
    "    if cell_id in adata.obs.index:\n",
    "        adata.obs.loc[cell_id, \"celltype_lvl1\"] = celltype_lvl1"
   ]
  },
  {
   "cell_type": "code",
   "execution_count": null,
   "id": "63af5119",
   "metadata": {},
   "outputs": [],
   "source": [
    "adata_EVT.obs"
   ]
  },
  {
   "cell_type": "code",
   "execution_count": null,
   "id": "9e2fbc3e",
   "metadata": {
    "scrolled": true
   },
   "outputs": [],
   "source": [
    "adata.obs"
   ]
  },
  {
   "cell_type": "code",
   "execution_count": null,
   "id": "861071cf",
   "metadata": {},
   "outputs": [],
   "source": [
    "new_cluster_names = {\n",
    "    \"B cell\": \"B cell\", \"DC1\": \"DC1\", \"DC2\": \"DC2\",\n",
    "    \"EPI\": \"EPI\", \"EVT\": \"iEVT\",'eEVT':'eEVT',\n",
    "    \"Endo\": \"Endo\",'Fib':'Fib','Lymph':'Lymph','Mast':'Mast','Mono':'Mono',\n",
    "    'Mural':'Mural','NK_CD39+':'NK_CD39+','NK_CD39-':'NK_CD39-',\n",
    "    'Neutro':'Neutro','Other':'Other','Tcell_CD4+':'Tcell_CD4+','Tcell_CD8+':'Tcell_CD8+'\n",
    "    ,'Treg':'Treg','decPAM2':'decPAM2',\n",
    "    'decBAM1':'decBAM1','decBAM2':'decBAM2','pMac':'pMac',\n",
    "    'pNK':'pNK','decPAM1':'decPAM1'\n",
    "    \n",
    "}\n",
    "\n",
    "adata.obs['celltype_lvl1'] = adata.obs.celltype_lvl1.astype(\"str\").values\n",
    "adata.obs.celltype_lvl1 = adata.obs.celltype_lvl1.replace(new_cluster_names)\n",
    "adata.obs.celltype_lvl1 = adata.obs.celltype_lvl1.astype(\"category\")"
   ]
  },
  {
   "cell_type": "code",
   "execution_count": null,
   "id": "2ba60880",
   "metadata": {},
   "outputs": [],
   "source": [
    "new_cluster_names = {\n",
    "    \"B cell\": \"B cell\", \"DC1\": \"Myeloid\", \"DC2\": \"Myeloid\",\n",
    "    \"EPI\": \"EPI\", \"iEVT\": \"EVT\",'eEVT':'EVT',\n",
    "    \"Endo\": \"Endo\",'Fib':'Fib','Lymph':'Lymph','Mast':'Myeloid','Mono':'Myeloid',\n",
    "    'Mural':'Mural','NK_CD39+':'NK','NK_CD39-':'NK',\n",
    "    'Neutro':'Myeloid','Other':'Other','Tcell_CD4+':'T cell','Tcell_CD8+':'T cell'\n",
    "    ,'Treg':'T cell','decPAM2':'Myeloid',\n",
    "    'decBAM1':'Myeloid','decBAM2':'Myeloid','pMac':'Myeloid',\n",
    "    'pNK':'NK','decPAM1':'Myeloid'\n",
    "    \n",
    "}\n",
    "\n",
    "adata.obs['celltype_lvl0'] = adata.obs.celltype_lvl1.astype(\"str\").values\n",
    "adata.obs.celltype_lvl0 = adata.obs.celltype_lvl0.replace(new_cluster_names)\n",
    "adata.obs.celltype_lvl0 = adata.obs.celltype_lvl0.astype(\"category\")"
   ]
  },
  {
   "cell_type": "code",
   "execution_count": null,
   "id": "a24c2940",
   "metadata": {},
   "outputs": [],
   "source": [
    "new_cluster_names = {\n",
    "    \"B cell\": \"B cell\", \"DC1\": \"DC1\", \"DC2\": \"DC2\",\n",
    "    \"EPI\": \"EPI\", \"iEVT\": \"EVT\",'eEVT':'EVT',\n",
    "    \"Endo\": \"Endo\",'Fib':'Fib','Lymph':'Lymph','Mast':'Mast','Mono':'Mono',\n",
    "    'Mural':'Mural','NK_CD39+':'NK','NK_CD39-':'NK',\n",
    "    'Neutro':'Neutro','Other':'Other','Tcell_CD4+':'T cell','Tcell_CD8+':'T cell'\n",
    "    ,'Treg':'T cell','decPAM2':'Mac',\n",
    "    'decBAM1':'Mac','decBAM2':'Mac','pMac':'Mac',\n",
    "    'pNK':'NK','decPAM1':'Mac'\n",
    "    \n",
    "}\n",
    "\n",
    "adata.obs['celltype_lvl05'] = adata.obs.celltype_lvl1.astype(\"str\").values\n",
    "adata.obs.celltype_lvl05 = adata.obs.celltype_lvl05.replace(new_cluster_names)\n",
    "adata.obs.celltype_lvl05 = adata.obs.celltype_lvl05.astype(\"category\")"
   ]
  },
  {
   "cell_type": "code",
   "execution_count": null,
   "id": "fe717e7b",
   "metadata": {},
   "outputs": [],
   "source": [
    "new_cluster_names = {\n",
    "    \"B cell\": \"Immune\", \"DC1\": \"Immune\", \"DC2\": \"Immune\",\n",
    "    \"EPI\": \"EPI\", \"iEVT\": \"EVT\",'eEVT':'EVT',\n",
    "    \"Endo\": \"Endo\",'Fib':'Fib','Lymph':'Lymph','Mast':'Immune','Mono':'Immune',\n",
    "    'Mural':'Mural','NK_CD39+':'Immune','NK_CD39-':'Immune',\n",
    "    'Neutro':'Immune','Other':'Other','Tcell_CD4+':'Immune','Tcell_CD8+':'Immune'\n",
    "    ,'Treg':'Immune','decPAM2':'Immune',\n",
    "    'decBAM1':'Immune','decBAM2':'Immune','pMac':'Immune',\n",
    "    'pNK':'Immune','decPAM1':'Immune'\n",
    "    \n",
    "}\n",
    "\n",
    "adata.obs['celltype_lvl00'] = adata.obs.celltype_lvl1.astype(\"str\").values\n",
    "adata.obs.celltype_lvl00 = adata.obs.celltype_lvl00.replace(new_cluster_names)\n",
    "adata.obs.celltype_lvl00 = adata.obs.celltype_lvl00.astype(\"category\")"
   ]
  },
  {
   "cell_type": "code",
   "execution_count": null,
   "id": "cab03b54",
   "metadata": {},
   "outputs": [],
   "source": [
    "sc.pl.dotplot(adata, var_names=['LAMA4','MMP12','GPC3','ENTPD1','B3GNT2','C15orf48','TFPI','GATA2','PPARG',\n",
    "                               'FSTL3','FLT1','FBN1','ERVH48-1','MFAP5'],\n",
    "              groupby='celltype_lvl1'\n",
    "              ,standard_scale=\"var\"\n",
    "              #, dendrogram=False\n",
    "              , swap_axes=True\n",
    "             )"
   ]
  },
  {
   "cell_type": "code",
   "execution_count": null,
   "id": "54072363",
   "metadata": {},
   "outputs": [],
   "source": [
    "sc.pl.dotplot(adata, var_names=['LAMA4','MMP12','GPC3','ENTPD1','B3GNT2','C15orf48','TFPI','GATA2','PPARG',\n",
    "                               'FSTL3','FLT1','FBN1','ERVH48-1','MFAP5'],\n",
    "              groupby='celltype_lvl0'\n",
    "              ,standard_scale=\"var\"\n",
    "              #, dendrogram=False\n",
    "              , swap_axes=True\n",
    "             )"
   ]
  },
  {
   "cell_type": "code",
   "execution_count": null,
   "id": "f5e19a76",
   "metadata": {},
   "outputs": [],
   "source": [
    "sc.tl.rank_genes_groups(adata, 'celltype_lvl1', method='wilcoxon')\n",
    "result = adata.uns['rank_genes_groups']\n",
    "groups = result['names'].dtype.names\n",
    "pd.set_option('display.max_columns', 100)\n",
    "pd.DataFrame(\n",
    "    {group + '_' + key[:1]: result[key][group]\n",
    "    for group in groups for key in ['names']}).head(20)"
   ]
  },
  {
   "cell_type": "code",
   "execution_count": null,
   "id": "4a4e172c",
   "metadata": {},
   "outputs": [],
   "source": [
    "sc.pl.rank_genes_groups_dotplot(\n",
    "    adata, groupby=\"celltype_lvl1\", standard_scale=\"var\", n_genes=5, swap_axes=True, cmap='Blues',\n",
    "    dendrogram=False\n",
    ")"
   ]
  },
  {
   "cell_type": "code",
   "execution_count": null,
   "id": "00290819",
   "metadata": {},
   "outputs": [],
   "source": [
    "adata.write('xenium-decidua-annotated.h5ad')"
   ]
  }
 ],
 "metadata": {
  "kernelspec": {
   "display_name": "Python 3 (ipykernel)",
   "language": "python",
   "name": "python3"
  },
  "language_info": {
   "codemirror_mode": {
    "name": "ipython",
    "version": 3
   },
   "file_extension": ".py",
   "mimetype": "text/x-python",
   "name": "python",
   "nbconvert_exporter": "python",
   "pygments_lexer": "ipython3",
   "version": "3.10.10"
  }
 },
 "nbformat": 4,
 "nbformat_minor": 5
}
