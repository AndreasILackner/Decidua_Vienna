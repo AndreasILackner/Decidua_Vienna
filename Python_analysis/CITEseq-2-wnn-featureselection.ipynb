{
 "cells": [
  {
   "cell_type": "code",
   "execution_count": null,
   "id": "457b0b34",
   "metadata": {},
   "outputs": [],
   "source": [
    "import numpy as np\n",
    "import pandas as pd\n",
    "import scanpy as sc\n",
    "from muon import prot as pt\n",
    "\n",
    "from matplotlib import colors\n",
    "%matplotlib inline\n",
    "\n",
    "import muon as mu\n",
    "from mudata import MuData\n",
    "import scanpy.external as sce\n",
    "\n",
    "import seaborn as sns\n",
    "import matplotlib.pyplot as plt\n",
    "import scipy\n",
    "\n",
    "from sklearn.metrics import silhouette_score"
   ]
  },
  {
   "cell_type": "code",
   "execution_count": null,
   "id": "9656c9d9",
   "metadata": {},
   "outputs": [],
   "source": [
    "mdata = mu.read(\"./citeseq_mdata_allsamples_filtered.h5mu\")"
   ]
  },
  {
   "cell_type": "code",
   "execution_count": null,
   "id": "77bc9f6a",
   "metadata": {},
   "outputs": [],
   "source": [
    "# ribosomal genes\n",
    "mdata[\"rna\"].var['ribo'] = mdata[\"rna\"].var_names.str.startswith((\"RPS\",\"RPL\"))\n",
    "sc.pp.calculate_qc_metrics(mdata[\"rna\"], qc_vars=[\"ribo\"], percent_top=None, log1p=False, inplace=True)"
   ]
  },
  {
   "cell_type": "code",
   "execution_count": null,
   "id": "d7143847",
   "metadata": {},
   "outputs": [],
   "source": [
    "sc.pl.highest_expr_genes(mdata[\"rna\"], n_top=20)"
   ]
  },
  {
   "cell_type": "code",
   "execution_count": null,
   "id": "5d04def6",
   "metadata": {},
   "outputs": [],
   "source": [
    "sc.pl.violin(mdata[\"rna\"], ['n_genes_by_counts', 'total_counts', 'pct_counts_mt','pct_counts_ribo'],\n",
    "             jitter=0.4, groupby = 'sample_id', rotation = 45, size=0)"
   ]
  },
  {
   "cell_type": "code",
   "execution_count": null,
   "id": "3d02fa4f",
   "metadata": {},
   "outputs": [],
   "source": [
    "# define masks directly as booleans\n",
    "mito_genes = mdata[\"rna\"].var_names.str.startswith(\"MT-\")\n",
    "rpl_genes  = mdata[\"rna\"].var_names.str.startswith(\"RPL\")\n",
    "rps_genes  = mdata[\"rna\"].var_names.str.startswith(\"RPS\")\n",
    "\n",
    "# combine into a single boolean mask\n",
    "remove = mito_genes | rpl_genes | rps_genes\n",
    "\n",
    "# store in .var for transparency\n",
    "mdata[\"rna\"].var[\"remove\"] = remove\n",
    "\n",
    "# filter genes (keep = not remove)\n",
    "mu.pp.filter_var(data=mdata[\"rna\"], var=\"remove\", func=np.logical_not)\n",
    "\n",
    "# drop the helper column\n",
    "del mdata[\"rna\"].var[\"remove\"]"
   ]
  },
  {
   "cell_type": "code",
   "execution_count": null,
   "id": "ad65e6bf",
   "metadata": {},
   "outputs": [],
   "source": [
    "# read the 'doublet_info' column from the CSV file\n",
    "doublet_info_df = pd.read_csv('citeseq_doublet_info.csv', index_col=0)\n",
    "mdata.obs[\"doublet_info\"]=doublet_info_df\n",
    "sum(mdata.obs['doublet_info'])\n"
   ]
  },
  {
   "cell_type": "code",
   "execution_count": null,
   "id": "868f146e",
   "metadata": {},
   "outputs": [],
   "source": [
    "# ensure the column is boolean\n",
    "mdata.obs[\"doublet_info\"] = mdata.obs[\"doublet_info\"].astype(\"boolean\")\n",
    "\n",
    "# filter directly with the boolean mask\n",
    "mdata = mdata[~mdata.obs[\"doublet_info\"]].copy()\n",
    "\n",
    "# store back as a category for clarity\n",
    "mdata.obs[\"doublet_info\"] = mdata.obs[\"doublet_info\"].astype(\"category\")"
   ]
  },
  {
   "cell_type": "code",
   "execution_count": null,
   "id": "437a4dfe",
   "metadata": {},
   "outputs": [],
   "source": [
    "sc.pp.normalize_total(mdata[\"rna\"], target_sum=1e4)\n",
    "sc.pp.log1p(mdata[\"rna\"])"
   ]
  },
  {
   "cell_type": "code",
   "execution_count": null,
   "id": "cb8c07dd",
   "metadata": {},
   "outputs": [],
   "source": [
    "sc.pp.highly_variable_genes(mdata[\"rna\"], min_mean=0.0125, max_mean=3, min_disp=0.5)"
   ]
  },
  {
   "cell_type": "code",
   "execution_count": null,
   "id": "f6f33c37",
   "metadata": {},
   "outputs": [],
   "source": [
    "sc.pl.highly_variable_genes(mdata[\"rna\"])"
   ]
  },
  {
   "cell_type": "code",
   "execution_count": null,
   "id": "a645bd7b",
   "metadata": {},
   "outputs": [],
   "source": [
    "mdata[\"rna\"].raw = mdata[\"rna\"]"
   ]
  },
  {
   "cell_type": "code",
   "execution_count": null,
   "id": "9a3e0d78",
   "metadata": {},
   "outputs": [],
   "source": [
    "# create a boolean array to identify highly variable genes\n",
    "keep_hvg = mdata[\"rna\"].var.highly_variable\n",
    "\n",
    "# store the 'keep_hvg' array in the .var DataFrame for filtering\n",
    "mdata[\"rna\"].var['keep_hvg'] = keep_hvg\n",
    "\n",
    "# define a custom filter function\n",
    "def filter_hvg_func(values: np.ndarray):\n",
    "    return values  \n",
    "\n",
    "# use muon.pp.filter_var to filter genes\n",
    "mu.pp.filter_var(data=mdata[\"rna\"], var='keep_hvg', func=filter_hvg_func)\n",
    "\n",
    "# remove the 'keep_hvg' column after filtering\n",
    "del mdata[\"rna\"].var['keep_hvg']"
   ]
  },
  {
   "cell_type": "code",
   "execution_count": null,
   "id": "7082a833",
   "metadata": {},
   "outputs": [],
   "source": [
    "sc.pp.scale(mdata[\"rna\"], max_value=10)"
   ]
  },
  {
   "cell_type": "code",
   "execution_count": null,
   "id": "8bced42a",
   "metadata": {
    "scrolled": true
   },
   "outputs": [],
   "source": [
    "sc.tl.pca(mdata[\"rna\"], svd_solver='arpack')\n",
    "sc.pp.neighbors(mdata[\"rna\"], n_neighbors=10)\n",
    "sc.tl.umap(mdata[\"rna\"], spread=1., min_dist=.5, random_state=11)"
   ]
  },
  {
   "cell_type": "code",
   "execution_count": null,
   "id": "6bc32840",
   "metadata": {},
   "outputs": [],
   "source": [
    "sc.pl.umap(mdata[\"rna\"], color=\"tissue\", legend_loc=\"on data\")"
   ]
  },
  {
   "cell_type": "code",
   "execution_count": null,
   "id": "a630a184",
   "metadata": {},
   "outputs": [],
   "source": [
    "min_val = np.min(mdata[\"prot\"].X)\n",
    "max_val = np.max(mdata[\"prot\"].X)\n",
    "\n",
    "print(f\"Minimum value: {min_val}\")\n",
    "print(f\"Maximum value: {max_val}\")"
   ]
  },
  {
   "cell_type": "code",
   "execution_count": null,
   "id": "6bb0e4fd",
   "metadata": {},
   "outputs": [],
   "source": [
    "# initialize mask with all True values\n",
    "mask = np.ones(mdata[\"prot\"].n_obs, dtype=bool)\n",
    "\n",
    "# iterate through each feature\n",
    "for feature in range(mdata[\"prot\"].n_vars):\n",
    "    # extract feature values\n",
    "    feature_values = mdata[\"prot\"].X[:, feature]\n",
    "    \n",
    "    # calculate the 0.1% and 99.9% percentiles for the current feature\n",
    "    lower_percentile = np.percentile(feature_values, 0.01)\n",
    "    upper_percentile = np.percentile(feature_values, 99.99)\n",
    "\n",
    "    # update the mask to keep cells within the 0.1% and 99.9% percentiles for the current feature\n",
    "    mask &= (feature_values > lower_percentile) & (feature_values < upper_percentile)\n",
    "\n",
    "# subset the data using the mask\n",
    "adata_prot = mdata[\"prot\"][mask, :].copy()\n"
   ]
  },
  {
   "cell_type": "code",
   "execution_count": null,
   "id": "0be240ae",
   "metadata": {},
   "outputs": [],
   "source": [
    "adata_rna=mdata[\"rna\"].copy()"
   ]
  },
  {
   "cell_type": "code",
   "execution_count": null,
   "id": "e4e35d18",
   "metadata": {
    "scrolled": true
   },
   "outputs": [],
   "source": [
    "mdata = MuData({\"rna\": adata_rna, \"prot\": adata_prot})\n",
    "mdata"
   ]
  },
  {
   "cell_type": "code",
   "execution_count": null,
   "id": "04aaf637",
   "metadata": {},
   "outputs": [],
   "source": [
    "# convert the AnnData object to a pandas DataFrame\n",
    "adata_df = pd.DataFrame(mdata[\"prot\"].X, columns=mdata[\"prot\"].var_names)\n",
    "\n",
    "# calculate the total counts per cell\n",
    "adata_df['total_counts'] = adata_df.sum(axis=1)\n",
    "\n",
    "# reset the index and rename columns for plotting\n",
    "adata_long = adata_df.reset_index().rename(columns={'index': 'cell'})\n",
    "\n",
    "# create the violin plot for total counts per cell\n",
    "plt.figure(figsize=(10, 6))\n",
    "sns.violinplot(y='total_counts', data=adata_long)\n",
    "plt.ylabel('Total Counts')\n",
    "plt.show()"
   ]
  },
  {
   "cell_type": "code",
   "execution_count": null,
   "id": "60026d27",
   "metadata": {},
   "outputs": [],
   "source": [
    "# convert the AnnData object to a pandas DataFrame\n",
    "adata_df = pd.DataFrame(mdata[\"prot\"].X, columns=mdata[\"prot\"].var_names)\n",
    "\n",
    "# convert the wide DataFrame to a long format for plotting\n",
    "adata_long = adata_df.melt(var_name='feature', value_name='expression')\n",
    "\n",
    "# create the violin plots\n",
    "plt.figure(figsize=(15, 6))\n",
    "sns.violinplot(x='feature', y='expression', data=adata_long)\n",
    "plt.xticks(rotation=90)\n",
    "plt.show()"
   ]
  },
  {
   "cell_type": "code",
   "execution_count": null,
   "id": "6e094737",
   "metadata": {},
   "outputs": [],
   "source": [
    "mdata[\"prot\"]"
   ]
  },
  {
   "cell_type": "code",
   "execution_count": null,
   "id": "a7c8ae8b",
   "metadata": {},
   "outputs": [],
   "source": [
    "mdata.update()"
   ]
  },
  {
   "cell_type": "code",
   "execution_count": null,
   "id": "c539663a",
   "metadata": {},
   "outputs": [],
   "source": [
    "mu.pp.intersect_obs(mdata)"
   ]
  },
  {
   "cell_type": "code",
   "execution_count": null,
   "id": "286f9c27",
   "metadata": {},
   "outputs": [],
   "source": [
    "min_val = np.min(mdata[\"prot\"].X)\n",
    "max_val = np.max(mdata[\"prot\"].X)\n",
    "\n",
    "print(f\"Minimum value: {min_val}\")\n",
    "print(f\"Maximum value: {max_val}\")"
   ]
  },
  {
   "cell_type": "code",
   "execution_count": null,
   "id": "98549c3a",
   "metadata": {
    "scrolled": false
   },
   "outputs": [],
   "source": [
    "def plot_feature_distribution(adata):\n",
    "    n_features = adata.n_vars\n",
    "    ncols = 4\n",
    "    nrows = (n_features + ncols - 1) // ncols\n",
    "    \n",
    "    fig, axes = plt.subplots(nrows=nrows, ncols=ncols, figsize=(ncols * 5, nrows * 4))\n",
    "    \n",
    "    for feature_idx, feature in enumerate(adata.var_names):\n",
    "        row = feature_idx // ncols\n",
    "        col = feature_idx % ncols\n",
    "        \n",
    "        sns.histplot(adata[:, feature].X, kde=True, ax=axes[row, col])\n",
    "        axes[row, col].set_title(feature)\n",
    "        axes[row, col].set_xlabel('Expression')\n",
    "        axes[row, col].set_ylabel('Frequency')\n",
    "    \n",
    "    # hide unused subplots\n",
    "    for i in range(feature_idx + 1, nrows * ncols):\n",
    "        row = i // ncols\n",
    "        col = i % ncols\n",
    "        axes[row, col].axis('off')\n",
    "    \n",
    "    fig.tight_layout()\n",
    "    plt.show()\n",
    "\n",
    "# call the function with your adata object\n",
    "plot_feature_distribution(mdata[\"prot\"])\n"
   ]
  },
  {
   "cell_type": "code",
   "execution_count": null,
   "id": "5bfc4d56",
   "metadata": {},
   "outputs": [],
   "source": [
    "non_isotypes = [name for name in mdata[\"prot\"].var_names if not name.startswith('IgG')]"
   ]
  },
  {
   "cell_type": "code",
   "execution_count": null,
   "id": "39f26333",
   "metadata": {},
   "outputs": [],
   "source": [
    "mu.pp.filter_var(mdata[\"prot\"], non_isotypes)"
   ]
  },
  {
   "cell_type": "code",
   "execution_count": null,
   "id": "57bf8000",
   "metadata": {},
   "outputs": [],
   "source": [
    "mdata.update()"
   ]
  },
  {
   "cell_type": "code",
   "execution_count": null,
   "id": "59930f45",
   "metadata": {},
   "outputs": [],
   "source": [
    "sc.tl.pca(mdata['prot'])\n",
    "sc.pp.neighbors(mdata['prot'])\n",
    "sc.tl.umap(mdata['prot'], random_state=1)"
   ]
  },
  {
   "cell_type": "code",
   "execution_count": null,
   "id": "e0857d0a",
   "metadata": {},
   "outputs": [],
   "source": [
    "sc.pl.pca_variance_ratio(mdata['rna'], log=True, n_pcs=50)\n",
    "sc.pl.pca_variance_ratio(mdata['prot'], log=True, n_pcs=50)"
   ]
  },
  {
   "cell_type": "code",
   "execution_count": null,
   "id": "50480756",
   "metadata": {},
   "outputs": [],
   "source": [
    "sce.pp.harmony_integrate(\n",
    "    mdata['prot'],\n",
    "    key='donor_id',          \n",
    "    basis='X_pca',           \n",
    "    adjusted_basis='X_harmony',\n",
    "    max_iter_harmony=30\n",
    ")"
   ]
  },
  {
   "cell_type": "code",
   "execution_count": null,
   "id": "2847a04a",
   "metadata": {
    "scrolled": true
   },
   "outputs": [],
   "source": [
    "sce.pp.harmony_integrate(\n",
    "    mdata['rna'],\n",
    "    key='donor_id',          \n",
    "    basis='X_pca',           \n",
    "    adjusted_basis='X_harmony',\n",
    "    max_iter_harmony=30\n",
    ")"
   ]
  },
  {
   "cell_type": "code",
   "execution_count": null,
   "id": "7208e49b",
   "metadata": {},
   "outputs": [],
   "source": [
    "mu.pl.embedding(mdata, basis=\"prot:X_umap\", frameon=False, color=[\"prot:tissue\",\"prot:donor_id\"])\n",
    "mu.pl.embedding(mdata, basis=\"rna:X_umap\", frameon=False, color=[\"prot:tissue\",\"prot:donor_id\"])"
   ]
  },
  {
   "cell_type": "code",
   "execution_count": null,
   "id": "2adc7832",
   "metadata": {},
   "outputs": [],
   "source": [
    "# recalculate nearest neighbors per modality\n",
    "sc.pp.neighbors(mdata['rna'], use_rep=\"X_harmony\")\n",
    "sc.pp.neighbors(mdata['prot'], use_rep=\"X_harmony\")\n",
    "\n",
    "# calculate weighted nearest neighbors\n",
    "mu.pp.neighbors(mdata, key_added='wnn')"
   ]
  },
  {
   "cell_type": "code",
   "execution_count": null,
   "id": "69dd7cc7",
   "metadata": {},
   "outputs": [],
   "source": [
    "mu.tl.umap(mdata, neighbors_key='wnn', random_state=10)\n",
    "mu.tl.umap(mdata['rna'], random_state=10)\n",
    "mu.tl.umap(mdata['prot'], random_state=10)"
   ]
  },
  {
   "cell_type": "code",
   "execution_count": null,
   "id": "6cf0b1d2",
   "metadata": {},
   "outputs": [],
   "source": [
    "mu.pl.embedding(mdata, basis=\"X_umap\", frameon=False, color=[\"prot:tissue\",\"prot:donor_id\"],\n",
    "             #save=\"rna_prot_umap_wnn_20231101.png\"\n",
    "               )\n",
    "mu.pl.embedding(mdata, basis=\"prot:X_umap\", frameon=False, color=[\"prot:tissue\",\"prot:donor_id\"],\n",
    "             #save=\"prot_umap_wnn_20231101.png\"\n",
    "               )\n",
    "mu.pl.embedding(mdata, basis=\"rna:X_umap\", frameon=False, color=[\"prot:tissue\",\"prot:donor_id\"],\n",
    "             #save=\"rna_umap_wnn_20231101.png\"\n",
    "               )"
   ]
  },
  {
   "cell_type": "code",
   "execution_count": null,
   "id": "6e775f7d",
   "metadata": {},
   "outputs": [],
   "source": [
    "mu.pl.umap(mdata, color=['rna:mod_weight', 'prot:mod_weight'], cmap='RdBu', size=10)"
   ]
  },
  {
   "cell_type": "code",
   "execution_count": null,
   "id": "eeb2fe25",
   "metadata": {
    "scrolled": true
   },
   "outputs": [],
   "source": [
    "sc.pl.umap(mdata, color=['rna:pct_counts_mt',\"rna:total_counts\",\"rna:n_genes_by_counts\"], ncols=1 ,legend_loc='on data')"
   ]
  },
  {
   "cell_type": "code",
   "execution_count": null,
   "id": "e47cf355",
   "metadata": {},
   "outputs": [],
   "source": [
    "X = np.hstack([mdata['rna'].obsm['X_harmony'], mdata['prot'].obsm['X_harmony']])\n",
    "\n",
    "for r in (0.1, 0.2, 0.3, 0.4):\n",
    "    key = f'leiden_r{r:.1f}'\n",
    "    sc.tl.leiden(mdata, neighbors_key='wnn', resolution=r, key_added=key, random_state=0)\n",
    "\n",
    "    y = mdata.obs[key].to_numpy()\n",
    "    s = silhouette_score(X, y, metric='cosine')\n",
    "    print(f\"{key}: n_clusters={np.unique(y).size}  silhouette={s:.4f}\")\n",
    "\n",
    "    # UMAP\n",
    "    sc.pl.umap(mdata, color=key, legend_loc='on data')\n",
    "\n",
    "    # RNA markers\n",
    "    mdata['rna'].obs[key] = mdata.obs[key].astype('category')\n",
    "    sc.tl.rank_genes_groups(mdata['rna'], groupby=key, method='wilcoxon')\n",
    "    sc.pl.rank_genes_groups_dotplot(mdata['rna'], n_genes=5, standard_scale='var',\n",
    "                                    swap_axes=True, dendrogram=False)"
   ]
  },
  {
   "cell_type": "code",
   "execution_count": null,
   "id": "fe75d443",
   "metadata": {
    "scrolled": true
   },
   "outputs": [],
   "source": [
    "mu.pl.embedding(mdata, basis=\"X_umap\", frameon=False, color=[\"CD8a_TotalSeqC\",\"CD4_TotalSeqC\",\n",
    "                                                            \"PRL\",\"IGFBP1\",\"KRT8\",\"SELL\",\n",
    "                                                            \"AUTS2\",\"IL1B\"], ncols=2 , size=15, color_map=\"coolwarm\")"
   ]
  },
  {
   "cell_type": "code",
   "execution_count": null,
   "id": "8ff9b1a9",
   "metadata": {
    "scrolled": true
   },
   "outputs": [],
   "source": [
    "for i in mdata.obs['prot:tissue'].cat.categories:\n",
    "    print(i) \n",
    "    fig= sc.pl.umap(mdata[mdata.obs['prot:tissue'] == i], color = 'leiden_r0.2', return_fig=True, title= i)"
   ]
  },
  {
   "cell_type": "code",
   "execution_count": null,
   "id": "b4233abf",
   "metadata": {
    "scrolled": true
   },
   "outputs": [],
   "source": [
    "for i in mdata.obs['prot:donor_id'].cat.categories:\n",
    "    print(i) \n",
    "    fig= sc.pl.umap(mdata[mdata.obs['prot:donor_id'] == i], color = 'leiden_r0.2', return_fig=True, title= i)"
   ]
  },
  {
   "cell_type": "code",
   "execution_count": null,
   "id": "9bdea000",
   "metadata": {},
   "outputs": [],
   "source": [
    "marker_genes = [\"CD3_TotalSeqC\",\"CD62L_TotalSeqC\",\"CD1c_TotalSeqC\",'CD14_TotalSeqC',\"CD44_TotalSeqC\",\"CD39_TotalSeqC\",\n",
    "               'CD127_TotalSeqC','CD11c_TotalSeqC','TIGIT_TotalSeqC','CD28_TotalSeqC','CD27_TotalSeqC','CD45RA_TotalSeqC',\n",
    "               'CD31_TotalSeqC']\n",
    "mdata[\"prot\"].obs[\"leiden_r0.2\"]=mdata.obs[\"leiden_r0.2\"]\n",
    "sc.tl.dendrogram(mdata[\"prot\"], 'leiden_r0.2')\n",
    "sc.pl.dotplot(mdata[\"prot\"], marker_genes, groupby='leiden_r0.2', dendrogram=True, use_raw=False\n",
    "              , standard_scale=\"var\"\n",
    "             );"
   ]
  },
  {
   "cell_type": "code",
   "execution_count": null,
   "id": "68f0dab2",
   "metadata": {},
   "outputs": [],
   "source": [
    "marker_genes = [\"HLA-G\",\"SLPI\",\"NREP\",\"THY1\",\"VWF\",\"PECAM1\",\"CCL21\",\"PTPRC\",\"NCAM1\",\n",
    "               \"FCGR3A\",\"KIT\",\"TPSAB1\",\"CD3E\",\"CD4\",\"CD8A\",\"JCHAIN\",\"CD14\",\"CD68\",\n",
    "               \"CLEC9A\",\"XCR1\",\"CD1C\",\"CD19\",\"PRL\",\"IGFBP1\",\"GNLY\",\"MPO\",\"HLA-DRA\"]\n",
    "mdata[\"rna\"].obs[\"leiden_r0.2\"]=mdata.obs[\"leiden_r0.2\"]\n",
    "sc.tl.dendrogram(mdata[\"rna\"], 'leiden_r0.2')\n",
    "sc.pl.dotplot(mdata[\"rna\"], marker_genes, groupby='leiden_r0.2', dendrogram=True, use_raw=True, standard_scale=\"var\");"
   ]
  },
  {
   "cell_type": "code",
   "execution_count": null,
   "id": "14fc2b44",
   "metadata": {},
   "outputs": [],
   "source": [
    "# convert the AnnData object to a pandas DataFrame\n",
    "adata_df = pd.DataFrame(mdata[\"prot\"].X, columns=mdata[\"prot\"].var_names)\n",
    "\n",
    "# calculate the total counts per cell\n",
    "adata_df['total_counts'] = adata_df.sum(axis=1)\n",
    "\n",
    "# add total_counts to obs in mdata[\"prot\"]\n",
    "mdata[\"prot\"].obs['total_counts'] = adata_df['total_counts']"
   ]
  },
  {
   "cell_type": "code",
   "execution_count": null,
   "id": "411e0bbe",
   "metadata": {},
   "outputs": [],
   "source": [
    "# calculate the total counts per cell\n",
    "total_counts = mdata[\"prot\"].X.sum(axis=1)\n",
    "\n",
    "# create a new pandas series with the same index as the `obs` DataFrame\n",
    "total_counts_series = pd.Series(total_counts, index=mdata[\"prot\"].obs.index, name='total_counts')\n",
    "\n",
    "mdata.obs['total_counts'] = total_counts_series"
   ]
  },
  {
   "cell_type": "code",
   "execution_count": null,
   "id": "890ded49",
   "metadata": {},
   "outputs": [],
   "source": [
    "marker_genes = [\"HLA-G\",\"SLPI\",\"NREP\",\"THY1\",\"VWF\",\"PECAM1\",\"CCL21\",\"PTPRC\",\"NCAM1\",\n",
    "               \"FCGR3A\",\"KIT\",\"TPSAB1\",\"CD3E\",\"CD4\",\"CD8A\",\"JCHAIN\",\"CD14\",\"CD68\",\n",
    "               \"CLEC9A\",\"XCR1\",\"CD1C\",\"CD19\",\"PRL\",\"IGFBP1\",\"GNLY\",\"MPO\",\"HLA-DRA\"]\n",
    "sc.tl.dendrogram(mdata[\"rna\"], 'leiden_r0.2')\n",
    "sc.pl.dotplot(rna, marker_genes, groupby='leiden_r0.2', dendrogram=True, use_raw=True, standard_scale=\"var\");"
   ]
  },
  {
   "cell_type": "code",
   "execution_count": null,
   "id": "c5c486bb",
   "metadata": {},
   "outputs": [],
   "source": [
    "new_cluster_names = {\n",
    "    \"0\": \"Myelo\", \"1\": \"NK\", \"2\": \"FIB\",\n",
    "    \"3\": \"TCell\", \"4\": \"Myelo\",\n",
    "    \"5\": \"EpiCell\", \"6\": \"FIB\",\n",
    "    \"7\": \"BCell\", \"8\": \"FIB_Doublet\",\n",
    "    \"9\": \"NK\", \"10\": \"EndoCell\", \"11\": \"ILC\", \"12\": \"Granulo\", \"13\": \"Lymphatic\"\n",
    "}\n",
    "\n",
    "col = 'leiden_r0.2'\n",
    "mdata.obs['celltype_wnn'] = mdata.obs[col].astype(\"str\").values\n",
    "mdata.obs.celltype_wnn = mdata.obs.celltype_wnn.replace(new_cluster_names)\n",
    "mdata.obs.celltype_wnn = mdata.obs.celltype_wnn.astype(\"category\")"
   ]
  },
  {
   "cell_type": "code",
   "execution_count": null,
   "id": "48cf1ff6",
   "metadata": {},
   "outputs": [],
   "source": [
    "mdata.write(\"./citeseq_mdata_allsamples_filtered_crude_clustering.h5mu\")"
   ]
  }
 ],
 "metadata": {
  "kernelspec": {
   "display_name": "Python 3 (ipykernel)",
   "language": "python",
   "name": "python3"
  },
  "language_info": {
   "codemirror_mode": {
    "name": "ipython",
    "version": 3
   },
   "file_extension": ".py",
   "mimetype": "text/x-python",
   "name": "python",
   "nbconvert_exporter": "python",
   "pygments_lexer": "ipython3",
   "version": "3.10.10"
  }
 },
 "nbformat": 4,
 "nbformat_minor": 5
}
