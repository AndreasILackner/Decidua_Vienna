{
 "cells": [
  {
   "cell_type": "code",
   "execution_count": null,
   "id": "d37c4d8c",
   "metadata": {},
   "outputs": [],
   "source": [
    "import numpy as np\n",
    "import pandas as pd\n",
    "import scanpy as sc\n",
    "import anndata\n",
    "from muon import prot as pt\n",
    "\n",
    "from matplotlib import colors\n",
    "%matplotlib inline\n",
    "\n",
    "import matplotlib.pyplot as plt\n",
    "\n",
    "import muon as mu\n",
    "\n",
    "import scvi"
   ]
  },
  {
   "cell_type": "markdown",
   "id": "c3d91d79",
   "metadata": {},
   "source": [
    "## load datasets"
   ]
  },
  {
   "cell_type": "code",
   "execution_count": null,
   "id": "28326226",
   "metadata": {},
   "outputs": [],
   "source": [
    "mdata_raw = mu.read(\"./citeseq_mdata_allsamples_filtered.h5mu\")"
   ]
  },
  {
   "cell_type": "code",
   "execution_count": null,
   "id": "1aa49283",
   "metadata": {},
   "outputs": [],
   "source": [
    "# load citeseq data\n",
    "mdata = mu.read(\"./citeseq_mdata_allsamples_filtered_fine_clustering.h5mu\")"
   ]
  },
  {
   "cell_type": "code",
   "execution_count": null,
   "id": "ae12390c",
   "metadata": {},
   "outputs": [],
   "source": [
    "# load vento-tormo endometrial data\n",
    "adata_endo = sc.read(\"./endometrium_all.h5ad\")"
   ]
  },
  {
   "cell_type": "code",
   "execution_count": null,
   "id": "c7325541",
   "metadata": {},
   "outputs": [],
   "source": [
    "adata_raw = mdata_raw[\"rna\"]"
   ]
  },
  {
   "cell_type": "code",
   "execution_count": null,
   "id": "21075e5e",
   "metadata": {},
   "outputs": [],
   "source": [
    "mdata[\"rna\"].obs['celltype_hires'] = mdata.obs['celltype_hires']"
   ]
  },
  {
   "cell_type": "code",
   "execution_count": null,
   "id": "4a05abba",
   "metadata": {},
   "outputs": [],
   "source": [
    "# limit adata_raw.\n",
    "adata = mdata[\"rna\"]\n",
    "adata_raw_filtered = adata_raw[adata_raw.obs_names.isin(adata.obs_names)].copy()\n",
    "adata_raw_filtered"
   ]
  },
  {
   "cell_type": "code",
   "execution_count": null,
   "id": "bcb1323d",
   "metadata": {},
   "outputs": [],
   "source": [
    "del mdata\n",
    "del mdata_raw"
   ]
  },
  {
   "cell_type": "code",
   "execution_count": null,
   "id": "b9bb331b",
   "metadata": {},
   "outputs": [],
   "source": [
    "adata_raw_filtered.obs = adata[adata_raw_filtered.obs_names].obs.copy()"
   ]
  },
  {
   "cell_type": "code",
   "execution_count": null,
   "id": "aa92218b",
   "metadata": {
    "collapsed": true
   },
   "outputs": [],
   "source": [
    "print(adata_raw_filtered.X)"
   ]
  },
  {
   "cell_type": "code",
   "execution_count": null,
   "id": "541d8057",
   "metadata": {},
   "outputs": [],
   "source": [
    "adata_raw_filtered.obs['cell_type'] = adata_raw_filtered.obs['celltype_hires'].copy()"
   ]
  },
  {
   "cell_type": "code",
   "execution_count": null,
   "id": "7c2edfbd",
   "metadata": {},
   "outputs": [],
   "source": [
    "adata_raw_filtered.obs['celltype_hires']"
   ]
  },
  {
   "cell_type": "code",
   "execution_count": null,
   "id": "6750ee78",
   "metadata": {},
   "outputs": [],
   "source": [
    "adata_raw_filtered.obs['cell_type']"
   ]
  },
  {
   "cell_type": "code",
   "execution_count": null,
   "id": "a68cb137",
   "metadata": {},
   "outputs": [],
   "source": [
    "# Define file paths\n",
    "matrix_path = \"./quake_data/GSE111976_ct_endo_10x.mtx\"\n",
    "genes_path = \"./quake_data/genes.tsv\"\n",
    "barcodes_path = \"./quake_data/barcodes.tsv\"\n",
    "meta1_path = \"./quake_data/GSE111976_summary_10x_day_donor_ctype.csv\"\n",
    "meta2_path = \"./quake_data/GSE111976_summary_10x_donor_phase.csv\"\n",
    "\n",
    "# Load the sparse matrix\n",
    "adata_quake = sc.read_mtx(matrix_path)\n",
    "\n",
    "adata_quake = adata_quake.T\n",
    "\n",
    "# Load genes and assign to adata.var_names\n",
    "genes = pd.read_csv(genes_path, header=None, sep=\"\\t\")\n",
    "adata_quake.var_names = genes[0].values\n",
    "adata_quake.var['gene_id'] = genes[0].values\n",
    "\n",
    "# Load barcodes and assign to adata.obs_names\n",
    "barcodes = pd.read_csv(barcodes_path, header=None, sep=\"\\t\")\n",
    "adata_quake.obs_names = barcodes[0].values\n",
    "\n",
    "# Load metadata CSV files\n",
    "meta1 = pd.read_csv(meta1_path)\n",
    "meta2 = pd.read_csv(meta2_path)\n",
    "\n",
    "meta1 = meta1.set_index('cell_name')"
   ]
  },
  {
   "cell_type": "code",
   "execution_count": null,
   "id": "6f864235",
   "metadata": {},
   "outputs": [],
   "source": [
    "adata_quake.obs = adata_quake.obs.join(meta1, how='left')\n",
    "adata_quake.obs = pd.merge(adata_quake.obs, meta2, on=\"donor\")\n",
    "                           \n",
    "print(adata_quake)"
   ]
  },
  {
   "cell_type": "code",
   "execution_count": null,
   "id": "d772b7d8",
   "metadata": {},
   "outputs": [],
   "source": [
    "adata_quake.obs['Stage'] = adata_quake.obs['phase_canonical']\n",
    "adata_quake.obs['Stage'] = adata_quake.obs['Stage'].replace({'secretory_early': 'early-secretory',\n",
    "                                                             'secretory_mid': 'mid-secretory',\n",
    "                                                            'secretory_early-mid':'early-mid-secretory',\n",
    "                                                            'secretory_late':'late-secretory'})"
   ]
  },
  {
   "cell_type": "code",
   "execution_count": null,
   "id": "5e746f5c",
   "metadata": {},
   "outputs": [],
   "source": [
    "adata_quake.write(\"quake_data.h5ad\")"
   ]
  },
  {
   "cell_type": "markdown",
   "id": "5da45f18",
   "metadata": {},
   "source": [
    "## preprocess both datasets"
   ]
  },
  {
   "cell_type": "code",
   "execution_count": null,
   "id": "21860b4f",
   "metadata": {},
   "outputs": [],
   "source": [
    "adata_raw_filtered.raw = adata_raw_filtered\n",
    "adata_quake.raw = adata_quake\n",
    "adata_endo.X = adata_endo.raw.X\n",
    "adata_endo.raw = adata_endo"
   ]
  },
  {
   "cell_type": "markdown",
   "id": "a65beaa5",
   "metadata": {},
   "source": [
    "## concatenate data"
   ]
  },
  {
   "cell_type": "code",
   "execution_count": null,
   "id": "ffa222e6",
   "metadata": {},
   "outputs": [],
   "source": [
    "adata_raw_filtered = adata_raw_filtered.copy()\n",
    "adata_endo = adata_endo.copy()\n",
    "adata_quake = adata_quake.copy()"
   ]
  },
  {
   "cell_type": "code",
   "execution_count": null,
   "id": "0c8ab4f4",
   "metadata": {},
   "outputs": [],
   "source": [
    "adata_endo.obs[\"batch_scvi\"] = \"roser\"\n",
    "adata_raw_filtered.obs[\"batch_scvi\"] = \"cite\"\n",
    "adata_quake.obs[\"batch_scvi\"] = \"quake\"\n",
    "adata_endo.obs[\"donor_id\"] = adata_endo.obs[\"DonorID\"]\n",
    "adata_quake.obs[\"donor_id\"] = adata_quake.obs[\"donor\"]\n",
    "adata_endo.obs[\"tissue_merged\"] = adata_endo.obs[\"Stage\"]\n",
    "adata_raw_filtered.obs[\"tissue_merged\"] = adata_raw_filtered.obs[\"tissue\"]\n",
    "adata_quake.obs[\"tissue_merged\"] = adata_quake.obs[\"Stage\"]"
   ]
  },
  {
   "cell_type": "code",
   "execution_count": null,
   "id": "b5455d3e",
   "metadata": {},
   "outputs": [],
   "source": [
    "adata_quake.obs = adata_quake.obs.set_index('Unnamed: 0')"
   ]
  },
  {
   "cell_type": "code",
   "execution_count": null,
   "id": "83ee7a30",
   "metadata": {
    "collapsed": true
   },
   "outputs": [],
   "source": [
    "adata_raw_filtered.obs"
   ]
  },
  {
   "cell_type": "code",
   "execution_count": null,
   "id": "4e64c848",
   "metadata": {
    "collapsed": true
   },
   "outputs": [],
   "source": [
    "adata_both=adata_raw_filtered.concatenate(adata_endo,adata_quake, index_unique=None)"
   ]
  },
  {
   "cell_type": "code",
   "execution_count": null,
   "id": "be102acb",
   "metadata": {},
   "outputs": [],
   "source": [
    "adata_both.obs['tissue_merged']"
   ]
  },
  {
   "cell_type": "code",
   "execution_count": null,
   "id": "129a960c",
   "metadata": {},
   "outputs": [],
   "source": [
    "adata_both.layers[\"counts\"] = adata_both.X.copy()  # preserve counts\n",
    "sc.pp.normalize_total(adata_both)\n",
    "sc.pp.log1p(adata_both)\n",
    "adata_both.raw = adata_both  # freeze the state in `.raw`"
   ]
  },
  {
   "cell_type": "code",
   "execution_count": null,
   "id": "d917f8ee",
   "metadata": {},
   "outputs": [],
   "source": [
    "sc.pp.highly_variable_genes(adata_both, n_top_genes=5000, batch_key = 'batch_scvi', subset=True)"
   ]
  },
  {
   "cell_type": "code",
   "execution_count": null,
   "id": "e74c5b67",
   "metadata": {
    "scrolled": true
   },
   "outputs": [],
   "source": [
    "adata_both.var"
   ]
  },
  {
   "cell_type": "code",
   "execution_count": null,
   "id": "356e8272",
   "metadata": {
    "scrolled": true
   },
   "outputs": [],
   "source": [
    "#Non-harmonized data: \n",
    "sc.tl.pca(adata_both)\n",
    "sc.pp.neighbors(adata_both, n_pcs=50, n_neighbors=30) \n",
    "sc.tl.umap(adata_both, min_dist=0.3)"
   ]
  },
  {
   "cell_type": "code",
   "execution_count": null,
   "id": "675097c8",
   "metadata": {},
   "outputs": [],
   "source": [
    "sc.pl.umap(adata_both, color=[\"batch_scvi\",'tissue_merged'], ncols=1,\n",
    "    frameon=False)"
   ]
  },
  {
   "cell_type": "code",
   "execution_count": null,
   "id": "3318a284",
   "metadata": {},
   "outputs": [],
   "source": [
    "adata_both.var['mt'] = adata_both.var_names.str.startswith('MT-')\n",
    "sc.pp.calculate_qc_metrics(adata_both, qc_vars=['mt'], percent_top=None, log1p=True, inplace=True)"
   ]
  },
  {
   "cell_type": "code",
   "execution_count": null,
   "id": "b46e9411",
   "metadata": {},
   "outputs": [],
   "source": [
    "adata_both.obs['donor_id'] = adata_both.obs['donor_id'].astype('category')"
   ]
  },
  {
   "cell_type": "code",
   "execution_count": null,
   "id": "388b9d99",
   "metadata": {
    "scrolled": true
   },
   "outputs": [],
   "source": [
    "sc.pl.violin(adata_both, keys='pct_counts_mt', groupby=\"donor_id\", rotation=90)"
   ]
  },
  {
   "cell_type": "code",
   "execution_count": null,
   "id": "d09c27f8",
   "metadata": {},
   "outputs": [],
   "source": [
    "adata_scvi= adata_both.copy() \n",
    "\n",
    "#ADD DATA SOURCE AS CATEGORICAL_COVARIATE_KEYS\n",
    "scvi.model.SCVI.setup_anndata(adata_scvi, layer=\"counts\", categorical_covariate_keys=[\"donor_id\",'tissue_merged'],\n",
    "                              batch_key = \"batch_scvi\",\n",
    "                       continuous_covariate_keys=[\"n_genes_by_counts\", \"total_counts\", \"pct_counts_mt\"]\n",
    "                              #,labels_key=\"celltype_wnn\",\n",
    "                             #unlabeled_category=\"Unknown\"\n",
    "                             )"
   ]
  },
  {
   "cell_type": "code",
   "execution_count": null,
   "id": "c5cebb48",
   "metadata": {},
   "outputs": [],
   "source": [
    "model = scvi.model.SCVI(adata_scvi, n_layers=2, n_latent=30, gene_likelihood=\"nb\") "
   ]
  },
  {
   "cell_type": "code",
   "execution_count": null,
   "id": "0120c76e",
   "metadata": {},
   "outputs": [],
   "source": [
    "model"
   ]
  },
  {
   "cell_type": "code",
   "execution_count": null,
   "id": "72ad6fa4",
   "metadata": {},
   "outputs": [],
   "source": [
    "model.train()"
   ]
  },
  {
   "cell_type": "code",
   "execution_count": null,
   "id": "e3d150ae",
   "metadata": {},
   "outputs": [],
   "source": [
    "model.save(\"all_cells_vento_quake_cite_concat_2025/\")"
   ]
  },
  {
   "cell_type": "code",
   "execution_count": null,
   "id": "932190a4",
   "metadata": {},
   "outputs": [],
   "source": []
  },
  {
   "cell_type": "code",
   "execution_count": null,
   "id": "34ee6fc6",
   "metadata": {},
   "outputs": [],
   "source": [
    "latent = model.get_latent_representation()"
   ]
  },
  {
   "cell_type": "code",
   "execution_count": null,
   "id": "cd1bdae8",
   "metadata": {},
   "outputs": [],
   "source": [
    "adata_scvi.obsm[\"X_scVI\"] = latent"
   ]
  },
  {
   "cell_type": "code",
   "execution_count": null,
   "id": "9db37e6f",
   "metadata": {},
   "outputs": [],
   "source": [
    "normalized_expr = model.get_normalized_expression(\n",
    "    adata=adata_scvi,\n",
    "    transform_batch=['cite', 'roser','quake']  \n",
    "    ,library_size = 1e4)"
   ]
  },
  {
   "cell_type": "code",
   "execution_count": null,
   "id": "ac72a13b",
   "metadata": {},
   "outputs": [],
   "source": [
    "adata_scvi.layers['scvi_norm'] = normalized_expr.values"
   ]
  },
  {
   "cell_type": "code",
   "execution_count": null,
   "id": "708fab25",
   "metadata": {},
   "outputs": [],
   "source": [
    "sc.pp.log1p(adata_scvi, layer = 'scvi_norm')"
   ]
  },
  {
   "cell_type": "code",
   "execution_count": null,
   "id": "405cc80b",
   "metadata": {},
   "outputs": [],
   "source": [
    "adata_scvi.layers['scvi_norm']"
   ]
  },
  {
   "cell_type": "code",
   "execution_count": null,
   "id": "463dae98",
   "metadata": {},
   "outputs": [],
   "source": [
    "# use scVI latent space for UMAP generation\n",
    "sc.pp.neighbors(adata_scvi, use_rep=\"X_scVI\")\n",
    "sc.tl.umap(adata_scvi, min_dist=0.3)"
   ]
  },
  {
   "cell_type": "code",
   "execution_count": null,
   "id": "4241ad97",
   "metadata": {
    "scrolled": true
   },
   "outputs": [],
   "source": [
    "#harmonized data\n",
    "sc.pl.umap(adata_scvi, color=[\"donor_id\",\"batch_scvi\",\"tissue_merged\",\n",
    "                             \"PRL\",\"IGFBP1\",\"ARG1\",\"HSD11B1\"], ncols=1,size=10,\n",
    "    frameon=False\n",
    "           #,save='ROSER_stroma_decidualizationmarker.png'\n",
    "           ,use_raw=False\n",
    "           ,layer = 'scvi_norm'\n",
    "          )"
   ]
  },
  {
   "cell_type": "code",
   "execution_count": null,
   "id": "a11e2456",
   "metadata": {},
   "outputs": [],
   "source": [
    "batches = adata_scvi.obs['batch_scvi'].unique()\n",
    "\n",
    "adata_both.X = adata_scvi.layers['counts'].copy()\n",
    "\n",
    "normalized_subsets = []\n",
    "\n",
    "# loop over each batch, normalize and log-transform separately\n",
    "for batch in batches:\n",
    "    print(f\"Processing batch: {batch}\")\n",
    "    adata_subset = adata_scvi[adata_scvi.obs['batch_scvi'] == batch].copy()\n",
    "    \n",
    "    # normalize total counts for each cell in the subset\n",
    "    sc.pp.normalize_total(adata_subset)\n",
    "    \n",
    "    # log-transform the data\n",
    "    sc.pp.log1p(adata_subset)\n",
    "    \n",
    "    # Append the normalized subset to the list\n",
    "    normalized_subsets.append(adata_subset)\n",
    "\n",
    "# concatenate the normalized subsets back together\n",
    "adata_norm = normalized_subsets[0].concatenate(*normalized_subsets[1:], batch_key='batch_scvi', index_unique=None)\n"
   ]
  },
  {
   "cell_type": "code",
   "execution_count": null,
   "id": "40aa5c42",
   "metadata": {
    "scrolled": true
   },
   "outputs": [],
   "source": [
    "print(adata_norm.X)"
   ]
  },
  {
   "cell_type": "code",
   "execution_count": null,
   "id": "8aae928e",
   "metadata": {},
   "outputs": [],
   "source": [
    "adata_norm.obs['donor_id'] = adata_norm.obs['donor_id'].astype('category')"
   ]
  },
  {
   "cell_type": "code",
   "execution_count": null,
   "id": "0eab4289",
   "metadata": {},
   "outputs": [],
   "source": [
    "for col in adata_norm.obs.columns:\n",
    "    if pd.api.types.is_categorical_dtype(adata_norm.obs[col]):\n",
    "        adata_norm.obs[col] = adata_norm.obs[col].astype(str)"
   ]
  },
  {
   "cell_type": "code",
   "execution_count": null,
   "id": "ee949439",
   "metadata": {},
   "outputs": [],
   "source": [
    "adata_norm.write('all_endo_cite_norm.h5ad')"
   ]
  },
  {
   "cell_type": "code",
   "execution_count": null,
   "id": "f47f924f",
   "metadata": {},
   "outputs": [],
   "source": [
    "adata_scvi.layers['norm_per_data_counts'] = adata_norm.X.copy()"
   ]
  },
  {
   "cell_type": "code",
   "execution_count": null,
   "id": "cdaa5e78",
   "metadata": {},
   "outputs": [],
   "source": [
    "for col in adata_scvi.obs.columns:\n",
    "    if pd.api.types.is_categorical_dtype(adata_scvi.obs[col]):\n",
    "        adata_scvi.obs[col] = adata_scvi.obs[col].astype(str)"
   ]
  },
  {
   "cell_type": "code",
   "execution_count": null,
   "id": "93647970",
   "metadata": {},
   "outputs": [],
   "source": [
    "adata_scvi.write('all_endo_cite_integrated_2025.h5ad')"
   ]
  },
  {
   "cell_type": "code",
   "execution_count": null,
   "id": "04da6065",
   "metadata": {},
   "outputs": [],
   "source": [
    "adata_scvi.obs['celltype_hires']"
   ]
  },
  {
   "cell_type": "code",
   "execution_count": null,
   "id": "e4b35dca",
   "metadata": {},
   "outputs": [],
   "source": [
    "# convert to categorical\n",
    "adata_scvi.obs[\"celltype_hires\"] = adata_scvi.obs[\"celltype_hires\"].astype(\"category\")\n",
    "# add \"NaN\" as a valid category\n",
    "adata_scvi.obs[\"celltype_hires\"] = adata_scvi.obs[\"celltype_hires\"].cat.add_categories(\"NaN\")\n",
    "# replace missing values with \"NaN\"\n",
    "adata_scvi.obs[\"celltype_hires\"].fillna(\"NaN\", inplace=True)"
   ]
  },
  {
   "cell_type": "code",
   "execution_count": null,
   "id": "16a52752",
   "metadata": {},
   "outputs": [],
   "source": [
    "adata_scvi.obs.columns"
   ]
  },
  {
   "cell_type": "code",
   "execution_count": null,
   "id": "f57e011c",
   "metadata": {},
   "outputs": [],
   "source": [
    "adata_scvi.obs['cell_type'].cat.categories"
   ]
  },
  {
   "cell_type": "code",
   "execution_count": null,
   "id": "1663fe92",
   "metadata": {},
   "outputs": [],
   "source": [
    "adata_scvi.obs['Cell type'].cat.categories"
   ]
  },
  {
   "cell_type": "code",
   "execution_count": null,
   "id": "6bd9592f",
   "metadata": {},
   "outputs": [],
   "source": [
    "adata_scvi.obs['celltype_hires'].cat.categories"
   ]
  },
  {
   "cell_type": "code",
   "execution_count": null,
   "id": "08dfe7f8",
   "metadata": {},
   "outputs": [],
   "source": [
    "# List the columns you want to merge\n",
    "cols = ['Cell type', 'cell_type', 'celltype_hires']\n",
    "\n",
    "# Replace string \"nan\" or \"NaN\" with np.nan for each column\n",
    "for col in cols:\n",
    "    if pd.api.types.is_categorical_dtype(adata_scvi.obs[col]):\n",
    "        adata_scvi.obs[col] = adata_scvi.obs[col].astype(object)\n",
    "    # Replace string 'nan' or 'NaN' with np.nan\n",
    "    adata_scvi.obs[col] = adata_scvi.obs[col].replace({'nan': np.nan, 'NaN': np.nan})"
   ]
  },
  {
   "cell_type": "code",
   "execution_count": null,
   "id": "5baf2f43",
   "metadata": {},
   "outputs": [],
   "source": [
    "adata_scvi.obs['celltype_merged'] = (\n",
    "    adata_scvi.obs['Cell type']\n",
    "    .combine_first(adata_scvi.obs['cell_type'])\n",
    "    .combine_first(adata_scvi.obs['celltype_hires'])\n",
    ")"
   ]
  },
  {
   "cell_type": "code",
   "execution_count": null,
   "id": "5af9113b",
   "metadata": {},
   "outputs": [],
   "source": [
    "adata_scvi.obs['celltype_merged']"
   ]
  },
  {
   "cell_type": "code",
   "execution_count": null,
   "id": "02929330",
   "metadata": {},
   "outputs": [],
   "source": [
    "adata_fib = adata_scvi[adata_scvi.obs['celltype_merged'].isin(['eS','decFIB','dS','Stromal fibroblasts',\n",
    "                                                              'hpFib'])]"
   ]
  },
  {
   "cell_type": "markdown",
   "id": "150695ca",
   "metadata": {},
   "source": [
    "## Figure 6F"
   ]
  },
  {
   "cell_type": "code",
   "execution_count": null,
   "id": "e67c0c51",
   "metadata": {},
   "outputs": [],
   "source": [
    "gene_prl = 'PRL'\n",
    "gene_igfbp1 = 'IGFBP1'\n",
    "cutoff_prl = 0\n",
    "cutoff_igfbp1 = 0\n",
    "\n",
    "if gene_prl in adata_fib.var_names and gene_igfbp1 in adata_fib.var_names:\n",
    "    \n",
    "    expr_prl = adata_fib[:, gene_prl].layers['norm_per_data_counts']\n",
    "    if sparse.issparse(expr_prl):\n",
    "        expr_prl = expr_prl.toarray().flatten()\n",
    "    else:\n",
    "        expr_prl = np.array(expr_prl).flatten()\n",
    "    \n",
    "    expr_igfbp1 = adata_fib[:, gene_igfbp1].layers['norm_per_data_counts']\n",
    "    if sparse.issparse(expr_igfbp1):\n",
    "        expr_igfbp1 = expr_igfbp1.toarray().flatten()\n",
    "    else:\n",
    "        expr_igfbp1 = np.array(expr_igfbp1).flatten()\n",
    "    \n",
    "    \n",
    "    # create Boolean Masks for Positivity\n",
    "    prl_positive = expr_prl > cutoff_prl\n",
    "    igfbp1_positive = expr_igfbp1 > cutoff_igfbp1\n",
    "    \n",
    "    # Cells that are double-positive:\n",
    "    double_positive = prl_positive & igfbp1_positive\n",
    "    \n",
    "\n",
    "    df = adata_fib.obs.copy()\n",
    "    df['double_positive'] = double_positive\n",
    "    \n",
    "    # Count the number of double-positive cells per group.\n",
    "    double_counts = df.groupby(['tissue_merged', 'batch_scvi'])['double_positive'].sum().unstack(fill_value=0)\n",
    "    # Count the total cells per group.\n",
    "    total_counts = df.groupby(['tissue_merged', 'batch_scvi']).size().unstack(fill_value=0)\n",
    "    \n",
    "    # Compute the frequency (fraction) of double-positive cells.\n",
    "    frequency = double_counts / total_counts\n",
    "\n",
    "\n",
    "    tissue_order = ['proliferative', 'early-secretory', 'early-mid-secretory', 'mid-secretory', 'late-secretory', 'parietalis', 'basalis']\n",
    "    frequency = frequency.reindex(tissue_order, fill_value=0)\n",
    "    \n",
    "    batches = frequency.columns.tolist()  # e.g., ['cite', 'roser', 'quake']\n",
    "    n_batches = len(batches)\n",
    "    x = np.arange(len(tissue_order))\n",
    "    width = 0.8 / n_batches  # width for each bar within a tissue group\n",
    "\n",
    "    plt.figure(figsize=(6, 6))\n",
    "    for i, batch in enumerate(batches):\n",
    "        plt.bar(x + i * width, frequency[batch], width, label=batch)\n",
    "        \n",
    "    plt.xlabel('Tissue (tissue_merged)')\n",
    "    plt.ylabel('Fraction of double-positive cells')\n",
    "    plt.title('Fraction of cells positive for both PRL and IGFBP1 per tissue and dataset (batch_scvi)')\n",
    "    plt.xticks(x + width * (n_batches - 1) / 2, tissue_order, rotation=45)\n",
    "    plt.legend(title='Dataset (batch_scvi)')\n",
    "    plt.tight_layout()\n",
    "    plt.savefig('20250402fib_integr_freq_PRL_IGFBP1_dp.pdf', \n",
    "                  format='pdf', bbox_inches='tight')\n",
    "    plt.show()\n",
    "    \n",
    "else:\n",
    "    missing = [g for g in [gene_prl, gene_igfbp1] if g not in adata_fib.var_names]\n",
    "    print(f\"Gene(s) {missing} not found in the dataset.\")\n"
   ]
  },
  {
   "cell_type": "code",
   "execution_count": null,
   "id": "dd195e0a",
   "metadata": {},
   "outputs": [],
   "source": [
    "frequency"
   ]
  },
  {
   "cell_type": "code",
   "execution_count": null,
   "id": "aec54682",
   "metadata": {},
   "outputs": [],
   "source": [
    "sc.pp.neighbors(adata_fib, use_rep=\"X_scVI\")"
   ]
  },
  {
   "cell_type": "code",
   "execution_count": null,
   "id": "4ff4edd3",
   "metadata": {},
   "outputs": [],
   "source": [
    "sc.tl.umap(adata_fib, min_dist=0.3)"
   ]
  },
  {
   "cell_type": "code",
   "execution_count": null,
   "id": "b368620a",
   "metadata": {},
   "outputs": [],
   "source": [
    "sc.tl.leiden(adata_fib, resolution = 0.5) "
   ]
  },
  {
   "cell_type": "code",
   "execution_count": null,
   "id": "9d7c9485",
   "metadata": {},
   "outputs": [],
   "source": [
    "adata_fib.write('integr_adata_fib.h5ad')"
   ]
  },
  {
   "cell_type": "code",
   "execution_count": null,
   "id": "66c843e6",
   "metadata": {},
   "outputs": [],
   "source": [
    "sc.pl.umap(adata_fib, color=[\"donor_id\",\"batch_scvi\",\"leiden\",\"tissue_merged\",'celltype_merged'], ncols=1, size=20,\n",
    "    frameon=False)"
   ]
  },
  {
   "cell_type": "code",
   "execution_count": null,
   "id": "6d352e45",
   "metadata": {},
   "outputs": [],
   "source": [
    "sc.pl.dotplot(adata_fib, groupby = 'leiden', var_names = ['PRL','IGFBP1','ARG1','CD82'\n",
    "                                                         ,'IL1R2','IL1RL1',\n",
    "                                                         'HSD11B1','VEGFA','IGF1','IGFBP5','ACTA2'],\n",
    "              standard_scale='var',cmap = 'Blues',\n",
    "             swap_axes=True)"
   ]
  },
  {
   "cell_type": "code",
   "execution_count": null,
   "id": "d9a91ea9",
   "metadata": {},
   "outputs": [],
   "source": [
    "# Create a crosstab of leiden clusters (rows) by tissue_merged (columns)\n",
    "ct = pd.crosstab(adata_fib.obs['tissue_merged'], adata_fib.obs['leiden'])\n",
    "\n",
    "# Convert counts to frequencies by dividing each column by its total cell count.\n",
    "freq = ct.div(ct.sum(axis=1), axis=0)\n",
    "\n",
    "freq"
   ]
  },
  {
   "cell_type": "markdown",
   "id": "eef4dba3",
   "metadata": {},
   "source": [
    "## Figure 6H"
   ]
  },
  {
   "cell_type": "code",
   "execution_count": null,
   "id": "d9ee1af0",
   "metadata": {
    "scrolled": true
   },
   "outputs": [],
   "source": [
    "cluster_label = '12'\n",
    "\n",
    "if cluster_label not in ct.columns:\n",
    "    print(f\"Cluster {cluster_label} not found in the data!\")\n",
    "else:\n",
    "    # Calculate frequency: number of cells in cluster 20 divided by total cells per tissue.\n",
    "    freq_cluster20 = ct[cluster_label] / ct.sum(axis=1)\n",
    "    tissue_order = ['proliferative', 'early-secretory', 'early-mid-secretory', 'mid-secretory', 'late-secretory', 'parietalis', 'basalis']\n",
    "    freq_cluster20 = freq_cluster20.reindex(tissue_order, fill_value=0)\n",
    "    \n",
    "    # Plot the frequency as a bar chart.\n",
    "    plt.figure(figsize=(5, 5))\n",
    "    freq_cluster20.plot(kind='bar', color='skyblue', edgecolor='black')\n",
    "    plt.xlabel(\"Tissue (tissue_merged)\")\n",
    "    plt.ylabel(\"Frequency of cluster 12\")\n",
    "    plt.title(\"Frequency of Cluster 12 per Tissue\")\n",
    "    plt.xticks(rotation=45)\n",
    "    plt.tight_layout()\n",
    "    plt.savefig('20250402fib_integr_freq_cluster12.pdf', \n",
    "                  format='pdf', bbox_inches='tight')\n",
    "    plt.show()"
   ]
  },
  {
   "cell_type": "code",
   "execution_count": null,
   "id": "327a8339",
   "metadata": {},
   "outputs": [],
   "source": [
    "freq_cluster20"
   ]
  },
  {
   "cell_type": "code",
   "execution_count": null,
   "id": "a47e9a13",
   "metadata": {},
   "outputs": [],
   "source": [
    "pd.crosstab(adata_fib.obs['tissue_merged'], adata_fib.obs['leiden'])"
   ]
  },
  {
   "cell_type": "code",
   "execution_count": null,
   "id": "7d4512a5",
   "metadata": {},
   "outputs": [],
   "source": [
    "sc.tl.dendrogram(adata_fib, groupby='tissue_merged')\n",
    "sc.pl.dendrogram(adata_fib, groupby='tissue_merged')"
   ]
  },
  {
   "cell_type": "code",
   "execution_count": null,
   "id": "66be8572",
   "metadata": {},
   "outputs": [],
   "source": [
    "# Create a crosstab with tissues as rows and Leiden clusters as columns.\n",
    "ct = pd.crosstab(adata_fib.obs['tissue_merged'], adata_fib.obs['leiden'])\n",
    "\n",
    "# Normalize the counts per tissue (each row sums to 1).\n",
    "ct_freq = ct.div(ct.sum(axis=1), axis=0)\n",
    "tissue_order = ['proliferative', 'early-secretory', 'early-mid-secretory', 'mid-secretory', 'late-secretory', 'parietalis', 'basalis']\n",
    "ct_freq = ct_freq.reindex(tissue_order, fill_value=0)\n",
    "    \n",
    "# Plot a stacked bar chart.\n",
    "plt.figure(figsize=(10, 6))\n",
    "ct_freq.plot(kind='bar', stacked=True, colormap='tab20', figsize=(10,6))\n",
    "plt.ylabel('Frequency')\n",
    "plt.title('Relative Frequency of Leiden Clusters per Tissue')\n",
    "plt.legend(title='Leiden Cluster', bbox_to_anchor=(1.05, 1), loc='upper left')\n",
    "plt.tight_layout()\n",
    "plt.savefig('20250402fib_integr_composition_leiden.pdf', \n",
    "                  format='pdf', bbox_inches='tight')\n",
    "plt.show()"
   ]
  },
  {
   "cell_type": "code",
   "execution_count": null,
   "id": "a3274e0f",
   "metadata": {},
   "outputs": [],
   "source": [
    "# Define your tissue order.\n",
    "tissue_order = ['proliferative', 'early-secretory', 'early-mid-secretory',\n",
    "                'mid-secretory', 'late-secretory', 'parietalis', 'basalis']\n",
    "\n",
    "# Create a crosstab where columns are Leiden clusters and rows are tissues.\n",
    "ct = pd.crosstab(adata_fib.obs['tissue_merged'], adata_fib.obs['leiden'])\n",
    "\n",
    "# Normalize each cluster to sum to 1 (so for each cluster, we get the fraction contributed by each tissue).\n",
    "ct_cluster_freq = ct.div(ct.sum(axis=0), axis=1)\n",
    "\n",
    "cluster_annotation = {}\n",
    "for cluster in ct_cluster_freq.columns:\n",
    "    freq_series = ct_cluster_freq[cluster]\n",
    "    # Get the top three tissues (by frequency) for this cluster.\n",
    "    top_tissues = freq_series.sort_values(ascending=False).head(5) #was 3\n",
    "    # Convert tissue names to their index in tissue_order.\n",
    "    indices = [tissue_order.index(t) for t in top_tissues.index if t in tissue_order]\n",
    "    weights = top_tissues[top_tissues.index.isin(tissue_order)].values\n",
    "    if len(indices) > 0 and weights.sum() > 0:\n",
    "        weighted_avg_index = sum(i * w for i, w in zip(indices, weights)) / sum(weights)\n",
    "    else:\n",
    "        weighted_avg_index = None\n",
    "    cluster_annotation[cluster] = {'weighted_avg_index': weighted_avg_index, \n",
    "                                   'top_tissues': list(top_tissues.index)}\n",
    "\n",
    "# Sort clusters by the weighted average index.\n",
    "sorted_clusters = sorted(cluster_annotation.items(), key=lambda x: x[1]['weighted_avg_index'])\n",
    "\n",
    "# Create new labels based on the rank and show the top three tissues.\n",
    "new_labels_weighted = {cluster: f\"{i+1}_{','.join(info['top_tissues'])}\" \n",
    "                         for i, (cluster, info) in enumerate(sorted_clusters)}\n",
    "\n",
    "print(\"New annotations based on weighted average of top three tissues:\")\n",
    "print(new_labels_weighted)"
   ]
  },
  {
   "cell_type": "code",
   "execution_count": null,
   "id": "92d0d9e3",
   "metadata": {
    "scrolled": true
   },
   "outputs": [],
   "source": [
    "cluster_annotation"
   ]
  },
  {
   "cell_type": "code",
   "execution_count": null,
   "id": "16d4f345",
   "metadata": {},
   "outputs": [],
   "source": [
    "# Define the function to map weighted average index to a category.\n",
    "def assign_cluster_category(weighted_avg_index):\n",
    "    if weighted_avg_index < 1:\n",
    "        return 'naive Fib'\n",
    "    elif weighted_avg_index < 4:\n",
    "        return 'hpFib1'\n",
    "    elif weighted_avg_index < 5.5:\n",
    "        return 'hpFib2'\n",
    "    else:\n",
    "        return 'decFib'\n",
    "\n",
    "\n",
    "# Map each cluster to its new category label.\n",
    "cluster_categories = {\n",
    "    cluster: assign_cluster_category(info['weighted_avg_index'])\n",
    "    for cluster, info in cluster_annotation.items()\n",
    "}\n",
    "\n",
    "print(\"Assigned cluster categories:\")\n",
    "print(cluster_categories)"
   ]
  },
  {
   "cell_type": "code",
   "execution_count": null,
   "id": "7de1bf30",
   "metadata": {},
   "outputs": [],
   "source": [
    "# Make sure that the leiden values in adata_fib.obs are strings (or convert the keys of new_labels_weighted accordingly)\n",
    "adata_fib.obs['leiden_ordered'] = adata_fib.obs['leiden'].astype(str).map(cluster_categories)\n",
    "\n",
    "# To check the assignment, you can view the first few rows:\n",
    "print(adata_fib.obs[['leiden_ordered', 'leiden']].head())"
   ]
  },
  {
   "cell_type": "markdown",
   "id": "2a6759dc",
   "metadata": {},
   "source": [
    "## Figure 6G"
   ]
  },
  {
   "cell_type": "code",
   "execution_count": null,
   "id": "44022d83",
   "metadata": {},
   "outputs": [],
   "source": [
    "# Create a crosstab with tissues as rows and Leiden clusters as columns.\n",
    "ct = pd.crosstab(adata_fib.obs['tissue_merged'], adata_fib.obs['leiden_ordered'])\n",
    "\n",
    "# Normalize the counts per tissue (each row sums to 1).\n",
    "ct_freq = ct.div(ct.sum(axis=1), axis=0)\n",
    "tissue_order = ['proliferative', 'early-secretory', 'early-mid-secretory', 'mid-secretory', 'late-secretory', 'parietalis', 'basalis']\n",
    "ct_freq = ct_freq.reindex(tissue_order, fill_value=0)\n",
    "    \n",
    "# Plot a stacked bar chart.\n",
    "plt.figure(figsize=(10, 6))\n",
    "ct_freq.plot(kind='bar', stacked=True, colormap='tab20', figsize=(10,6))\n",
    "plt.ylabel('Frequency')\n",
    "plt.title('Relative Frequency of Leiden Clusters per Tissue')\n",
    "plt.legend(title='Leiden Cluster', bbox_to_anchor=(1.05, 1), loc='upper left')\n",
    "plt.tight_layout()\n",
    "plt.savefig('20250403fib_integr_composition_leiden_ordered.pdf', \n",
    "                  format='pdf', bbox_inches='tight')\n",
    "plt.show()"
   ]
  },
  {
   "cell_type": "code",
   "execution_count": null,
   "id": "f43948c3",
   "metadata": {},
   "outputs": [],
   "source": []
  },
  {
   "cell_type": "code",
   "execution_count": null,
   "id": "56a341ff",
   "metadata": {},
   "outputs": [],
   "source": [
    "adata_fib.obs['leiden_ordered'] = adata_fib.obs['leiden_ordered'].astype('category')\n",
    "\n",
    "sc.tl.dendrogram(adata_fib, groupby='leiden_ordered')\n",
    "sc.pl.dendrogram(adata_fib, groupby='leiden_ordered')"
   ]
  },
  {
   "cell_type": "markdown",
   "id": "d15a6f43",
   "metadata": {},
   "source": [
    "## Figure S5H"
   ]
  },
  {
   "cell_type": "code",
   "execution_count": null,
   "id": "399d688b",
   "metadata": {},
   "outputs": [],
   "source": [
    "sc.pl.matrixplot(adata_fib, groupby = 'leiden_ordered', var_names = ['HOXA10','ESR1','PGR','GATA2','IGF1',\n",
    "                                                                  'MT1H','MT1G','SGK1','PTN','HAND2','PTN',\n",
    "                                                                  'C3','APOD','IFITM1','PLA2G2A','SERPINE1','IGFBP5','ACTA2','PRL','IGFBP1','ARG1','CD82'\n",
    "                                                         ,'IL1R2','IL1RL1',\n",
    "                                                         'HSD11B1','VEGFA'],\n",
    "              standard_scale='var',cmap = 'Blues',\n",
    "              save='final_matrixplot_13clusters_decidualization_20251012.pdf',\n",
    "             swap_axes=False)"
   ]
  }
 ],
 "metadata": {
  "kernelspec": {
   "display_name": "Python 3 (ipykernel)",
   "language": "python",
   "name": "python3"
  },
  "language_info": {
   "codemirror_mode": {
    "name": "ipython",
    "version": 3
   },
   "file_extension": ".py",
   "mimetype": "text/x-python",
   "name": "python",
   "nbconvert_exporter": "python",
   "pygments_lexer": "ipython3",
   "version": "3.10.10"
  }
 },
 "nbformat": 4,
 "nbformat_minor": 5
}
