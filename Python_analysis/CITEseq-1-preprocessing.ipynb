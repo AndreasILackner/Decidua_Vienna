{
 "cells": [
  {
   "cell_type": "code",
   "execution_count": null,
   "id": "02449475",
   "metadata": {},
   "outputs": [],
   "source": [
    "import anndata as ad\n",
    "import matplotlib as mpl\n",
    "import mudata as md\n",
    "from mudata import MuData\n",
    "import scanpy as sc\n",
    "import numpy as np\n",
    "import pandas as pd\n",
    "import muon as mu\n",
    "from muon import prot as pt"
   ]
  },
  {
   "cell_type": "code",
   "execution_count": null,
   "id": "8c7e6381",
   "metadata": {},
   "outputs": [],
   "source": [
    "print(\"anndata  \", ad.__version__)\n",
    "print(\"matplotlib\", mpl.__version__)\n",
    "print(\"mudata    \", md.__version__)\n",
    "print(\"scanpy    \", sc.__version__)\n",
    "print(\"seaborn   \", sns.__version__)\n",
    "print(\"numpy     \", np.__version__)\n",
    "print(\"pandas    \", pd.__version__)\n",
    "print(\"muon      \", mu.__version__)"
   ]
  },
  {
   "cell_type": "code",
   "execution_count": null,
   "id": "8d65f6d9",
   "metadata": {},
   "outputs": [],
   "source": [
    "samples = [\n",
    "    \"sc01_db\",\n",
    "    \"sc01_dp\",\n",
    "    \"sc02_db\",\n",
    "    \"sc02_dp\",\n",
    "    \"sc08_db\",\n",
    "    \"sc08_dp\",\n",
    "    \"sc09_db\",\n",
    "    \"sc09_dp\",\n",
    "    \"sc13_db\",\n",
    "    \"sc13_dp\",\n",
    "    \"sc15_db\",\n",
    "    \"sc15_dp\",\n",
    "    \"sc16_db\",\n",
    "    \"sc16_dp\"\n",
    "]\n",
    "\n",
    "adata_dict = {}\n",
    "\n",
    "for sample in samples:\n",
    "    adata_dict[sample] = mu.read_10x_mtx(\n",
    "        f\"/dh-projects/dicidua_basalis_parietalis_pollheimer/analysis/andi_cr_runs/lib_{sample}_filtered/outs/filtered_feature_bc_matrix/\",\n",
    "        )"
   ]
  },
  {
   "cell_type": "code",
   "execution_count": null,
   "id": "287ceb55",
   "metadata": {},
   "outputs": [],
   "source": [
    "adata_dict_raw = {}\n",
    "\n",
    "for sample in samples:\n",
    "    adata_dict_raw[sample] = mu.read_10x_mtx(\n",
    "        f\"/dh-projects/dicidua_basalis_parietalis_pollheimer/analysis/andi_cr_runs/lib_{sample}_filtered/outs/raw_feature_bc_matrix/\",\n",
    "        )"
   ]
  },
  {
   "cell_type": "code",
   "execution_count": null,
   "id": "511914c9",
   "metadata": {},
   "outputs": [],
   "source": [
    "adata_sc01_db = adata_dict['sc01_db']\n",
    "adata_sc01_dp = adata_dict['sc01_dp']\n",
    "adata_sc02_db = adata_dict['sc02_db']\n",
    "adata_sc02_dp = adata_dict['sc02_dp']\n",
    "adata_sc08_db = adata_dict['sc08_db']\n",
    "adata_sc08_dp = adata_dict['sc08_dp']\n",
    "adata_sc09_db = adata_dict['sc09_db']\n",
    "adata_sc09_dp = adata_dict['sc09_dp']\n",
    "adata_sc13_db = adata_dict['sc13_db']\n",
    "adata_sc13_dp = adata_dict['sc13_dp']\n",
    "adata_sc15_db = adata_dict['sc15_db']\n",
    "adata_sc15_dp = adata_dict['sc15_dp']\n",
    "adata_sc16_db = adata_dict['sc16_db']\n",
    "adata_sc16_dp = adata_dict['sc16_dp']"
   ]
  },
  {
   "cell_type": "code",
   "execution_count": null,
   "id": "b6821782",
   "metadata": {},
   "outputs": [],
   "source": [
    "adata_sc01_db_prot = adata_sc01_db.mod['prot']\n",
    "adata_sc01_dp_prot = adata_sc01_dp.mod['prot']\n",
    "\n",
    "adata_sc02_db_prot = adata_sc02_db.mod['prot']\n",
    "adata_sc02_dp_prot = adata_sc02_dp.mod['prot']\n",
    "adata_sc08_db_prot = adata_sc08_db.mod['prot']\n",
    "adata_sc08_dp_prot = adata_sc08_dp.mod['prot']\n",
    "adata_sc09_db_prot = adata_sc09_db.mod['prot']\n",
    "adata_sc09_dp_prot = adata_sc09_dp.mod['prot']\n",
    "\n",
    "adata_sc13_db_prot = adata_sc13_db.mod['prot']\n",
    "adata_sc13_dp_prot = adata_sc13_dp.mod['prot']\n",
    "adata_sc15_db_prot = adata_sc15_db.mod['prot']\n",
    "adata_sc15_dp_prot = adata_sc15_dp.mod['prot']\n",
    "adata_sc16_db_prot = adata_sc16_db.mod['prot']\n",
    "adata_sc16_dp_prot = adata_sc16_dp.mod['prot']"
   ]
  },
  {
   "cell_type": "code",
   "execution_count": null,
   "id": "dd71dcd2",
   "metadata": {},
   "outputs": [],
   "source": [
    "adata_sc01_db_raw = adata_dict_raw['sc01_db']\n",
    "adata_sc01_dp_raw = adata_dict_raw['sc01_dp']\n",
    "\n",
    "adata_sc02_db_raw = adata_dict_raw['sc02_db']\n",
    "adata_sc02_dp_raw = adata_dict_raw['sc02_dp']\n",
    "adata_sc08_db_raw = adata_dict_raw['sc08_db']\n",
    "adata_sc08_dp_raw = adata_dict_raw['sc08_dp']\n",
    "adata_sc09_db_raw = adata_dict_raw['sc09_db']\n",
    "adata_sc09_dp_raw = adata_dict_raw['sc09_dp']\n",
    "\n",
    "adata_sc13_db_raw = adata_dict_raw['sc13_db']\n",
    "adata_sc13_dp_raw = adata_dict_raw['sc13_dp']\n",
    "adata_sc15_db_raw = adata_dict_raw['sc15_db']\n",
    "adata_sc15_dp_raw = adata_dict_raw['sc15_dp']\n",
    "adata_sc16_db_raw = adata_dict_raw['sc16_db']\n",
    "adata_sc16_dp_raw = adata_dict_raw['sc16_dp']"
   ]
  },
  {
   "cell_type": "code",
   "execution_count": null,
   "id": "6a89aabe",
   "metadata": {},
   "outputs": [],
   "source": [
    "adata_sc01_db_raw['rna'].obs[\"log10umi\"] = np.array(np.log10(adata_sc01_db_raw['rna'].X.sum(axis=1) + 1)).reshape(-1)\n",
    "adata_sc01_dp_raw['rna'].obs[\"log10umi\"] = np.array(np.log10(adata_sc01_dp_raw['rna'].X.sum(axis=1) + 1)).reshape(-1)\n",
    "\n",
    "adata_sc02_db_raw['rna'].obs[\"log10umi\"] = np.array(np.log10(adata_sc02_db_raw['rna'].X.sum(axis=1) + 1)).reshape(-1)\n",
    "adata_sc02_dp_raw['rna'].obs[\"log10umi\"] = np.array(np.log10(adata_sc02_dp_raw['rna'].X.sum(axis=1) + 1)).reshape(-1)\n",
    "adata_sc08_db_raw['rna'].obs[\"log10umi\"] = np.array(np.log10(adata_sc08_db_raw['rna'].X.sum(axis=1) + 1)).reshape(-1)\n",
    "adata_sc08_dp_raw['rna'].obs[\"log10umi\"] = np.array(np.log10(adata_sc08_dp_raw['rna'].X.sum(axis=1) + 1)).reshape(-1)\n",
    "adata_sc09_db_raw['rna'].obs[\"log10umi\"] = np.array(np.log10(adata_sc09_db_raw['rna'].X.sum(axis=1) + 1)).reshape(-1)\n",
    "adata_sc09_dp_raw['rna'].obs[\"log10umi\"] = np.array(np.log10(adata_sc09_dp_raw['rna'].X.sum(axis=1) + 1)).reshape(-1)\n",
    "\n",
    "adata_sc13_db_raw['rna'].obs[\"log10umi\"] = np.array(np.log10(adata_sc13_db_raw['rna'].X.sum(axis=1) + 1)).reshape(-1)\n",
    "adata_sc13_dp_raw['rna'].obs[\"log10umi\"] = np.array(np.log10(adata_sc13_dp_raw['rna'].X.sum(axis=1) + 1)).reshape(-1)\n",
    "adata_sc15_db_raw['rna'].obs[\"log10umi\"] = np.array(np.log10(adata_sc15_db_raw['rna'].X.sum(axis=1) + 1)).reshape(-1)\n",
    "adata_sc15_dp_raw['rna'].obs[\"log10umi\"] = np.array(np.log10(adata_sc15_dp_raw['rna'].X.sum(axis=1) + 1)).reshape(-1)\n",
    "adata_sc16_db_raw['rna'].obs[\"log10umi\"] = np.array(np.log10(adata_sc16_db_raw['rna'].X.sum(axis=1) + 1)).reshape(-1)\n",
    "adata_sc16_dp_raw['rna'].obs[\"log10umi\"] = np.array(np.log10(adata_sc16_dp_raw['rna'].X.sum(axis=1) + 1)).reshape(-1)"
   ]
  },
  {
   "cell_type": "code",
   "execution_count": null,
   "id": "e88a775e",
   "metadata": {
    "scrolled": true
   },
   "outputs": [],
   "source": [
    "mu.pl.histogram(adata_sc01_db_raw['rna'], ['log10umi'], bins=50)\n",
    "mu.pl.histogram(adata_sc01_dp_raw['rna'], ['log10umi'], bins=50)\n",
    "\n",
    "mu.pl.histogram(adata_sc02_db_raw['rna'], ['log10umi'], bins=50)\n",
    "mu.pl.histogram(adata_sc02_dp_raw['rna'], ['log10umi'], bins=50)\n",
    "\n",
    "mu.pl.histogram(adata_sc08_db_raw['rna'], ['log10umi'], bins=50)\n",
    "mu.pl.histogram(adata_sc08_dp_raw['rna'], ['log10umi'], bins=50)\n",
    "\n",
    "mu.pl.histogram(adata_sc09_db_raw['rna'], ['log10umi'], bins=50)\n",
    "mu.pl.histogram(adata_sc09_dp_raw['rna'], ['log10umi'], bins=50)\n",
    "\n",
    "mu.pl.histogram(adata_sc13_db_raw['rna'], ['log10umi'], bins=50)\n",
    "mu.pl.histogram(adata_sc13_dp_raw['rna'], ['log10umi'], bins=50)\n",
    "\n",
    "mu.pl.histogram(adata_sc15_db_raw['rna'], ['log10umi'], bins=50)\n",
    "mu.pl.histogram(adata_sc15_dp_raw['rna'], ['log10umi'], bins=50)\n",
    "\n",
    "mu.pl.histogram(adata_sc16_db_raw['rna'], ['log10umi'], bins=50)\n",
    "mu.pl.histogram(adata_sc16_dp_raw['rna'], ['log10umi'], bins=50)"
   ]
  },
  {
   "cell_type": "code",
   "execution_count": null,
   "id": "ab54f3c1",
   "metadata": {
    "scrolled": true
   },
   "outputs": [],
   "source": [
    "mu.pl.histogram(adata_sc01_db_raw['rna'][adata_sc01_db_raw['rna'].obs.log10umi >= 0.5], ['log10umi'], bins=50)\n",
    "mu.pl.histogram(adata_sc01_dp_raw['rna'][adata_sc01_dp_raw['rna'].obs.log10umi >= 0.5], ['log10umi'], bins=50)\n",
    "\n",
    "mu.pl.histogram(adata_sc02_db_raw['rna'][adata_sc02_db_raw['rna'].obs.log10umi >= 0.5], ['log10umi'], bins=50)\n",
    "mu.pl.histogram(adata_sc02_dp_raw['rna'][adata_sc02_dp_raw['rna'].obs.log10umi >= 0.5], ['log10umi'], bins=50)\n",
    "\n",
    "mu.pl.histogram(adata_sc08_db_raw['rna'][adata_sc08_db_raw['rna'].obs.log10umi >= 0.5], ['log10umi'], bins=50)\n",
    "mu.pl.histogram(adata_sc08_dp_raw['rna'][adata_sc08_dp_raw['rna'].obs.log10umi >= 0.5], ['log10umi'], bins=50)\n",
    "\n",
    "mu.pl.histogram(adata_sc09_db_raw['rna'][adata_sc09_db_raw['rna'].obs.log10umi >= 0.5], ['log10umi'], bins=50)\n",
    "mu.pl.histogram(adata_sc09_dp_raw['rna'][adata_sc09_dp_raw['rna'].obs.log10umi >= 0.5], ['log10umi'], bins=50)\n",
    "\n",
    "mu.pl.histogram(adata_sc13_db_raw['rna'][adata_sc13_db_raw['rna'].obs.log10umi >= 0.5], ['log10umi'], bins=50)\n",
    "mu.pl.histogram(adata_sc13_dp_raw['rna'][adata_sc13_dp_raw['rna'].obs.log10umi >= 0.5], ['log10umi'], bins=50)\n",
    "\n",
    "mu.pl.histogram(adata_sc15_db_raw['rna'][adata_sc15_db_raw['rna'].obs.log10umi >= 0.5], ['log10umi'], bins=50)\n",
    "mu.pl.histogram(adata_sc15_dp_raw['rna'][adata_sc15_dp_raw['rna'].obs.log10umi >= 0.5], ['log10umi'], bins=50)\n",
    "\n",
    "mu.pl.histogram(adata_sc16_db_raw['rna'][adata_sc16_db_raw['rna'].obs.log10umi >= 0.5], ['log10umi'], bins=50)\n",
    "mu.pl.histogram(adata_sc16_dp_raw['rna'][adata_sc16_dp_raw['rna'].obs.log10umi >= 0.5], ['log10umi'], bins=50)"
   ]
  },
  {
   "cell_type": "code",
   "execution_count": null,
   "id": "3ffabc33",
   "metadata": {},
   "outputs": [],
   "source": [
    "isotypes = adata_sc02_db_raw['prot'].var_names[36:39].values\n",
    "isotypes"
   ]
  },
  {
   "cell_type": "code",
   "execution_count": null,
   "id": "90c3fb1c",
   "metadata": {},
   "outputs": [],
   "source": [
    "adata_sc01_db_prot.layers['counts'] = adata_sc01_db_prot.X\n",
    "adata_sc01_dp_prot.layers['counts'] = adata_sc01_dp_prot.X\n",
    "\n",
    "adata_sc02_db_prot.layers['counts'] = adata_sc02_db_prot.X\n",
    "adata_sc02_dp_prot.layers['counts'] = adata_sc02_dp_prot.X\n",
    "\n",
    "adata_sc08_db_prot.layers['counts'] = adata_sc08_db_prot.X\n",
    "adata_sc08_dp_prot.layers['counts'] = adata_sc08_dp_prot.X\n",
    "\n",
    "adata_sc09_db_prot.layers['counts'] = adata_sc09_db_prot.X\n",
    "adata_sc09_dp_prot.layers['counts'] = adata_sc09_dp_prot.X\n",
    "\n",
    "adata_sc13_db_prot.layers['counts'] = adata_sc13_db_prot.X\n",
    "adata_sc13_dp_prot.layers['counts'] = adata_sc13_dp_prot.X\n",
    "\n",
    "adata_sc15_db_prot.layers['counts'] = adata_sc15_db_prot.X\n",
    "adata_sc15_dp_prot.layers['counts'] = adata_sc15_dp_prot.X\n",
    "\n",
    "adata_sc16_db_prot.layers['counts'] = adata_sc16_db_prot.X\n",
    "adata_sc16_dp_prot.layers['counts'] = adata_sc16_dp_prot.X"
   ]
  },
  {
   "cell_type": "code",
   "execution_count": null,
   "id": "eb5c4b5a",
   "metadata": {
    "scrolled": true
   },
   "outputs": [],
   "source": [
    "pt.pp.dsb(adata_sc01_db, adata_sc01_db_raw, empty_counts_range=(1.0, 2.2), isotype_controls=isotypes, random_state=1)\n",
    "pt.pp.dsb(adata_sc01_dp, adata_sc01_dp_raw, empty_counts_range=(1.0, 2.2), isotype_controls=isotypes, random_state=1)\n",
    "\n",
    "pt.pp.dsb(adata_sc02_db, adata_sc02_db_raw, empty_counts_range=(1.0, 2.2), isotype_controls=isotypes, random_state=1)\n",
    "pt.pp.dsb(adata_sc02_dp, adata_sc02_dp_raw, empty_counts_range=(1.0, 2.2), isotype_controls=isotypes, random_state=1)\n",
    "\n",
    "pt.pp.dsb(adata_sc08_db, adata_sc08_db_raw, empty_counts_range=(1.0, 2.2), isotype_controls=isotypes, random_state=1)\n",
    "pt.pp.dsb(adata_sc08_dp, adata_sc08_dp_raw, empty_counts_range=(1.0, 2.2), isotype_controls=isotypes, random_state=1)\n",
    "\n",
    "pt.pp.dsb(adata_sc09_db, adata_sc09_db_raw, empty_counts_range=(1.0, 2.2), isotype_controls=isotypes, random_state=1)\n",
    "pt.pp.dsb(adata_sc09_dp, adata_sc09_dp_raw, empty_counts_range=(1.0, 2.2), isotype_controls=isotypes, random_state=1)\n",
    "\n",
    "pt.pp.dsb(adata_sc13_db, adata_sc13_db_raw, empty_counts_range=(0.8, 2.2), isotype_controls=isotypes, random_state=1)\n",
    "pt.pp.dsb(adata_sc13_dp, adata_sc13_dp_raw, empty_counts_range=(0.8, 2.2), isotype_controls=isotypes, random_state=1)\n",
    "\n",
    "pt.pp.dsb(adata_sc15_db, adata_sc15_db_raw, empty_counts_range=(1.0, 2.2), isotype_controls=isotypes, random_state=1)\n",
    "pt.pp.dsb(adata_sc15_dp, adata_sc15_dp_raw, empty_counts_range=(1.0, 2.2), isotype_controls=isotypes, random_state=1)\n",
    "\n",
    "pt.pp.dsb(adata_sc16_db, adata_sc16_db_raw, empty_counts_range=(1.0, 2.2), isotype_controls=isotypes, random_state=1)\n",
    "pt.pp.dsb(adata_sc16_dp, adata_sc16_dp_raw, empty_counts_range=(0.8, 2.2), isotype_controls=isotypes, random_state=1)"
   ]
  },
  {
   "cell_type": "code",
   "execution_count": null,
   "id": "1f39cd8d",
   "metadata": {},
   "outputs": [],
   "source": [
    "adata_sc01_db_prot = adata_sc01_db.mod['prot']\n",
    "adata_sc01_dp_prot = adata_sc01_dp.mod['prot']\n",
    "\n",
    "adata_sc02_db_prot = adata_sc02_db.mod['prot']\n",
    "adata_sc02_dp_prot = adata_sc02_dp.mod['prot']\n",
    "adata_sc08_db_prot = adata_sc08_db.mod['prot']\n",
    "adata_sc08_dp_prot = adata_sc08_dp.mod['prot']\n",
    "adata_sc09_db_prot = adata_sc09_db.mod['prot']\n",
    "adata_sc09_dp_prot = adata_sc09_dp.mod['prot']\n",
    "\n",
    "adata_sc13_db_prot = adata_sc13_db.mod['prot']\n",
    "adata_sc13_dp_prot = adata_sc13_dp.mod['prot']\n",
    "adata_sc15_db_prot = adata_sc15_db.mod['prot']\n",
    "adata_sc15_dp_prot = adata_sc15_dp.mod['prot']\n",
    "adata_sc16_db_prot = adata_sc16_db.mod['prot']\n",
    "adata_sc16_dp_prot = adata_sc16_dp.mod['prot']"
   ]
  },
  {
   "cell_type": "code",
   "execution_count": null,
   "id": "4c293456",
   "metadata": {},
   "outputs": [],
   "source": [
    "adata_sc01_db_prot.obs[\"donor_id\"]=\"sc01\"\n",
    "adata_sc01_dp_prot.obs[\"donor_id\"]=\"sc01\"\n",
    "adata_sc02_db_prot.obs[\"donor_id\"]=\"sc02\"\n",
    "adata_sc02_dp_prot.obs[\"donor_id\"]=\"sc02\"\n",
    "adata_sc08_db_prot.obs[\"donor_id\"]=\"sc08\"\n",
    "adata_sc08_dp_prot.obs[\"donor_id\"]=\"sc08\"\n",
    "adata_sc09_db_prot.obs[\"donor_id\"]=\"sc09\"\n",
    "adata_sc09_dp_prot.obs[\"donor_id\"]=\"sc09\"\n",
    "adata_sc13_db_prot.obs[\"donor_id\"]=\"sc13\"\n",
    "adata_sc13_dp_prot.obs[\"donor_id\"]=\"sc13\"\n",
    "adata_sc15_db_prot.obs[\"donor_id\"]=\"sc15\"\n",
    "adata_sc15_dp_prot.obs[\"donor_id\"]=\"sc15\"\n",
    "adata_sc16_db_prot.obs[\"donor_id\"]=\"sc16\"\n",
    "adata_sc16_dp_prot.obs[\"donor_id\"]=\"sc16\"\n",
    "\n",
    "\n",
    "adata_sc01_db_prot.obs[\"sample_id\"]=\"sc01db\"\n",
    "adata_sc01_dp_prot.obs[\"sample_id\"]=\"sc01dp\"\n",
    "adata_sc02_db_prot.obs[\"sample_id\"]=\"sc02db\"\n",
    "adata_sc02_dp_prot.obs[\"sample_id\"]=\"sc02dp\"\n",
    "adata_sc08_db_prot.obs[\"sample_id\"]=\"sc08db\"\n",
    "adata_sc08_dp_prot.obs[\"sample_id\"]=\"sc08dp\"\n",
    "adata_sc09_db_prot.obs[\"sample_id\"]=\"sc09db\"\n",
    "adata_sc09_dp_prot.obs[\"sample_id\"]=\"sc09dp\"\n",
    "adata_sc13_db_prot.obs[\"sample_id\"]=\"sc13db\"\n",
    "adata_sc13_dp_prot.obs[\"sample_id\"]=\"sc13dp\"\n",
    "adata_sc15_db_prot.obs[\"sample_id\"]=\"sc15db\"\n",
    "adata_sc15_dp_prot.obs[\"sample_id\"]=\"sc15dp\"\n",
    "adata_sc16_db_prot.obs[\"sample_id\"]=\"sc16db\"\n",
    "adata_sc16_dp_prot.obs[\"sample_id\"]=\"sc16dp\"\n",
    "\n",
    "adata_sc01_db_prot.obs[\"tissue\"]=\"basalis\"\n",
    "adata_sc01_dp_prot.obs[\"tissue\"]=\"parietalis\"\n",
    "adata_sc02_db_prot.obs[\"tissue\"]=\"basalis\"\n",
    "adata_sc02_dp_prot.obs[\"tissue\"]=\"parietalis\"\n",
    "adata_sc08_db_prot.obs[\"tissue\"]=\"basalis\"\n",
    "adata_sc08_dp_prot.obs[\"tissue\"]=\"parietalis\"\n",
    "adata_sc09_db_prot.obs[\"tissue\"]=\"basalis\"\n",
    "adata_sc09_dp_prot.obs[\"tissue\"]=\"parietalis\"\n",
    "adata_sc13_db_prot.obs[\"tissue\"]=\"basalis\"\n",
    "adata_sc13_dp_prot.obs[\"tissue\"]=\"parietalis\"\n",
    "adata_sc15_db_prot.obs[\"tissue\"]=\"basalis\"\n",
    "adata_sc15_dp_prot.obs[\"tissue\"]=\"parietalis\"\n",
    "adata_sc16_db_prot.obs[\"tissue\"]=\"basalis\"\n",
    "adata_sc16_dp_prot.obs[\"tissue\"]=\"parietalis\""
   ]
  },
  {
   "cell_type": "code",
   "execution_count": null,
   "id": "d1e26141",
   "metadata": {
    "scrolled": true
   },
   "outputs": [],
   "source": [
    "adata_prot=adata_sc02_db_prot.concatenate(adata_sc02_dp_prot, adata_sc08_db_prot, adata_sc08_dp_prot, adata_sc09_db_prot, adata_sc09_dp_prot,\n",
    "                                         adata_sc13_db_prot, adata_sc13_dp_prot, adata_sc15_db_prot, adata_sc15_dp_prot,\n",
    "                                         adata_sc16_db_prot, adata_sc16_dp_prot, adata_sc01_db_prot, adata_sc01_dp_prot)"
   ]
  },
  {
   "cell_type": "markdown",
   "id": "f0e47145",
   "metadata": {},
   "source": [
    "# RNA analysis"
   ]
  },
  {
   "cell_type": "code",
   "execution_count": null,
   "id": "882b279c",
   "metadata": {},
   "outputs": [],
   "source": [
    "adata_sc01_db_rna = adata_sc01_db.mod['rna']\n",
    "adata_sc01_dp_rna = adata_sc01_dp.mod['rna']\n",
    "\n",
    "adata_sc02_db_rna = adata_sc02_db.mod['rna']\n",
    "adata_sc02_dp_rna = adata_sc02_dp.mod['rna']\n",
    "adata_sc08_db_rna = adata_sc08_db.mod['rna']\n",
    "adata_sc08_dp_rna = adata_sc08_dp.mod['rna']\n",
    "adata_sc09_db_rna = adata_sc09_db.mod['rna']\n",
    "adata_sc09_dp_rna = adata_sc09_dp.mod['rna']\n",
    "\n",
    "adata_sc13_db_rna = adata_sc13_db.mod['rna']\n",
    "adata_sc13_dp_rna = adata_sc13_dp.mod['rna']\n",
    "adata_sc15_db_rna = adata_sc15_db.mod['rna']\n",
    "adata_sc15_dp_rna = adata_sc15_dp.mod['rna']\n",
    "adata_sc16_db_rna = adata_sc16_db.mod['rna']\n",
    "adata_sc16_dp_rna = adata_sc16_dp.mod['rna']"
   ]
  },
  {
   "cell_type": "code",
   "execution_count": null,
   "id": "4bdc9d4b",
   "metadata": {},
   "outputs": [],
   "source": [
    "adata_sc01_db_rna.obs[\"donor_id\"]=\"sc01\"\n",
    "adata_sc01_dp_rna.obs[\"donor_id\"]=\"sc01\"\n",
    "adata_sc02_db_rna.obs[\"donor_id\"]=\"sc02\"\n",
    "adata_sc02_dp_rna.obs[\"donor_id\"]=\"sc02\"\n",
    "adata_sc08_db_rna.obs[\"donor_id\"]=\"sc08\"\n",
    "adata_sc08_dp_rna.obs[\"donor_id\"]=\"sc08\"\n",
    "adata_sc09_db_rna.obs[\"donor_id\"]=\"sc09\"\n",
    "adata_sc09_dp_rna.obs[\"donor_id\"]=\"sc09\"\n",
    "adata_sc13_db_rna.obs[\"donor_id\"]=\"sc13\"\n",
    "adata_sc13_dp_rna.obs[\"donor_id\"]=\"sc13\"\n",
    "adata_sc15_db_rna.obs[\"donor_id\"]=\"sc15\"\n",
    "adata_sc15_dp_rna.obs[\"donor_id\"]=\"sc15\"\n",
    "adata_sc16_db_rna.obs[\"donor_id\"]=\"sc16\"\n",
    "adata_sc16_dp_rna.obs[\"donor_id\"]=\"sc16\"\n",
    "\n",
    "adata_sc01_db_rna.obs[\"sample_id\"]=\"sc01db\"\n",
    "adata_sc01_dp_rna.obs[\"sample_id\"]=\"sc01dp\"\n",
    "adata_sc02_db_rna.obs[\"sample_id\"]=\"sc02db\"\n",
    "adata_sc02_dp_rna.obs[\"sample_id\"]=\"sc02dp\"\n",
    "adata_sc08_db_rna.obs[\"sample_id\"]=\"sc08db\"\n",
    "adata_sc08_dp_rna.obs[\"sample_id\"]=\"sc08dp\"\n",
    "adata_sc09_db_rna.obs[\"sample_id\"]=\"sc09db\"\n",
    "adata_sc09_dp_rna.obs[\"sample_id\"]=\"sc09dp\"\n",
    "adata_sc13_db_rna.obs[\"sample_id\"]=\"sc13db\"\n",
    "adata_sc13_dp_rna.obs[\"sample_id\"]=\"sc13dp\"\n",
    "adata_sc15_db_rna.obs[\"sample_id\"]=\"sc15db\"\n",
    "adata_sc15_dp_rna.obs[\"sample_id\"]=\"sc15dp\"\n",
    "adata_sc16_db_rna.obs[\"sample_id\"]=\"sc16db\"\n",
    "adata_sc16_dp_rna.obs[\"sample_id\"]=\"sc16dp\"\n",
    "\n",
    "adata_sc01_db_rna.obs[\"tissue\"]=\"basalis\"\n",
    "adata_sc01_dp_rna.obs[\"tissue\"]=\"parietalis\"\n",
    "adata_sc02_db_rna.obs[\"tissue\"]=\"basalis\"\n",
    "adata_sc02_dp_rna.obs[\"tissue\"]=\"parietalis\"\n",
    "adata_sc08_db_rna.obs[\"tissue\"]=\"basalis\"\n",
    "adata_sc08_dp_rna.obs[\"tissue\"]=\"parietalis\"\n",
    "adata_sc09_db_rna.obs[\"tissue\"]=\"basalis\"\n",
    "adata_sc09_dp_rna.obs[\"tissue\"]=\"parietalis\"\n",
    "adata_sc13_db_rna.obs[\"tissue\"]=\"basalis\"\n",
    "adata_sc13_dp_rna.obs[\"tissue\"]=\"parietalis\"\n",
    "adata_sc15_db_rna.obs[\"tissue\"]=\"basalis\"\n",
    "adata_sc15_dp_rna.obs[\"tissue\"]=\"parietalis\"\n",
    "adata_sc16_db_rna.obs[\"tissue\"]=\"basalis\"\n",
    "adata_sc16_dp_rna.obs[\"tissue\"]=\"parietalis\""
   ]
  },
  {
   "cell_type": "code",
   "execution_count": null,
   "id": "5035637c",
   "metadata": {
    "scrolled": true
   },
   "outputs": [],
   "source": [
    "adata_rna=adata_sc02_db_rna.concatenate(adata_sc02_dp_rna, adata_sc08_db_rna, adata_sc08_dp_rna, adata_sc09_db_rna, adata_sc09_dp_rna,\n",
    "                                         adata_sc13_db_rna, adata_sc13_dp_rna, adata_sc15_db_rna, adata_sc15_dp_rna,\n",
    "                                         adata_sc16_db_rna, adata_sc16_dp_rna, adata_sc01_db_rna, adata_sc01_dp_rna)"
   ]
  },
  {
   "cell_type": "code",
   "execution_count": null,
   "id": "83ca3f8a",
   "metadata": {},
   "outputs": [],
   "source": [
    "adata_rna.var['mt'] = adata_rna.var_names.str.startswith('MT-')  # annotate the group of mitochondrial genes as 'mt'\n",
    "sc.pp.calculate_qc_metrics(adata_rna, qc_vars=['mt'], percent_top=None, log1p=False, inplace=True)"
   ]
  },
  {
   "cell_type": "code",
   "execution_count": null,
   "id": "f653a4fa",
   "metadata": {
    "scrolled": true
   },
   "outputs": [],
   "source": [
    "sc.pl.violin(adata_rna, ['n_genes_by_counts', 'total_counts', 'pct_counts_mt'],\n",
    "             jitter=0.4, multi_panel=True,size=0)"
   ]
  },
  {
   "cell_type": "code",
   "execution_count": null,
   "id": "8a4546d3",
   "metadata": {},
   "outputs": [],
   "source": [
    "mu.pp.filter_var(adata_rna, 'n_cells_by_counts', lambda x: x >= 3)\n",
    "mu.pp.filter_obs(adata_rna, 'n_genes_by_counts', lambda x: (x >= 200) & (x < 8000))\n",
    "mu.pp.filter_obs(adata_rna, 'total_counts', lambda x: (x > 1500) & (x < 40000))\n",
    "mu.pp.filter_obs(adata_rna, 'pct_counts_mt', lambda x: x < 20)"
   ]
  },
  {
   "cell_type": "code",
   "execution_count": null,
   "id": "0970cb28",
   "metadata": {},
   "outputs": [],
   "source": [
    "adata_rna.layers[\"counts\"]=adata_rna.X.copy()"
   ]
  },
  {
   "cell_type": "code",
   "execution_count": null,
   "id": "e6e7d734",
   "metadata": {},
   "outputs": [],
   "source": [
    "adata_rna"
   ]
  },
  {
   "cell_type": "code",
   "execution_count": null,
   "id": "ebe5411c",
   "metadata": {},
   "outputs": [],
   "source": [
    "adata_prot"
   ]
  },
  {
   "cell_type": "code",
   "execution_count": null,
   "id": "5c686fe3",
   "metadata": {
    "scrolled": true
   },
   "outputs": [],
   "source": [
    "mdata = MuData({\"rna\": adata_rna, \"prot\": adata_prot})\n",
    "mdata"
   ]
  },
  {
   "cell_type": "code",
   "execution_count": null,
   "id": "fc7d7b31",
   "metadata": {},
   "outputs": [],
   "source": [
    "mu.pp.intersect_obs(mdata)"
   ]
  },
  {
   "cell_type": "code",
   "execution_count": null,
   "id": "7711e2df",
   "metadata": {
    "scrolled": true
   },
   "outputs": [],
   "source": [
    "mdata.write(\"./citeseq_mdata_allsamples_filtered.h5mu\")"
   ]
  }
 ],
 "metadata": {
  "kernelspec": {
   "display_name": "Python 3 (ipykernel)",
   "language": "python",
   "name": "python3"
  },
  "language_info": {
   "codemirror_mode": {
    "name": "ipython",
    "version": 3
   },
   "file_extension": ".py",
   "mimetype": "text/x-python",
   "name": "python",
   "nbconvert_exporter": "python",
   "pygments_lexer": "ipython3",
   "version": "3.10.10"
  }
 },
 "nbformat": 4,
 "nbformat_minor": 5
}
