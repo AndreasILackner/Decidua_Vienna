{
 "cells": [
  {
   "cell_type": "code",
   "execution_count": null,
   "id": "115b04ce",
   "metadata": {
    "scrolled": true
   },
   "outputs": [],
   "source": [
    "import numpy as np\n",
    "import pandas as pd\n",
    "import scanpy as sc\n",
    "#from muon import prot as pt\n",
    "import matplotlib.pyplot as plt\n",
    "\n",
    "from matplotlib import colors\n",
    "%matplotlib inline\n",
    "\n",
    "from typing import Optional, Literal\n",
    "\n",
    "import muon as mu\n",
    "\n",
    "import decoupler as dc\n",
    "import seaborn as sns\n",
    "\n",
    "from pydeseq2.dds import DeseqDataSet\n",
    "from pydeseq2.ds import DeseqStats"
   ]
  },
  {
   "cell_type": "code",
   "execution_count": null,
   "id": "a5fd26ed",
   "metadata": {},
   "outputs": [],
   "source": [
    "# load citeseq data\n",
    "mdata = mu.read(\"./citeseq_mdata_allsamples_filtered_fine_clustering.h5mu\")"
   ]
  },
  {
   "cell_type": "code",
   "execution_count": null,
   "id": "60960191",
   "metadata": {},
   "outputs": [],
   "source": [
    "gd_mapping = {\n",
    "    'sc01': 62,\n",
    "    'sc02': 64,\n",
    "    'sc08': 51,\n",
    "    'sc09': 55,\n",
    "    'sc13': 50,\n",
    "    'sc15': 48,\n",
    "    'sc16': 48\n",
    "}\n",
    "\n",
    "mdata.obs['gest_day'] = mdata.obs['donor_id'].map(gd_mapping)\n",
    "sex_mapping = {\n",
    "    'sc01': 'male',\n",
    "    'sc02': 'female',\n",
    "    'sc08': 'male',\n",
    "    'sc09': 'male',\n",
    "    'sc13': 'female',\n",
    "    'sc15': 'female',\n",
    "    'sc16': 'female'\n",
    "}\n",
    "\n",
    "mdata.obs['fetal_sex'] = mdata.obs['donor_id'].map(sex_mapping)\n",
    "sex_mapping = {\n",
    "    'sc01': 'primi',\n",
    "    'sc02': 'multi',\n",
    "    'sc08': 'primi',\n",
    "    'sc09': 'primi',\n",
    "    'sc13': 'primi',\n",
    "    'sc15': 'primi',\n",
    "    'sc16': 'primi'\n",
    "}\n",
    "\n",
    "mdata.obs['gravida'] = mdata.obs['donor_id'].map(sex_mapping)\n",
    "sex_mapping = {\n",
    "    'sc01': 31,\n",
    "    'sc02': 34,\n",
    "    'sc08': 26,\n",
    "    'sc09': 20,\n",
    "    'sc13': 22,\n",
    "    'sc15': 22,\n",
    "    'sc16': 27\n",
    "}\n",
    "\n",
    "mdata.obs['mat_age'] = mdata.obs['donor_id'].map(sex_mapping)"
   ]
  },
  {
   "cell_type": "markdown",
   "id": "e16c14ce",
   "metadata": {},
   "source": [
    "### prepare annotation for plotting"
   ]
  },
  {
   "cell_type": "code",
   "execution_count": null,
   "id": "b0e96058",
   "metadata": {},
   "outputs": [],
   "source": [
    "mdata.obs['celltype_lores'] = mdata.obs['celltype_lores'].replace({'FIB': 'Fib', 'MURAL': 'Mur','Tcell':'T cell',\n",
    "                                                                   'MAST':'Mast','EpiCell':'Epi','TROPHO':'TB',\n",
    "                                                                  'ENDO':'Endo','BCell':'B cell','MAC':'Mac',\n",
    "                                                                  'PLASMA':'Plasma','Lymphatic':'LEC'})"
   ]
  },
  {
   "cell_type": "code",
   "execution_count": null,
   "id": "2cd02aa0",
   "metadata": {},
   "outputs": [],
   "source": [
    "mdata.obs['celltype_hires'] = mdata.obs['celltype_hires'].replace({'MAC_prol':'pMac','monoMAC':'Mono',\n",
    "                                                                  'Mono_CD16+':'CD16+ Mono',\n",
    "                                                                  'decFIB':'decFib','NK_CD39-':'CD39- NK',\n",
    "                                                                  'NK_CD39-CD103+':'CD39-CD103+ NK',\n",
    "                                                                  'NK_CD39+':'CD39+ NK','NK_prol':'pNK'})"
   ]
  },
  {
   "cell_type": "markdown",
   "id": "ead8f086",
   "metadata": {},
   "source": [
    "### apply color to celltype_lores"
   ]
  },
  {
   "cell_type": "code",
   "execution_count": null,
   "id": "d3bd554a",
   "metadata": {},
   "outputs": [],
   "source": [
    "color_dict = {\n",
    "    \"B cell\": \"#8A8DBE\",  \n",
    "    \"DC\": \"#8E033D\",  \n",
    "    \"Endo\": \"#FFDF22\",\n",
    "    'Epi':'#A32392',\n",
    "    'Fib':'#335AF2',\n",
    "    'Mast':'#85BDC1',\n",
    "    'LEC':'#9FC13E',\n",
    "    'Mac':'#EF9203',\n",
    "    'Mur':'#19E6FF',\n",
    "    'NK':'#06C945',\n",
    "    'ILC':'#ec3c94',\n",
    "    'Plasma':'#6a29ca',\n",
    "    'T cell':'#784902',\n",
    "    'TB':'#DB231A'\n",
    "}"
   ]
  },
  {
   "cell_type": "markdown",
   "id": "9bd96225",
   "metadata": {},
   "source": [
    "## Figure 2A - UMAP with low resolution clusters"
   ]
  },
  {
   "cell_type": "code",
   "execution_count": null,
   "id": "743182b7",
   "metadata": {},
   "outputs": [],
   "source": [
    "color_dict = {\n",
    "    \"B cell\": \"#8A8DBE\",  \n",
    "    \"DC\": \"#8E033D\",  \n",
    "    \"TB\": \"#FFDF22\",\n",
    "    'Epi':'#A32392',\n",
    "    'Fib':'#335AF2',\n",
    "    'Mast':'#85BDC1',\n",
    "    'LEC':'#9FC13E',\n",
    "    'Mac':'#EF9203',\n",
    "    'Mur':'#19E6FF',\n",
    "    'NK':'#06C945',\n",
    "    'ILC':'#ec3c94',\n",
    "    'Plasma':'#6a29ca',\n",
    "    'T cell':'#784902',\n",
    "    'Endo':'#DB231A'\n",
    "}"
   ]
  },
  {
   "cell_type": "code",
   "execution_count": null,
   "id": "9a254f09",
   "metadata": {
    "scrolled": true
   },
   "outputs": [],
   "source": [
    "sc.set_figure_params(figsize=(3.5, 3.5), fontsize=8, vector_friendly=True, transparent=True, dpi_save=450)\n",
    "sc.pl.umap(mdata, color=[\"celltype_lores\"], frameon=False, legend_loc='on data',\n",
    "           title=None, size=8, palette=color_dict, alpha=0.8\n",
    "           ,save='20250430_Fig1b-UMAP-celltype-lores.pdf'\n",
    "          )"
   ]
  },
  {
   "cell_type": "code",
   "execution_count": null,
   "id": "d84c6b1f",
   "metadata": {},
   "outputs": [],
   "source": [
    "sc.set_figure_params(figsize=(3.5, 3.5), fontsize=8, vector_friendly=True, transparent=True, dpi_save=450)\n",
    "sc.pl.umap(mdata, color=[\"tissue\"], frameon=False, legend_loc='on data',\n",
    "           title=None, size=8, palette={\"basalis\":\"#800000\",'parietalis':'#005f87'}, alpha=0.8\n",
    "           ,save='20250430_Fig1b-UMAP-tissue.pdf'\n",
    "          )"
   ]
  },
  {
   "cell_type": "code",
   "execution_count": null,
   "id": "f3e88593",
   "metadata": {},
   "outputs": [],
   "source": [
    "sc.set_figure_params(figsize=(3.5, 3.5), fontsize=8, vector_friendly=True, transparent=True, dpi_save=450)\n",
    "sc.pl.umap(mdata, color=[\"tissue\"], frameon=False, legend_loc='on data',\n",
    "           title=None, size=8, palette={\"basalis\":\"#800000\",'parietalis':'#005f87'}, alpha=0.25\n",
    "           ,save='20250430_Fig1b-UMAP-tissue_alpha.pdf'\n",
    "          )"
   ]
  },
  {
   "cell_type": "code",
   "execution_count": null,
   "id": "cc074780",
   "metadata": {
    "scrolled": true
   },
   "outputs": [],
   "source": [
    "sc.pl.umap(mdata, color=[\"celltype_hires\"], frameon=False, legend_loc='on data',\n",
    "           title=None, size=8\n",
    "           #, palette=color_dict\n",
    "           , alpha=0.8\n",
    "           ,save='20250430_Fig1b-UMAP-celltype-hires.pdf'\n",
    "          )"
   ]
  },
  {
   "cell_type": "markdown",
   "id": "86134d36",
   "metadata": {},
   "source": [
    "## Extended Figure 1E"
   ]
  },
  {
   "cell_type": "code",
   "execution_count": null,
   "id": "9768534a",
   "metadata": {},
   "outputs": [],
   "source": [
    "sc.set_figure_params(figsize=(3.5, 3.5), fontsize=8, vector_friendly=False, transparent=False, dpi_save=450)\n",
    "sc.pl.violin(mdata[\"rna\"], ['n_genes_by_counts', 'total_counts', 'pct_counts_mt','pct_counts_ribo'],\n",
    "             jitter=0, groupby = 'sample_id', rotation = 45, size=0 ,save='20250430_ExtFig1-QC_CITE.pdf')"
   ]
  },
  {
   "cell_type": "markdown",
   "id": "a90adeb9",
   "metadata": {},
   "source": [
    "## Figure 2B - Top DEG (RNA) per low resolution cluster"
   ]
  },
  {
   "cell_type": "code",
   "execution_count": null,
   "id": "338a74b7",
   "metadata": {
    "scrolled": true
   },
   "outputs": [],
   "source": [
    "# generate DEG for lores clusters\n",
    "mdata[\"rna\"].uns['log1p'][\"base\"] = None\n",
    "mdata[\"rna\"].obs[\"celltype_lores\"]=mdata.obs[\"celltype_lores\"]\n",
    "sc.tl.rank_genes_groups(mdata[\"rna\"], 'celltype_lores', method='wilcoxon')\n",
    "result = mdata[\"rna\"].uns['rank_genes_groups']\n",
    "groups = result['names'].dtype.names\n",
    "pd.set_option('display.max_columns', 100)\n",
    "pd.DataFrame(\n",
    "    {group + '_' + key[:1]: result[key][group]\n",
    "    for group in groups for key in ['names']}).head(20)"
   ]
  },
  {
   "cell_type": "code",
   "execution_count": null,
   "id": "602c97a9",
   "metadata": {},
   "outputs": [],
   "source": [
    "# generate matrix plot for lores clusters\n",
    "sc.tl.dendrogram(mdata[\"rna\"], \"celltype_lores\")\n",
    "\n",
    "sc.set_figure_params(\n",
    "    #figsize=(9, 2.5), \n",
    "    fontsize=8, vector_friendly=True, transparent=True)\n",
    "\n",
    "sc.pl.rank_genes_groups_matrixplot(mdata[\"rna\"], groupby=\"celltype_lores\", n_genes=5, standard_scale='var',\n",
    "                                  swap_axes=False\n",
    "                                   ,save=\"Fig1c-matrixplot-all-top5-rna.pdf\"\n",
    "                                   ,cmap='Blues'\n",
    "                                  #, figsize=(11,2)\n",
    "                                  )"
   ]
  },
  {
   "cell_type": "code",
   "execution_count": null,
   "id": "2b3f292c",
   "metadata": {},
   "outputs": [],
   "source": [
    "# generate matrix plot for lores clusters\n",
    "sc.tl.dendrogram(mdata[\"rna\"], \"celltype_lores\")\n",
    "\n",
    "sc.set_figure_params(\n",
    "    #figsize=(9, 2.5), \n",
    "    fontsize=8, vector_friendly=True, transparent=True)\n",
    "\n",
    "sc.pl.rank_genes_groups_matrixplot(mdata[\"rna\"], groupby=\"celltype_lores\", n_genes=3, standard_scale='var',\n",
    "                                  swap_axes=False\n",
    "                                   ,save=\"Fig1c-matrixplot-all-top3-rna.pdf\"\n",
    "                                   ,cmap='Blues'\n",
    "                                  #, figsize=(11,2)\n",
    "                                  )"
   ]
  },
  {
   "cell_type": "markdown",
   "id": "2f817994",
   "metadata": {},
   "source": [
    "## Figure 2C - Top DEG (Prot) per low resolution immune cell cluster"
   ]
  },
  {
   "cell_type": "code",
   "execution_count": null,
   "id": "35b5c410",
   "metadata": {},
   "outputs": [],
   "source": [
    "mdata_subset = mdata[mdata.obs['celltype_lores'].isin(['Mac','B cell','Plasma','Mast','NK','ILC','T cell','DC']),:]"
   ]
  },
  {
   "cell_type": "code",
   "execution_count": null,
   "id": "5931feaf",
   "metadata": {},
   "outputs": [],
   "source": [
    "# generate DEG for lores clusters (prot)\n",
    "mdata_subset[\"prot\"].obs[\"celltype_lores\"]=mdata_subset.obs[\"celltype_lores\"]\n",
    "mdata_subset[\"prot\"].obs['celltype_lores'] = mdata_subset[\"prot\"].obs['celltype_lores'].cat.remove_unused_categories()\n",
    "sc.tl.rank_genes_groups(mdata_subset[\"prot\"], 'celltype_lores', method='wilcoxon')\n",
    "result = mdata_subset[\"prot\"].uns['rank_genes_groups']\n",
    "groups = result['names'].dtype.names\n",
    "pd.set_option('display.max_columns', 100)\n",
    "pd.DataFrame(\n",
    "    {group + '_' + key[:1]: result[key][group]\n",
    "    for group in groups for key in ['names']}).head(20)"
   ]
  },
  {
   "cell_type": "code",
   "execution_count": null,
   "id": "a56d3412",
   "metadata": {},
   "outputs": [],
   "source": [
    "# generate matrix plot for lores clusters\n",
    "sc.tl.dendrogram(mdata_subset[\"prot\"], \"celltype_lores\")\n",
    "\n",
    "sc.set_figure_params(\n",
    "    #figsize=(6, 2), \n",
    "    fontsize=15, vector_friendly=True, transparent=True)\n",
    "\n",
    "sc.pl.rank_genes_groups_matrixplot(mdata_subset[\"prot\"], groupby=\"celltype_lores\", n_genes=5, standard_scale='var',\n",
    "                                  swap_axes=False\n",
    "                                   , save=\"Fig1d-matrixplot-all-top5-prot.pdf\"\n",
    "                                   ,cmap='Greens')"
   ]
  },
  {
   "cell_type": "code",
   "execution_count": null,
   "id": "4fb8bc06",
   "metadata": {},
   "outputs": [],
   "source": [
    "# generate matrix plot for lores clusters\n",
    "sc.tl.dendrogram(mdata_subset[\"prot\"], \"celltype_lores\")\n",
    "\n",
    "sc.set_figure_params(\n",
    "    #figsize=(6, 2), \n",
    "    fontsize=15, vector_friendly=True, transparent=True)\n",
    "\n",
    "sc.pl.rank_genes_groups_matrixplot(mdata_subset[\"prot\"], groupby=\"celltype_lores\", n_genes=3, standard_scale='var',\n",
    "                                  swap_axes=False\n",
    "                                   , save=\"Fig1d-matrixplot-all-top3-prot.pdf\"\n",
    "                                   ,cmap='Greens')"
   ]
  },
  {
   "cell_type": "markdown",
   "id": "8b3f245a",
   "metadata": {},
   "source": [
    "# Figure 3 - Macrophages"
   ]
  },
  {
   "cell_type": "code",
   "execution_count": null,
   "id": "29c8ebcd",
   "metadata": {},
   "outputs": [],
   "source": [
    "mdata_raw = mu.read(\"./citeseq_mdata_allsamples_filtered.h5mu\")\n",
    "adata = mdata_raw['rna']"
   ]
  },
  {
   "cell_type": "code",
   "execution_count": null,
   "id": "05af56be",
   "metadata": {},
   "outputs": [],
   "source": [
    "# transfer .obs column\n",
    "adata.obs = mdata.obs"
   ]
  },
  {
   "cell_type": "code",
   "execution_count": null,
   "id": "06747e98",
   "metadata": {},
   "outputs": [],
   "source": [
    "# store raw data\n",
    "adata.layers[\"counts\"] = adata.X"
   ]
  },
  {
   "cell_type": "code",
   "execution_count": null,
   "id": "ca99ff23",
   "metadata": {},
   "outputs": [],
   "source": [
    "# remove trophoblast since they are decB specific\n",
    "adata = adata[adata.obs['celltype_lores'] != 'TB'].copy()"
   ]
  },
  {
   "cell_type": "code",
   "execution_count": null,
   "id": "89d35206",
   "metadata": {},
   "outputs": [],
   "source": [
    "# get filtered pseudobulk\n",
    "pdata = dc.pp.pseudobulk(adata,\n",
    "                          sample_col='rna:sample_id',\n",
    "                          groups_col='celltype_lores',\n",
    "                          layer='counts',\n",
    "                          mode='sum'\n",
    "                         )"
   ]
  },
  {
   "cell_type": "code",
   "execution_count": null,
   "id": "4955b4b2",
   "metadata": {
    "scrolled": true
   },
   "outputs": [],
   "source": [
    "dc.pl.filter_samples(\n",
    "    adata=pdata,\n",
    "    groupby=[\"tissue\", \"rna:sample_id\", \"rna:donor_id\"],\n",
    "    min_cells=10,\n",
    "    min_counts=1000,\n",
    "    figsize=(5, 8),\n",
    ")"
   ]
  },
  {
   "cell_type": "code",
   "execution_count": null,
   "id": "3018e916",
   "metadata": {},
   "outputs": [],
   "source": [
    "dc.pp.filter_samples(pdata, min_cells=10, min_counts=1000)"
   ]
  },
  {
   "cell_type": "code",
   "execution_count": null,
   "id": "58e8eb2c",
   "metadata": {},
   "outputs": [],
   "source": [
    "dc.pl.obsbar(adata=pdata, y=\"celltype_lores\", hue=\"tissue\", figsize=(6, 3))"
   ]
  },
  {
   "cell_type": "code",
   "execution_count": null,
   "id": "1c729f02",
   "metadata": {},
   "outputs": [],
   "source": [
    "# Store raw counts in layers\n",
    "pdata.layers[\"counts\"] = pdata.X.copy()\n",
    "\n",
    "# Normalize, scale and compute pca\n",
    "sc.pp.normalize_total(pdata, target_sum=1e4)\n",
    "sc.pp.log1p(pdata)\n",
    "sc.pp.scale(pdata, max_value=10)\n",
    "sc.tl.pca(pdata)\n",
    "\n",
    "# Return raw counts to X\n",
    "dc.pp.swap_layer(adata=pdata, key=\"counts\", inplace=True)"
   ]
  },
  {
   "cell_type": "code",
   "execution_count": null,
   "id": "5b8e0b1e",
   "metadata": {},
   "outputs": [],
   "source": [
    "sc.pl.pca_variance_ratio(pdata)"
   ]
  },
  {
   "cell_type": "code",
   "execution_count": null,
   "id": "97a23c81",
   "metadata": {
    "scrolled": true
   },
   "outputs": [],
   "source": [
    "sc.pl.pca(\n",
    "    pdata,\n",
    "    color=[\"tissue\",\"rna:donor_id\",\"celltype_lores\"],\n",
    "    ncols=1,\n",
    "    size=300,\n",
    "    frameon=True,\n",
    ")"
   ]
  },
  {
   "cell_type": "code",
   "execution_count": null,
   "id": "7b295204",
   "metadata": {
    "scrolled": true
   },
   "outputs": [],
   "source": [
    "# initialize list\n",
    "results_list = []\n",
    "results_dict = {}\n",
    "\n",
    "# extract unique celltypes\n",
    "unique_cell_types = pdata.obs['celltype_lores'].unique()\n",
    "\n",
    "# create loop for each celltype\n",
    "for cell_type in unique_cell_types:\n",
    "    selected_cell_types = [cell_type]\n",
    "    cells_subset = pdata[pdata.obs['celltype_lores'].isin(selected_cell_types)].copy()\n",
    "\n",
    "    # get genes above threshold\n",
    "    dc.pp.filter_by_expr(cells_subset, group='tissue', min_count=1, min_total_count=1, min_prop=0)\n",
    "    #dc.pp.filter_by_prop(cells_subset, min_prop=0.05, min_smpls=3, inplace=True)\n",
    "    \n",
    "    dc.pl.filter_by_expr(\n",
    "        adata=cells_subset,\n",
    "        group=\"tissue\",\n",
    "        min_count=10,\n",
    "        min_total_count=100,\n",
    "        #large_n=10,\n",
    "        min_prop=0,\n",
    "        )\n",
    "\n",
    "\n",
    "    # create Deseq object\n",
    "    dds = DeseqDataSet(\n",
    "        adata=cells_subset,\n",
    "        design_factors=['rna:donor_id','rna:tissue'],\n",
    "        refit_cooks=True\n",
    "    )\n",
    "\n",
    "    # compute lfc\n",
    "    dds.deseq2()\n",
    "\n",
    "    # get contrast\n",
    "    stat_res = DeseqStats(\n",
    "        dds,\n",
    "        contrast=[\"rna:tissue\", 'basalis', 'parietalis']\n",
    "    )\n",
    "\n",
    "    # compute wald test\n",
    "    stat_res.summary()\n",
    "\n",
    "    # get results\n",
    "    results_df = stat_res.results_df\n",
    "    \n",
    "    results_dict[cell_type] = results_df\n",
    "\n",
    "    # save the entire results DataFrame for each cell type with the cell type in the file name\n",
    "    results_df.to_csv(f'./final_results_{cell_type}_pseudobulk_deg.csv')\n",
    "\n",
    "    dc.pl.volcano(\n",
    "    results_df,\n",
    "    x='log2FoldChange',\n",
    "    y='padj',\n",
    "    top=50,\n",
    "    figsize=(10, 10),\n",
    "    save=f'./final_volcanoplot_{cell_type}_pseudobulk_deg.svg',\n",
    "    return_fig=True)\n",
    "    \n",
    "    \n",
    "    # filter for genes with padj less than 0.05\n",
    "    significant_genes = results_df[results_df['padj'] < 0.05]\n",
    "\n",
    "    # get upregulated and downregulated genes\n",
    "    upregulated_genes = significant_genes[significant_genes['log2FoldChange'] > 0.5]\n",
    "    downregulated_genes = significant_genes[significant_genes['log2FoldChange'] < -0.5]\n",
    "\n",
    "    # count upregulated and downregulated genes\n",
    "    num_upregulated = upregulated_genes.shape[0]\n",
    "    num_downregulated = downregulated_genes.shape[0]\n",
    "\n",
    "    # append to list\n",
    "    results_list.append({\n",
    "        'celltype': cell_type,\n",
    "        'num_upregulated': num_upregulated,\n",
    "        'num_downregulated': num_downregulated\n",
    "    })\n",
    "\n",
    "# convert list to df\n",
    "results_df_summary = pd.DataFrame(results_list)\n"
   ]
  },
  {
   "cell_type": "markdown",
   "id": "c4716aad",
   "metadata": {},
   "source": [
    "## Figure 3A"
   ]
  },
  {
   "cell_type": "code",
   "execution_count": null,
   "id": "13414e52",
   "metadata": {},
   "outputs": [],
   "source": [
    "results_df_summary['total_deg'] = results_df_summary['num_upregulated'] + results_df_summary['num_downregulated']\n",
    "\n",
    "results_df_sorted = results_df_summary.sort_values(by='total_deg', ascending=True)\n",
    "\n",
    "#create figure and axis\n",
    "fig, ax = plt.subplots(figsize=(4, 3))\n",
    "\n",
    "ax.grid(False)\n",
    "\n",
    "ax.spines['top'].set_visible(False)\n",
    "ax.spines['right'].set_visible(False)\n",
    "\n",
    "font_size = 10\n",
    "\n",
    "#plot number of upregulated genes\n",
    "bars_up = ax.barh(results_df_sorted['celltype'], results_df_sorted['num_upregulated'],\n",
    "                 color='#87001A')\n",
    "\n",
    "#plot number of downregulated genes as negative values\n",
    "bars_down = ax.barh(results_df_sorted['celltype'], -results_df_sorted['num_downregulated'],\n",
    "                   color='#005F87')\n",
    "\n",
    "#draw vertical line at x=0\n",
    "ax.axvline(0, color='grey', linewidth=0.8)\n",
    "\n",
    "ax.set_xlim(-2400, 2400)\n",
    "\n",
    "#add labels and title\n",
    "ax.set_xlabel('Number of DEG (DB vs. DP)', fontsize=font_size)\n",
    "\n",
    "#rotate y-axis labels if needed\n",
    "plt.yticks(rotation=0, fontsize=10)\n",
    "\n",
    "# Set x-axis ticks font size\n",
    "ax.tick_params(axis='x', labelsize=font_size)\n",
    "\n",
    "#add number of upregulated genes as labels\n",
    "for bar in bars_up:\n",
    "    xval = bar.get_width()\n",
    "    ax.text(xval, bar.get_y() + bar.get_height()/2, int(xval), ha='left', va='center', fontsize=10, color='black')\n",
    "\n",
    "#add number of downregulated genes as labels\n",
    "for bar in bars_down:\n",
    "    xval = bar.get_width()\n",
    "    ax.text(xval, bar.get_y() + bar.get_height()/2, int(abs(xval)), ha='right', va='center', fontsize=10, color='black')\n",
    "\n",
    "#save figure\n",
    "plt.savefig('./final_Fig2a-n_deg_per_celltypelores_2025-10.pdf')\n",
    "\n",
    "#plot\n",
    "plt.tight_layout()\n",
    "plt.show()"
   ]
  },
  {
   "cell_type": "markdown",
   "id": "a54a244f",
   "metadata": {},
   "source": [
    "## Figure 3B"
   ]
  },
  {
   "cell_type": "code",
   "execution_count": null,
   "id": "7547632f",
   "metadata": {},
   "outputs": [],
   "source": [
    "#isolate MACs\n",
    "mdata_subset = mdata[mdata.obs['celltype_hires'].isin([\"decBAM1\",\"decBAM2\",\"decPAM1\",\"pMac\",\n",
    "                                                      \"Mono\",\"decPAM2\",\"CD16+ Mono\"]),:]\n",
    "mdata_subset.obs['celltype_hires'] = mdata_subset.obs['celltype_hires'].cat.remove_unused_categories()"
   ]
  },
  {
   "cell_type": "code",
   "execution_count": null,
   "id": "4e845a94",
   "metadata": {},
   "outputs": [],
   "source": [
    "#change order of clusters\n",
    "cluster_order = [\"decPAM1\",\"decBAM1\",\"decBAM2\",'pMac','decPAM2','Mono','CD16+ Mono']\n",
    "\n",
    "mdata_subset.obs['celltype_hires'] = pd.Categorical(mdata_subset.obs['celltype_hires'],\n",
    "                                                        categories=cluster_order,\n",
    "                                                        ordered=True)\n",
    "\n",
    "mdata_subset = mdata_subset[mdata_subset.obs['celltype_hires'].sort_values().index]"
   ]
  },
  {
   "cell_type": "code",
   "execution_count": null,
   "id": "90472839",
   "metadata": {
    "scrolled": true
   },
   "outputs": [],
   "source": [
    "#calculate nearest neighbors for UMAP\n",
    "sc.pp.neighbors(mdata_subset['rna'], use_rep=\"X_harmony\")\n",
    "sc.pp.neighbors(mdata_subset['prot'], use_rep=\"X_harmony\")\n",
    "\n",
    "#calculate wnn\n",
    "mu.pp.neighbors(mdata_subset, key_added='wnn')"
   ]
  },
  {
   "cell_type": "code",
   "execution_count": null,
   "id": "28933ea5",
   "metadata": {},
   "outputs": [],
   "source": [
    "#calculate UMAP\n",
    "mu.tl.umap(mdata_subset, neighbors_key='wnn', random_state=10)"
   ]
  },
  {
   "cell_type": "code",
   "execution_count": null,
   "id": "cd4cf241",
   "metadata": {},
   "outputs": [],
   "source": [
    "#plot UMAP\n",
    "sc.set_figure_params(figsize=(3.5, 3.5), fontsize=8, vector_friendly=True, transparent=True, dpi_save=1200)\n",
    "\n",
    "sc.pl.umap(mdata_subset, color=[\"celltype_hires\"], frameon=False,legend_loc='on data',size=36, alpha=0.8 \n",
    "           ,save='Fig2a-MAC-UMAP-celltype-hires.pdf'\n",
    "          )"
   ]
  },
  {
   "cell_type": "markdown",
   "id": "2b10fe88",
   "metadata": {},
   "source": [
    "## Figure 3C"
   ]
  },
  {
   "cell_type": "code",
   "execution_count": null,
   "id": "29739e02",
   "metadata": {},
   "outputs": [],
   "source": [
    "mdata_subset = mdata[mdata.obs['celltype_hires'].isin([\"decBAM1\",\"decBAM2\",\"decPAM1\",\n",
    "                                                      \"decPAM2\"]),:]\n",
    "\n",
    "adata_subset = mdata_subset['rna']\n",
    "\n",
    "# get the data from adata\n",
    "composition_data = adata_subset.obs[['sample_id', 'celltype_hires']]\n",
    "\n",
    "# create a crosstab of tissue_combined by fib_subtypes\n",
    "crosstab = pd.crosstab(composition_data['sample_id'], composition_data['celltype_hires'], normalize='index')\n",
    "\n",
    "# define a custom order for sample_id\n",
    "custom_order = ['sc01dp', 'sc02dp', 'sc08dp','sc09dp',\n",
    "               'sc13dp','sc15dp','sc16dp',\n",
    "               'sc01db', 'sc02db', 'sc08db','sc09db',\n",
    "               'sc13db','sc15db','sc16db'] \n",
    "\n",
    "# reindex the crosstab to follow the custom order\n",
    "sorted_crosstab = crosstab.reindex(custom_order)\n",
    "\n",
    "# plot the sorted stacked bar chart\n",
    "fig, ax = plt.subplots(figsize=(4, 4))  # Adjust figure size\n",
    "sorted_crosstab.plot(kind='bar', stacked=True, width=1, edgecolor='black', ax=ax, legend=False)\n",
    "\n",
    "ax.invert_yaxis()\n",
    "plt.xticks(rotation=45, ha='right')\n",
    "plt.ylabel('Proportion')\n",
    "\n",
    "plt.tight_layout()\n",
    "\n",
    "plt.savefig(\"./Fig2d-bargraph-composition-MAC.pdf\", bbox_inches='tight')\n",
    "\n",
    "plt.show()"
   ]
  },
  {
   "cell_type": "code",
   "execution_count": null,
   "id": "1197c55b",
   "metadata": {
    "scrolled": true
   },
   "outputs": [],
   "source": [
    "mdata_subset = mdata[mdata.obs['celltype_hires'].isin([\"decBAM1\",\"decBAM2\",\"decPAM1\",\n",
    "                                                      \"decPAM2\"]),:]\n",
    "\n",
    "adata_subset = mdata_subset['rna']\n",
    "\n",
    "# get the data from adata\n",
    "composition_data = adata_subset.obs[['sample_id', 'celltype_hires']]\n",
    "\n",
    "# create a crosstab of tissue_combined by fib_subtypes\n",
    "crosstab = pd.crosstab(composition_data['sample_id'], composition_data['celltype_hires'], normalize='index')\n",
    "\n",
    "# define a custom order for sample_id\n",
    "custom_order = ['sc01dp', 'sc02dp', 'sc08dp','sc09dp',\n",
    "               'sc13dp','sc15dp','sc16dp',\n",
    "               'sc01db', 'sc02db', 'sc08db','sc09db',\n",
    "               'sc13db','sc15db','sc16db'] \n",
    "\n",
    "# reindex the crosstab to follow the custom order\n",
    "sorted_crosstab = crosstab.reindex(custom_order)\n",
    "\n",
    "# plot the sorted stacked bar chart\n",
    "fig, ax = plt.subplots(figsize=(4, 4))  # Adjust figure size\n",
    "sorted_crosstab.plot(kind='bar', stacked=True, width=1, edgecolor='black', ax=ax, legend=False)\n",
    "\n",
    "ax.invert_yaxis()\n",
    "plt.xticks(rotation=45, ha='right')\n",
    "plt.ylabel('Proportion')\n",
    "\n",
    "plt.tight_layout()\n",
    "\n",
    "plt.savefig(\"./Fig2d-bargraph-composition-MAC.pdf\", bbox_inches='tight')\n",
    "\n",
    "plt.show()"
   ]
  },
  {
   "cell_type": "markdown",
   "id": "75cca390",
   "metadata": {},
   "source": [
    "## Figure 3D"
   ]
  },
  {
   "cell_type": "code",
   "execution_count": null,
   "id": "2d38afa4",
   "metadata": {},
   "outputs": [],
   "source": [
    "mdata_subset = mdata[mdata.obs['celltype_hires'].isin([\"decBAM1\",\"decBAM2\",\"decPAM1\",\n",
    "                                                      \"decPAM2\"]),:]\n",
    "\n",
    "mdata_subset.obs['celltype_hires'] = mdata_subset.obs['celltype_hires'].cat.remove_unused_categories()"
   ]
  },
  {
   "cell_type": "code",
   "execution_count": null,
   "id": "b81c8c8c",
   "metadata": {
    "scrolled": true
   },
   "outputs": [],
   "source": [
    "markers = ['HLA-DR_TotalSeqC','CD45RO_TotalSeqC','CD45RA_TotalSeqC','CD38_TotalSeqC','CD39_TotalSeqC',\n",
    "           'CD40_TotalSeqC',\n",
    "           'CD11b_TotalSeqC','CD11c_TotalSeqC','CD44_TotalSeqC','CD31_TotalSeqC']\n",
    "\n",
    "sc.set_figure_params(figsize=(2.5, 2.5), fontsize=8, vector_friendly=True, transparent=True)\n",
    "\n",
    "mdata_subset['prot'].obs['celltype_hires'] = mdata_subset.obs['celltype_hires']\n",
    "\n",
    "sc.pl.matrixplot(mdata_subset['prot'], markers, groupby='celltype_hires',\n",
    "                 #, use_raw=True,\n",
    "                 standard_scale='var',\n",
    "                 #dendrogram=True,\n",
    "                 categories_order=['decPAM1','decPAM2','decBAM1','decBAM2'],\n",
    "                 cmap='Greens'\n",
    "                 ,save=\"final_Fig3D-matrixplot-mac-adt-prot.pdf\"\n",
    "                 )"
   ]
  },
  {
   "cell_type": "code",
   "execution_count": null,
   "id": "d7b85438",
   "metadata": {
    "scrolled": true
   },
   "outputs": [],
   "source": [
    "markers = [\"C1QA\",\"FOLR2\",\"MS4A6A\",\"MS4A4A\",\"MRC1\",'TREM2','CD209','CXCL10','CXCL9','ISG15','SLAMF7','IDO1','IL4I1',\n",
    "           \"SPP1\",'CTSD',\"HMOX1\",'CD28',\"APOE\",\n",
    "          'MARCO',\"CXCL8\",\"CXCL2\",'CCL3','SEMA3C','AQP9','IL1B',\"NLRP3\"]\n",
    "\n",
    "mdata_subset['rna'].obs['celltype_hires'] = mdata_subset.obs['celltype_hires']\n",
    "\n",
    "sc.set_figure_params(figsize=(2.5, 2.5), fontsize=8, vector_friendly=True, transparent=True)\n",
    "\n",
    "df=sc.pl.matrixplot(mdata_subset['rna'], markers, groupby='celltype_hires',\n",
    "                 #, use_raw=True,\n",
    "                 standard_scale='var',\n",
    "                 #dendrogram=True,\n",
    "                categories_order=['decPAM1','decPAM2','decBAM1','decBAM2'],\n",
    "                 cmap='Blues'\n",
    "                 ,save=\"final_Fig3D-matrixplot-mac-adt-rna.pdf\"\n",
    "                 )"
   ]
  },
  {
   "cell_type": "markdown",
   "id": "207d9b35",
   "metadata": {},
   "source": [
    "## Figure S2A"
   ]
  },
  {
   "cell_type": "code",
   "execution_count": null,
   "id": "7e318158",
   "metadata": {},
   "outputs": [],
   "source": [
    "markers = ['PLTP', 'MAF', 'SELENOP', 'SLC40A1','CXCL1','PTGS2','TNF','IL6','S100A4','S100A6', 'S100A8', 'S100A9', 'CD300E', 'FCN1', 'CD36', 'G0S2',\n",
    "           'IL1B', 'CCL4', 'CXCL2', 'AREG', 'EGFR', 'NFKB1', 'NFKBIA', 'EREG', 'FN1']\n",
    "\n",
    "# now call matrixplot without the 'order' argument\n",
    "sc.pl.matrixplot(\n",
    "    mdata_subset['rna'],\n",
    "    var_names=markers,\n",
    "    groupby='celltype_hires',\n",
    "    cmap='Blues',\n",
    "    standard_scale='var',\n",
    "    categories_order=['decPAM1','decPAM2','decBAM1','decBAM2'],\n",
    "    swap_axes=False,\n",
    "    save='final_20250624_ExtFig2G_clean.pdf'\n",
    ")"
   ]
  },
  {
   "cell_type": "code",
   "execution_count": null,
   "id": "a0f15362",
   "metadata": {},
   "outputs": [],
   "source": [
    "mdata.obs['celltype_hires'].cat.categories"
   ]
  },
  {
   "cell_type": "code",
   "execution_count": null,
   "id": "b5c217e0",
   "metadata": {},
   "outputs": [],
   "source": [
    "mdata_subset = mdata[mdata.obs['celltype_hires'].isin([\"decBAM1\",\"decBAM2\",\"decPAM1\",\n",
    "                                                      \"decPAM2\",'pMac','Mono','CD16+ Mono']),:]\n",
    "\n",
    "mdata_subset.obs['celltype_hires'] = mdata_subset.obs['celltype_hires'].cat.remove_unused_categories()"
   ]
  },
  {
   "cell_type": "code",
   "execution_count": null,
   "id": "e831b4b8",
   "metadata": {
    "scrolled": true
   },
   "outputs": [],
   "source": [
    "markers = ['CD14_TotalSeqC','CD16_TotalSeqC']\n",
    "\n",
    "sc.set_figure_params(figsize=(2.5, 2.5), fontsize=8, vector_friendly=True, transparent=True)\n",
    "\n",
    "mdata_subset['prot'].obs['celltype_hires'] = mdata_subset.obs['celltype_hires']\n",
    "\n",
    "sc.pl.matrixplot(mdata_subset['prot'], markers, groupby='celltype_hires',\n",
    "                 #, use_raw=True,\n",
    "                 standard_scale='var',\n",
    "                 #dendrogram=True,\n",
    "                 categories_order=['decPAM1','decPAM2','decBAM1','decBAM2','pMac','Mono','CD16+ Mono'],\n",
    "                 cmap='Greens'\n",
    "                 ,save=\"final_ExtFig2-matrixplot-mac-adt-prot.pdf\"\n",
    "                 )"
   ]
  },
  {
   "cell_type": "code",
   "execution_count": null,
   "id": "6ae88a94",
   "metadata": {},
   "outputs": [],
   "source": [
    "markers = [\"MKI67\",'CDK1','TOP2A','S100A12','FCN1','VCAN','LST1','LILRB2','WARS',\n",
    "          'PLTP', 'MAF', 'SELENOP', 'SLC40A1','CXCL1','PTGS2','TNF','IL6','S100A4','S100A6', 'S100A8', 'S100A9', 'CD300E', 'FCN1', 'CD36', 'G0S2',\n",
    "           'IL1B', 'CCL4', 'CXCL2', 'AREG', 'EGFR', 'NFKB1', 'NFKBIA', 'EREG', 'FN1']\n",
    "\n",
    "mdata_subset['rna'].obs['celltype_hires'] = mdata_subset.obs['celltype_hires']\n",
    "\n",
    "\n",
    "sc.pl.matrixplot(\n",
    "    mdata_subset['rna'],\n",
    "    var_names=markers,\n",
    "    groupby='celltype_hires',\n",
    "    cmap='Blues',\n",
    "    standard_scale='var',\n",
    "    categories_order=['decPAM1','decPAM2','decBAM1','decBAM2','pMac','Mono','CD16+ Mono'],\n",
    "    swap_axes=False,\n",
    "    save='final_ExtFig2_clean.pdf'\n",
    ")"
   ]
  },
  {
   "cell_type": "markdown",
   "id": "4b5f013e",
   "metadata": {},
   "source": [
    "# Figure S3"
   ]
  },
  {
   "cell_type": "code",
   "execution_count": null,
   "id": "437a696c",
   "metadata": {},
   "outputs": [],
   "source": [
    "mdata_nk = mdata[mdata.obs['celltype_lores'].isin(['NK'])]"
   ]
  },
  {
   "cell_type": "code",
   "execution_count": null,
   "id": "5e61e0f2",
   "metadata": {},
   "outputs": [],
   "source": [
    "mdata_nk.obs['celltype_hires'] = mdata_nk.obs['celltype_hires'].cat.remove_unused_categories()\n",
    "\n",
    "mdata_nk['prot'].obs['celltype_hires'] = mdata_nk.obs['celltype_hires'].copy()\n",
    "mdata_nk['rna'].obs['celltype_hires'] = mdata_nk.obs['celltype_hires'].copy()"
   ]
  },
  {
   "cell_type": "code",
   "execution_count": null,
   "id": "e515824c",
   "metadata": {
    "scrolled": true
   },
   "outputs": [],
   "source": [
    "#calculate nearest neighbors for UMAP\n",
    "sc.pp.neighbors(mdata_nk['rna'], use_rep=\"X_harmony\")\n",
    "sc.pp.neighbors(mdata_nk['prot'], use_rep=\"X_harmony\")\n",
    "\n",
    "#calculate wnn\n",
    "mu.pp.neighbors(mdata_nk, key_added='wnn')"
   ]
  },
  {
   "cell_type": "code",
   "execution_count": null,
   "id": "d01aef44",
   "metadata": {},
   "outputs": [],
   "source": [
    "#calculate UMAP\n",
    "mu.tl.umap(mdata_nk, neighbors_key='wnn', random_state=10)"
   ]
  },
  {
   "cell_type": "code",
   "execution_count": null,
   "id": "9ab2de10",
   "metadata": {},
   "outputs": [],
   "source": [
    "#plot UMAP\n",
    "sc.set_figure_params(figsize=(3.5, 3.5), fontsize=8, vector_friendly=True, transparent=True, dpi_save=450)\n",
    "\n",
    "sc.pl.umap(mdata_nk, color=[\"celltype_hires\"], frameon=False, legend_loc='on data', size=36, alpha=0.8\n",
    "           ,save='20250505_Fig3-NK-UMAP-celltype-hires.pdf'\n",
    "           ,palette = ['#DAC4F7','#FFCF56','#2E933C','#2D93AD','#F4989C']\n",
    "          )"
   ]
  },
  {
   "cell_type": "code",
   "execution_count": null,
   "id": "4a1bfc82",
   "metadata": {
    "scrolled": true
   },
   "outputs": [],
   "source": [
    "mdata_subset[\"rna\"].uns['log1p'][\"base\"] = None\n",
    "mdata_subset[\"rna\"].obs[\"celltype_hires\"]=mdata_subset.obs[\"celltype_hires\"]\n",
    "sc.tl.rank_genes_groups(mdata_subset[\"rna\"], 'celltype_hires', method='wilcoxon')\n",
    "result = mdata_subset[\"rna\"].uns['rank_genes_groups']\n",
    "groups = result['names'].dtype.names\n",
    "pd.set_option('display.max_columns', 100)\n",
    "pd.DataFrame(\n",
    "    {group + '_' + key[:1]: result[key][group]\n",
    "    for group in groups for key in ['names']}).head(50)"
   ]
  },
  {
   "cell_type": "code",
   "execution_count": null,
   "id": "c613b794",
   "metadata": {},
   "outputs": [],
   "source": [
    "sc.tl.dendrogram(mdata_subset[\"rna\"], \"celltype_hires\")\n",
    "sc.pl.rank_genes_groups_matrixplot(mdata_subset[\"rna\"], groupby=\"celltype_hires\", n_genes=5, standard_scale='var',\n",
    "                                  swap_axes=False\n",
    "                                   , save=\"Fig4b-matrixplot-NK-top5.pdf\"\n",
    "                                   ,cmap='Blues')"
   ]
  },
  {
   "cell_type": "code",
   "execution_count": null,
   "id": "d1c66021",
   "metadata": {
    "scrolled": true
   },
   "outputs": [],
   "source": [
    "mdata_subset[\"prot\"].obs[\"celltype_hires\"]=mdata_subset.obs[\"celltype_hires\"]\n",
    "sc.tl.rank_genes_groups(mdata_subset[\"prot\"], 'celltype_hires', method='wilcoxon')\n",
    "result = mdata_subset[\"prot\"].uns['rank_genes_groups']\n",
    "groups = result['names'].dtype.names\n",
    "pd.set_option('display.max_columns', 100)\n",
    "pd.DataFrame(\n",
    "    {group + '_' + key[:1]: result[key][group]\n",
    "    for group in groups for key in ['names']}).head(50)"
   ]
  },
  {
   "cell_type": "code",
   "execution_count": null,
   "id": "6a777ec3",
   "metadata": {},
   "outputs": [],
   "source": [
    "sc.tl.dendrogram(mdata_subset[\"prot\"], \"celltype_hires\")\n",
    "sc.pl.rank_genes_groups_matrixplot(mdata_subset[\"prot\"], groupby=\"celltype_hires\", n_genes=5, standard_scale='var',\n",
    "                                  swap_axes=False\n",
    "                                   #, save=\"Fig2c-matrixplot-macros-top10.pdf\"\n",
    "                                   ,cmap='Greens')"
   ]
  },
  {
   "cell_type": "code",
   "execution_count": null,
   "id": "66c299b2",
   "metadata": {},
   "outputs": [],
   "source": [
    "markers = ['CD16_TotalSeqC','CD45RA_TotalSeqC','CD11b_TotalSeqC'\n",
    "           ,'CD127_TotalSeqC','CD62L_TotalSeqC','CD56_TotalSeqC'\n",
    "           ,'CD45RO_TotalSeqC','CD39_TotalSeqC',\n",
    "          'CD38_TotalSeqC','CD69_TotalSeqC','CD11c_TotalSeqC',\n",
    "          'CD27_TotalSeqC','CD44_TotalSeqC','CD103_TotalSeqC'\n",
    "           ,'TIGIT_TotalSeqC','CD314_TotalSeqC']\n",
    "\n",
    "sc.pl.matrixplot(mdata_subset['prot'], markers, groupby='celltype_hires',\n",
    "                 #, use_raw=True,\n",
    "                 standard_scale='var',\n",
    "                 #dendrogram=True,\n",
    "                 cmap='Greens'\n",
    "                 ,save=\"Fig4c-matrixplot-nk-adt-prot.pdf\"\n",
    "                 )"
   ]
  },
  {
   "cell_type": "code",
   "execution_count": null,
   "id": "06016078",
   "metadata": {},
   "outputs": [],
   "source": [
    "markers = ['FCGR3A','PTPRC','ITGAM'\n",
    "           ,'IL7R','SELL','NCAM1'\n",
    "           ,'PTPRC','ENTPD1',\n",
    "          'CD38','CD69','ITGAX',\n",
    "          'CD27','CD44','ITGAE'\n",
    "           ,'TIGIT','KLRK1']\n",
    "\n",
    "sc.pl.matrixplot(mdata_subset['rna'], markers, groupby='celltype_hires',\n",
    "                 #, use_raw=True,\n",
    "                 standard_scale='var',\n",
    "                 #dendrogram=True,\n",
    "                 cmap='Blues'\n",
    "                 ,save=\"Fig4c-matrixplot-nk-rna.pdf\"\n",
    "                 )"
   ]
  },
  {
   "cell_type": "markdown",
   "id": "49b0c7b7",
   "metadata": {},
   "source": [
    "## Figure 5D"
   ]
  },
  {
   "cell_type": "code",
   "execution_count": null,
   "id": "3c2b32f8",
   "metadata": {},
   "outputs": [],
   "source": [
    "mdata_nk = mdata[mdata.obs['celltype_hires'].isin(['CD39+ NK',\n",
    "       'CD39- NK', 'CD39-CD103+ NK'])]"
   ]
  },
  {
   "cell_type": "code",
   "execution_count": null,
   "id": "c2cf3549",
   "metadata": {},
   "outputs": [],
   "source": [
    "mdata_nk.obs['celltype_hires'] = mdata_nk.obs['celltype_hires'].cat.remove_unused_categories()\n",
    "\n",
    "mdata_nk['prot'].obs['celltype_hires'] = mdata_nk.obs['celltype_hires'].copy()\n",
    "mdata_nk['rna'].obs['celltype_hires'] = mdata_nk.obs['celltype_hires'].copy()"
   ]
  },
  {
   "cell_type": "code",
   "execution_count": null,
   "id": "8f2da1e4",
   "metadata": {},
   "outputs": [],
   "source": [
    "markers = {'inhibitory':['KIR2DL1','KIR2DL3','KIR3DL1','KIR3DL2','KIR3DL3','LILRB1','LILRB2','KLRD1','KLRG1','KLRC1'],\n",
    "           'activating':['KLRC2','KLRC3','KIR2DL4','KLRK1','NCR1','NCR2','NCR3','KLRF1','CD226']}\n",
    "\n",
    "sc.pl.matrixplot(mdata_nk['rna'], markers, groupby='celltype_hires',\n",
    "                 standard_scale='var',\n",
    "                 dendrogram=False,\n",
    "                 cmap='Blues',\n",
    "                 swap_axes=False,\n",
    "                 #use_raw=True,\n",
    "                 save='final_Fig5E-matrixplot-NK-act-inh-receptors.pdf'\n",
    "                 )"
   ]
  },
  {
   "cell_type": "markdown",
   "id": "ba5d0dcb",
   "metadata": {},
   "source": [
    "## Figure S3D"
   ]
  },
  {
   "cell_type": "code",
   "execution_count": null,
   "id": "00096e90",
   "metadata": {},
   "outputs": [],
   "source": [
    "mdata_dc = mdata[mdata.obs['celltype_lores'].isin(['DC','Mac'])]"
   ]
  },
  {
   "cell_type": "code",
   "execution_count": null,
   "id": "3b19346b",
   "metadata": {},
   "outputs": [],
   "source": [
    "mdata_dc.obs['celltype_midres'] = mdata.obs['celltype_hires'].copy()"
   ]
  },
  {
   "cell_type": "code",
   "execution_count": null,
   "id": "b65be8bb",
   "metadata": {},
   "outputs": [],
   "source": [
    "mdata_dc.obs['celltype_midres'] = mdata_dc.obs['celltype_midres'].replace({'DC2_prol':'DC2','DC1_prol':'DC1','decPAM2':'Mac',\n",
    "                                                                          'decPAM1':'Mac','decBAM2':'Mac','decBAM1':'Mac',\n",
    "                                                                          'monoMAC':'Mono','pMac':'Mac','CD16+ Mono':'Mono'})\n",
    "\n",
    "mdata_dc.obs['celltype_midres'] = mdata_dc.obs['celltype_midres'].cat.remove_unused_categories()\n",
    "\n",
    "mdata_dc['prot'].obs['celltype_midres'] = mdata_dc.obs['celltype_midres']\n",
    "mdata_dc['rna'].obs['celltype_midres'] = mdata_dc.obs['celltype_midres']"
   ]
  },
  {
   "cell_type": "code",
   "execution_count": null,
   "id": "a5b6c6ed",
   "metadata": {},
   "outputs": [],
   "source": [
    "#calculate nearest neighbors for UMAP\n",
    "sc.pp.neighbors(mdata_dc['rna'], use_rep=\"X_harmony\")\n",
    "sc.pp.neighbors(mdata_dc['prot'], use_rep=\"X_harmony\")\n",
    "\n",
    "#calculate wnn\n",
    "mu.pp.neighbors(mdata_dc, key_added='wnn')"
   ]
  },
  {
   "cell_type": "code",
   "execution_count": null,
   "id": "36aa95e3",
   "metadata": {},
   "outputs": [],
   "source": [
    "#calculate UMAP\n",
    "mu.tl.umap(mdata_dc, neighbors_key='wnn', random_state=10)"
   ]
  },
  {
   "cell_type": "code",
   "execution_count": null,
   "id": "ceeb1605",
   "metadata": {
    "scrolled": false
   },
   "outputs": [],
   "source": [
    "#plot UMAP\n",
    "sc.set_figure_params(figsize=(3.5, 3.5), fontsize=8, vector_friendly=True, transparent=True, dpi_save=450)\n",
    "\n",
    "sc.pl.umap(mdata_dc, color=[\"celltype_midres\"], frameon=False,legend_loc='on data',size=36, alpha=0.8\n",
    "           ,save='20250505_Fig3a-MYELO-UMAP-celltype-hires.pdf'\n",
    "           ,palette = ['#23CE6B','#E94F37','#CC59D2','#55C1FF']\n",
    "          )"
   ]
  },
  {
   "cell_type": "markdown",
   "id": "5575b099",
   "metadata": {},
   "source": [
    "## Figure S3F"
   ]
  },
  {
   "cell_type": "code",
   "execution_count": null,
   "id": "6584d61e",
   "metadata": {},
   "outputs": [],
   "source": [
    "sc.pl.matrixplot(mdata_dc['prot'], ['CD366_TotalSeqC', 'CD103_TotalSeqC','CD45RO_TotalSeqC',\n",
    "           'CD45RA_TotalSeqC','CD11c_TotalSeqC', 'CD1c_TotalSeqC', \n",
    "       'HLA-DR_TotalSeqC', 'CD11b_TotalSeqC','CD40_TotalSeqC','CD14_TotalSeqC','CD62L_TotalSeqC'],\n",
    "                 groupby='celltype_midres', cmap='Greens', standard_scale = 'var'\n",
    "                 ,save='20250505_MYELO-celltypeMidres_prot.pdf',\n",
    "                swap_axes=False)"
   ]
  },
  {
   "cell_type": "code",
   "execution_count": null,
   "id": "8d89aa76",
   "metadata": {},
   "outputs": [],
   "source": [
    "markers = ['HAVCR2','ITGAE','PTPRC','PTPRC','ITGAX','CD1C','HLA-DRA',\n",
    "           'ITGAM','CD40','CD14','SELL','XCR1','CLEC9A','IDO1','CLEC10A','FCN1','CD1E']\n",
    "\n",
    "sc.pl.matrixplot(mdata_dc['rna'], markers,\n",
    "                 groupby='celltype_midres', cmap='Blues', standard_scale = 'var'\n",
    "                 ,save='20250505_MYELO-celltypeMidres_rna.pdf',\n",
    "                swap_axes=False)"
   ]
  },
  {
   "cell_type": "markdown",
   "id": "f3656f0c",
   "metadata": {},
   "source": [
    "# Figure 6"
   ]
  },
  {
   "cell_type": "code",
   "execution_count": null,
   "id": "3ee30c7e",
   "metadata": {},
   "outputs": [],
   "source": [
    "mdata_subset = mdata[mdata.obs['celltype_lores'].isin(['Fib']),:]\n",
    "mdata_subset.obs['celltype_hires'] = mdata_subset.obs['celltype_hires'].cat.remove_unused_categories()\n",
    "mdata_subset['rna'].obs['celltype_hires'] = mdata_subset.obs['celltype_hires']\n",
    "adata_subset = mdata_subset['rna']"
   ]
  },
  {
   "cell_type": "code",
   "execution_count": null,
   "id": "a7ecfd4e",
   "metadata": {},
   "outputs": [],
   "source": [
    "adata_subset.obs['celltype_hires']"
   ]
  },
  {
   "cell_type": "code",
   "execution_count": null,
   "id": "18c56cd4",
   "metadata": {},
   "outputs": [],
   "source": [
    "#change order of clusters\n",
    "cluster_order = [\"hpFib\",\"decFib\"]\n",
    "\n",
    "adata_subset.obs['celltype_hires'] = pd.Categorical(adata_subset.obs['celltype_hires'],\n",
    "                                                        categories=cluster_order,\n",
    "                                                        ordered=True)\n",
    "\n",
    "adata_subset = adata_subset[adata_subset.obs['celltype_hires'].sort_values().index]"
   ]
  },
  {
   "cell_type": "code",
   "execution_count": null,
   "id": "f0accdc1",
   "metadata": {},
   "outputs": [],
   "source": [
    "color_dict_cells = {\n",
    "    \"hpFib\": \"#0DD3D3\",  \n",
    "    \"decFib\": \"#D449D4\",\n",
    "    \"basalis\": \"#800000\",  \n",
    "    \"parietalis\": \"#005F87\"\n",
    "}"
   ]
  },
  {
   "cell_type": "code",
   "execution_count": null,
   "id": "9b505d68",
   "metadata": {},
   "outputs": [],
   "source": [
    "df = adata_subset.obs.copy()\n",
    "\n",
    "fractions = (\n",
    "    df.groupby(['donor_id', 'tissue'])\n",
    "      .apply(lambda group: (group['celltype_hires'] == 'decFib').sum() / len(group))\n",
    "      .reset_index(name='fraction_decFibs')\n",
    ")\n",
    "\n",
    "# Create the plot\n",
    "plt.figure(figsize=(4, 4))\n",
    "sns.boxplot(data=fractions, x='tissue', y='fraction_decFibs', color='lightgray', width=0.5, fliersize=0)\n",
    "sns.stripplot(data=fractions, x='tissue', y='fraction_decFibs',\n",
    "              color='black', size=10, jitter=True, alpha=0.5)\n",
    "\n",
    "plt.ylabel('Fraction of decFibs per Sample')\n",
    "plt.xlabel('Tissue')\n",
    "plt.title('Fraction of decFibs by Tissue')\n",
    "plt.savefig('20250416_decFib_fraction.pdf')\n",
    "plt.show()\n"
   ]
  },
  {
   "cell_type": "markdown",
   "id": "df1ea02b",
   "metadata": {},
   "source": [
    "## create pseudobulk for Figure 6A and 6I"
   ]
  },
  {
   "cell_type": "code",
   "execution_count": null,
   "id": "a1abbad8",
   "metadata": {},
   "outputs": [],
   "source": [
    "mdata_raw = mu.read(\"./citeseq_mdata_allsamples_filtered.h5mu\")"
   ]
  },
  {
   "cell_type": "code",
   "execution_count": null,
   "id": "4e80bac0",
   "metadata": {},
   "outputs": [],
   "source": [
    "#load citeseq data\n",
    "mdata = mu.read(\"./citeseq_mdata_allsamples_filtered_fine_clustering.h5mu\")"
   ]
  },
  {
   "cell_type": "code",
   "execution_count": null,
   "id": "4ee52d2d",
   "metadata": {},
   "outputs": [],
   "source": [
    "adata_raw = mdata_raw[\"rna\"]"
   ]
  },
  {
   "cell_type": "code",
   "execution_count": null,
   "id": "1c55eb0f",
   "metadata": {},
   "outputs": [],
   "source": [
    "mdata[\"rna\"].obs['celltype_hires'] = mdata.obs['celltype_hires']"
   ]
  },
  {
   "cell_type": "code",
   "execution_count": null,
   "id": "cccbe559",
   "metadata": {},
   "outputs": [],
   "source": [
    "#limit adata_raw.\n",
    "adata = mdata[\"rna\"]\n",
    "adata_raw_filtered = adata_raw[adata_raw.obs_names.isin(adata.obs_names)].copy()\n",
    "adata_raw_filtered"
   ]
  },
  {
   "cell_type": "code",
   "execution_count": null,
   "id": "08896238",
   "metadata": {},
   "outputs": [],
   "source": [
    "del mdata\n",
    "del mdata_raw"
   ]
  },
  {
   "cell_type": "code",
   "execution_count": null,
   "id": "45e13028",
   "metadata": {},
   "outputs": [],
   "source": [
    "adata_raw_filtered.obs = adata[adata_raw_filtered.obs_names].obs.copy()"
   ]
  },
  {
   "cell_type": "code",
   "execution_count": null,
   "id": "2f6b1dc8",
   "metadata": {},
   "outputs": [],
   "source": [
    "adata_raw_filtered.obs['cell_type'] = adata_raw_filtered.obs['celltype_hires'].copy()"
   ]
  },
  {
   "cell_type": "code",
   "execution_count": null,
   "id": "71fd7d73",
   "metadata": {},
   "outputs": [],
   "source": [
    "NUM_OF_CELL_PER_DONOR = 30\n",
    "\n",
    "\n",
    "def aggregate_and_filter(\n",
    "    adata,\n",
    "    cell_identity,\n",
    "    donor_key=\"sample_id\",\n",
    "    condition_key=\"tissue\",\n",
    "    cell_identity_key=\"cell_type\",\n",
    "    obs_to_keep=None, \n",
    "    replicates_per_patient=1,\n",
    "):\n",
    "    # subset adata to the given cell identity\n",
    "    if obs_to_keep is None:\n",
    "        obs_to_keep = []\n",
    "    adata_cell_pop = adata[adata.obs[cell_identity_key] == cell_identity].copy()\n",
    "    size_by_donor = adata_cell_pop.obs.groupby([donor_key]).size()\n",
    "    donors_to_drop = [\n",
    "        donor\n",
    "        for donor in size_by_donor.index\n",
    "        if size_by_donor[donor] <= NUM_OF_CELL_PER_DONOR\n",
    "    ]\n",
    "    if len(donors_to_drop) > 0:\n",
    "        print(\"Dropping the following samples:\")\n",
    "        print(donors_to_drop)\n",
    "    df = pd.DataFrame(columns=[*adata_cell_pop.var_names, *obs_to_keep])\n",
    "\n",
    "    adata_cell_pop.obs[donor_key] = adata_cell_pop.obs[donor_key].astype(\"category\")\n",
    "    for i, donor in enumerate(donors := adata_cell_pop.obs[donor_key].cat.categories):\n",
    "        print(f\"\\tProcessing donor {i+1} out of {len(donors)}...\", end=\"\\r\")\n",
    "        if donor not in donors_to_drop:\n",
    "            adata_donor = adata_cell_pop[adata_cell_pop.obs[donor_key] == donor]\n",
    "            # create replicates for each donor\n",
    "            indices = list(adata_donor.obs_names)\n",
    "            random.shuffle(indices)\n",
    "            indices = np.array_split(np.array(indices), replicates_per_patient)\n",
    "            for i, rep_idx in enumerate(indices):\n",
    "                adata_replicate = adata_donor[rep_idx]\n",
    "                agg_dict = {gene: \"sum\" for gene in adata_replicate.var_names}\n",
    "                for obs in obs_to_keep:\n",
    "                    agg_dict[obs] = \"first\"\n",
    "                # create a df with all genes, donor and condition info\n",
    "                df_donor = pd.DataFrame(adata_replicate.X.A)\n",
    "                df_donor.index = adata_replicate.obs_names\n",
    "                df_donor.columns = adata_replicate.var_names\n",
    "                df_donor = df_donor.join(adata_replicate.obs[obs_to_keep])\n",
    "                # aggregate\n",
    "                df_donor = df_donor.groupby(donor_key).agg(agg_dict)\n",
    "                df_donor[donor_key] = donor\n",
    "                df.loc[f\"donor_{donor}_{i}\"] = df_donor.loc[donor]\n",
    "    print(\"\\n\")\n",
    "    # create AnnData object from the df\n",
    "    adata_cell_pop = sc.AnnData(\n",
    "        df[adata_cell_pop.var_names], obs=df.drop(columns=adata_cell_pop.var_names)\n",
    "    )\n",
    "    return adata_cell_pop"
   ]
  },
  {
   "cell_type": "code",
   "execution_count": null,
   "id": "6593503d",
   "metadata": {},
   "outputs": [],
   "source": [
    "obs_to_keep = [\"cell_type\", \"donor_id\", \"sample_id\",\"tissue\"]"
   ]
  },
  {
   "cell_type": "code",
   "execution_count": null,
   "id": "4fe3f808",
   "metadata": {},
   "outputs": [],
   "source": [
    "adata_raw_filtered_f = adata_raw_filtered[adata_raw_filtered.obs['cell_type'].isin(['decFib','hpFib'])]"
   ]
  },
  {
   "cell_type": "code",
   "execution_count": null,
   "id": "364a84be",
   "metadata": {},
   "outputs": [],
   "source": [
    "# process first cell type separately...\n",
    "cell_type = adata_raw_filtered_f.obs[\"cell_type\"].cat.categories[0]\n",
    "print(\n",
    "    f'Processing {cell_type} (1 out of {len(adata_raw_filtered_f.obs[\"cell_type\"].cat.categories)})...'\n",
    ")\n",
    "adata_pb = aggregate_and_filter(adata_raw_filtered_f, cell_type, obs_to_keep=obs_to_keep)\n",
    "for i, cell_type in enumerate(adata_raw_filtered_f.obs[\"cell_type\"].cat.categories[1:]):\n",
    "    print(\n",
    "        f'Processing {cell_type} ({i+2} out of {len(adata_raw_filtered_f.obs[\"cell_type\"].cat.categories)})...'\n",
    "    )\n",
    "    adata_cell_type = aggregate_and_filter(adata_raw_filtered_f, cell_type, obs_to_keep=obs_to_keep)\n",
    "    adata_pb = adata_pb.concatenate(adata_cell_type)"
   ]
  },
  {
   "cell_type": "code",
   "execution_count": null,
   "id": "66e6ff2e",
   "metadata": {},
   "outputs": [],
   "source": [
    "# Export the counts matrix (if using the 'counts' layer)\n",
    "counts_df = pd.DataFrame(adata_pb.X, index=adata_pb.obs_names, columns=adata_pb.var_names)\n",
    "counts_df.to_csv(\"cite_fib_pseudobulk_counts.csv\")\n",
    "\n",
    "# Export the sample metadata (obs)\n",
    "adata_pb.obs.to_csv(\"cite_fib_pseudobulk_sample_metadata.csv\")\n",
    "\n",
    "# Optionally, export the gene metadata (var)\n",
    "adata_pb.var.to_csv(\"cite_fib_pseudobulk_gene_metadata.csv\")"
   ]
  },
  {
   "cell_type": "code",
   "execution_count": null,
   "id": "731fd629",
   "metadata": {},
   "outputs": [],
   "source": [
    "adata_pb.write('cite_bulk_fibs.h5ad')"
   ]
  }
 ],
 "metadata": {
  "kernelspec": {
   "display_name": "Python 3 (ipykernel)",
   "language": "python",
   "name": "python3"
  },
  "language_info": {
   "codemirror_mode": {
    "name": "ipython",
    "version": 3
   },
   "file_extension": ".py",
   "mimetype": "text/x-python",
   "name": "python",
   "nbconvert_exporter": "python",
   "pygments_lexer": "ipython3",
   "version": "3.10.10"
  }
 },
 "nbformat": 4,
 "nbformat_minor": 5
}
